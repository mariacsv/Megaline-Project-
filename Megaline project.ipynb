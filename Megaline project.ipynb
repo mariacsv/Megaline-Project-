{
 "cells": [
  {
   "cell_type": "markdown",
   "metadata": {},
   "source": [
    "# Project description\n",
    "You work as an analyst for the telecom operator Megaline. The company offers its clients two prepaid plans, Surf and Ultimate. The commercial department wants to know which of the plans brings in more revenue in order to adjust the advertising budget.\n",
    "You are going to carry out a preliminary analysis of the plans based on a relatively small client selection. You'll have the data on 500 Megaline clients: who the clients are, where they're from, which plan they use, and the number of calls they made and text messages they sent in 2018. Your job is to analyze clients' behavior and determine which prepaid plan brings in more revenue.\n",
    "# Description of the plans\n",
    "Note: Megaline rounds seconds up to minutes, and megabytes to gigabytes. For calls, each individual call is rounded up: even if the call lasted just one second, it will be counted as one minute. For web traffic, individual web sessions are not rounded up. Instead, the total for the month is rounded up. If someone uses 1025 megabytes this month, they will be charged for 2 gigabytes.\n",
    "\n",
    "Surf\n",
    "1. Monthly charge: $20\n",
    "2. 500 monthly minutes, 50 texts, and 15 GB of data\n",
    "3. After exceeding the package limits:\n",
    "1 min 3 cents\n",
    "\n",
    "Ultimate\n",
    "1. Monthly charge: $70\n",
    "2. 3000 monthly minutes, 1000 text messages, and 30 GB of data\n",
    "3. After exceeding the package limits:\n",
    "1 minute 1 cent\n",
    "\n"
   ]
  },
  {
   "cell_type": "markdown",
   "metadata": {},
   "source": [
    "# Plan:\n",
    "1. Open the data file and study the general information #\n",
    "2. Prepare the data\n",
    "3. Analyze the data\n",
    "4. Test the hypotheses\n",
    "5. Write an overall conclusion"
   ]
  },
  {
   "cell_type": "code",
   "execution_count": 1,
   "metadata": {},
   "outputs": [],
   "source": [
    "import pandas as pd\n",
    "import numpy as np\n",
    "from scipy import stats as st\n",
    "import matplotlib.pyplot as plt\n",
    "import math\n",
    "from datetime import datetime\n",
    "import seaborn as sns"
   ]
  },
  {
   "cell_type": "markdown",
   "metadata": {},
   "source": [
    "### Open the data file and study the general information"
   ]
  },
  {
   "cell_type": "code",
   "execution_count": 2,
   "metadata": {},
   "outputs": [],
   "source": [
    "calls_data = pd.read_csv('/datasets/megaline_calls.csv') #calls table\n",
    "internet_data = pd.read_csv('/datasets/megaline_internet.csv') #internet table\n",
    "messages_data = pd.read_csv('/datasets/megaline_messages.csv') #messages table\n",
    "plans_data = pd.read_csv('/datasets/megaline_plans.csv') #plans table\n",
    "users_data = pd.read_csv('/datasets/megaline_users.csv') #users table"
   ]
  },
  {
   "cell_type": "markdown",
   "metadata": {},
   "source": [
    "The calls table (data on calls):\n",
    "- `id` — unique call identifier\n",
    "-`call_date` — call date\n",
    "-`duration` — call duration (in minutes)\n",
    "-`user_id` — the identifier of the user making the call"
   ]
  },
  {
   "cell_type": "markdown",
   "metadata": {},
   "source": [
    "The messages table (data on texts):     \n",
    "- `id` — unique text message identifier\n",
    "- `message_date` — text message date\n",
    "- `user_id` — the identifier of the user sending the text"
   ]
  },
  {
   "cell_type": "markdown",
   "metadata": {},
   "source": [
    "The plans table (data on the plans):\n",
    "- `plan_name` — calling plan name\n",
    "- `usd_monthly_fee` — monthly charge in US dollars\n",
    "- `minutes_included` — monthly minute allowance\n",
    "- `messages_included` — monthly text allowance\n",
    "- `mb_per_month_included` — data volume allowance (in megabytes)\n",
    "- `usd_per_minute` — price per minute after exceeding the package limits (e.g., if the package includes 100 minutes, the 101st minute will be charged)\n",
    "- `usd_per_message` — price per text after exceeding the package limits\n",
    "- `usd_per_gb` — price per extra gigabyte of data after exceeding the package limits (1 GB = 1024 megabytes)"
   ]
  },
  {
   "cell_type": "markdown",
   "metadata": {},
   "source": [
    "The users table (data on users):\n",
    "- `user_id` — unique user identifier\n",
    "-`first_name` — user's name\n",
    "-`last_name` — user's last name\n",
    "-`age` — user's age (years)\n",
    "-`reg_date` — subscription date (dd, mm, yy)\n",
    "-`churn_date` — the date the user stopped using the service (if the value is missing, the calling plan was being used when this database was extracted)\n",
    "-`city` — user's city of residence\n",
    "-`plan` — calling plan name"
   ]
  },
  {
   "cell_type": "code",
   "execution_count": 3,
   "metadata": {},
   "outputs": [
    {
     "name": "stdout",
     "output_type": "stream",
     "text": [
      "<class 'pandas.core.frame.DataFrame'>\n",
      "RangeIndex: 137735 entries, 0 to 137734\n",
      "Data columns (total 4 columns):\n",
      " #   Column     Non-Null Count   Dtype  \n",
      "---  ------     --------------   -----  \n",
      " 0   id         137735 non-null  object \n",
      " 1   user_id    137735 non-null  int64  \n",
      " 2   call_date  137735 non-null  object \n",
      " 3   duration   137735 non-null  float64\n",
      "dtypes: float64(1), int64(1), object(2)\n",
      "memory usage: 4.2+ MB\n"
     ]
    },
    {
     "data": {
      "text/html": [
       "<div>\n",
       "<style scoped>\n",
       "    .dataframe tbody tr th:only-of-type {\n",
       "        vertical-align: middle;\n",
       "    }\n",
       "\n",
       "    .dataframe tbody tr th {\n",
       "        vertical-align: top;\n",
       "    }\n",
       "\n",
       "    .dataframe thead th {\n",
       "        text-align: right;\n",
       "    }\n",
       "</style>\n",
       "<table border=\"1\" class=\"dataframe\">\n",
       "  <thead>\n",
       "    <tr style=\"text-align: right;\">\n",
       "      <th></th>\n",
       "      <th>user_id</th>\n",
       "      <th>duration</th>\n",
       "    </tr>\n",
       "  </thead>\n",
       "  <tbody>\n",
       "    <tr>\n",
       "      <th>count</th>\n",
       "      <td>137735.000000</td>\n",
       "      <td>137735.000000</td>\n",
       "    </tr>\n",
       "    <tr>\n",
       "      <th>mean</th>\n",
       "      <td>1247.658046</td>\n",
       "      <td>6.745927</td>\n",
       "    </tr>\n",
       "    <tr>\n",
       "      <th>std</th>\n",
       "      <td>139.416268</td>\n",
       "      <td>5.839241</td>\n",
       "    </tr>\n",
       "    <tr>\n",
       "      <th>min</th>\n",
       "      <td>1000.000000</td>\n",
       "      <td>0.000000</td>\n",
       "    </tr>\n",
       "    <tr>\n",
       "      <th>25%</th>\n",
       "      <td>1128.000000</td>\n",
       "      <td>1.290000</td>\n",
       "    </tr>\n",
       "    <tr>\n",
       "      <th>50%</th>\n",
       "      <td>1247.000000</td>\n",
       "      <td>5.980000</td>\n",
       "    </tr>\n",
       "    <tr>\n",
       "      <th>75%</th>\n",
       "      <td>1365.000000</td>\n",
       "      <td>10.690000</td>\n",
       "    </tr>\n",
       "    <tr>\n",
       "      <th>max</th>\n",
       "      <td>1499.000000</td>\n",
       "      <td>37.600000</td>\n",
       "    </tr>\n",
       "  </tbody>\n",
       "</table>\n",
       "</div>"
      ],
      "text/plain": [
       "             user_id       duration\n",
       "count  137735.000000  137735.000000\n",
       "mean     1247.658046       6.745927\n",
       "std       139.416268       5.839241\n",
       "min      1000.000000       0.000000\n",
       "25%      1128.000000       1.290000\n",
       "50%      1247.000000       5.980000\n",
       "75%      1365.000000      10.690000\n",
       "max      1499.000000      37.600000"
      ]
     },
     "execution_count": 3,
     "metadata": {},
     "output_type": "execute_result"
    }
   ],
   "source": [
    "calls_data.info()\n",
    "calls_data.describe()"
   ]
  },
  {
   "cell_type": "code",
   "execution_count": 4,
   "metadata": {},
   "outputs": [
    {
     "name": "stdout",
     "output_type": "stream",
     "text": [
      "<class 'pandas.core.frame.DataFrame'>\n",
      "RangeIndex: 104825 entries, 0 to 104824\n",
      "Data columns (total 4 columns):\n",
      " #   Column        Non-Null Count   Dtype  \n",
      "---  ------        --------------   -----  \n",
      " 0   id            104825 non-null  object \n",
      " 1   user_id       104825 non-null  int64  \n",
      " 2   session_date  104825 non-null  object \n",
      " 3   mb_used       104825 non-null  float64\n",
      "dtypes: float64(1), int64(1), object(2)\n",
      "memory usage: 3.2+ MB\n"
     ]
    },
    {
     "data": {
      "text/html": [
       "<div>\n",
       "<style scoped>\n",
       "    .dataframe tbody tr th:only-of-type {\n",
       "        vertical-align: middle;\n",
       "    }\n",
       "\n",
       "    .dataframe tbody tr th {\n",
       "        vertical-align: top;\n",
       "    }\n",
       "\n",
       "    .dataframe thead th {\n",
       "        text-align: right;\n",
       "    }\n",
       "</style>\n",
       "<table border=\"1\" class=\"dataframe\">\n",
       "  <thead>\n",
       "    <tr style=\"text-align: right;\">\n",
       "      <th></th>\n",
       "      <th>user_id</th>\n",
       "      <th>mb_used</th>\n",
       "    </tr>\n",
       "  </thead>\n",
       "  <tbody>\n",
       "    <tr>\n",
       "      <th>count</th>\n",
       "      <td>104825.000000</td>\n",
       "      <td>104825.000000</td>\n",
       "    </tr>\n",
       "    <tr>\n",
       "      <th>mean</th>\n",
       "      <td>1242.496361</td>\n",
       "      <td>366.713701</td>\n",
       "    </tr>\n",
       "    <tr>\n",
       "      <th>std</th>\n",
       "      <td>142.053913</td>\n",
       "      <td>277.170542</td>\n",
       "    </tr>\n",
       "    <tr>\n",
       "      <th>min</th>\n",
       "      <td>1000.000000</td>\n",
       "      <td>0.000000</td>\n",
       "    </tr>\n",
       "    <tr>\n",
       "      <th>25%</th>\n",
       "      <td>1122.000000</td>\n",
       "      <td>136.080000</td>\n",
       "    </tr>\n",
       "    <tr>\n",
       "      <th>50%</th>\n",
       "      <td>1236.000000</td>\n",
       "      <td>343.980000</td>\n",
       "    </tr>\n",
       "    <tr>\n",
       "      <th>75%</th>\n",
       "      <td>1367.000000</td>\n",
       "      <td>554.610000</td>\n",
       "    </tr>\n",
       "    <tr>\n",
       "      <th>max</th>\n",
       "      <td>1499.000000</td>\n",
       "      <td>1693.470000</td>\n",
       "    </tr>\n",
       "  </tbody>\n",
       "</table>\n",
       "</div>"
      ],
      "text/plain": [
       "             user_id        mb_used\n",
       "count  104825.000000  104825.000000\n",
       "mean     1242.496361     366.713701\n",
       "std       142.053913     277.170542\n",
       "min      1000.000000       0.000000\n",
       "25%      1122.000000     136.080000\n",
       "50%      1236.000000     343.980000\n",
       "75%      1367.000000     554.610000\n",
       "max      1499.000000    1693.470000"
      ]
     },
     "execution_count": 4,
     "metadata": {},
     "output_type": "execute_result"
    }
   ],
   "source": [
    "internet_data.info()\n",
    "internet_data.describe()"
   ]
  },
  {
   "cell_type": "code",
   "execution_count": 5,
   "metadata": {},
   "outputs": [
    {
     "name": "stdout",
     "output_type": "stream",
     "text": [
      "<class 'pandas.core.frame.DataFrame'>\n",
      "RangeIndex: 76051 entries, 0 to 76050\n",
      "Data columns (total 3 columns):\n",
      " #   Column        Non-Null Count  Dtype \n",
      "---  ------        --------------  ----- \n",
      " 0   id            76051 non-null  object\n",
      " 1   user_id       76051 non-null  int64 \n",
      " 2   message_date  76051 non-null  object\n",
      "dtypes: int64(1), object(2)\n",
      "memory usage: 1.7+ MB\n"
     ]
    },
    {
     "data": {
      "text/html": [
       "<div>\n",
       "<style scoped>\n",
       "    .dataframe tbody tr th:only-of-type {\n",
       "        vertical-align: middle;\n",
       "    }\n",
       "\n",
       "    .dataframe tbody tr th {\n",
       "        vertical-align: top;\n",
       "    }\n",
       "\n",
       "    .dataframe thead th {\n",
       "        text-align: right;\n",
       "    }\n",
       "</style>\n",
       "<table border=\"1\" class=\"dataframe\">\n",
       "  <thead>\n",
       "    <tr style=\"text-align: right;\">\n",
       "      <th></th>\n",
       "      <th>user_id</th>\n",
       "    </tr>\n",
       "  </thead>\n",
       "  <tbody>\n",
       "    <tr>\n",
       "      <th>count</th>\n",
       "      <td>76051.000000</td>\n",
       "    </tr>\n",
       "    <tr>\n",
       "      <th>mean</th>\n",
       "      <td>1245.972768</td>\n",
       "    </tr>\n",
       "    <tr>\n",
       "      <th>std</th>\n",
       "      <td>139.843635</td>\n",
       "    </tr>\n",
       "    <tr>\n",
       "      <th>min</th>\n",
       "      <td>1000.000000</td>\n",
       "    </tr>\n",
       "    <tr>\n",
       "      <th>25%</th>\n",
       "      <td>1123.000000</td>\n",
       "    </tr>\n",
       "    <tr>\n",
       "      <th>50%</th>\n",
       "      <td>1251.000000</td>\n",
       "    </tr>\n",
       "    <tr>\n",
       "      <th>75%</th>\n",
       "      <td>1362.000000</td>\n",
       "    </tr>\n",
       "    <tr>\n",
       "      <th>max</th>\n",
       "      <td>1497.000000</td>\n",
       "    </tr>\n",
       "  </tbody>\n",
       "</table>\n",
       "</div>"
      ],
      "text/plain": [
       "            user_id\n",
       "count  76051.000000\n",
       "mean    1245.972768\n",
       "std      139.843635\n",
       "min     1000.000000\n",
       "25%     1123.000000\n",
       "50%     1251.000000\n",
       "75%     1362.000000\n",
       "max     1497.000000"
      ]
     },
     "execution_count": 5,
     "metadata": {},
     "output_type": "execute_result"
    }
   ],
   "source": [
    "messages_data.info()\n",
    "messages_data.describe()"
   ]
  },
  {
   "cell_type": "code",
   "execution_count": 6,
   "metadata": {},
   "outputs": [
    {
     "name": "stdout",
     "output_type": "stream",
     "text": [
      "<class 'pandas.core.frame.DataFrame'>\n",
      "RangeIndex: 2 entries, 0 to 1\n",
      "Data columns (total 8 columns):\n",
      " #   Column                 Non-Null Count  Dtype  \n",
      "---  ------                 --------------  -----  \n",
      " 0   messages_included      2 non-null      int64  \n",
      " 1   mb_per_month_included  2 non-null      int64  \n",
      " 2   minutes_included       2 non-null      int64  \n",
      " 3   usd_monthly_pay        2 non-null      int64  \n",
      " 4   usd_per_gb             2 non-null      int64  \n",
      " 5   usd_per_message        2 non-null      float64\n",
      " 6   usd_per_minute         2 non-null      float64\n",
      " 7   plan_name              2 non-null      object \n",
      "dtypes: float64(2), int64(5), object(1)\n",
      "memory usage: 256.0+ bytes\n"
     ]
    },
    {
     "data": {
      "text/html": [
       "<div>\n",
       "<style scoped>\n",
       "    .dataframe tbody tr th:only-of-type {\n",
       "        vertical-align: middle;\n",
       "    }\n",
       "\n",
       "    .dataframe tbody tr th {\n",
       "        vertical-align: top;\n",
       "    }\n",
       "\n",
       "    .dataframe thead th {\n",
       "        text-align: right;\n",
       "    }\n",
       "</style>\n",
       "<table border=\"1\" class=\"dataframe\">\n",
       "  <thead>\n",
       "    <tr style=\"text-align: right;\">\n",
       "      <th></th>\n",
       "      <th>messages_included</th>\n",
       "      <th>mb_per_month_included</th>\n",
       "      <th>minutes_included</th>\n",
       "      <th>usd_monthly_pay</th>\n",
       "      <th>usd_per_gb</th>\n",
       "      <th>usd_per_message</th>\n",
       "      <th>usd_per_minute</th>\n",
       "    </tr>\n",
       "  </thead>\n",
       "  <tbody>\n",
       "    <tr>\n",
       "      <th>count</th>\n",
       "      <td>2.000000</td>\n",
       "      <td>2.000000</td>\n",
       "      <td>2.000000</td>\n",
       "      <td>2.000000</td>\n",
       "      <td>2.00000</td>\n",
       "      <td>2.000000</td>\n",
       "      <td>2.000000</td>\n",
       "    </tr>\n",
       "    <tr>\n",
       "      <th>mean</th>\n",
       "      <td>525.000000</td>\n",
       "      <td>23040.000000</td>\n",
       "      <td>1750.000000</td>\n",
       "      <td>45.000000</td>\n",
       "      <td>8.50000</td>\n",
       "      <td>0.020000</td>\n",
       "      <td>0.020000</td>\n",
       "    </tr>\n",
       "    <tr>\n",
       "      <th>std</th>\n",
       "      <td>671.751442</td>\n",
       "      <td>10861.160159</td>\n",
       "      <td>1767.766953</td>\n",
       "      <td>35.355339</td>\n",
       "      <td>2.12132</td>\n",
       "      <td>0.014142</td>\n",
       "      <td>0.014142</td>\n",
       "    </tr>\n",
       "    <tr>\n",
       "      <th>min</th>\n",
       "      <td>50.000000</td>\n",
       "      <td>15360.000000</td>\n",
       "      <td>500.000000</td>\n",
       "      <td>20.000000</td>\n",
       "      <td>7.00000</td>\n",
       "      <td>0.010000</td>\n",
       "      <td>0.010000</td>\n",
       "    </tr>\n",
       "    <tr>\n",
       "      <th>25%</th>\n",
       "      <td>287.500000</td>\n",
       "      <td>19200.000000</td>\n",
       "      <td>1125.000000</td>\n",
       "      <td>32.500000</td>\n",
       "      <td>7.75000</td>\n",
       "      <td>0.015000</td>\n",
       "      <td>0.015000</td>\n",
       "    </tr>\n",
       "    <tr>\n",
       "      <th>50%</th>\n",
       "      <td>525.000000</td>\n",
       "      <td>23040.000000</td>\n",
       "      <td>1750.000000</td>\n",
       "      <td>45.000000</td>\n",
       "      <td>8.50000</td>\n",
       "      <td>0.020000</td>\n",
       "      <td>0.020000</td>\n",
       "    </tr>\n",
       "    <tr>\n",
       "      <th>75%</th>\n",
       "      <td>762.500000</td>\n",
       "      <td>26880.000000</td>\n",
       "      <td>2375.000000</td>\n",
       "      <td>57.500000</td>\n",
       "      <td>9.25000</td>\n",
       "      <td>0.025000</td>\n",
       "      <td>0.025000</td>\n",
       "    </tr>\n",
       "    <tr>\n",
       "      <th>max</th>\n",
       "      <td>1000.000000</td>\n",
       "      <td>30720.000000</td>\n",
       "      <td>3000.000000</td>\n",
       "      <td>70.000000</td>\n",
       "      <td>10.00000</td>\n",
       "      <td>0.030000</td>\n",
       "      <td>0.030000</td>\n",
       "    </tr>\n",
       "  </tbody>\n",
       "</table>\n",
       "</div>"
      ],
      "text/plain": [
       "       messages_included  mb_per_month_included  minutes_included  \\\n",
       "count           2.000000               2.000000          2.000000   \n",
       "mean          525.000000           23040.000000       1750.000000   \n",
       "std           671.751442           10861.160159       1767.766953   \n",
       "min            50.000000           15360.000000        500.000000   \n",
       "25%           287.500000           19200.000000       1125.000000   \n",
       "50%           525.000000           23040.000000       1750.000000   \n",
       "75%           762.500000           26880.000000       2375.000000   \n",
       "max          1000.000000           30720.000000       3000.000000   \n",
       "\n",
       "       usd_monthly_pay  usd_per_gb  usd_per_message  usd_per_minute  \n",
       "count         2.000000     2.00000         2.000000        2.000000  \n",
       "mean         45.000000     8.50000         0.020000        0.020000  \n",
       "std          35.355339     2.12132         0.014142        0.014142  \n",
       "min          20.000000     7.00000         0.010000        0.010000  \n",
       "25%          32.500000     7.75000         0.015000        0.015000  \n",
       "50%          45.000000     8.50000         0.020000        0.020000  \n",
       "75%          57.500000     9.25000         0.025000        0.025000  \n",
       "max          70.000000    10.00000         0.030000        0.030000  "
      ]
     },
     "execution_count": 6,
     "metadata": {},
     "output_type": "execute_result"
    }
   ],
   "source": [
    "plans_data.info()\n",
    "plans_data.describe()"
   ]
  },
  {
   "cell_type": "code",
   "execution_count": 7,
   "metadata": {},
   "outputs": [
    {
     "name": "stdout",
     "output_type": "stream",
     "text": [
      "<class 'pandas.core.frame.DataFrame'>\n",
      "RangeIndex: 500 entries, 0 to 499\n",
      "Data columns (total 8 columns):\n",
      " #   Column      Non-Null Count  Dtype \n",
      "---  ------      --------------  ----- \n",
      " 0   user_id     500 non-null    int64 \n",
      " 1   first_name  500 non-null    object\n",
      " 2   last_name   500 non-null    object\n",
      " 3   age         500 non-null    int64 \n",
      " 4   city        500 non-null    object\n",
      " 5   reg_date    500 non-null    object\n",
      " 6   plan        500 non-null    object\n",
      " 7   churn_date  34 non-null     object\n",
      "dtypes: int64(2), object(6)\n",
      "memory usage: 31.4+ KB\n"
     ]
    },
    {
     "data": {
      "text/html": [
       "<div>\n",
       "<style scoped>\n",
       "    .dataframe tbody tr th:only-of-type {\n",
       "        vertical-align: middle;\n",
       "    }\n",
       "\n",
       "    .dataframe tbody tr th {\n",
       "        vertical-align: top;\n",
       "    }\n",
       "\n",
       "    .dataframe thead th {\n",
       "        text-align: right;\n",
       "    }\n",
       "</style>\n",
       "<table border=\"1\" class=\"dataframe\">\n",
       "  <thead>\n",
       "    <tr style=\"text-align: right;\">\n",
       "      <th></th>\n",
       "      <th>user_id</th>\n",
       "      <th>age</th>\n",
       "    </tr>\n",
       "  </thead>\n",
       "  <tbody>\n",
       "    <tr>\n",
       "      <th>count</th>\n",
       "      <td>500.000000</td>\n",
       "      <td>500.000000</td>\n",
       "    </tr>\n",
       "    <tr>\n",
       "      <th>mean</th>\n",
       "      <td>1249.500000</td>\n",
       "      <td>45.486000</td>\n",
       "    </tr>\n",
       "    <tr>\n",
       "      <th>std</th>\n",
       "      <td>144.481833</td>\n",
       "      <td>16.972269</td>\n",
       "    </tr>\n",
       "    <tr>\n",
       "      <th>min</th>\n",
       "      <td>1000.000000</td>\n",
       "      <td>18.000000</td>\n",
       "    </tr>\n",
       "    <tr>\n",
       "      <th>25%</th>\n",
       "      <td>1124.750000</td>\n",
       "      <td>30.000000</td>\n",
       "    </tr>\n",
       "    <tr>\n",
       "      <th>50%</th>\n",
       "      <td>1249.500000</td>\n",
       "      <td>46.000000</td>\n",
       "    </tr>\n",
       "    <tr>\n",
       "      <th>75%</th>\n",
       "      <td>1374.250000</td>\n",
       "      <td>61.000000</td>\n",
       "    </tr>\n",
       "    <tr>\n",
       "      <th>max</th>\n",
       "      <td>1499.000000</td>\n",
       "      <td>75.000000</td>\n",
       "    </tr>\n",
       "  </tbody>\n",
       "</table>\n",
       "</div>"
      ],
      "text/plain": [
       "           user_id         age\n",
       "count   500.000000  500.000000\n",
       "mean   1249.500000   45.486000\n",
       "std     144.481833   16.972269\n",
       "min    1000.000000   18.000000\n",
       "25%    1124.750000   30.000000\n",
       "50%    1249.500000   46.000000\n",
       "75%    1374.250000   61.000000\n",
       "max    1499.000000   75.000000"
      ]
     },
     "execution_count": 7,
     "metadata": {},
     "output_type": "execute_result"
    }
   ],
   "source": [
    "users_data.info()\n",
    "users_data.describe()"
   ]
  },
  {
   "cell_type": "markdown",
   "metadata": {},
   "source": [
    "We opened data frames and checked the general information and description."
   ]
  },
  {
   "cell_type": "code",
   "execution_count": 8,
   "metadata": {},
   "outputs": [
    {
     "name": "stdout",
     "output_type": "stream",
     "text": [
      "Duplicates in calls table 0\n",
      "Duplicates in internet table 0\n",
      "Duplicates in messages table 0\n",
      "Duplicates in plans table 0\n",
      "Duplicates in users table 0\n"
     ]
    }
   ],
   "source": [
    "#check duplicates\n",
    "print('Duplicates in calls table', calls_data.duplicated().sum())\n",
    "print('Duplicates in internet table', internet_data.duplicated().sum())\n",
    "print('Duplicates in messages table', messages_data.duplicated().sum())\n",
    "print('Duplicates in plans table', plans_data.duplicated().sum())\n",
    "print('Duplicates in users table', users_data.duplicated().sum())"
   ]
  },
  {
   "cell_type": "markdown",
   "metadata": {},
   "source": [
    "Thare are no duplicates in datasets."
   ]
  },
  {
   "cell_type": "code",
   "execution_count": 9,
   "metadata": {},
   "outputs": [
    {
     "name": "stdout",
     "output_type": "stream",
     "text": [
      "The number of missing data in calls table:  id           0\n",
      "user_id      0\n",
      "call_date    0\n",
      "duration     0\n",
      "dtype: int64\n",
      "The number of missing data in internet table:  id              0\n",
      "user_id         0\n",
      "session_date    0\n",
      "mb_used         0\n",
      "dtype: int64\n",
      "The number of missing data in messages table:  id              0\n",
      "user_id         0\n",
      "message_date    0\n",
      "dtype: int64\n",
      "The number of missing data in plans table:  messages_included        0\n",
      "mb_per_month_included    0\n",
      "minutes_included         0\n",
      "usd_monthly_pay          0\n",
      "usd_per_gb               0\n",
      "usd_per_message          0\n",
      "usd_per_minute           0\n",
      "plan_name                0\n",
      "dtype: int64\n",
      "The number of missing data in users table:  user_id         0\n",
      "first_name      0\n",
      "last_name       0\n",
      "age             0\n",
      "city            0\n",
      "reg_date        0\n",
      "plan            0\n",
      "churn_date    466\n",
      "dtype: int64\n"
     ]
    }
   ],
   "source": [
    "#check missing data\n",
    "print('The number of missing data in calls table: ', calls_data.isnull().sum())\n",
    "print('The number of missing data in internet table: ', internet_data.isnull().sum())\n",
    "print('The number of missing data in messages table: ', messages_data.isnull().sum())\n",
    "print('The number of missing data in plans table: ', plans_data.isnull().sum())\n",
    "print('The number of missing data in users table: ', users_data.isnull().sum())"
   ]
  },
  {
   "cell_type": "markdown",
   "metadata": {},
   "source": [
    "We have missing values in the last table in churn_date column but in description 'churn_date — the date the user stopped using the service (if the value is missing, the calling plan was being used when this database was extracted)' so later we will fix it."
   ]
  },
  {
   "cell_type": "markdown",
   "metadata": {},
   "source": [
    "### Prepare the data"
   ]
  },
  {
   "cell_type": "markdown",
   "metadata": {},
   "source": [
    "We start to work with calls_data table. Here we are interested in call_date and duration columns."
   ]
  },
  {
   "cell_type": "code",
   "execution_count": 10,
   "metadata": {},
   "outputs": [
    {
     "data": {
      "text/html": [
       "<div>\n",
       "<style scoped>\n",
       "    .dataframe tbody tr th:only-of-type {\n",
       "        vertical-align: middle;\n",
       "    }\n",
       "\n",
       "    .dataframe tbody tr th {\n",
       "        vertical-align: top;\n",
       "    }\n",
       "\n",
       "    .dataframe thead th {\n",
       "        text-align: right;\n",
       "    }\n",
       "</style>\n",
       "<table border=\"1\" class=\"dataframe\">\n",
       "  <thead>\n",
       "    <tr style=\"text-align: right;\">\n",
       "      <th></th>\n",
       "      <th>id</th>\n",
       "      <th>user_id</th>\n",
       "      <th>call_date</th>\n",
       "      <th>duration</th>\n",
       "    </tr>\n",
       "  </thead>\n",
       "  <tbody>\n",
       "    <tr>\n",
       "      <th>0</th>\n",
       "      <td>1000_93</td>\n",
       "      <td>1000</td>\n",
       "      <td>2018-12-27</td>\n",
       "      <td>8.52</td>\n",
       "    </tr>\n",
       "    <tr>\n",
       "      <th>1</th>\n",
       "      <td>1000_145</td>\n",
       "      <td>1000</td>\n",
       "      <td>2018-12-27</td>\n",
       "      <td>13.66</td>\n",
       "    </tr>\n",
       "    <tr>\n",
       "      <th>2</th>\n",
       "      <td>1000_247</td>\n",
       "      <td>1000</td>\n",
       "      <td>2018-12-27</td>\n",
       "      <td>14.48</td>\n",
       "    </tr>\n",
       "    <tr>\n",
       "      <th>3</th>\n",
       "      <td>1000_309</td>\n",
       "      <td>1000</td>\n",
       "      <td>2018-12-28</td>\n",
       "      <td>5.76</td>\n",
       "    </tr>\n",
       "    <tr>\n",
       "      <th>4</th>\n",
       "      <td>1000_380</td>\n",
       "      <td>1000</td>\n",
       "      <td>2018-12-30</td>\n",
       "      <td>4.22</td>\n",
       "    </tr>\n",
       "  </tbody>\n",
       "</table>\n",
       "</div>"
      ],
      "text/plain": [
       "         id  user_id   call_date  duration\n",
       "0   1000_93     1000  2018-12-27      8.52\n",
       "1  1000_145     1000  2018-12-27     13.66\n",
       "2  1000_247     1000  2018-12-27     14.48\n",
       "3  1000_309     1000  2018-12-28      5.76\n",
       "4  1000_380     1000  2018-12-30      4.22"
      ]
     },
     "execution_count": 10,
     "metadata": {},
     "output_type": "execute_result"
    }
   ],
   "source": [
    "calls_data.head()"
   ]
  },
  {
   "cell_type": "code",
   "execution_count": 11,
   "metadata": {},
   "outputs": [
    {
     "data": {
      "text/html": [
       "<div>\n",
       "<style scoped>\n",
       "    .dataframe tbody tr th:only-of-type {\n",
       "        vertical-align: middle;\n",
       "    }\n",
       "\n",
       "    .dataframe tbody tr th {\n",
       "        vertical-align: top;\n",
       "    }\n",
       "\n",
       "    .dataframe thead th {\n",
       "        text-align: right;\n",
       "    }\n",
       "</style>\n",
       "<table border=\"1\" class=\"dataframe\">\n",
       "  <thead>\n",
       "    <tr style=\"text-align: right;\">\n",
       "      <th></th>\n",
       "      <th>id</th>\n",
       "      <th>user_id</th>\n",
       "      <th>call_date</th>\n",
       "      <th>duration</th>\n",
       "    </tr>\n",
       "  </thead>\n",
       "  <tbody>\n",
       "    <tr>\n",
       "      <th>88100</th>\n",
       "      <td>1324_144</td>\n",
       "      <td>1324</td>\n",
       "      <td>2018-10-28</td>\n",
       "      <td>1.29</td>\n",
       "    </tr>\n",
       "    <tr>\n",
       "      <th>115598</th>\n",
       "      <td>1404_392</td>\n",
       "      <td>1404</td>\n",
       "      <td>2018-10-10</td>\n",
       "      <td>6.20</td>\n",
       "    </tr>\n",
       "    <tr>\n",
       "      <th>14792</th>\n",
       "      <td>1060_174</td>\n",
       "      <td>1060</td>\n",
       "      <td>2018-12-26</td>\n",
       "      <td>14.72</td>\n",
       "    </tr>\n",
       "    <tr>\n",
       "      <th>83599</th>\n",
       "      <td>1305_3</td>\n",
       "      <td>1305</td>\n",
       "      <td>2018-07-24</td>\n",
       "      <td>4.99</td>\n",
       "    </tr>\n",
       "    <tr>\n",
       "      <th>51179</th>\n",
       "      <td>1185_217</td>\n",
       "      <td>1185</td>\n",
       "      <td>2018-11-11</td>\n",
       "      <td>10.86</td>\n",
       "    </tr>\n",
       "  </tbody>\n",
       "</table>\n",
       "</div>"
      ],
      "text/plain": [
       "              id  user_id   call_date  duration\n",
       "88100   1324_144     1324  2018-10-28      1.29\n",
       "115598  1404_392     1404  2018-10-10      6.20\n",
       "14792   1060_174     1060  2018-12-26     14.72\n",
       "83599     1305_3     1305  2018-07-24      4.99\n",
       "51179   1185_217     1185  2018-11-11     10.86"
      ]
     },
     "execution_count": 11,
     "metadata": {},
     "output_type": "execute_result"
    }
   ],
   "source": [
    "calls_data.sample(5)"
   ]
  },
  {
   "cell_type": "markdown",
   "metadata": {},
   "source": [
    "For our task call_date for every user is not important. Each plan pays monthly so more intersting to group the duration of call for each client by mounth."
   ]
  },
  {
   "cell_type": "code",
   "execution_count": 12,
   "metadata": {},
   "outputs": [
    {
     "data": {
      "text/plain": [
       "0        2018-12-27\n",
       "1        2018-12-27\n",
       "2        2018-12-27\n",
       "3        2018-12-28\n",
       "4        2018-12-30\n",
       "            ...    \n",
       "137730   2018-11-21\n",
       "137731   2018-10-20\n",
       "137732   2018-09-21\n",
       "137733   2018-10-10\n",
       "137734   2018-12-29\n",
       "Name: call_date, Length: 137735, dtype: datetime64[ns]"
      ]
     },
     "execution_count": 12,
     "metadata": {},
     "output_type": "execute_result"
    }
   ],
   "source": [
    "calls_data['call_date'] = pd.to_datetime(calls_data['call_date'], format = '%Y-%m-%d')\n",
    "calls_data['call_date']"
   ]
  },
  {
   "cell_type": "markdown",
   "metadata": {},
   "source": [
    "Because Megaline rounds seconds up to minutes, we need to round duration."
   ]
  },
  {
   "cell_type": "code",
   "execution_count": 13,
   "metadata": {},
   "outputs": [],
   "source": [
    "calls_data['duration'] = np.ceil(calls_data['duration'])"
   ]
  },
  {
   "cell_type": "code",
   "execution_count": 14,
   "metadata": {},
   "outputs": [
    {
     "data": {
      "text/plain": [
       "count    137735.000000\n",
       "mean          7.146673\n",
       "std           5.953919\n",
       "min           0.000000\n",
       "25%           2.000000\n",
       "50%           6.000000\n",
       "75%          11.000000\n",
       "max          38.000000\n",
       "Name: duration, dtype: float64"
      ]
     },
     "execution_count": 14,
     "metadata": {},
     "output_type": "execute_result"
    }
   ],
   "source": [
    "calls_data['duration'].describe()"
   ]
  },
  {
   "cell_type": "code",
   "execution_count": 15,
   "metadata": {},
   "outputs": [
    {
     "data": {
      "text/plain": [
       "count    137735.000000\n",
       "mean          7.341496\n",
       "std           5.728989\n",
       "min           1.000000\n",
       "25%           2.000000\n",
       "50%           6.000000\n",
       "75%          11.000000\n",
       "max          38.000000\n",
       "Name: duration, dtype: float64"
      ]
     },
     "execution_count": 15,
     "metadata": {},
     "output_type": "execute_result"
    }
   ],
   "source": [
    "calls_data['duration'] = calls_data['duration'].replace(0,1)\n",
    "calls_data['duration'].describe()"
   ]
  },
  {
   "cell_type": "markdown",
   "metadata": {},
   "source": [
    "And calls in month"
   ]
  },
  {
   "cell_type": "code",
   "execution_count": 16,
   "metadata": {},
   "outputs": [
    {
     "data": {
      "text/plain": [
       "0        2018-12-01\n",
       "1        2018-12-01\n",
       "2        2018-12-01\n",
       "3        2018-12-01\n",
       "4        2018-12-01\n",
       "            ...    \n",
       "137730   2018-11-01\n",
       "137731   2018-10-01\n",
       "137732   2018-09-01\n",
       "137733   2018-10-01\n",
       "137734   2018-12-01\n",
       "Name: month, Length: 137735, dtype: datetime64[ns]"
      ]
     },
     "execution_count": 16,
     "metadata": {},
     "output_type": "execute_result"
    }
   ],
   "source": [
    "calls_data['month'] = np.array(calls_data['call_date']).astype('datetime64[M]')\n",
    "calls_data['month']"
   ]
  },
  {
   "cell_type": "code",
   "execution_count": 17,
   "metadata": {},
   "outputs": [
    {
     "data": {
      "text/html": [
       "<div>\n",
       "<style scoped>\n",
       "    .dataframe tbody tr th:only-of-type {\n",
       "        vertical-align: middle;\n",
       "    }\n",
       "\n",
       "    .dataframe tbody tr th {\n",
       "        vertical-align: top;\n",
       "    }\n",
       "\n",
       "    .dataframe thead th {\n",
       "        text-align: right;\n",
       "    }\n",
       "</style>\n",
       "<table border=\"1\" class=\"dataframe\">\n",
       "  <thead>\n",
       "    <tr style=\"text-align: right;\">\n",
       "      <th></th>\n",
       "      <th>id</th>\n",
       "      <th>user_id</th>\n",
       "      <th>call_date</th>\n",
       "      <th>duration</th>\n",
       "      <th>month</th>\n",
       "    </tr>\n",
       "  </thead>\n",
       "  <tbody>\n",
       "    <tr>\n",
       "      <th>0</th>\n",
       "      <td>1000_93</td>\n",
       "      <td>1000</td>\n",
       "      <td>2018-12-27</td>\n",
       "      <td>9.0</td>\n",
       "      <td>12</td>\n",
       "    </tr>\n",
       "    <tr>\n",
       "      <th>1</th>\n",
       "      <td>1000_145</td>\n",
       "      <td>1000</td>\n",
       "      <td>2018-12-27</td>\n",
       "      <td>14.0</td>\n",
       "      <td>12</td>\n",
       "    </tr>\n",
       "    <tr>\n",
       "      <th>2</th>\n",
       "      <td>1000_247</td>\n",
       "      <td>1000</td>\n",
       "      <td>2018-12-27</td>\n",
       "      <td>15.0</td>\n",
       "      <td>12</td>\n",
       "    </tr>\n",
       "    <tr>\n",
       "      <th>3</th>\n",
       "      <td>1000_309</td>\n",
       "      <td>1000</td>\n",
       "      <td>2018-12-28</td>\n",
       "      <td>6.0</td>\n",
       "      <td>12</td>\n",
       "    </tr>\n",
       "    <tr>\n",
       "      <th>4</th>\n",
       "      <td>1000_380</td>\n",
       "      <td>1000</td>\n",
       "      <td>2018-12-30</td>\n",
       "      <td>5.0</td>\n",
       "      <td>12</td>\n",
       "    </tr>\n",
       "  </tbody>\n",
       "</table>\n",
       "</div>"
      ],
      "text/plain": [
       "         id  user_id  call_date  duration  month\n",
       "0   1000_93     1000 2018-12-27       9.0     12\n",
       "1  1000_145     1000 2018-12-27      14.0     12\n",
       "2  1000_247     1000 2018-12-27      15.0     12\n",
       "3  1000_309     1000 2018-12-28       6.0     12\n",
       "4  1000_380     1000 2018-12-30       5.0     12"
      ]
     },
     "execution_count": 17,
     "metadata": {},
     "output_type": "execute_result"
    }
   ],
   "source": [
    "calls_data['month'] = calls_data['month'].dt.month\n",
    "calls_data.head()"
   ]
  },
  {
   "cell_type": "markdown",
   "metadata": {},
   "source": [
    "Now we need to group this calls in month to know The number of calls made and minutes used per month."
   ]
  },
  {
   "cell_type": "code",
   "execution_count": 18,
   "metadata": {},
   "outputs": [
    {
     "data": {
      "text/html": [
       "<div>\n",
       "<style scoped>\n",
       "    .dataframe tbody tr th:only-of-type {\n",
       "        vertical-align: middle;\n",
       "    }\n",
       "\n",
       "    .dataframe tbody tr th {\n",
       "        vertical-align: top;\n",
       "    }\n",
       "\n",
       "    .dataframe thead th {\n",
       "        text-align: right;\n",
       "    }\n",
       "</style>\n",
       "<table border=\"1\" class=\"dataframe\">\n",
       "  <thead>\n",
       "    <tr style=\"text-align: right;\">\n",
       "      <th></th>\n",
       "      <th></th>\n",
       "      <th>count</th>\n",
       "      <th>sum</th>\n",
       "    </tr>\n",
       "    <tr>\n",
       "      <th>user_id</th>\n",
       "      <th>month</th>\n",
       "      <th></th>\n",
       "      <th></th>\n",
       "    </tr>\n",
       "  </thead>\n",
       "  <tbody>\n",
       "    <tr>\n",
       "      <th>1000</th>\n",
       "      <th>12</th>\n",
       "      <td>16</td>\n",
       "      <td>124.0</td>\n",
       "    </tr>\n",
       "    <tr>\n",
       "      <th rowspan=\"4\" valign=\"top\">1001</th>\n",
       "      <th>8</th>\n",
       "      <td>27</td>\n",
       "      <td>187.0</td>\n",
       "    </tr>\n",
       "    <tr>\n",
       "      <th>9</th>\n",
       "      <td>49</td>\n",
       "      <td>326.0</td>\n",
       "    </tr>\n",
       "    <tr>\n",
       "      <th>10</th>\n",
       "      <td>65</td>\n",
       "      <td>411.0</td>\n",
       "    </tr>\n",
       "    <tr>\n",
       "      <th>11</th>\n",
       "      <td>64</td>\n",
       "      <td>441.0</td>\n",
       "    </tr>\n",
       "  </tbody>\n",
       "</table>\n",
       "</div>"
      ],
      "text/plain": [
       "               count    sum\n",
       "user_id month              \n",
       "1000    12        16  124.0\n",
       "1001    8         27  187.0\n",
       "        9         49  326.0\n",
       "        10        65  411.0\n",
       "        11        64  441.0"
      ]
     },
     "execution_count": 18,
     "metadata": {},
     "output_type": "execute_result"
    }
   ],
   "source": [
    "calls_data_grouped = calls_data.groupby(by = ['user_id', 'month'])['duration'].agg(['count','sum'])\n",
    "calls_data_grouped.head()"
   ]
  },
  {
   "cell_type": "markdown",
   "metadata": {},
   "source": [
    "Let's look on messages table."
   ]
  },
  {
   "cell_type": "code",
   "execution_count": 19,
   "metadata": {},
   "outputs": [
    {
     "data": {
      "text/html": [
       "<div>\n",
       "<style scoped>\n",
       "    .dataframe tbody tr th:only-of-type {\n",
       "        vertical-align: middle;\n",
       "    }\n",
       "\n",
       "    .dataframe tbody tr th {\n",
       "        vertical-align: top;\n",
       "    }\n",
       "\n",
       "    .dataframe thead th {\n",
       "        text-align: right;\n",
       "    }\n",
       "</style>\n",
       "<table border=\"1\" class=\"dataframe\">\n",
       "  <thead>\n",
       "    <tr style=\"text-align: right;\">\n",
       "      <th></th>\n",
       "      <th>id</th>\n",
       "      <th>user_id</th>\n",
       "      <th>message_date</th>\n",
       "    </tr>\n",
       "  </thead>\n",
       "  <tbody>\n",
       "    <tr>\n",
       "      <th>0</th>\n",
       "      <td>1000_125</td>\n",
       "      <td>1000</td>\n",
       "      <td>2018-12-27</td>\n",
       "    </tr>\n",
       "    <tr>\n",
       "      <th>1</th>\n",
       "      <td>1000_160</td>\n",
       "      <td>1000</td>\n",
       "      <td>2018-12-31</td>\n",
       "    </tr>\n",
       "    <tr>\n",
       "      <th>2</th>\n",
       "      <td>1000_223</td>\n",
       "      <td>1000</td>\n",
       "      <td>2018-12-31</td>\n",
       "    </tr>\n",
       "    <tr>\n",
       "      <th>3</th>\n",
       "      <td>1000_251</td>\n",
       "      <td>1000</td>\n",
       "      <td>2018-12-27</td>\n",
       "    </tr>\n",
       "    <tr>\n",
       "      <th>4</th>\n",
       "      <td>1000_255</td>\n",
       "      <td>1000</td>\n",
       "      <td>2018-12-26</td>\n",
       "    </tr>\n",
       "  </tbody>\n",
       "</table>\n",
       "</div>"
      ],
      "text/plain": [
       "         id  user_id message_date\n",
       "0  1000_125     1000   2018-12-27\n",
       "1  1000_160     1000   2018-12-31\n",
       "2  1000_223     1000   2018-12-31\n",
       "3  1000_251     1000   2018-12-27\n",
       "4  1000_255     1000   2018-12-26"
      ]
     },
     "execution_count": 19,
     "metadata": {},
     "output_type": "execute_result"
    }
   ],
   "source": [
    "messages_data.head()"
   ]
  },
  {
   "cell_type": "code",
   "execution_count": 20,
   "metadata": {},
   "outputs": [
    {
     "data": {
      "text/html": [
       "<div>\n",
       "<style scoped>\n",
       "    .dataframe tbody tr th:only-of-type {\n",
       "        vertical-align: middle;\n",
       "    }\n",
       "\n",
       "    .dataframe tbody tr th {\n",
       "        vertical-align: top;\n",
       "    }\n",
       "\n",
       "    .dataframe thead th {\n",
       "        text-align: right;\n",
       "    }\n",
       "</style>\n",
       "<table border=\"1\" class=\"dataframe\">\n",
       "  <thead>\n",
       "    <tr style=\"text-align: right;\">\n",
       "      <th></th>\n",
       "      <th>id</th>\n",
       "      <th>user_id</th>\n",
       "      <th>message_date</th>\n",
       "    </tr>\n",
       "  </thead>\n",
       "  <tbody>\n",
       "    <tr>\n",
       "      <th>35529</th>\n",
       "      <td>1230_74</td>\n",
       "      <td>1230</td>\n",
       "      <td>2018-12-19</td>\n",
       "    </tr>\n",
       "    <tr>\n",
       "      <th>3616</th>\n",
       "      <td>1037_13</td>\n",
       "      <td>1037</td>\n",
       "      <td>2018-12-26</td>\n",
       "    </tr>\n",
       "    <tr>\n",
       "      <th>21775</th>\n",
       "      <td>1132_1257</td>\n",
       "      <td>1132</td>\n",
       "      <td>2018-10-02</td>\n",
       "    </tr>\n",
       "    <tr>\n",
       "      <th>35214</th>\n",
       "      <td>1224_238</td>\n",
       "      <td>1224</td>\n",
       "      <td>2018-08-14</td>\n",
       "    </tr>\n",
       "    <tr>\n",
       "      <th>71179</th>\n",
       "      <td>1465_54</td>\n",
       "      <td>1465</td>\n",
       "      <td>2018-06-28</td>\n",
       "    </tr>\n",
       "  </tbody>\n",
       "</table>\n",
       "</div>"
      ],
      "text/plain": [
       "              id  user_id message_date\n",
       "35529    1230_74     1230   2018-12-19\n",
       "3616     1037_13     1037   2018-12-26\n",
       "21775  1132_1257     1132   2018-10-02\n",
       "35214   1224_238     1224   2018-08-14\n",
       "71179    1465_54     1465   2018-06-28"
      ]
     },
     "execution_count": 20,
     "metadata": {},
     "output_type": "execute_result"
    }
   ],
   "source": [
    "messages_data.sample(5)"
   ]
  },
  {
   "cell_type": "markdown",
   "metadata": {},
   "source": [
    "We need to know the number of text messages sent per month"
   ]
  },
  {
   "cell_type": "code",
   "execution_count": 21,
   "metadata": {},
   "outputs": [
    {
     "data": {
      "text/html": [
       "<div>\n",
       "<style scoped>\n",
       "    .dataframe tbody tr th:only-of-type {\n",
       "        vertical-align: middle;\n",
       "    }\n",
       "\n",
       "    .dataframe tbody tr th {\n",
       "        vertical-align: top;\n",
       "    }\n",
       "\n",
       "    .dataframe thead th {\n",
       "        text-align: right;\n",
       "    }\n",
       "</style>\n",
       "<table border=\"1\" class=\"dataframe\">\n",
       "  <thead>\n",
       "    <tr style=\"text-align: right;\">\n",
       "      <th></th>\n",
       "      <th>id</th>\n",
       "      <th>user_id</th>\n",
       "      <th>message_date</th>\n",
       "      <th>month</th>\n",
       "    </tr>\n",
       "  </thead>\n",
       "  <tbody>\n",
       "    <tr>\n",
       "      <th>0</th>\n",
       "      <td>1000_125</td>\n",
       "      <td>1000</td>\n",
       "      <td>2018-12-27</td>\n",
       "      <td>12</td>\n",
       "    </tr>\n",
       "    <tr>\n",
       "      <th>1</th>\n",
       "      <td>1000_160</td>\n",
       "      <td>1000</td>\n",
       "      <td>2018-12-31</td>\n",
       "      <td>12</td>\n",
       "    </tr>\n",
       "    <tr>\n",
       "      <th>2</th>\n",
       "      <td>1000_223</td>\n",
       "      <td>1000</td>\n",
       "      <td>2018-12-31</td>\n",
       "      <td>12</td>\n",
       "    </tr>\n",
       "    <tr>\n",
       "      <th>3</th>\n",
       "      <td>1000_251</td>\n",
       "      <td>1000</td>\n",
       "      <td>2018-12-27</td>\n",
       "      <td>12</td>\n",
       "    </tr>\n",
       "    <tr>\n",
       "      <th>4</th>\n",
       "      <td>1000_255</td>\n",
       "      <td>1000</td>\n",
       "      <td>2018-12-26</td>\n",
       "      <td>12</td>\n",
       "    </tr>\n",
       "  </tbody>\n",
       "</table>\n",
       "</div>"
      ],
      "text/plain": [
       "         id  user_id message_date  month\n",
       "0  1000_125     1000   2018-12-27     12\n",
       "1  1000_160     1000   2018-12-31     12\n",
       "2  1000_223     1000   2018-12-31     12\n",
       "3  1000_251     1000   2018-12-27     12\n",
       "4  1000_255     1000   2018-12-26     12"
      ]
     },
     "execution_count": 21,
     "metadata": {},
     "output_type": "execute_result"
    }
   ],
   "source": [
    "messages_data['message_date'] = pd.to_datetime(messages_data['message_date'], format = '%Y-%m-%d')\n",
    "messages_data['message_date']\n",
    "messages_data['month'] = messages_data['message_date'].dt.month\n",
    "messages_data.head()"
   ]
  },
  {
   "cell_type": "code",
   "execution_count": 22,
   "metadata": {},
   "outputs": [
    {
     "data": {
      "text/html": [
       "<div>\n",
       "<style scoped>\n",
       "    .dataframe tbody tr th:only-of-type {\n",
       "        vertical-align: middle;\n",
       "    }\n",
       "\n",
       "    .dataframe tbody tr th {\n",
       "        vertical-align: top;\n",
       "    }\n",
       "\n",
       "    .dataframe thead th {\n",
       "        text-align: right;\n",
       "    }\n",
       "</style>\n",
       "<table border=\"1\" class=\"dataframe\">\n",
       "  <thead>\n",
       "    <tr style=\"text-align: right;\">\n",
       "      <th></th>\n",
       "      <th></th>\n",
       "      <th>count</th>\n",
       "    </tr>\n",
       "    <tr>\n",
       "      <th>user_id</th>\n",
       "      <th>month</th>\n",
       "      <th></th>\n",
       "    </tr>\n",
       "  </thead>\n",
       "  <tbody>\n",
       "    <tr>\n",
       "      <th>1000</th>\n",
       "      <th>12</th>\n",
       "      <td>11</td>\n",
       "    </tr>\n",
       "    <tr>\n",
       "      <th rowspan=\"4\" valign=\"top\">1001</th>\n",
       "      <th>8</th>\n",
       "      <td>30</td>\n",
       "    </tr>\n",
       "    <tr>\n",
       "      <th>9</th>\n",
       "      <td>44</td>\n",
       "    </tr>\n",
       "    <tr>\n",
       "      <th>10</th>\n",
       "      <td>53</td>\n",
       "    </tr>\n",
       "    <tr>\n",
       "      <th>11</th>\n",
       "      <td>36</td>\n",
       "    </tr>\n",
       "  </tbody>\n",
       "</table>\n",
       "</div>"
      ],
      "text/plain": [
       "               count\n",
       "user_id month       \n",
       "1000    12        11\n",
       "1001    8         30\n",
       "        9         44\n",
       "        10        53\n",
       "        11        36"
      ]
     },
     "execution_count": 22,
     "metadata": {},
     "output_type": "execute_result"
    }
   ],
   "source": [
    "messages_data_grouped = messages_data.groupby(by = ['user_id', 'month'])['id'].agg(['count'])\n",
    "messages_data_grouped.head()"
   ]
  },
  {
   "cell_type": "code",
   "execution_count": 23,
   "metadata": {},
   "outputs": [
    {
     "data": {
      "text/html": [
       "<div>\n",
       "<style scoped>\n",
       "    .dataframe tbody tr th:only-of-type {\n",
       "        vertical-align: middle;\n",
       "    }\n",
       "\n",
       "    .dataframe tbody tr th {\n",
       "        vertical-align: top;\n",
       "    }\n",
       "\n",
       "    .dataframe thead th {\n",
       "        text-align: right;\n",
       "    }\n",
       "</style>\n",
       "<table border=\"1\" class=\"dataframe\">\n",
       "  <thead>\n",
       "    <tr style=\"text-align: right;\">\n",
       "      <th></th>\n",
       "      <th></th>\n",
       "      <th>messages_count</th>\n",
       "    </tr>\n",
       "    <tr>\n",
       "      <th>user_id</th>\n",
       "      <th>month</th>\n",
       "      <th></th>\n",
       "    </tr>\n",
       "  </thead>\n",
       "  <tbody>\n",
       "    <tr>\n",
       "      <th>1000</th>\n",
       "      <th>12</th>\n",
       "      <td>11</td>\n",
       "    </tr>\n",
       "    <tr>\n",
       "      <th rowspan=\"4\" valign=\"top\">1001</th>\n",
       "      <th>8</th>\n",
       "      <td>30</td>\n",
       "    </tr>\n",
       "    <tr>\n",
       "      <th>9</th>\n",
       "      <td>44</td>\n",
       "    </tr>\n",
       "    <tr>\n",
       "      <th>10</th>\n",
       "      <td>53</td>\n",
       "    </tr>\n",
       "    <tr>\n",
       "      <th>11</th>\n",
       "      <td>36</td>\n",
       "    </tr>\n",
       "  </tbody>\n",
       "</table>\n",
       "</div>"
      ],
      "text/plain": [
       "               messages_count\n",
       "user_id month                \n",
       "1000    12                 11\n",
       "1001    8                  30\n",
       "        9                  44\n",
       "        10                 53\n",
       "        11                 36"
      ]
     },
     "execution_count": 23,
     "metadata": {},
     "output_type": "execute_result"
    }
   ],
   "source": [
    "messages_data_grouped.columns = ['messages_count']\n",
    "messages_data_grouped.head()"
   ]
  },
  {
   "cell_type": "markdown",
   "metadata": {},
   "source": [
    "We found the number of text messages sent per month"
   ]
  },
  {
   "cell_type": "markdown",
   "metadata": {},
   "source": [
    "Check the volume of data per month"
   ]
  },
  {
   "cell_type": "code",
   "execution_count": 24,
   "metadata": {},
   "outputs": [
    {
     "data": {
      "text/html": [
       "<div>\n",
       "<style scoped>\n",
       "    .dataframe tbody tr th:only-of-type {\n",
       "        vertical-align: middle;\n",
       "    }\n",
       "\n",
       "    .dataframe tbody tr th {\n",
       "        vertical-align: top;\n",
       "    }\n",
       "\n",
       "    .dataframe thead th {\n",
       "        text-align: right;\n",
       "    }\n",
       "</style>\n",
       "<table border=\"1\" class=\"dataframe\">\n",
       "  <thead>\n",
       "    <tr style=\"text-align: right;\">\n",
       "      <th></th>\n",
       "      <th>id</th>\n",
       "      <th>user_id</th>\n",
       "      <th>session_date</th>\n",
       "      <th>mb_used</th>\n",
       "    </tr>\n",
       "  </thead>\n",
       "  <tbody>\n",
       "    <tr>\n",
       "      <th>0</th>\n",
       "      <td>1000_13</td>\n",
       "      <td>1000</td>\n",
       "      <td>2018-12-29</td>\n",
       "      <td>89.86</td>\n",
       "    </tr>\n",
       "    <tr>\n",
       "      <th>1</th>\n",
       "      <td>1000_204</td>\n",
       "      <td>1000</td>\n",
       "      <td>2018-12-31</td>\n",
       "      <td>0.00</td>\n",
       "    </tr>\n",
       "    <tr>\n",
       "      <th>2</th>\n",
       "      <td>1000_379</td>\n",
       "      <td>1000</td>\n",
       "      <td>2018-12-28</td>\n",
       "      <td>660.40</td>\n",
       "    </tr>\n",
       "    <tr>\n",
       "      <th>3</th>\n",
       "      <td>1000_413</td>\n",
       "      <td>1000</td>\n",
       "      <td>2018-12-26</td>\n",
       "      <td>270.99</td>\n",
       "    </tr>\n",
       "    <tr>\n",
       "      <th>4</th>\n",
       "      <td>1000_442</td>\n",
       "      <td>1000</td>\n",
       "      <td>2018-12-27</td>\n",
       "      <td>880.22</td>\n",
       "    </tr>\n",
       "  </tbody>\n",
       "</table>\n",
       "</div>"
      ],
      "text/plain": [
       "         id  user_id session_date  mb_used\n",
       "0   1000_13     1000   2018-12-29    89.86\n",
       "1  1000_204     1000   2018-12-31     0.00\n",
       "2  1000_379     1000   2018-12-28   660.40\n",
       "3  1000_413     1000   2018-12-26   270.99\n",
       "4  1000_442     1000   2018-12-27   880.22"
      ]
     },
     "execution_count": 24,
     "metadata": {},
     "output_type": "execute_result"
    }
   ],
   "source": [
    "internet_data.head()"
   ]
  },
  {
   "cell_type": "code",
   "execution_count": 25,
   "metadata": {},
   "outputs": [
    {
     "data": {
      "text/html": [
       "<div>\n",
       "<style scoped>\n",
       "    .dataframe tbody tr th:only-of-type {\n",
       "        vertical-align: middle;\n",
       "    }\n",
       "\n",
       "    .dataframe tbody tr th {\n",
       "        vertical-align: top;\n",
       "    }\n",
       "\n",
       "    .dataframe thead th {\n",
       "        text-align: right;\n",
       "    }\n",
       "</style>\n",
       "<table border=\"1\" class=\"dataframe\">\n",
       "  <thead>\n",
       "    <tr style=\"text-align: right;\">\n",
       "      <th></th>\n",
       "      <th>id</th>\n",
       "      <th>user_id</th>\n",
       "      <th>session_date</th>\n",
       "      <th>mb_used</th>\n",
       "    </tr>\n",
       "  </thead>\n",
       "  <tbody>\n",
       "    <tr>\n",
       "      <th>74412</th>\n",
       "      <td>1349_220</td>\n",
       "      <td>1349</td>\n",
       "      <td>2018-12-04</td>\n",
       "      <td>547.39</td>\n",
       "    </tr>\n",
       "    <tr>\n",
       "      <th>61267</th>\n",
       "      <td>1277_570</td>\n",
       "      <td>1277</td>\n",
       "      <td>2018-06-17</td>\n",
       "      <td>432.62</td>\n",
       "    </tr>\n",
       "    <tr>\n",
       "      <th>29112</th>\n",
       "      <td>1133_107</td>\n",
       "      <td>1133</td>\n",
       "      <td>2018-10-28</td>\n",
       "      <td>218.55</td>\n",
       "    </tr>\n",
       "    <tr>\n",
       "      <th>67263</th>\n",
       "      <td>1312_486</td>\n",
       "      <td>1312</td>\n",
       "      <td>2018-09-24</td>\n",
       "      <td>341.08</td>\n",
       "    </tr>\n",
       "    <tr>\n",
       "      <th>26812</th>\n",
       "      <td>1123_307</td>\n",
       "      <td>1123</td>\n",
       "      <td>2018-11-06</td>\n",
       "      <td>262.14</td>\n",
       "    </tr>\n",
       "  </tbody>\n",
       "</table>\n",
       "</div>"
      ],
      "text/plain": [
       "             id  user_id session_date  mb_used\n",
       "74412  1349_220     1349   2018-12-04   547.39\n",
       "61267  1277_570     1277   2018-06-17   432.62\n",
       "29112  1133_107     1133   2018-10-28   218.55\n",
       "67263  1312_486     1312   2018-09-24   341.08\n",
       "26812  1123_307     1123   2018-11-06   262.14"
      ]
     },
     "execution_count": 25,
     "metadata": {},
     "output_type": "execute_result"
    }
   ],
   "source": [
    "internet_data.sample(5)"
   ]
  },
  {
   "cell_type": "code",
   "execution_count": 26,
   "metadata": {},
   "outputs": [
    {
     "data": {
      "text/html": [
       "<div>\n",
       "<style scoped>\n",
       "    .dataframe tbody tr th:only-of-type {\n",
       "        vertical-align: middle;\n",
       "    }\n",
       "\n",
       "    .dataframe tbody tr th {\n",
       "        vertical-align: top;\n",
       "    }\n",
       "\n",
       "    .dataframe thead th {\n",
       "        text-align: right;\n",
       "    }\n",
       "</style>\n",
       "<table border=\"1\" class=\"dataframe\">\n",
       "  <thead>\n",
       "    <tr style=\"text-align: right;\">\n",
       "      <th></th>\n",
       "      <th>id</th>\n",
       "      <th>user_id</th>\n",
       "      <th>session_date</th>\n",
       "      <th>mb_used</th>\n",
       "      <th>month</th>\n",
       "    </tr>\n",
       "  </thead>\n",
       "  <tbody>\n",
       "    <tr>\n",
       "      <th>0</th>\n",
       "      <td>1000_13</td>\n",
       "      <td>1000</td>\n",
       "      <td>2018-12-29</td>\n",
       "      <td>89.86</td>\n",
       "      <td>12</td>\n",
       "    </tr>\n",
       "    <tr>\n",
       "      <th>1</th>\n",
       "      <td>1000_204</td>\n",
       "      <td>1000</td>\n",
       "      <td>2018-12-31</td>\n",
       "      <td>0.00</td>\n",
       "      <td>12</td>\n",
       "    </tr>\n",
       "    <tr>\n",
       "      <th>2</th>\n",
       "      <td>1000_379</td>\n",
       "      <td>1000</td>\n",
       "      <td>2018-12-28</td>\n",
       "      <td>660.40</td>\n",
       "      <td>12</td>\n",
       "    </tr>\n",
       "    <tr>\n",
       "      <th>3</th>\n",
       "      <td>1000_413</td>\n",
       "      <td>1000</td>\n",
       "      <td>2018-12-26</td>\n",
       "      <td>270.99</td>\n",
       "      <td>12</td>\n",
       "    </tr>\n",
       "    <tr>\n",
       "      <th>4</th>\n",
       "      <td>1000_442</td>\n",
       "      <td>1000</td>\n",
       "      <td>2018-12-27</td>\n",
       "      <td>880.22</td>\n",
       "      <td>12</td>\n",
       "    </tr>\n",
       "  </tbody>\n",
       "</table>\n",
       "</div>"
      ],
      "text/plain": [
       "         id  user_id session_date  mb_used  month\n",
       "0   1000_13     1000   2018-12-29    89.86     12\n",
       "1  1000_204     1000   2018-12-31     0.00     12\n",
       "2  1000_379     1000   2018-12-28   660.40     12\n",
       "3  1000_413     1000   2018-12-26   270.99     12\n",
       "4  1000_442     1000   2018-12-27   880.22     12"
      ]
     },
     "execution_count": 26,
     "metadata": {},
     "output_type": "execute_result"
    }
   ],
   "source": [
    "internet_data['session_date'] = pd.to_datetime(internet_data['session_date'], format = '%Y-%m-%d')\n",
    "internet_data['session_date']\n",
    "internet_data['month'] = internet_data['session_date'].dt.month\n",
    "internet_data.head()"
   ]
  },
  {
   "cell_type": "code",
   "execution_count": 27,
   "metadata": {},
   "outputs": [
    {
     "data": {
      "text/html": [
       "<div>\n",
       "<style scoped>\n",
       "    .dataframe tbody tr th:only-of-type {\n",
       "        vertical-align: middle;\n",
       "    }\n",
       "\n",
       "    .dataframe tbody tr th {\n",
       "        vertical-align: top;\n",
       "    }\n",
       "\n",
       "    .dataframe thead th {\n",
       "        text-align: right;\n",
       "    }\n",
       "</style>\n",
       "<table border=\"1\" class=\"dataframe\">\n",
       "  <thead>\n",
       "    <tr style=\"text-align: right;\">\n",
       "      <th></th>\n",
       "      <th>id</th>\n",
       "      <th>user_id</th>\n",
       "      <th>mb_used</th>\n",
       "      <th>month</th>\n",
       "    </tr>\n",
       "  </thead>\n",
       "  <tbody>\n",
       "    <tr>\n",
       "      <th>0</th>\n",
       "      <td>1000_13</td>\n",
       "      <td>1000</td>\n",
       "      <td>89.86</td>\n",
       "      <td>12</td>\n",
       "    </tr>\n",
       "    <tr>\n",
       "      <th>1</th>\n",
       "      <td>1000_204</td>\n",
       "      <td>1000</td>\n",
       "      <td>0.00</td>\n",
       "      <td>12</td>\n",
       "    </tr>\n",
       "    <tr>\n",
       "      <th>2</th>\n",
       "      <td>1000_379</td>\n",
       "      <td>1000</td>\n",
       "      <td>660.40</td>\n",
       "      <td>12</td>\n",
       "    </tr>\n",
       "    <tr>\n",
       "      <th>3</th>\n",
       "      <td>1000_413</td>\n",
       "      <td>1000</td>\n",
       "      <td>270.99</td>\n",
       "      <td>12</td>\n",
       "    </tr>\n",
       "    <tr>\n",
       "      <th>4</th>\n",
       "      <td>1000_442</td>\n",
       "      <td>1000</td>\n",
       "      <td>880.22</td>\n",
       "      <td>12</td>\n",
       "    </tr>\n",
       "  </tbody>\n",
       "</table>\n",
       "</div>"
      ],
      "text/plain": [
       "         id  user_id  mb_used  month\n",
       "0   1000_13     1000    89.86     12\n",
       "1  1000_204     1000     0.00     12\n",
       "2  1000_379     1000   660.40     12\n",
       "3  1000_413     1000   270.99     12\n",
       "4  1000_442     1000   880.22     12"
      ]
     },
     "execution_count": 27,
     "metadata": {},
     "output_type": "execute_result"
    }
   ],
   "source": [
    "internet_data.drop(['session_date'], axis='columns', inplace=True)\n",
    "internet_data.head()"
   ]
  },
  {
   "cell_type": "code",
   "execution_count": 28,
   "metadata": {},
   "outputs": [
    {
     "data": {
      "text/plain": [
       "user_id  month\n",
       "1000     12        1901.47\n",
       "1001     8         6919.15\n",
       "         9        13314.82\n",
       "         10       22330.49\n",
       "         11       18504.30\n",
       "Name: mb_used, dtype: float64"
      ]
     },
     "execution_count": 28,
     "metadata": {},
     "output_type": "execute_result"
    }
   ],
   "source": [
    "internet_data_grouped = internet_data.groupby(by = ['user_id', 'month'])['mb_used'].sum()\n",
    "internet_data_grouped.head()"
   ]
  },
  {
   "cell_type": "markdown",
   "metadata": {},
   "source": [
    "Here we can see quantity and duration of internet sessions."
   ]
  },
  {
   "cell_type": "markdown",
   "metadata": {},
   "source": [
    "Now we will find the monthly revenue from each user.Firstly we will merge columns."
   ]
  },
  {
   "cell_type": "code",
   "execution_count": 29,
   "metadata": {},
   "outputs": [
    {
     "data": {
      "text/html": [
       "<div>\n",
       "<style scoped>\n",
       "    .dataframe tbody tr th:only-of-type {\n",
       "        vertical-align: middle;\n",
       "    }\n",
       "\n",
       "    .dataframe tbody tr th {\n",
       "        vertical-align: top;\n",
       "    }\n",
       "\n",
       "    .dataframe thead th {\n",
       "        text-align: right;\n",
       "    }\n",
       "</style>\n",
       "<table border=\"1\" class=\"dataframe\">\n",
       "  <thead>\n",
       "    <tr style=\"text-align: right;\">\n",
       "      <th></th>\n",
       "      <th>user_id</th>\n",
       "      <th>month</th>\n",
       "      <th>mb_used</th>\n",
       "    </tr>\n",
       "  </thead>\n",
       "  <tbody>\n",
       "    <tr>\n",
       "      <th>0</th>\n",
       "      <td>1000</td>\n",
       "      <td>12</td>\n",
       "      <td>1901.47</td>\n",
       "    </tr>\n",
       "    <tr>\n",
       "      <th>1</th>\n",
       "      <td>1001</td>\n",
       "      <td>8</td>\n",
       "      <td>6919.15</td>\n",
       "    </tr>\n",
       "    <tr>\n",
       "      <th>2</th>\n",
       "      <td>1001</td>\n",
       "      <td>9</td>\n",
       "      <td>13314.82</td>\n",
       "    </tr>\n",
       "    <tr>\n",
       "      <th>3</th>\n",
       "      <td>1001</td>\n",
       "      <td>10</td>\n",
       "      <td>22330.49</td>\n",
       "    </tr>\n",
       "    <tr>\n",
       "      <th>4</th>\n",
       "      <td>1001</td>\n",
       "      <td>11</td>\n",
       "      <td>18504.30</td>\n",
       "    </tr>\n",
       "  </tbody>\n",
       "</table>\n",
       "</div>"
      ],
      "text/plain": [
       "   user_id  month   mb_used\n",
       "0     1000     12   1901.47\n",
       "1     1001      8   6919.15\n",
       "2     1001      9  13314.82\n",
       "3     1001     10  22330.49\n",
       "4     1001     11  18504.30"
      ]
     },
     "execution_count": 29,
     "metadata": {},
     "output_type": "execute_result"
    }
   ],
   "source": [
    "data_internet_pivot = internet_data.pivot_table(index=['user_id', 'month'], values='mb_used', aggfunc='sum').reset_index() \n",
    "data_internet_pivot.head()"
   ]
  },
  {
   "cell_type": "code",
   "execution_count": 30,
   "metadata": {},
   "outputs": [
    {
     "data": {
      "text/html": [
       "<div>\n",
       "<style scoped>\n",
       "    .dataframe tbody tr th:only-of-type {\n",
       "        vertical-align: middle;\n",
       "    }\n",
       "\n",
       "    .dataframe tbody tr th {\n",
       "        vertical-align: top;\n",
       "    }\n",
       "\n",
       "    .dataframe thead th {\n",
       "        text-align: right;\n",
       "    }\n",
       "</style>\n",
       "<table border=\"1\" class=\"dataframe\">\n",
       "  <thead>\n",
       "    <tr style=\"text-align: right;\">\n",
       "      <th></th>\n",
       "      <th>user_id</th>\n",
       "      <th>month</th>\n",
       "      <th>duration</th>\n",
       "    </tr>\n",
       "  </thead>\n",
       "  <tbody>\n",
       "    <tr>\n",
       "      <th>0</th>\n",
       "      <td>1000</td>\n",
       "      <td>12</td>\n",
       "      <td>124.0</td>\n",
       "    </tr>\n",
       "    <tr>\n",
       "      <th>1</th>\n",
       "      <td>1001</td>\n",
       "      <td>8</td>\n",
       "      <td>187.0</td>\n",
       "    </tr>\n",
       "    <tr>\n",
       "      <th>2</th>\n",
       "      <td>1001</td>\n",
       "      <td>9</td>\n",
       "      <td>326.0</td>\n",
       "    </tr>\n",
       "    <tr>\n",
       "      <th>3</th>\n",
       "      <td>1001</td>\n",
       "      <td>10</td>\n",
       "      <td>411.0</td>\n",
       "    </tr>\n",
       "    <tr>\n",
       "      <th>4</th>\n",
       "      <td>1001</td>\n",
       "      <td>11</td>\n",
       "      <td>441.0</td>\n",
       "    </tr>\n",
       "  </tbody>\n",
       "</table>\n",
       "</div>"
      ],
      "text/plain": [
       "   user_id  month  duration\n",
       "0     1000     12     124.0\n",
       "1     1001      8     187.0\n",
       "2     1001      9     326.0\n",
       "3     1001     10     411.0\n",
       "4     1001     11     441.0"
      ]
     },
     "execution_count": 30,
     "metadata": {},
     "output_type": "execute_result"
    }
   ],
   "source": [
    "data_calls_pivot = calls_data.pivot_table(index=['user_id', 'month'], values='duration', aggfunc='sum').reset_index()  \n",
    "data_calls_pivot.head()"
   ]
  },
  {
   "cell_type": "code",
   "execution_count": 31,
   "metadata": {},
   "outputs": [
    {
     "data": {
      "text/html": [
       "<div>\n",
       "<style scoped>\n",
       "    .dataframe tbody tr th:only-of-type {\n",
       "        vertical-align: middle;\n",
       "    }\n",
       "\n",
       "    .dataframe tbody tr th {\n",
       "        vertical-align: top;\n",
       "    }\n",
       "\n",
       "    .dataframe thead th {\n",
       "        text-align: right;\n",
       "    }\n",
       "</style>\n",
       "<table border=\"1\" class=\"dataframe\">\n",
       "  <thead>\n",
       "    <tr style=\"text-align: right;\">\n",
       "      <th></th>\n",
       "      <th>user_id</th>\n",
       "      <th>month</th>\n",
       "      <th>messages_count</th>\n",
       "    </tr>\n",
       "  </thead>\n",
       "  <tbody>\n",
       "    <tr>\n",
       "      <th>0</th>\n",
       "      <td>1000</td>\n",
       "      <td>12</td>\n",
       "      <td>11</td>\n",
       "    </tr>\n",
       "    <tr>\n",
       "      <th>1</th>\n",
       "      <td>1001</td>\n",
       "      <td>8</td>\n",
       "      <td>30</td>\n",
       "    </tr>\n",
       "    <tr>\n",
       "      <th>2</th>\n",
       "      <td>1001</td>\n",
       "      <td>9</td>\n",
       "      <td>44</td>\n",
       "    </tr>\n",
       "    <tr>\n",
       "      <th>3</th>\n",
       "      <td>1001</td>\n",
       "      <td>10</td>\n",
       "      <td>53</td>\n",
       "    </tr>\n",
       "    <tr>\n",
       "      <th>4</th>\n",
       "      <td>1001</td>\n",
       "      <td>11</td>\n",
       "      <td>36</td>\n",
       "    </tr>\n",
       "  </tbody>\n",
       "</table>\n",
       "</div>"
      ],
      "text/plain": [
       "   user_id  month  messages_count\n",
       "0     1000     12              11\n",
       "1     1001      8              30\n",
       "2     1001      9              44\n",
       "3     1001     10              53\n",
       "4     1001     11              36"
      ]
     },
     "execution_count": 31,
     "metadata": {},
     "output_type": "execute_result"
    }
   ],
   "source": [
    "data_messages_pivot = messages_data_grouped.pivot_table(index=['user_id', 'month'], values='messages_count', aggfunc='sum').reset_index()  \n",
    "data_messages_pivot.head()"
   ]
  },
  {
   "cell_type": "code",
   "execution_count": 32,
   "metadata": {},
   "outputs": [
    {
     "data": {
      "text/html": [
       "<div>\n",
       "<style scoped>\n",
       "    .dataframe tbody tr th:only-of-type {\n",
       "        vertical-align: middle;\n",
       "    }\n",
       "\n",
       "    .dataframe tbody tr th {\n",
       "        vertical-align: top;\n",
       "    }\n",
       "\n",
       "    .dataframe thead th {\n",
       "        text-align: right;\n",
       "    }\n",
       "</style>\n",
       "<table border=\"1\" class=\"dataframe\">\n",
       "  <thead>\n",
       "    <tr style=\"text-align: right;\">\n",
       "      <th></th>\n",
       "      <th>user_id</th>\n",
       "      <th>month</th>\n",
       "      <th>mb_used</th>\n",
       "      <th>duration</th>\n",
       "      <th>messages_count</th>\n",
       "    </tr>\n",
       "  </thead>\n",
       "  <tbody>\n",
       "    <tr>\n",
       "      <th>0</th>\n",
       "      <td>1000</td>\n",
       "      <td>12</td>\n",
       "      <td>1901.47</td>\n",
       "      <td>124.0</td>\n",
       "      <td>11.0</td>\n",
       "    </tr>\n",
       "    <tr>\n",
       "      <th>1</th>\n",
       "      <td>1001</td>\n",
       "      <td>8</td>\n",
       "      <td>6919.15</td>\n",
       "      <td>187.0</td>\n",
       "      <td>30.0</td>\n",
       "    </tr>\n",
       "    <tr>\n",
       "      <th>2</th>\n",
       "      <td>1001</td>\n",
       "      <td>9</td>\n",
       "      <td>13314.82</td>\n",
       "      <td>326.0</td>\n",
       "      <td>44.0</td>\n",
       "    </tr>\n",
       "    <tr>\n",
       "      <th>3</th>\n",
       "      <td>1001</td>\n",
       "      <td>10</td>\n",
       "      <td>22330.49</td>\n",
       "      <td>411.0</td>\n",
       "      <td>53.0</td>\n",
       "    </tr>\n",
       "    <tr>\n",
       "      <th>4</th>\n",
       "      <td>1001</td>\n",
       "      <td>11</td>\n",
       "      <td>18504.30</td>\n",
       "      <td>441.0</td>\n",
       "      <td>36.0</td>\n",
       "    </tr>\n",
       "  </tbody>\n",
       "</table>\n",
       "</div>"
      ],
      "text/plain": [
       "   user_id  month   mb_used  duration  messages_count\n",
       "0     1000     12   1901.47     124.0            11.0\n",
       "1     1001      8   6919.15     187.0            30.0\n",
       "2     1001      9  13314.82     326.0            44.0\n",
       "3     1001     10  22330.49     411.0            53.0\n",
       "4     1001     11  18504.30     441.0            36.0"
      ]
     },
     "execution_count": 32,
     "metadata": {},
     "output_type": "execute_result"
    }
   ],
   "source": [
    "all_data = data_internet_pivot.merge(data_calls_pivot.merge(data_messages_pivot, how='outer', on=['user_id', 'month']),\n",
    "                    how='outer', on=['user_id', 'month'])\n",
    "all_data = all_data.fillna(0)\n",
    "all_data.head()"
   ]
  },
  {
   "cell_type": "code",
   "execution_count": 33,
   "metadata": {},
   "outputs": [
    {
     "data": {
      "text/plain": [
       "0"
      ]
     },
     "execution_count": 33,
     "metadata": {},
     "output_type": "execute_result"
    }
   ],
   "source": [
    "all_data.duplicated().sum()"
   ]
  },
  {
   "cell_type": "code",
   "execution_count": 34,
   "metadata": {},
   "outputs": [
    {
     "data": {
      "text/html": [
       "<div>\n",
       "<style scoped>\n",
       "    .dataframe tbody tr th:only-of-type {\n",
       "        vertical-align: middle;\n",
       "    }\n",
       "\n",
       "    .dataframe tbody tr th {\n",
       "        vertical-align: top;\n",
       "    }\n",
       "\n",
       "    .dataframe thead th {\n",
       "        text-align: right;\n",
       "    }\n",
       "</style>\n",
       "<table border=\"1\" class=\"dataframe\">\n",
       "  <thead>\n",
       "    <tr style=\"text-align: right;\">\n",
       "      <th></th>\n",
       "      <th>user_id</th>\n",
       "      <th>month</th>\n",
       "      <th>mb_used</th>\n",
       "      <th>duration</th>\n",
       "      <th>messages_count</th>\n",
       "      <th>first_name</th>\n",
       "      <th>last_name</th>\n",
       "      <th>age</th>\n",
       "      <th>city</th>\n",
       "      <th>reg_date</th>\n",
       "      <th>plan</th>\n",
       "      <th>churn_date</th>\n",
       "    </tr>\n",
       "  </thead>\n",
       "  <tbody>\n",
       "    <tr>\n",
       "      <th>0</th>\n",
       "      <td>1000</td>\n",
       "      <td>12.0</td>\n",
       "      <td>1901.47</td>\n",
       "      <td>124.0</td>\n",
       "      <td>11.0</td>\n",
       "      <td>Anamaria</td>\n",
       "      <td>Bauer</td>\n",
       "      <td>45</td>\n",
       "      <td>Atlanta-Sandy Springs-Roswell, GA MSA</td>\n",
       "      <td>2018-12-24</td>\n",
       "      <td>ultimate</td>\n",
       "      <td>NaN</td>\n",
       "    </tr>\n",
       "    <tr>\n",
       "      <th>1</th>\n",
       "      <td>1001</td>\n",
       "      <td>8.0</td>\n",
       "      <td>6919.15</td>\n",
       "      <td>187.0</td>\n",
       "      <td>30.0</td>\n",
       "      <td>Mickey</td>\n",
       "      <td>Wilkerson</td>\n",
       "      <td>28</td>\n",
       "      <td>Seattle-Tacoma-Bellevue, WA MSA</td>\n",
       "      <td>2018-08-13</td>\n",
       "      <td>surf</td>\n",
       "      <td>NaN</td>\n",
       "    </tr>\n",
       "    <tr>\n",
       "      <th>2</th>\n",
       "      <td>1001</td>\n",
       "      <td>9.0</td>\n",
       "      <td>13314.82</td>\n",
       "      <td>326.0</td>\n",
       "      <td>44.0</td>\n",
       "      <td>Mickey</td>\n",
       "      <td>Wilkerson</td>\n",
       "      <td>28</td>\n",
       "      <td>Seattle-Tacoma-Bellevue, WA MSA</td>\n",
       "      <td>2018-08-13</td>\n",
       "      <td>surf</td>\n",
       "      <td>NaN</td>\n",
       "    </tr>\n",
       "    <tr>\n",
       "      <th>3</th>\n",
       "      <td>1001</td>\n",
       "      <td>10.0</td>\n",
       "      <td>22330.49</td>\n",
       "      <td>411.0</td>\n",
       "      <td>53.0</td>\n",
       "      <td>Mickey</td>\n",
       "      <td>Wilkerson</td>\n",
       "      <td>28</td>\n",
       "      <td>Seattle-Tacoma-Bellevue, WA MSA</td>\n",
       "      <td>2018-08-13</td>\n",
       "      <td>surf</td>\n",
       "      <td>NaN</td>\n",
       "    </tr>\n",
       "    <tr>\n",
       "      <th>4</th>\n",
       "      <td>1001</td>\n",
       "      <td>11.0</td>\n",
       "      <td>18504.30</td>\n",
       "      <td>441.0</td>\n",
       "      <td>36.0</td>\n",
       "      <td>Mickey</td>\n",
       "      <td>Wilkerson</td>\n",
       "      <td>28</td>\n",
       "      <td>Seattle-Tacoma-Bellevue, WA MSA</td>\n",
       "      <td>2018-08-13</td>\n",
       "      <td>surf</td>\n",
       "      <td>NaN</td>\n",
       "    </tr>\n",
       "  </tbody>\n",
       "</table>\n",
       "</div>"
      ],
      "text/plain": [
       "   user_id  month   mb_used  duration  messages_count first_name  last_name  \\\n",
       "0     1000   12.0   1901.47     124.0            11.0   Anamaria      Bauer   \n",
       "1     1001    8.0   6919.15     187.0            30.0     Mickey  Wilkerson   \n",
       "2     1001    9.0  13314.82     326.0            44.0     Mickey  Wilkerson   \n",
       "3     1001   10.0  22330.49     411.0            53.0     Mickey  Wilkerson   \n",
       "4     1001   11.0  18504.30     441.0            36.0     Mickey  Wilkerson   \n",
       "\n",
       "   age                                   city    reg_date      plan churn_date  \n",
       "0   45  Atlanta-Sandy Springs-Roswell, GA MSA  2018-12-24  ultimate        NaN  \n",
       "1   28        Seattle-Tacoma-Bellevue, WA MSA  2018-08-13      surf        NaN  \n",
       "2   28        Seattle-Tacoma-Bellevue, WA MSA  2018-08-13      surf        NaN  \n",
       "3   28        Seattle-Tacoma-Bellevue, WA MSA  2018-08-13      surf        NaN  \n",
       "4   28        Seattle-Tacoma-Bellevue, WA MSA  2018-08-13      surf        NaN  "
      ]
     },
     "execution_count": 34,
     "metadata": {},
     "output_type": "execute_result"
    }
   ],
   "source": [
    "all_data = pd.merge(all_data, users_data, how='outer', left_on = ['user_id'], right_on = ['user_id'])\n",
    "all_data.head(5)"
   ]
  },
  {
   "cell_type": "code",
   "execution_count": 35,
   "metadata": {},
   "outputs": [
    {
     "data": {
      "text/html": [
       "<div>\n",
       "<style scoped>\n",
       "    .dataframe tbody tr th:only-of-type {\n",
       "        vertical-align: middle;\n",
       "    }\n",
       "\n",
       "    .dataframe tbody tr th {\n",
       "        vertical-align: top;\n",
       "    }\n",
       "\n",
       "    .dataframe thead th {\n",
       "        text-align: right;\n",
       "    }\n",
       "</style>\n",
       "<table border=\"1\" class=\"dataframe\">\n",
       "  <thead>\n",
       "    <tr style=\"text-align: right;\">\n",
       "      <th></th>\n",
       "      <th>user_id</th>\n",
       "      <th>month</th>\n",
       "      <th>mb_used</th>\n",
       "      <th>duration</th>\n",
       "      <th>messages_count</th>\n",
       "      <th>first_name</th>\n",
       "      <th>last_name</th>\n",
       "      <th>age</th>\n",
       "      <th>city</th>\n",
       "      <th>reg_date</th>\n",
       "      <th>plan</th>\n",
       "      <th>churn_date</th>\n",
       "      <th>messages_included</th>\n",
       "      <th>mb_per_month_included</th>\n",
       "      <th>minutes_included</th>\n",
       "      <th>usd_monthly_pay</th>\n",
       "      <th>usd_per_gb</th>\n",
       "      <th>usd_per_message</th>\n",
       "      <th>usd_per_minute</th>\n",
       "      <th>plan_name</th>\n",
       "    </tr>\n",
       "  </thead>\n",
       "  <tbody>\n",
       "    <tr>\n",
       "      <th>0</th>\n",
       "      <td>1000</td>\n",
       "      <td>12.0</td>\n",
       "      <td>1901.47</td>\n",
       "      <td>124.0</td>\n",
       "      <td>11.0</td>\n",
       "      <td>Anamaria</td>\n",
       "      <td>Bauer</td>\n",
       "      <td>45</td>\n",
       "      <td>Atlanta-Sandy Springs-Roswell, GA MSA</td>\n",
       "      <td>2018-12-24</td>\n",
       "      <td>ultimate</td>\n",
       "      <td>NaN</td>\n",
       "      <td>1000</td>\n",
       "      <td>30720</td>\n",
       "      <td>3000</td>\n",
       "      <td>70</td>\n",
       "      <td>7</td>\n",
       "      <td>0.01</td>\n",
       "      <td>0.01</td>\n",
       "      <td>ultimate</td>\n",
       "    </tr>\n",
       "    <tr>\n",
       "      <th>1</th>\n",
       "      <td>1001</td>\n",
       "      <td>8.0</td>\n",
       "      <td>6919.15</td>\n",
       "      <td>187.0</td>\n",
       "      <td>30.0</td>\n",
       "      <td>Mickey</td>\n",
       "      <td>Wilkerson</td>\n",
       "      <td>28</td>\n",
       "      <td>Seattle-Tacoma-Bellevue, WA MSA</td>\n",
       "      <td>2018-08-13</td>\n",
       "      <td>surf</td>\n",
       "      <td>NaN</td>\n",
       "      <td>50</td>\n",
       "      <td>15360</td>\n",
       "      <td>500</td>\n",
       "      <td>20</td>\n",
       "      <td>10</td>\n",
       "      <td>0.03</td>\n",
       "      <td>0.03</td>\n",
       "      <td>surf</td>\n",
       "    </tr>\n",
       "    <tr>\n",
       "      <th>2</th>\n",
       "      <td>1001</td>\n",
       "      <td>9.0</td>\n",
       "      <td>13314.82</td>\n",
       "      <td>326.0</td>\n",
       "      <td>44.0</td>\n",
       "      <td>Mickey</td>\n",
       "      <td>Wilkerson</td>\n",
       "      <td>28</td>\n",
       "      <td>Seattle-Tacoma-Bellevue, WA MSA</td>\n",
       "      <td>2018-08-13</td>\n",
       "      <td>surf</td>\n",
       "      <td>NaN</td>\n",
       "      <td>50</td>\n",
       "      <td>15360</td>\n",
       "      <td>500</td>\n",
       "      <td>20</td>\n",
       "      <td>10</td>\n",
       "      <td>0.03</td>\n",
       "      <td>0.03</td>\n",
       "      <td>surf</td>\n",
       "    </tr>\n",
       "    <tr>\n",
       "      <th>3</th>\n",
       "      <td>1001</td>\n",
       "      <td>10.0</td>\n",
       "      <td>22330.49</td>\n",
       "      <td>411.0</td>\n",
       "      <td>53.0</td>\n",
       "      <td>Mickey</td>\n",
       "      <td>Wilkerson</td>\n",
       "      <td>28</td>\n",
       "      <td>Seattle-Tacoma-Bellevue, WA MSA</td>\n",
       "      <td>2018-08-13</td>\n",
       "      <td>surf</td>\n",
       "      <td>NaN</td>\n",
       "      <td>50</td>\n",
       "      <td>15360</td>\n",
       "      <td>500</td>\n",
       "      <td>20</td>\n",
       "      <td>10</td>\n",
       "      <td>0.03</td>\n",
       "      <td>0.03</td>\n",
       "      <td>surf</td>\n",
       "    </tr>\n",
       "    <tr>\n",
       "      <th>4</th>\n",
       "      <td>1001</td>\n",
       "      <td>11.0</td>\n",
       "      <td>18504.30</td>\n",
       "      <td>441.0</td>\n",
       "      <td>36.0</td>\n",
       "      <td>Mickey</td>\n",
       "      <td>Wilkerson</td>\n",
       "      <td>28</td>\n",
       "      <td>Seattle-Tacoma-Bellevue, WA MSA</td>\n",
       "      <td>2018-08-13</td>\n",
       "      <td>surf</td>\n",
       "      <td>NaN</td>\n",
       "      <td>50</td>\n",
       "      <td>15360</td>\n",
       "      <td>500</td>\n",
       "      <td>20</td>\n",
       "      <td>10</td>\n",
       "      <td>0.03</td>\n",
       "      <td>0.03</td>\n",
       "      <td>surf</td>\n",
       "    </tr>\n",
       "  </tbody>\n",
       "</table>\n",
       "</div>"
      ],
      "text/plain": [
       "   user_id  month   mb_used  duration  messages_count first_name  last_name  \\\n",
       "0     1000   12.0   1901.47     124.0            11.0   Anamaria      Bauer   \n",
       "1     1001    8.0   6919.15     187.0            30.0     Mickey  Wilkerson   \n",
       "2     1001    9.0  13314.82     326.0            44.0     Mickey  Wilkerson   \n",
       "3     1001   10.0  22330.49     411.0            53.0     Mickey  Wilkerson   \n",
       "4     1001   11.0  18504.30     441.0            36.0     Mickey  Wilkerson   \n",
       "\n",
       "   age                                   city    reg_date      plan  \\\n",
       "0   45  Atlanta-Sandy Springs-Roswell, GA MSA  2018-12-24  ultimate   \n",
       "1   28        Seattle-Tacoma-Bellevue, WA MSA  2018-08-13      surf   \n",
       "2   28        Seattle-Tacoma-Bellevue, WA MSA  2018-08-13      surf   \n",
       "3   28        Seattle-Tacoma-Bellevue, WA MSA  2018-08-13      surf   \n",
       "4   28        Seattle-Tacoma-Bellevue, WA MSA  2018-08-13      surf   \n",
       "\n",
       "  churn_date  messages_included  mb_per_month_included  minutes_included  \\\n",
       "0        NaN               1000                  30720              3000   \n",
       "1        NaN                 50                  15360               500   \n",
       "2        NaN                 50                  15360               500   \n",
       "3        NaN                 50                  15360               500   \n",
       "4        NaN                 50                  15360               500   \n",
       "\n",
       "   usd_monthly_pay  usd_per_gb  usd_per_message  usd_per_minute plan_name  \n",
       "0               70           7             0.01            0.01  ultimate  \n",
       "1               20          10             0.03            0.03      surf  \n",
       "2               20          10             0.03            0.03      surf  \n",
       "3               20          10             0.03            0.03      surf  \n",
       "4               20          10             0.03            0.03      surf  "
      ]
     },
     "execution_count": 35,
     "metadata": {},
     "output_type": "execute_result"
    }
   ],
   "source": [
    "all_data = pd.merge(all_data, plans_data, how='left', left_on = 'plan', right_on = 'plan_name')\n",
    "all_data.head()"
   ]
  },
  {
   "cell_type": "code",
   "execution_count": 36,
   "metadata": {},
   "outputs": [
    {
     "data": {
      "text/plain": [
       "0"
      ]
     },
     "execution_count": 36,
     "metadata": {},
     "output_type": "execute_result"
    }
   ],
   "source": [
    "all_data.duplicated().sum()"
   ]
  },
  {
   "cell_type": "code",
   "execution_count": 37,
   "metadata": {},
   "outputs": [
    {
     "name": "stdout",
     "output_type": "stream",
     "text": [
      "<class 'pandas.core.frame.DataFrame'>\n",
      "Int64Index: 2303 entries, 0 to 2302\n",
      "Data columns (total 20 columns):\n",
      " #   Column                 Non-Null Count  Dtype  \n",
      "---  ------                 --------------  -----  \n",
      " 0   user_id                2303 non-null   int64  \n",
      " 1   month                  2293 non-null   float64\n",
      " 2   mb_used                2293 non-null   float64\n",
      " 3   duration               2293 non-null   float64\n",
      " 4   messages_count         2293 non-null   float64\n",
      " 5   first_name             2303 non-null   object \n",
      " 6   last_name              2303 non-null   object \n",
      " 7   age                    2303 non-null   int64  \n",
      " 8   city                   2303 non-null   object \n",
      " 9   reg_date               2303 non-null   object \n",
      " 10  plan                   2303 non-null   object \n",
      " 11  churn_date             160 non-null    object \n",
      " 12  messages_included      2303 non-null   int64  \n",
      " 13  mb_per_month_included  2303 non-null   int64  \n",
      " 14  minutes_included       2303 non-null   int64  \n",
      " 15  usd_monthly_pay        2303 non-null   int64  \n",
      " 16  usd_per_gb             2303 non-null   int64  \n",
      " 17  usd_per_message        2303 non-null   float64\n",
      " 18  usd_per_minute         2303 non-null   float64\n",
      " 19  plan_name              2303 non-null   object \n",
      "dtypes: float64(6), int64(7), object(7)\n",
      "memory usage: 377.8+ KB\n"
     ]
    }
   ],
   "source": [
    "all_data.info()"
   ]
  },
  {
   "cell_type": "code",
   "execution_count": 38,
   "metadata": {},
   "outputs": [
    {
     "data": {
      "text/html": [
       "<div>\n",
       "<style scoped>\n",
       "    .dataframe tbody tr th:only-of-type {\n",
       "        vertical-align: middle;\n",
       "    }\n",
       "\n",
       "    .dataframe tbody tr th {\n",
       "        vertical-align: top;\n",
       "    }\n",
       "\n",
       "    .dataframe thead th {\n",
       "        text-align: right;\n",
       "    }\n",
       "</style>\n",
       "<table border=\"1\" class=\"dataframe\">\n",
       "  <thead>\n",
       "    <tr style=\"text-align: right;\">\n",
       "      <th></th>\n",
       "      <th>user_id</th>\n",
       "      <th>month</th>\n",
       "      <th>mb_used</th>\n",
       "      <th>duration</th>\n",
       "      <th>messages_count</th>\n",
       "      <th>first_name</th>\n",
       "      <th>last_name</th>\n",
       "      <th>age</th>\n",
       "      <th>city</th>\n",
       "      <th>reg_date</th>\n",
       "      <th>...</th>\n",
       "      <th>mb_per_month_included</th>\n",
       "      <th>minutes_included</th>\n",
       "      <th>usd_monthly_pay</th>\n",
       "      <th>usd_per_gb</th>\n",
       "      <th>usd_per_message</th>\n",
       "      <th>usd_per_minute</th>\n",
       "      <th>plan_name</th>\n",
       "      <th>users_monthly_calls</th>\n",
       "      <th>users_monthly_messages</th>\n",
       "      <th>users_monthly_internet</th>\n",
       "    </tr>\n",
       "  </thead>\n",
       "  <tbody>\n",
       "    <tr>\n",
       "      <th>0</th>\n",
       "      <td>1000</td>\n",
       "      <td>12.0</td>\n",
       "      <td>1901.47</td>\n",
       "      <td>124.0</td>\n",
       "      <td>11.0</td>\n",
       "      <td>Anamaria</td>\n",
       "      <td>Bauer</td>\n",
       "      <td>45</td>\n",
       "      <td>Atlanta-Sandy Springs-Roswell, GA MSA</td>\n",
       "      <td>2018-12-24</td>\n",
       "      <td>...</td>\n",
       "      <td>30720</td>\n",
       "      <td>3000</td>\n",
       "      <td>70</td>\n",
       "      <td>7</td>\n",
       "      <td>0.01</td>\n",
       "      <td>0.01</td>\n",
       "      <td>ultimate</td>\n",
       "      <td>-2876.0</td>\n",
       "      <td>-989.0</td>\n",
       "      <td>-28818.53</td>\n",
       "    </tr>\n",
       "    <tr>\n",
       "      <th>1</th>\n",
       "      <td>1001</td>\n",
       "      <td>8.0</td>\n",
       "      <td>6919.15</td>\n",
       "      <td>187.0</td>\n",
       "      <td>30.0</td>\n",
       "      <td>Mickey</td>\n",
       "      <td>Wilkerson</td>\n",
       "      <td>28</td>\n",
       "      <td>Seattle-Tacoma-Bellevue, WA MSA</td>\n",
       "      <td>2018-08-13</td>\n",
       "      <td>...</td>\n",
       "      <td>15360</td>\n",
       "      <td>500</td>\n",
       "      <td>20</td>\n",
       "      <td>10</td>\n",
       "      <td>0.03</td>\n",
       "      <td>0.03</td>\n",
       "      <td>surf</td>\n",
       "      <td>-313.0</td>\n",
       "      <td>-20.0</td>\n",
       "      <td>-8440.85</td>\n",
       "    </tr>\n",
       "    <tr>\n",
       "      <th>2</th>\n",
       "      <td>1001</td>\n",
       "      <td>9.0</td>\n",
       "      <td>13314.82</td>\n",
       "      <td>326.0</td>\n",
       "      <td>44.0</td>\n",
       "      <td>Mickey</td>\n",
       "      <td>Wilkerson</td>\n",
       "      <td>28</td>\n",
       "      <td>Seattle-Tacoma-Bellevue, WA MSA</td>\n",
       "      <td>2018-08-13</td>\n",
       "      <td>...</td>\n",
       "      <td>15360</td>\n",
       "      <td>500</td>\n",
       "      <td>20</td>\n",
       "      <td>10</td>\n",
       "      <td>0.03</td>\n",
       "      <td>0.03</td>\n",
       "      <td>surf</td>\n",
       "      <td>-174.0</td>\n",
       "      <td>-6.0</td>\n",
       "      <td>-2045.18</td>\n",
       "    </tr>\n",
       "    <tr>\n",
       "      <th>3</th>\n",
       "      <td>1001</td>\n",
       "      <td>10.0</td>\n",
       "      <td>22330.49</td>\n",
       "      <td>411.0</td>\n",
       "      <td>53.0</td>\n",
       "      <td>Mickey</td>\n",
       "      <td>Wilkerson</td>\n",
       "      <td>28</td>\n",
       "      <td>Seattle-Tacoma-Bellevue, WA MSA</td>\n",
       "      <td>2018-08-13</td>\n",
       "      <td>...</td>\n",
       "      <td>15360</td>\n",
       "      <td>500</td>\n",
       "      <td>20</td>\n",
       "      <td>10</td>\n",
       "      <td>0.03</td>\n",
       "      <td>0.03</td>\n",
       "      <td>surf</td>\n",
       "      <td>-89.0</td>\n",
       "      <td>3.0</td>\n",
       "      <td>6970.49</td>\n",
       "    </tr>\n",
       "    <tr>\n",
       "      <th>4</th>\n",
       "      <td>1001</td>\n",
       "      <td>11.0</td>\n",
       "      <td>18504.30</td>\n",
       "      <td>441.0</td>\n",
       "      <td>36.0</td>\n",
       "      <td>Mickey</td>\n",
       "      <td>Wilkerson</td>\n",
       "      <td>28</td>\n",
       "      <td>Seattle-Tacoma-Bellevue, WA MSA</td>\n",
       "      <td>2018-08-13</td>\n",
       "      <td>...</td>\n",
       "      <td>15360</td>\n",
       "      <td>500</td>\n",
       "      <td>20</td>\n",
       "      <td>10</td>\n",
       "      <td>0.03</td>\n",
       "      <td>0.03</td>\n",
       "      <td>surf</td>\n",
       "      <td>-59.0</td>\n",
       "      <td>-14.0</td>\n",
       "      <td>3144.30</td>\n",
       "    </tr>\n",
       "  </tbody>\n",
       "</table>\n",
       "<p>5 rows × 23 columns</p>\n",
       "</div>"
      ],
      "text/plain": [
       "   user_id  month   mb_used  duration  messages_count first_name  last_name  \\\n",
       "0     1000   12.0   1901.47     124.0            11.0   Anamaria      Bauer   \n",
       "1     1001    8.0   6919.15     187.0            30.0     Mickey  Wilkerson   \n",
       "2     1001    9.0  13314.82     326.0            44.0     Mickey  Wilkerson   \n",
       "3     1001   10.0  22330.49     411.0            53.0     Mickey  Wilkerson   \n",
       "4     1001   11.0  18504.30     441.0            36.0     Mickey  Wilkerson   \n",
       "\n",
       "   age                                   city    reg_date  ...  \\\n",
       "0   45  Atlanta-Sandy Springs-Roswell, GA MSA  2018-12-24  ...   \n",
       "1   28        Seattle-Tacoma-Bellevue, WA MSA  2018-08-13  ...   \n",
       "2   28        Seattle-Tacoma-Bellevue, WA MSA  2018-08-13  ...   \n",
       "3   28        Seattle-Tacoma-Bellevue, WA MSA  2018-08-13  ...   \n",
       "4   28        Seattle-Tacoma-Bellevue, WA MSA  2018-08-13  ...   \n",
       "\n",
       "  mb_per_month_included minutes_included  usd_monthly_pay  usd_per_gb  \\\n",
       "0                 30720             3000               70           7   \n",
       "1                 15360              500               20          10   \n",
       "2                 15360              500               20          10   \n",
       "3                 15360              500               20          10   \n",
       "4                 15360              500               20          10   \n",
       "\n",
       "   usd_per_message  usd_per_minute  plan_name  users_monthly_calls  \\\n",
       "0             0.01            0.01   ultimate              -2876.0   \n",
       "1             0.03            0.03       surf               -313.0   \n",
       "2             0.03            0.03       surf               -174.0   \n",
       "3             0.03            0.03       surf                -89.0   \n",
       "4             0.03            0.03       surf                -59.0   \n",
       "\n",
       "   users_monthly_messages users_monthly_internet  \n",
       "0                  -989.0              -28818.53  \n",
       "1                   -20.0               -8440.85  \n",
       "2                    -6.0               -2045.18  \n",
       "3                     3.0                6970.49  \n",
       "4                   -14.0                3144.30  \n",
       "\n",
       "[5 rows x 23 columns]"
      ]
     },
     "execution_count": 38,
     "metadata": {},
     "output_type": "execute_result"
    }
   ],
   "source": [
    "all_data['users_monthly_calls'] = all_data['duration'] - all_data['minutes_included']\n",
    "all_data['users_monthly_messages'] = all_data['messages_count'] - all_data['messages_included']\n",
    "all_data['users_monthly_internet'] = all_data['mb_used'] - all_data['mb_per_month_included']\n",
    "all_data.head()"
   ]
  },
  {
   "cell_type": "code",
   "execution_count": 39,
   "metadata": {},
   "outputs": [
    {
     "data": {
      "text/html": [
       "<div>\n",
       "<style scoped>\n",
       "    .dataframe tbody tr th:only-of-type {\n",
       "        vertical-align: middle;\n",
       "    }\n",
       "\n",
       "    .dataframe tbody tr th {\n",
       "        vertical-align: top;\n",
       "    }\n",
       "\n",
       "    .dataframe thead th {\n",
       "        text-align: right;\n",
       "    }\n",
       "</style>\n",
       "<table border=\"1\" class=\"dataframe\">\n",
       "  <thead>\n",
       "    <tr style=\"text-align: right;\">\n",
       "      <th></th>\n",
       "      <th>user_id</th>\n",
       "      <th>month</th>\n",
       "      <th>mb_used</th>\n",
       "      <th>duration</th>\n",
       "      <th>messages_count</th>\n",
       "      <th>first_name</th>\n",
       "      <th>last_name</th>\n",
       "      <th>age</th>\n",
       "      <th>city</th>\n",
       "      <th>reg_date</th>\n",
       "      <th>...</th>\n",
       "      <th>mb_per_month_included</th>\n",
       "      <th>minutes_included</th>\n",
       "      <th>usd_monthly_pay</th>\n",
       "      <th>usd_per_gb</th>\n",
       "      <th>usd_per_message</th>\n",
       "      <th>usd_per_minute</th>\n",
       "      <th>plan_name</th>\n",
       "      <th>users_monthly_calls</th>\n",
       "      <th>users_monthly_messages</th>\n",
       "      <th>users_monthly_internet</th>\n",
       "    </tr>\n",
       "  </thead>\n",
       "  <tbody>\n",
       "    <tr>\n",
       "      <th>0</th>\n",
       "      <td>1000</td>\n",
       "      <td>12.0</td>\n",
       "      <td>1901.47</td>\n",
       "      <td>124.0</td>\n",
       "      <td>11.0</td>\n",
       "      <td>Anamaria</td>\n",
       "      <td>Bauer</td>\n",
       "      <td>45</td>\n",
       "      <td>Atlanta-Sandy Springs-Roswell, GA MSA</td>\n",
       "      <td>2018-12-24</td>\n",
       "      <td>...</td>\n",
       "      <td>30720</td>\n",
       "      <td>3000</td>\n",
       "      <td>70</td>\n",
       "      <td>7</td>\n",
       "      <td>0.01</td>\n",
       "      <td>0.01</td>\n",
       "      <td>ultimate</td>\n",
       "      <td>-2876.0</td>\n",
       "      <td>-989.0</td>\n",
       "      <td>-28.143096</td>\n",
       "    </tr>\n",
       "    <tr>\n",
       "      <th>1</th>\n",
       "      <td>1001</td>\n",
       "      <td>8.0</td>\n",
       "      <td>6919.15</td>\n",
       "      <td>187.0</td>\n",
       "      <td>30.0</td>\n",
       "      <td>Mickey</td>\n",
       "      <td>Wilkerson</td>\n",
       "      <td>28</td>\n",
       "      <td>Seattle-Tacoma-Bellevue, WA MSA</td>\n",
       "      <td>2018-08-13</td>\n",
       "      <td>...</td>\n",
       "      <td>15360</td>\n",
       "      <td>500</td>\n",
       "      <td>20</td>\n",
       "      <td>10</td>\n",
       "      <td>0.03</td>\n",
       "      <td>0.03</td>\n",
       "      <td>surf</td>\n",
       "      <td>-313.0</td>\n",
       "      <td>-20.0</td>\n",
       "      <td>-8.243018</td>\n",
       "    </tr>\n",
       "    <tr>\n",
       "      <th>2</th>\n",
       "      <td>1001</td>\n",
       "      <td>9.0</td>\n",
       "      <td>13314.82</td>\n",
       "      <td>326.0</td>\n",
       "      <td>44.0</td>\n",
       "      <td>Mickey</td>\n",
       "      <td>Wilkerson</td>\n",
       "      <td>28</td>\n",
       "      <td>Seattle-Tacoma-Bellevue, WA MSA</td>\n",
       "      <td>2018-08-13</td>\n",
       "      <td>...</td>\n",
       "      <td>15360</td>\n",
       "      <td>500</td>\n",
       "      <td>20</td>\n",
       "      <td>10</td>\n",
       "      <td>0.03</td>\n",
       "      <td>0.03</td>\n",
       "      <td>surf</td>\n",
       "      <td>-174.0</td>\n",
       "      <td>-6.0</td>\n",
       "      <td>-1.997246</td>\n",
       "    </tr>\n",
       "    <tr>\n",
       "      <th>3</th>\n",
       "      <td>1001</td>\n",
       "      <td>10.0</td>\n",
       "      <td>22330.49</td>\n",
       "      <td>411.0</td>\n",
       "      <td>53.0</td>\n",
       "      <td>Mickey</td>\n",
       "      <td>Wilkerson</td>\n",
       "      <td>28</td>\n",
       "      <td>Seattle-Tacoma-Bellevue, WA MSA</td>\n",
       "      <td>2018-08-13</td>\n",
       "      <td>...</td>\n",
       "      <td>15360</td>\n",
       "      <td>500</td>\n",
       "      <td>20</td>\n",
       "      <td>10</td>\n",
       "      <td>0.03</td>\n",
       "      <td>0.03</td>\n",
       "      <td>surf</td>\n",
       "      <td>-89.0</td>\n",
       "      <td>3.0</td>\n",
       "      <td>6.807119</td>\n",
       "    </tr>\n",
       "    <tr>\n",
       "      <th>4</th>\n",
       "      <td>1001</td>\n",
       "      <td>11.0</td>\n",
       "      <td>18504.30</td>\n",
       "      <td>441.0</td>\n",
       "      <td>36.0</td>\n",
       "      <td>Mickey</td>\n",
       "      <td>Wilkerson</td>\n",
       "      <td>28</td>\n",
       "      <td>Seattle-Tacoma-Bellevue, WA MSA</td>\n",
       "      <td>2018-08-13</td>\n",
       "      <td>...</td>\n",
       "      <td>15360</td>\n",
       "      <td>500</td>\n",
       "      <td>20</td>\n",
       "      <td>10</td>\n",
       "      <td>0.03</td>\n",
       "      <td>0.03</td>\n",
       "      <td>surf</td>\n",
       "      <td>-59.0</td>\n",
       "      <td>-14.0</td>\n",
       "      <td>3.070605</td>\n",
       "    </tr>\n",
       "  </tbody>\n",
       "</table>\n",
       "<p>5 rows × 23 columns</p>\n",
       "</div>"
      ],
      "text/plain": [
       "   user_id  month   mb_used  duration  messages_count first_name  last_name  \\\n",
       "0     1000   12.0   1901.47     124.0            11.0   Anamaria      Bauer   \n",
       "1     1001    8.0   6919.15     187.0            30.0     Mickey  Wilkerson   \n",
       "2     1001    9.0  13314.82     326.0            44.0     Mickey  Wilkerson   \n",
       "3     1001   10.0  22330.49     411.0            53.0     Mickey  Wilkerson   \n",
       "4     1001   11.0  18504.30     441.0            36.0     Mickey  Wilkerson   \n",
       "\n",
       "   age                                   city    reg_date  ...  \\\n",
       "0   45  Atlanta-Sandy Springs-Roswell, GA MSA  2018-12-24  ...   \n",
       "1   28        Seattle-Tacoma-Bellevue, WA MSA  2018-08-13  ...   \n",
       "2   28        Seattle-Tacoma-Bellevue, WA MSA  2018-08-13  ...   \n",
       "3   28        Seattle-Tacoma-Bellevue, WA MSA  2018-08-13  ...   \n",
       "4   28        Seattle-Tacoma-Bellevue, WA MSA  2018-08-13  ...   \n",
       "\n",
       "  mb_per_month_included minutes_included  usd_monthly_pay  usd_per_gb  \\\n",
       "0                 30720             3000               70           7   \n",
       "1                 15360              500               20          10   \n",
       "2                 15360              500               20          10   \n",
       "3                 15360              500               20          10   \n",
       "4                 15360              500               20          10   \n",
       "\n",
       "   usd_per_message  usd_per_minute  plan_name  users_monthly_calls  \\\n",
       "0             0.01            0.01   ultimate              -2876.0   \n",
       "1             0.03            0.03       surf               -313.0   \n",
       "2             0.03            0.03       surf               -174.0   \n",
       "3             0.03            0.03       surf                -89.0   \n",
       "4             0.03            0.03       surf                -59.0   \n",
       "\n",
       "   users_monthly_messages users_monthly_internet  \n",
       "0                  -989.0             -28.143096  \n",
       "1                   -20.0              -8.243018  \n",
       "2                    -6.0              -1.997246  \n",
       "3                     3.0               6.807119  \n",
       "4                   -14.0               3.070605  \n",
       "\n",
       "[5 rows x 23 columns]"
      ]
     },
     "execution_count": 39,
     "metadata": {},
     "output_type": "execute_result"
    }
   ],
   "source": [
    "#change from mb to gb\n",
    "all_data['users_monthly_internet'] = all_data['users_monthly_internet']/1024\n",
    "all_data.head()"
   ]
  },
  {
   "cell_type": "code",
   "execution_count": 40,
   "metadata": {},
   "outputs": [
    {
     "data": {
      "text/html": [
       "<div>\n",
       "<style scoped>\n",
       "    .dataframe tbody tr th:only-of-type {\n",
       "        vertical-align: middle;\n",
       "    }\n",
       "\n",
       "    .dataframe tbody tr th {\n",
       "        vertical-align: top;\n",
       "    }\n",
       "\n",
       "    .dataframe thead th {\n",
       "        text-align: right;\n",
       "    }\n",
       "</style>\n",
       "<table border=\"1\" class=\"dataframe\">\n",
       "  <thead>\n",
       "    <tr style=\"text-align: right;\">\n",
       "      <th></th>\n",
       "      <th>user_id</th>\n",
       "      <th>month</th>\n",
       "      <th>mb_used</th>\n",
       "      <th>duration</th>\n",
       "      <th>messages_count</th>\n",
       "      <th>first_name</th>\n",
       "      <th>last_name</th>\n",
       "      <th>age</th>\n",
       "      <th>city</th>\n",
       "      <th>reg_date</th>\n",
       "      <th>...</th>\n",
       "      <th>minutes_included</th>\n",
       "      <th>usd_monthly_pay</th>\n",
       "      <th>usd_per_gb</th>\n",
       "      <th>usd_per_message</th>\n",
       "      <th>usd_per_minute</th>\n",
       "      <th>plan_name</th>\n",
       "      <th>users_monthly_calls</th>\n",
       "      <th>users_monthly_messages</th>\n",
       "      <th>users_monthly_internet</th>\n",
       "      <th>gb_per_month_included</th>\n",
       "    </tr>\n",
       "  </thead>\n",
       "  <tbody>\n",
       "    <tr>\n",
       "      <th>0</th>\n",
       "      <td>1000</td>\n",
       "      <td>12.0</td>\n",
       "      <td>1901.47</td>\n",
       "      <td>124.0</td>\n",
       "      <td>11.0</td>\n",
       "      <td>Anamaria</td>\n",
       "      <td>Bauer</td>\n",
       "      <td>45</td>\n",
       "      <td>Atlanta-Sandy Springs-Roswell, GA MSA</td>\n",
       "      <td>2018-12-24</td>\n",
       "      <td>...</td>\n",
       "      <td>3000</td>\n",
       "      <td>70</td>\n",
       "      <td>7</td>\n",
       "      <td>0.01</td>\n",
       "      <td>0.01</td>\n",
       "      <td>ultimate</td>\n",
       "      <td>-2876.0</td>\n",
       "      <td>-989.0</td>\n",
       "      <td>-28.143096</td>\n",
       "      <td>30.0</td>\n",
       "    </tr>\n",
       "    <tr>\n",
       "      <th>1</th>\n",
       "      <td>1001</td>\n",
       "      <td>8.0</td>\n",
       "      <td>6919.15</td>\n",
       "      <td>187.0</td>\n",
       "      <td>30.0</td>\n",
       "      <td>Mickey</td>\n",
       "      <td>Wilkerson</td>\n",
       "      <td>28</td>\n",
       "      <td>Seattle-Tacoma-Bellevue, WA MSA</td>\n",
       "      <td>2018-08-13</td>\n",
       "      <td>...</td>\n",
       "      <td>500</td>\n",
       "      <td>20</td>\n",
       "      <td>10</td>\n",
       "      <td>0.03</td>\n",
       "      <td>0.03</td>\n",
       "      <td>surf</td>\n",
       "      <td>-313.0</td>\n",
       "      <td>-20.0</td>\n",
       "      <td>-8.243018</td>\n",
       "      <td>15.0</td>\n",
       "    </tr>\n",
       "    <tr>\n",
       "      <th>2</th>\n",
       "      <td>1001</td>\n",
       "      <td>9.0</td>\n",
       "      <td>13314.82</td>\n",
       "      <td>326.0</td>\n",
       "      <td>44.0</td>\n",
       "      <td>Mickey</td>\n",
       "      <td>Wilkerson</td>\n",
       "      <td>28</td>\n",
       "      <td>Seattle-Tacoma-Bellevue, WA MSA</td>\n",
       "      <td>2018-08-13</td>\n",
       "      <td>...</td>\n",
       "      <td>500</td>\n",
       "      <td>20</td>\n",
       "      <td>10</td>\n",
       "      <td>0.03</td>\n",
       "      <td>0.03</td>\n",
       "      <td>surf</td>\n",
       "      <td>-174.0</td>\n",
       "      <td>-6.0</td>\n",
       "      <td>-1.997246</td>\n",
       "      <td>15.0</td>\n",
       "    </tr>\n",
       "    <tr>\n",
       "      <th>3</th>\n",
       "      <td>1001</td>\n",
       "      <td>10.0</td>\n",
       "      <td>22330.49</td>\n",
       "      <td>411.0</td>\n",
       "      <td>53.0</td>\n",
       "      <td>Mickey</td>\n",
       "      <td>Wilkerson</td>\n",
       "      <td>28</td>\n",
       "      <td>Seattle-Tacoma-Bellevue, WA MSA</td>\n",
       "      <td>2018-08-13</td>\n",
       "      <td>...</td>\n",
       "      <td>500</td>\n",
       "      <td>20</td>\n",
       "      <td>10</td>\n",
       "      <td>0.03</td>\n",
       "      <td>0.03</td>\n",
       "      <td>surf</td>\n",
       "      <td>-89.0</td>\n",
       "      <td>3.0</td>\n",
       "      <td>6.807119</td>\n",
       "      <td>15.0</td>\n",
       "    </tr>\n",
       "    <tr>\n",
       "      <th>4</th>\n",
       "      <td>1001</td>\n",
       "      <td>11.0</td>\n",
       "      <td>18504.30</td>\n",
       "      <td>441.0</td>\n",
       "      <td>36.0</td>\n",
       "      <td>Mickey</td>\n",
       "      <td>Wilkerson</td>\n",
       "      <td>28</td>\n",
       "      <td>Seattle-Tacoma-Bellevue, WA MSA</td>\n",
       "      <td>2018-08-13</td>\n",
       "      <td>...</td>\n",
       "      <td>500</td>\n",
       "      <td>20</td>\n",
       "      <td>10</td>\n",
       "      <td>0.03</td>\n",
       "      <td>0.03</td>\n",
       "      <td>surf</td>\n",
       "      <td>-59.0</td>\n",
       "      <td>-14.0</td>\n",
       "      <td>3.070605</td>\n",
       "      <td>15.0</td>\n",
       "    </tr>\n",
       "  </tbody>\n",
       "</table>\n",
       "<p>5 rows × 24 columns</p>\n",
       "</div>"
      ],
      "text/plain": [
       "   user_id  month   mb_used  duration  messages_count first_name  last_name  \\\n",
       "0     1000   12.0   1901.47     124.0            11.0   Anamaria      Bauer   \n",
       "1     1001    8.0   6919.15     187.0            30.0     Mickey  Wilkerson   \n",
       "2     1001    9.0  13314.82     326.0            44.0     Mickey  Wilkerson   \n",
       "3     1001   10.0  22330.49     411.0            53.0     Mickey  Wilkerson   \n",
       "4     1001   11.0  18504.30     441.0            36.0     Mickey  Wilkerson   \n",
       "\n",
       "   age                                   city    reg_date  ...  \\\n",
       "0   45  Atlanta-Sandy Springs-Roswell, GA MSA  2018-12-24  ...   \n",
       "1   28        Seattle-Tacoma-Bellevue, WA MSA  2018-08-13  ...   \n",
       "2   28        Seattle-Tacoma-Bellevue, WA MSA  2018-08-13  ...   \n",
       "3   28        Seattle-Tacoma-Bellevue, WA MSA  2018-08-13  ...   \n",
       "4   28        Seattle-Tacoma-Bellevue, WA MSA  2018-08-13  ...   \n",
       "\n",
       "  minutes_included usd_monthly_pay  usd_per_gb  usd_per_message  \\\n",
       "0             3000              70           7             0.01   \n",
       "1              500              20          10             0.03   \n",
       "2              500              20          10             0.03   \n",
       "3              500              20          10             0.03   \n",
       "4              500              20          10             0.03   \n",
       "\n",
       "   usd_per_minute  plan_name  users_monthly_calls  users_monthly_messages  \\\n",
       "0            0.01   ultimate              -2876.0                  -989.0   \n",
       "1            0.03       surf               -313.0                   -20.0   \n",
       "2            0.03       surf               -174.0                    -6.0   \n",
       "3            0.03       surf                -89.0                     3.0   \n",
       "4            0.03       surf                -59.0                   -14.0   \n",
       "\n",
       "   users_monthly_internet gb_per_month_included  \n",
       "0              -28.143096                  30.0  \n",
       "1               -8.243018                  15.0  \n",
       "2               -1.997246                  15.0  \n",
       "3                6.807119                  15.0  \n",
       "4                3.070605                  15.0  \n",
       "\n",
       "[5 rows x 24 columns]"
      ]
     },
     "execution_count": 40,
     "metadata": {},
     "output_type": "execute_result"
    }
   ],
   "source": [
    "#change from mb to gb\n",
    "all_data['gb_per_month_included'] = all_data['mb_per_month_included']/1024\n",
    "all_data.head()"
   ]
  },
  {
   "cell_type": "code",
   "execution_count": 41,
   "metadata": {},
   "outputs": [
    {
     "data": {
      "text/html": [
       "<div>\n",
       "<style scoped>\n",
       "    .dataframe tbody tr th:only-of-type {\n",
       "        vertical-align: middle;\n",
       "    }\n",
       "\n",
       "    .dataframe tbody tr th {\n",
       "        vertical-align: top;\n",
       "    }\n",
       "\n",
       "    .dataframe thead th {\n",
       "        text-align: right;\n",
       "    }\n",
       "</style>\n",
       "<table border=\"1\" class=\"dataframe\">\n",
       "  <thead>\n",
       "    <tr style=\"text-align: right;\">\n",
       "      <th></th>\n",
       "      <th>user_id</th>\n",
       "      <th>month</th>\n",
       "      <th>mb_used</th>\n",
       "      <th>duration</th>\n",
       "      <th>messages_count</th>\n",
       "      <th>first_name</th>\n",
       "      <th>last_name</th>\n",
       "      <th>age</th>\n",
       "      <th>city</th>\n",
       "      <th>reg_date</th>\n",
       "      <th>...</th>\n",
       "      <th>minutes_included</th>\n",
       "      <th>usd_monthly_pay</th>\n",
       "      <th>usd_per_gb</th>\n",
       "      <th>usd_per_message</th>\n",
       "      <th>usd_per_minute</th>\n",
       "      <th>plan_name</th>\n",
       "      <th>users_monthly_calls</th>\n",
       "      <th>users_monthly_messages</th>\n",
       "      <th>users_monthly_internet</th>\n",
       "      <th>gb_per_month_included</th>\n",
       "    </tr>\n",
       "  </thead>\n",
       "  <tbody>\n",
       "    <tr>\n",
       "      <th>2193</th>\n",
       "      <td>1478</td>\n",
       "      <td>8.0</td>\n",
       "      <td>12170.58</td>\n",
       "      <td>227.0</td>\n",
       "      <td>5.0</td>\n",
       "      <td>Elane</td>\n",
       "      <td>David</td>\n",
       "      <td>51</td>\n",
       "      <td>Portland-Vancouver-Hillsboro, OR-WA MSA</td>\n",
       "      <td>2018-06-28</td>\n",
       "      <td>...</td>\n",
       "      <td>3000</td>\n",
       "      <td>70</td>\n",
       "      <td>7</td>\n",
       "      <td>0.01</td>\n",
       "      <td>0.01</td>\n",
       "      <td>ultimate</td>\n",
       "      <td>-2773.0</td>\n",
       "      <td>-995.0</td>\n",
       "      <td>-18.114668</td>\n",
       "      <td>30.0</td>\n",
       "    </tr>\n",
       "    <tr>\n",
       "      <th>901</th>\n",
       "      <td>1187</td>\n",
       "      <td>10.0</td>\n",
       "      <td>16974.86</td>\n",
       "      <td>729.0</td>\n",
       "      <td>11.0</td>\n",
       "      <td>Tanner</td>\n",
       "      <td>Goodman</td>\n",
       "      <td>49</td>\n",
       "      <td>Austin-Round Rock-Georgetown, TX MSA</td>\n",
       "      <td>2018-02-20</td>\n",
       "      <td>...</td>\n",
       "      <td>500</td>\n",
       "      <td>20</td>\n",
       "      <td>10</td>\n",
       "      <td>0.03</td>\n",
       "      <td>0.03</td>\n",
       "      <td>surf</td>\n",
       "      <td>229.0</td>\n",
       "      <td>-39.0</td>\n",
       "      <td>1.577012</td>\n",
       "      <td>15.0</td>\n",
       "    </tr>\n",
       "    <tr>\n",
       "      <th>365</th>\n",
       "      <td>1077</td>\n",
       "      <td>5.0</td>\n",
       "      <td>23068.75</td>\n",
       "      <td>670.0</td>\n",
       "      <td>77.0</td>\n",
       "      <td>Chau</td>\n",
       "      <td>Webster</td>\n",
       "      <td>23</td>\n",
       "      <td>Charlotte-Concord-Gastonia, NC-SC MSA</td>\n",
       "      <td>2018-01-14</td>\n",
       "      <td>...</td>\n",
       "      <td>3000</td>\n",
       "      <td>70</td>\n",
       "      <td>7</td>\n",
       "      <td>0.01</td>\n",
       "      <td>0.01</td>\n",
       "      <td>ultimate</td>\n",
       "      <td>-2330.0</td>\n",
       "      <td>-923.0</td>\n",
       "      <td>-7.471924</td>\n",
       "      <td>30.0</td>\n",
       "    </tr>\n",
       "    <tr>\n",
       "      <th>1149</th>\n",
       "      <td>1245</td>\n",
       "      <td>11.0</td>\n",
       "      <td>12283.49</td>\n",
       "      <td>189.0</td>\n",
       "      <td>15.0</td>\n",
       "      <td>Quinn</td>\n",
       "      <td>David</td>\n",
       "      <td>30</td>\n",
       "      <td>New York-Newark-Jersey City, NY-NJ-PA MSA</td>\n",
       "      <td>2018-06-19</td>\n",
       "      <td>...</td>\n",
       "      <td>500</td>\n",
       "      <td>20</td>\n",
       "      <td>10</td>\n",
       "      <td>0.03</td>\n",
       "      <td>0.03</td>\n",
       "      <td>surf</td>\n",
       "      <td>-311.0</td>\n",
       "      <td>-35.0</td>\n",
       "      <td>-3.004404</td>\n",
       "      <td>15.0</td>\n",
       "    </tr>\n",
       "    <tr>\n",
       "      <th>1754</th>\n",
       "      <td>1377</td>\n",
       "      <td>12.0</td>\n",
       "      <td>23570.07</td>\n",
       "      <td>380.0</td>\n",
       "      <td>1.0</td>\n",
       "      <td>Vallie</td>\n",
       "      <td>Conway</td>\n",
       "      <td>18</td>\n",
       "      <td>Rochester, NY MSA</td>\n",
       "      <td>2018-03-27</td>\n",
       "      <td>...</td>\n",
       "      <td>500</td>\n",
       "      <td>20</td>\n",
       "      <td>10</td>\n",
       "      <td>0.03</td>\n",
       "      <td>0.03</td>\n",
       "      <td>surf</td>\n",
       "      <td>-120.0</td>\n",
       "      <td>-49.0</td>\n",
       "      <td>8.017646</td>\n",
       "      <td>15.0</td>\n",
       "    </tr>\n",
       "  </tbody>\n",
       "</table>\n",
       "<p>5 rows × 24 columns</p>\n",
       "</div>"
      ],
      "text/plain": [
       "      user_id  month   mb_used  duration  messages_count first_name last_name  \\\n",
       "2193     1478    8.0  12170.58     227.0             5.0      Elane     David   \n",
       "901      1187   10.0  16974.86     729.0            11.0     Tanner   Goodman   \n",
       "365      1077    5.0  23068.75     670.0            77.0       Chau   Webster   \n",
       "1149     1245   11.0  12283.49     189.0            15.0      Quinn     David   \n",
       "1754     1377   12.0  23570.07     380.0             1.0     Vallie    Conway   \n",
       "\n",
       "      age                                       city    reg_date  ...  \\\n",
       "2193   51    Portland-Vancouver-Hillsboro, OR-WA MSA  2018-06-28  ...   \n",
       "901    49       Austin-Round Rock-Georgetown, TX MSA  2018-02-20  ...   \n",
       "365    23      Charlotte-Concord-Gastonia, NC-SC MSA  2018-01-14  ...   \n",
       "1149   30  New York-Newark-Jersey City, NY-NJ-PA MSA  2018-06-19  ...   \n",
       "1754   18                          Rochester, NY MSA  2018-03-27  ...   \n",
       "\n",
       "     minutes_included usd_monthly_pay  usd_per_gb  usd_per_message  \\\n",
       "2193             3000              70           7             0.01   \n",
       "901               500              20          10             0.03   \n",
       "365              3000              70           7             0.01   \n",
       "1149              500              20          10             0.03   \n",
       "1754              500              20          10             0.03   \n",
       "\n",
       "      usd_per_minute  plan_name  users_monthly_calls  users_monthly_messages  \\\n",
       "2193            0.01   ultimate              -2773.0                  -995.0   \n",
       "901             0.03       surf                229.0                   -39.0   \n",
       "365             0.01   ultimate              -2330.0                  -923.0   \n",
       "1149            0.03       surf               -311.0                   -35.0   \n",
       "1754            0.03       surf               -120.0                   -49.0   \n",
       "\n",
       "      users_monthly_internet gb_per_month_included  \n",
       "2193              -18.114668                  30.0  \n",
       "901                 1.577012                  15.0  \n",
       "365                -7.471924                  30.0  \n",
       "1149               -3.004404                  15.0  \n",
       "1754                8.017646                  15.0  \n",
       "\n",
       "[5 rows x 24 columns]"
      ]
     },
     "execution_count": 41,
     "metadata": {},
     "output_type": "execute_result"
    }
   ],
   "source": [
    "all_data.sample(5)"
   ]
  },
  {
   "cell_type": "code",
   "execution_count": 74,
   "metadata": {},
   "outputs": [],
   "source": [
    "def revenue(row):\n",
    "    calls = row['users_monthly_calls']\n",
    "    messages = row['users_monthly_messages']\n",
    "    internet = row['users_monthly_internet']\n",
    "    \n",
    "    if calls > 0:\n",
    "        calls_cost = calls*row['usd_per_minute']\n",
    "    else:\n",
    "        calls_cost =  row['usd_monthly_pay']   \n",
    "    \n",
    "    if messages>0:\n",
    "        messages_cost = messages*row['usd_per_message']\n",
    "    else:\n",
    "        messages_cost=row['usd_monthly_pay']\n",
    "        \n",
    "    if internet>0:\n",
    "        internet_cost=internet*row['usd_per_gb']\n",
    "    else:\n",
    "        internet_cost = row['usd_monthly_pay']\n",
    "        \n",
    "    monthly_revenue=calls_cost+messages_cost+internet_cost\n",
    "    return monthly_revenue        "
   ]
  },
  {
   "cell_type": "code",
   "execution_count": 75,
   "metadata": {
    "scrolled": true
   },
   "outputs": [
    {
     "data": {
      "text/html": [
       "<div>\n",
       "<style scoped>\n",
       "    .dataframe tbody tr th:only-of-type {\n",
       "        vertical-align: middle;\n",
       "    }\n",
       "\n",
       "    .dataframe tbody tr th {\n",
       "        vertical-align: top;\n",
       "    }\n",
       "\n",
       "    .dataframe thead th {\n",
       "        text-align: right;\n",
       "    }\n",
       "</style>\n",
       "<table border=\"1\" class=\"dataframe\">\n",
       "  <thead>\n",
       "    <tr style=\"text-align: right;\">\n",
       "      <th></th>\n",
       "      <th>user_id</th>\n",
       "      <th>month</th>\n",
       "      <th>mb_used</th>\n",
       "      <th>duration</th>\n",
       "      <th>messages_count</th>\n",
       "      <th>first_name</th>\n",
       "      <th>last_name</th>\n",
       "      <th>age</th>\n",
       "      <th>city</th>\n",
       "      <th>reg_date</th>\n",
       "      <th>...</th>\n",
       "      <th>usd_monthly_pay</th>\n",
       "      <th>usd_per_gb</th>\n",
       "      <th>usd_per_message</th>\n",
       "      <th>usd_per_minute</th>\n",
       "      <th>plan_name</th>\n",
       "      <th>users_monthly_calls</th>\n",
       "      <th>users_monthly_messages</th>\n",
       "      <th>users_monthly_internet</th>\n",
       "      <th>gb_per_month_included</th>\n",
       "      <th>monthly_revenue</th>\n",
       "    </tr>\n",
       "  </thead>\n",
       "  <tbody>\n",
       "    <tr>\n",
       "      <th>0</th>\n",
       "      <td>1000</td>\n",
       "      <td>12.0</td>\n",
       "      <td>1901.47</td>\n",
       "      <td>9.0</td>\n",
       "      <td>11.0</td>\n",
       "      <td>Anamaria</td>\n",
       "      <td>Bauer</td>\n",
       "      <td>45</td>\n",
       "      <td>Atlanta-Sandy Springs-Roswell, GA MSA</td>\n",
       "      <td>2018-12-24</td>\n",
       "      <td>...</td>\n",
       "      <td>70</td>\n",
       "      <td>7</td>\n",
       "      <td>0.01</td>\n",
       "      <td>0.01</td>\n",
       "      <td>ultimate</td>\n",
       "      <td>-2876.0</td>\n",
       "      <td>-989.0</td>\n",
       "      <td>-28.0</td>\n",
       "      <td>30.0</td>\n",
       "      <td>210.00</td>\n",
       "    </tr>\n",
       "    <tr>\n",
       "      <th>1</th>\n",
       "      <td>1001</td>\n",
       "      <td>8.0</td>\n",
       "      <td>6919.15</td>\n",
       "      <td>14.0</td>\n",
       "      <td>30.0</td>\n",
       "      <td>Mickey</td>\n",
       "      <td>Wilkerson</td>\n",
       "      <td>28</td>\n",
       "      <td>Seattle-Tacoma-Bellevue, WA MSA</td>\n",
       "      <td>2018-08-13</td>\n",
       "      <td>...</td>\n",
       "      <td>20</td>\n",
       "      <td>10</td>\n",
       "      <td>0.03</td>\n",
       "      <td>0.03</td>\n",
       "      <td>surf</td>\n",
       "      <td>-313.0</td>\n",
       "      <td>-20.0</td>\n",
       "      <td>-8.0</td>\n",
       "      <td>15.0</td>\n",
       "      <td>60.00</td>\n",
       "    </tr>\n",
       "    <tr>\n",
       "      <th>2</th>\n",
       "      <td>1001</td>\n",
       "      <td>9.0</td>\n",
       "      <td>13314.82</td>\n",
       "      <td>15.0</td>\n",
       "      <td>44.0</td>\n",
       "      <td>Mickey</td>\n",
       "      <td>Wilkerson</td>\n",
       "      <td>28</td>\n",
       "      <td>Seattle-Tacoma-Bellevue, WA MSA</td>\n",
       "      <td>2018-08-13</td>\n",
       "      <td>...</td>\n",
       "      <td>20</td>\n",
       "      <td>10</td>\n",
       "      <td>0.03</td>\n",
       "      <td>0.03</td>\n",
       "      <td>surf</td>\n",
       "      <td>-174.0</td>\n",
       "      <td>-6.0</td>\n",
       "      <td>-1.0</td>\n",
       "      <td>15.0</td>\n",
       "      <td>60.00</td>\n",
       "    </tr>\n",
       "    <tr>\n",
       "      <th>3</th>\n",
       "      <td>1001</td>\n",
       "      <td>10.0</td>\n",
       "      <td>22330.49</td>\n",
       "      <td>6.0</td>\n",
       "      <td>53.0</td>\n",
       "      <td>Mickey</td>\n",
       "      <td>Wilkerson</td>\n",
       "      <td>28</td>\n",
       "      <td>Seattle-Tacoma-Bellevue, WA MSA</td>\n",
       "      <td>2018-08-13</td>\n",
       "      <td>...</td>\n",
       "      <td>20</td>\n",
       "      <td>10</td>\n",
       "      <td>0.03</td>\n",
       "      <td>0.03</td>\n",
       "      <td>surf</td>\n",
       "      <td>-89.0</td>\n",
       "      <td>3.0</td>\n",
       "      <td>7.0</td>\n",
       "      <td>15.0</td>\n",
       "      <td>90.09</td>\n",
       "    </tr>\n",
       "    <tr>\n",
       "      <th>4</th>\n",
       "      <td>1001</td>\n",
       "      <td>11.0</td>\n",
       "      <td>18504.30</td>\n",
       "      <td>5.0</td>\n",
       "      <td>36.0</td>\n",
       "      <td>Mickey</td>\n",
       "      <td>Wilkerson</td>\n",
       "      <td>28</td>\n",
       "      <td>Seattle-Tacoma-Bellevue, WA MSA</td>\n",
       "      <td>2018-08-13</td>\n",
       "      <td>...</td>\n",
       "      <td>20</td>\n",
       "      <td>10</td>\n",
       "      <td>0.03</td>\n",
       "      <td>0.03</td>\n",
       "      <td>surf</td>\n",
       "      <td>-59.0</td>\n",
       "      <td>-14.0</td>\n",
       "      <td>4.0</td>\n",
       "      <td>15.0</td>\n",
       "      <td>80.00</td>\n",
       "    </tr>\n",
       "  </tbody>\n",
       "</table>\n",
       "<p>5 rows × 25 columns</p>\n",
       "</div>"
      ],
      "text/plain": [
       "   user_id  month   mb_used  duration  messages_count first_name  last_name  \\\n",
       "0     1000   12.0   1901.47       9.0            11.0   Anamaria      Bauer   \n",
       "1     1001    8.0   6919.15      14.0            30.0     Mickey  Wilkerson   \n",
       "2     1001    9.0  13314.82      15.0            44.0     Mickey  Wilkerson   \n",
       "3     1001   10.0  22330.49       6.0            53.0     Mickey  Wilkerson   \n",
       "4     1001   11.0  18504.30       5.0            36.0     Mickey  Wilkerson   \n",
       "\n",
       "   age                                   city    reg_date  ...  \\\n",
       "0   45  Atlanta-Sandy Springs-Roswell, GA MSA  2018-12-24  ...   \n",
       "1   28        Seattle-Tacoma-Bellevue, WA MSA  2018-08-13  ...   \n",
       "2   28        Seattle-Tacoma-Bellevue, WA MSA  2018-08-13  ...   \n",
       "3   28        Seattle-Tacoma-Bellevue, WA MSA  2018-08-13  ...   \n",
       "4   28        Seattle-Tacoma-Bellevue, WA MSA  2018-08-13  ...   \n",
       "\n",
       "  usd_monthly_pay usd_per_gb  usd_per_message  usd_per_minute  plan_name  \\\n",
       "0              70          7             0.01            0.01   ultimate   \n",
       "1              20         10             0.03            0.03       surf   \n",
       "2              20         10             0.03            0.03       surf   \n",
       "3              20         10             0.03            0.03       surf   \n",
       "4              20         10             0.03            0.03       surf   \n",
       "\n",
       "   users_monthly_calls  users_monthly_messages  users_monthly_internet  \\\n",
       "0              -2876.0                  -989.0                   -28.0   \n",
       "1               -313.0                   -20.0                    -8.0   \n",
       "2               -174.0                    -6.0                    -1.0   \n",
       "3                -89.0                     3.0                     7.0   \n",
       "4                -59.0                   -14.0                     4.0   \n",
       "\n",
       "   gb_per_month_included monthly_revenue  \n",
       "0                   30.0          210.00  \n",
       "1                   15.0           60.00  \n",
       "2                   15.0           60.00  \n",
       "3                   15.0           90.09  \n",
       "4                   15.0           80.00  \n",
       "\n",
       "[5 rows x 25 columns]"
      ]
     },
     "execution_count": 75,
     "metadata": {},
     "output_type": "execute_result"
    }
   ],
   "source": [
    "all_data['monthly_revenue']=all_data.apply(revenue,axis=1)\n",
    "all_data.head()"
   ]
  },
  {
   "cell_type": "code",
   "execution_count": 44,
   "metadata": {},
   "outputs": [
    {
     "data": {
      "text/plain": [
       "0"
      ]
     },
     "execution_count": 44,
     "metadata": {},
     "output_type": "execute_result"
    }
   ],
   "source": [
    "all_data.duplicated().sum()"
   ]
  },
  {
   "cell_type": "code",
   "execution_count": 45,
   "metadata": {},
   "outputs": [
    {
     "data": {
      "text/html": [
       "<div>\n",
       "<style scoped>\n",
       "    .dataframe tbody tr th:only-of-type {\n",
       "        vertical-align: middle;\n",
       "    }\n",
       "\n",
       "    .dataframe tbody tr th {\n",
       "        vertical-align: top;\n",
       "    }\n",
       "\n",
       "    .dataframe thead th {\n",
       "        text-align: right;\n",
       "    }\n",
       "</style>\n",
       "<table border=\"1\" class=\"dataframe\">\n",
       "  <thead>\n",
       "    <tr style=\"text-align: right;\">\n",
       "      <th></th>\n",
       "      <th>user_id</th>\n",
       "      <th>month</th>\n",
       "      <th>mb_used</th>\n",
       "      <th>duration</th>\n",
       "      <th>messages_count</th>\n",
       "      <th>first_name</th>\n",
       "      <th>last_name</th>\n",
       "      <th>age</th>\n",
       "      <th>city</th>\n",
       "      <th>reg_date</th>\n",
       "      <th>...</th>\n",
       "      <th>usd_monthly_pay</th>\n",
       "      <th>usd_per_gb</th>\n",
       "      <th>usd_per_message</th>\n",
       "      <th>usd_per_minute</th>\n",
       "      <th>plan_name</th>\n",
       "      <th>users_monthly_calls</th>\n",
       "      <th>users_monthly_messages</th>\n",
       "      <th>users_monthly_internet</th>\n",
       "      <th>gb_per_month_included</th>\n",
       "      <th>monthly_revenue</th>\n",
       "    </tr>\n",
       "  </thead>\n",
       "  <tbody>\n",
       "    <tr>\n",
       "      <th>1683</th>\n",
       "      <td>1362</td>\n",
       "      <td>8.0</td>\n",
       "      <td>14741.83</td>\n",
       "      <td>690.0</td>\n",
       "      <td>71.0</td>\n",
       "      <td>Kenyetta</td>\n",
       "      <td>Mcknight</td>\n",
       "      <td>65</td>\n",
       "      <td>Denver-Aurora-Lakewood, CO MSA</td>\n",
       "      <td>2018-01-18</td>\n",
       "      <td>...</td>\n",
       "      <td>20</td>\n",
       "      <td>10</td>\n",
       "      <td>0.03</td>\n",
       "      <td>0.03</td>\n",
       "      <td>surf</td>\n",
       "      <td>190.0</td>\n",
       "      <td>21.0</td>\n",
       "      <td>-0.603682</td>\n",
       "      <td>15.0</td>\n",
       "      <td>26.330000</td>\n",
       "    </tr>\n",
       "    <tr>\n",
       "      <th>573</th>\n",
       "      <td>1122</td>\n",
       "      <td>7.0</td>\n",
       "      <td>16299.25</td>\n",
       "      <td>371.0</td>\n",
       "      <td>19.0</td>\n",
       "      <td>Lashay</td>\n",
       "      <td>Reese</td>\n",
       "      <td>57</td>\n",
       "      <td>Miami-Fort Lauderdale-West Palm Beach, FL MSA</td>\n",
       "      <td>2018-03-04</td>\n",
       "      <td>...</td>\n",
       "      <td>20</td>\n",
       "      <td>10</td>\n",
       "      <td>0.03</td>\n",
       "      <td>0.03</td>\n",
       "      <td>surf</td>\n",
       "      <td>-129.0</td>\n",
       "      <td>-31.0</td>\n",
       "      <td>0.917236</td>\n",
       "      <td>15.0</td>\n",
       "      <td>49.172363</td>\n",
       "    </tr>\n",
       "    <tr>\n",
       "      <th>2245</th>\n",
       "      <td>1492</td>\n",
       "      <td>9.0</td>\n",
       "      <td>3173.95</td>\n",
       "      <td>39.0</td>\n",
       "      <td>11.0</td>\n",
       "      <td>Elvie</td>\n",
       "      <td>Jones</td>\n",
       "      <td>63</td>\n",
       "      <td>Portland-Vancouver-Hillsboro, OR-WA MSA</td>\n",
       "      <td>2018-03-07</td>\n",
       "      <td>...</td>\n",
       "      <td>20</td>\n",
       "      <td>10</td>\n",
       "      <td>0.03</td>\n",
       "      <td>0.03</td>\n",
       "      <td>surf</td>\n",
       "      <td>-461.0</td>\n",
       "      <td>-39.0</td>\n",
       "      <td>-11.900439</td>\n",
       "      <td>15.0</td>\n",
       "      <td>60.000000</td>\n",
       "    </tr>\n",
       "    <tr>\n",
       "      <th>362</th>\n",
       "      <td>1077</td>\n",
       "      <td>2.0</td>\n",
       "      <td>19926.55</td>\n",
       "      <td>803.0</td>\n",
       "      <td>67.0</td>\n",
       "      <td>Chau</td>\n",
       "      <td>Webster</td>\n",
       "      <td>23</td>\n",
       "      <td>Charlotte-Concord-Gastonia, NC-SC MSA</td>\n",
       "      <td>2018-01-14</td>\n",
       "      <td>...</td>\n",
       "      <td>70</td>\n",
       "      <td>7</td>\n",
       "      <td>0.01</td>\n",
       "      <td>0.01</td>\n",
       "      <td>ultimate</td>\n",
       "      <td>-2197.0</td>\n",
       "      <td>-933.0</td>\n",
       "      <td>-10.540479</td>\n",
       "      <td>30.0</td>\n",
       "      <td>210.000000</td>\n",
       "    </tr>\n",
       "    <tr>\n",
       "      <th>253</th>\n",
       "      <td>1059</td>\n",
       "      <td>4.0</td>\n",
       "      <td>3672.48</td>\n",
       "      <td>224.0</td>\n",
       "      <td>20.0</td>\n",
       "      <td>Avril</td>\n",
       "      <td>Richardson</td>\n",
       "      <td>34</td>\n",
       "      <td>Chicago-Naperville-Elgin, IL-IN-WI MSA</td>\n",
       "      <td>2018-04-22</td>\n",
       "      <td>...</td>\n",
       "      <td>70</td>\n",
       "      <td>7</td>\n",
       "      <td>0.01</td>\n",
       "      <td>0.01</td>\n",
       "      <td>ultimate</td>\n",
       "      <td>-2776.0</td>\n",
       "      <td>-980.0</td>\n",
       "      <td>-26.413594</td>\n",
       "      <td>30.0</td>\n",
       "      <td>210.000000</td>\n",
       "    </tr>\n",
       "    <tr>\n",
       "      <th>1598</th>\n",
       "      <td>1346</td>\n",
       "      <td>11.0</td>\n",
       "      <td>19625.68</td>\n",
       "      <td>264.0</td>\n",
       "      <td>61.0</td>\n",
       "      <td>Emmie</td>\n",
       "      <td>Gonzalez</td>\n",
       "      <td>59</td>\n",
       "      <td>Tucson, AZ MSA</td>\n",
       "      <td>2018-04-26</td>\n",
       "      <td>...</td>\n",
       "      <td>70</td>\n",
       "      <td>7</td>\n",
       "      <td>0.01</td>\n",
       "      <td>0.01</td>\n",
       "      <td>ultimate</td>\n",
       "      <td>-2736.0</td>\n",
       "      <td>-939.0</td>\n",
       "      <td>-10.834297</td>\n",
       "      <td>30.0</td>\n",
       "      <td>210.000000</td>\n",
       "    </tr>\n",
       "    <tr>\n",
       "      <th>249</th>\n",
       "      <td>1057</td>\n",
       "      <td>11.0</td>\n",
       "      <td>35090.02</td>\n",
       "      <td>1062.0</td>\n",
       "      <td>111.0</td>\n",
       "      <td>Theo</td>\n",
       "      <td>Sargent</td>\n",
       "      <td>18</td>\n",
       "      <td>Atlanta-Sandy Springs-Roswell, GA MSA</td>\n",
       "      <td>2018-08-07</td>\n",
       "      <td>...</td>\n",
       "      <td>70</td>\n",
       "      <td>7</td>\n",
       "      <td>0.01</td>\n",
       "      <td>0.01</td>\n",
       "      <td>ultimate</td>\n",
       "      <td>-1938.0</td>\n",
       "      <td>-889.0</td>\n",
       "      <td>4.267598</td>\n",
       "      <td>30.0</td>\n",
       "      <td>169.873184</td>\n",
       "    </tr>\n",
       "    <tr>\n",
       "      <th>1331</th>\n",
       "      <td>1284</td>\n",
       "      <td>12.0</td>\n",
       "      <td>21317.66</td>\n",
       "      <td>982.0</td>\n",
       "      <td>0.0</td>\n",
       "      <td>Yuri</td>\n",
       "      <td>Odom</td>\n",
       "      <td>51</td>\n",
       "      <td>Dayton-Kettering, OH MSA</td>\n",
       "      <td>2018-09-07</td>\n",
       "      <td>...</td>\n",
       "      <td>20</td>\n",
       "      <td>10</td>\n",
       "      <td>0.03</td>\n",
       "      <td>0.03</td>\n",
       "      <td>surf</td>\n",
       "      <td>482.0</td>\n",
       "      <td>-50.0</td>\n",
       "      <td>5.818027</td>\n",
       "      <td>15.0</td>\n",
       "      <td>92.640273</td>\n",
       "    </tr>\n",
       "    <tr>\n",
       "      <th>1064</th>\n",
       "      <td>1223</td>\n",
       "      <td>9.0</td>\n",
       "      <td>20408.31</td>\n",
       "      <td>663.0</td>\n",
       "      <td>27.0</td>\n",
       "      <td>Patience</td>\n",
       "      <td>Wilson</td>\n",
       "      <td>37</td>\n",
       "      <td>Phoenix-Mesa-Chandler, AZ MSA</td>\n",
       "      <td>2018-07-05</td>\n",
       "      <td>...</td>\n",
       "      <td>20</td>\n",
       "      <td>10</td>\n",
       "      <td>0.03</td>\n",
       "      <td>0.03</td>\n",
       "      <td>surf</td>\n",
       "      <td>163.0</td>\n",
       "      <td>-23.0</td>\n",
       "      <td>4.929990</td>\n",
       "      <td>15.0</td>\n",
       "      <td>74.189902</td>\n",
       "    </tr>\n",
       "    <tr>\n",
       "      <th>2298</th>\n",
       "      <td>1307</td>\n",
       "      <td>NaN</td>\n",
       "      <td>NaN</td>\n",
       "      <td>NaN</td>\n",
       "      <td>NaN</td>\n",
       "      <td>Kristopher</td>\n",
       "      <td>Lang</td>\n",
       "      <td>28</td>\n",
       "      <td>Boston-Cambridge-Newton, MA-NH MSA</td>\n",
       "      <td>2018-12-31</td>\n",
       "      <td>...</td>\n",
       "      <td>20</td>\n",
       "      <td>10</td>\n",
       "      <td>0.03</td>\n",
       "      <td>0.03</td>\n",
       "      <td>surf</td>\n",
       "      <td>NaN</td>\n",
       "      <td>NaN</td>\n",
       "      <td>NaN</td>\n",
       "      <td>15.0</td>\n",
       "      <td>60.000000</td>\n",
       "    </tr>\n",
       "  </tbody>\n",
       "</table>\n",
       "<p>10 rows × 25 columns</p>\n",
       "</div>"
      ],
      "text/plain": [
       "      user_id  month   mb_used  duration  messages_count  first_name  \\\n",
       "1683     1362    8.0  14741.83     690.0            71.0    Kenyetta   \n",
       "573      1122    7.0  16299.25     371.0            19.0      Lashay   \n",
       "2245     1492    9.0   3173.95      39.0            11.0       Elvie   \n",
       "362      1077    2.0  19926.55     803.0            67.0        Chau   \n",
       "253      1059    4.0   3672.48     224.0            20.0       Avril   \n",
       "1598     1346   11.0  19625.68     264.0            61.0       Emmie   \n",
       "249      1057   11.0  35090.02    1062.0           111.0        Theo   \n",
       "1331     1284   12.0  21317.66     982.0             0.0        Yuri   \n",
       "1064     1223    9.0  20408.31     663.0            27.0    Patience   \n",
       "2298     1307    NaN       NaN       NaN             NaN  Kristopher   \n",
       "\n",
       "       last_name  age                                           city  \\\n",
       "1683    Mcknight   65                 Denver-Aurora-Lakewood, CO MSA   \n",
       "573        Reese   57  Miami-Fort Lauderdale-West Palm Beach, FL MSA   \n",
       "2245       Jones   63        Portland-Vancouver-Hillsboro, OR-WA MSA   \n",
       "362      Webster   23          Charlotte-Concord-Gastonia, NC-SC MSA   \n",
       "253   Richardson   34         Chicago-Naperville-Elgin, IL-IN-WI MSA   \n",
       "1598    Gonzalez   59                                 Tucson, AZ MSA   \n",
       "249      Sargent   18          Atlanta-Sandy Springs-Roswell, GA MSA   \n",
       "1331        Odom   51                       Dayton-Kettering, OH MSA   \n",
       "1064      Wilson   37                  Phoenix-Mesa-Chandler, AZ MSA   \n",
       "2298        Lang   28             Boston-Cambridge-Newton, MA-NH MSA   \n",
       "\n",
       "        reg_date  ... usd_monthly_pay usd_per_gb  usd_per_message  \\\n",
       "1683  2018-01-18  ...              20         10             0.03   \n",
       "573   2018-03-04  ...              20         10             0.03   \n",
       "2245  2018-03-07  ...              20         10             0.03   \n",
       "362   2018-01-14  ...              70          7             0.01   \n",
       "253   2018-04-22  ...              70          7             0.01   \n",
       "1598  2018-04-26  ...              70          7             0.01   \n",
       "249   2018-08-07  ...              70          7             0.01   \n",
       "1331  2018-09-07  ...              20         10             0.03   \n",
       "1064  2018-07-05  ...              20         10             0.03   \n",
       "2298  2018-12-31  ...              20         10             0.03   \n",
       "\n",
       "      usd_per_minute  plan_name  users_monthly_calls  users_monthly_messages  \\\n",
       "1683            0.03       surf                190.0                    21.0   \n",
       "573             0.03       surf               -129.0                   -31.0   \n",
       "2245            0.03       surf               -461.0                   -39.0   \n",
       "362             0.01   ultimate              -2197.0                  -933.0   \n",
       "253             0.01   ultimate              -2776.0                  -980.0   \n",
       "1598            0.01   ultimate              -2736.0                  -939.0   \n",
       "249             0.01   ultimate              -1938.0                  -889.0   \n",
       "1331            0.03       surf                482.0                   -50.0   \n",
       "1064            0.03       surf                163.0                   -23.0   \n",
       "2298            0.03       surf                  NaN                     NaN   \n",
       "\n",
       "      users_monthly_internet  gb_per_month_included monthly_revenue  \n",
       "1683               -0.603682                   15.0       26.330000  \n",
       "573                 0.917236                   15.0       49.172363  \n",
       "2245              -11.900439                   15.0       60.000000  \n",
       "362               -10.540479                   30.0      210.000000  \n",
       "253               -26.413594                   30.0      210.000000  \n",
       "1598              -10.834297                   30.0      210.000000  \n",
       "249                 4.267598                   30.0      169.873184  \n",
       "1331                5.818027                   15.0       92.640273  \n",
       "1064                4.929990                   15.0       74.189902  \n",
       "2298                     NaN                   15.0       60.000000  \n",
       "\n",
       "[10 rows x 25 columns]"
      ]
     },
     "execution_count": 45,
     "metadata": {},
     "output_type": "execute_result"
    }
   ],
   "source": [
    "all_data.sample(10)"
   ]
  },
  {
   "cell_type": "code",
   "execution_count": 46,
   "metadata": {},
   "outputs": [],
   "source": [
    "all_data['duration'] = np.ceil(calls_data['duration'])"
   ]
  },
  {
   "cell_type": "code",
   "execution_count": 47,
   "metadata": {},
   "outputs": [
    {
     "name": "stdout",
     "output_type": "stream",
     "text": [
      "<class 'pandas.core.frame.DataFrame'>\n",
      "Int64Index: 2303 entries, 0 to 2302\n",
      "Data columns (total 25 columns):\n",
      " #   Column                  Non-Null Count  Dtype  \n",
      "---  ------                  --------------  -----  \n",
      " 0   user_id                 2303 non-null   int64  \n",
      " 1   month                   2293 non-null   float64\n",
      " 2   mb_used                 2293 non-null   float64\n",
      " 3   duration                2303 non-null   float64\n",
      " 4   messages_count          2293 non-null   float64\n",
      " 5   first_name              2303 non-null   object \n",
      " 6   last_name               2303 non-null   object \n",
      " 7   age                     2303 non-null   int64  \n",
      " 8   city                    2303 non-null   object \n",
      " 9   reg_date                2303 non-null   object \n",
      " 10  plan                    2303 non-null   object \n",
      " 11  churn_date              160 non-null    object \n",
      " 12  messages_included       2303 non-null   int64  \n",
      " 13  mb_per_month_included   2303 non-null   int64  \n",
      " 14  minutes_included        2303 non-null   int64  \n",
      " 15  usd_monthly_pay         2303 non-null   int64  \n",
      " 16  usd_per_gb              2303 non-null   int64  \n",
      " 17  usd_per_message         2303 non-null   float64\n",
      " 18  usd_per_minute          2303 non-null   float64\n",
      " 19  plan_name               2303 non-null   object \n",
      " 20  users_monthly_calls     2293 non-null   float64\n",
      " 21  users_monthly_messages  2293 non-null   float64\n",
      " 22  users_monthly_internet  2293 non-null   float64\n",
      " 23  gb_per_month_included   2303 non-null   float64\n",
      " 24  monthly_revenue         2303 non-null   float64\n",
      "dtypes: float64(11), int64(7), object(7)\n",
      "memory usage: 467.8+ KB\n"
     ]
    }
   ],
   "source": [
    "all_data.info()"
   ]
  },
  {
   "cell_type": "code",
   "execution_count": 48,
   "metadata": {},
   "outputs": [],
   "source": [
    "all_data['users_monthly_messages'] = np.ceil(all_data['users_monthly_messages'])"
   ]
  },
  {
   "cell_type": "markdown",
   "metadata": {},
   "source": [
    "### Analyze the data"
   ]
  },
  {
   "cell_type": "markdown",
   "metadata": {},
   "source": [
    " Calculate the mean, variance, and standard deviation. "
   ]
  },
  {
   "cell_type": "code",
   "execution_count": 77,
   "metadata": {},
   "outputs": [
    {
     "data": {
      "text/html": [
       "<div>\n",
       "<style scoped>\n",
       "    .dataframe tbody tr th:only-of-type {\n",
       "        vertical-align: middle;\n",
       "    }\n",
       "\n",
       "    .dataframe tbody tr th {\n",
       "        vertical-align: top;\n",
       "    }\n",
       "\n",
       "    .dataframe thead tr th {\n",
       "        text-align: left;\n",
       "    }\n",
       "\n",
       "    .dataframe thead tr:last-of-type th {\n",
       "        text-align: right;\n",
       "    }\n",
       "</style>\n",
       "<table border=\"1\" class=\"dataframe\">\n",
       "  <thead>\n",
       "    <tr>\n",
       "      <th></th>\n",
       "      <th colspan=\"3\" halign=\"left\">mean</th>\n",
       "      <th colspan=\"3\" halign=\"left\">var</th>\n",
       "      <th colspan=\"3\" halign=\"left\">std</th>\n",
       "    </tr>\n",
       "    <tr>\n",
       "      <th></th>\n",
       "      <th>duration</th>\n",
       "      <th>users_monthly_internet</th>\n",
       "      <th>users_monthly_messages</th>\n",
       "      <th>duration</th>\n",
       "      <th>users_monthly_internet</th>\n",
       "      <th>users_monthly_messages</th>\n",
       "      <th>duration</th>\n",
       "      <th>users_monthly_internet</th>\n",
       "      <th>users_monthly_messages</th>\n",
       "    </tr>\n",
       "    <tr>\n",
       "      <th>plan</th>\n",
       "      <th></th>\n",
       "      <th></th>\n",
       "      <th></th>\n",
       "      <th></th>\n",
       "      <th></th>\n",
       "      <th></th>\n",
       "      <th></th>\n",
       "      <th></th>\n",
       "      <th></th>\n",
       "    </tr>\n",
       "  </thead>\n",
       "  <tbody>\n",
       "    <tr>\n",
       "      <th>surf</th>\n",
       "      <td>7.298290</td>\n",
       "      <td>1.670693</td>\n",
       "      <td>-18.840432</td>\n",
       "      <td>33.030739</td>\n",
       "      <td>61.58360</td>\n",
       "      <td>1126.724522</td>\n",
       "      <td>5.747237</td>\n",
       "      <td>7.847522</td>\n",
       "      <td>33.566717</td>\n",
       "    </tr>\n",
       "    <tr>\n",
       "      <th>ultimate</th>\n",
       "      <td>7.335635</td>\n",
       "      <td>-12.693056</td>\n",
       "      <td>-962.448611</td>\n",
       "      <td>34.925921</td>\n",
       "      <td>58.83055</td>\n",
       "      <td>1208.756744</td>\n",
       "      <td>5.909816</td>\n",
       "      <td>7.670108</td>\n",
       "      <td>34.767179</td>\n",
       "    </tr>\n",
       "  </tbody>\n",
       "</table>\n",
       "</div>"
      ],
      "text/plain": [
       "              mean                                                      var  \\\n",
       "          duration users_monthly_internet users_monthly_messages   duration   \n",
       "plan                                                                          \n",
       "surf      7.298290               1.670693             -18.840432  33.030739   \n",
       "ultimate  7.335635             -12.693056            -962.448611  34.925921   \n",
       "\n",
       "                                                             std  \\\n",
       "         users_monthly_internet users_monthly_messages  duration   \n",
       "plan                                                               \n",
       "surf                   61.58360            1126.724522  5.747237   \n",
       "ultimate               58.83055            1208.756744  5.909816   \n",
       "\n",
       "                                                        \n",
       "         users_monthly_internet users_monthly_messages  \n",
       "plan                                                    \n",
       "surf                   7.847522              33.566717  \n",
       "ultimate               7.670108              34.767179  "
      ]
     },
     "execution_count": 77,
     "metadata": {},
     "output_type": "execute_result"
    }
   ],
   "source": [
    "all_data.pivot_table(index= 'plan', values= ['duration','users_monthly_messages','users_monthly_internet'], aggfunc= ['mean', 'var','std'])"
   ]
  },
  {
   "cell_type": "code",
   "execution_count": 78,
   "metadata": {},
   "outputs": [
    {
     "data": {
      "text/plain": [
       "array([<AxesSubplot:title={'center':'surf'}>,\n",
       "       <AxesSubplot:title={'center':'ultimate'}>], dtype=object)"
      ]
     },
     "execution_count": 78,
     "metadata": {},
     "output_type": "execute_result"
    },
    {
     "data": {
      "image/png": "[encoded data removed]",
      "text/plain": [
       "<Figure size 432x288 with 2 Axes>"
      ]
     },
     "metadata": {
      "needs_background": "light"
     },
     "output_type": "display_data"
    }
   ],
   "source": [
    "all_data.duration.hist(by=all_data['plan'])"
   ]
  },
  {
   "cell_type": "code",
   "execution_count": 79,
   "metadata": {},
   "outputs": [
    {
     "data": {
      "text/html": [
       "<div>\n",
       "<style scoped>\n",
       "    .dataframe tbody tr th:only-of-type {\n",
       "        vertical-align: middle;\n",
       "    }\n",
       "\n",
       "    .dataframe tbody tr th {\n",
       "        vertical-align: top;\n",
       "    }\n",
       "\n",
       "    .dataframe thead th {\n",
       "        text-align: right;\n",
       "    }\n",
       "</style>\n",
       "<table border=\"1\" class=\"dataframe\">\n",
       "  <thead>\n",
       "    <tr style=\"text-align: right;\">\n",
       "      <th></th>\n",
       "      <th>plan</th>\n",
       "      <th>mean</th>\n",
       "      <th>median</th>\n",
       "    </tr>\n",
       "  </thead>\n",
       "  <tbody>\n",
       "    <tr>\n",
       "      <th>0</th>\n",
       "      <td>surf</td>\n",
       "      <td>7.298290</td>\n",
       "      <td>6.0</td>\n",
       "    </tr>\n",
       "    <tr>\n",
       "      <th>1</th>\n",
       "      <td>ultimate</td>\n",
       "      <td>7.335635</td>\n",
       "      <td>6.0</td>\n",
       "    </tr>\n",
       "  </tbody>\n",
       "</table>\n",
       "</div>"
      ],
      "text/plain": [
       "       plan      mean  median\n",
       "0      surf  7.298290     6.0\n",
       "1  ultimate  7.335635     6.0"
      ]
     },
     "execution_count": 79,
     "metadata": {},
     "output_type": "execute_result"
    }
   ],
   "source": [
    "all_data.groupby(['plan'])['duration'].agg(['mean','median']).reset_index()"
   ]
  },
  {
   "cell_type": "code",
   "execution_count": 80,
   "metadata": {},
   "outputs": [
    {
     "data": {
      "text/plain": [
       "<AxesSubplot:xlabel='duration', ylabel='Count'>"
      ]
     },
     "execution_count": 80,
     "metadata": {},
     "output_type": "execute_result"
    },
    {
     "data": {
      "image/png": "[encoded data removed]",
      "text/plain": [
       "<Figure size 432x288 with 1 Axes>"
      ]
     },
     "metadata": {
      "needs_background": "light"
     },
     "output_type": "display_data"
    }
   ],
   "source": [
    "sns.histplot(all_data,x='duration',hue='plan')"
   ]
  },
  {
   "cell_type": "code",
   "execution_count": 81,
   "metadata": {},
   "outputs": [
    {
     "data": {
      "text/plain": [
       "array([<AxesSubplot:title={'center':'surf'}>,\n",
       "       <AxesSubplot:title={'center':'ultimate'}>], dtype=object)"
      ]
     },
     "execution_count": 81,
     "metadata": {},
     "output_type": "execute_result"
    },
    {
     "data": {
      "image/png": "[encoded data removed]",
      "text/plain": [
       "<Figure size 432x288 with 2 Axes>"
      ]
     },
     "metadata": {
      "needs_background": "light"
     },
     "output_type": "display_data"
    }
   ],
   "source": [
    "all_data.users_monthly_messages.hist(by=all_data['plan'])"
   ]
  },
  {
   "cell_type": "code",
   "execution_count": 82,
   "metadata": {},
   "outputs": [
    {
     "data": {
      "text/html": [
       "<div>\n",
       "<style scoped>\n",
       "    .dataframe tbody tr th:only-of-type {\n",
       "        vertical-align: middle;\n",
       "    }\n",
       "\n",
       "    .dataframe tbody tr th {\n",
       "        vertical-align: top;\n",
       "    }\n",
       "\n",
       "    .dataframe thead th {\n",
       "        text-align: right;\n",
       "    }\n",
       "</style>\n",
       "<table border=\"1\" class=\"dataframe\">\n",
       "  <thead>\n",
       "    <tr style=\"text-align: right;\">\n",
       "      <th></th>\n",
       "      <th>plan</th>\n",
       "      <th>mean</th>\n",
       "      <th>median</th>\n",
       "    </tr>\n",
       "  </thead>\n",
       "  <tbody>\n",
       "    <tr>\n",
       "      <th>0</th>\n",
       "      <td>surf</td>\n",
       "      <td>-18.840432</td>\n",
       "      <td>-26.0</td>\n",
       "    </tr>\n",
       "    <tr>\n",
       "      <th>1</th>\n",
       "      <td>ultimate</td>\n",
       "      <td>-962.448611</td>\n",
       "      <td>-970.0</td>\n",
       "    </tr>\n",
       "  </tbody>\n",
       "</table>\n",
       "</div>"
      ],
      "text/plain": [
       "       plan        mean  median\n",
       "0      surf  -18.840432   -26.0\n",
       "1  ultimate -962.448611  -970.0"
      ]
     },
     "execution_count": 82,
     "metadata": {},
     "output_type": "execute_result"
    }
   ],
   "source": [
    "all_data.groupby(['plan'])['users_monthly_messages'].agg(['mean','median']).reset_index()"
   ]
  },
  {
   "cell_type": "code",
   "execution_count": 83,
   "metadata": {},
   "outputs": [
    {
     "data": {
      "text/plain": [
       "<AxesSubplot:xlabel='users_monthly_messages', ylabel='Count'>"
      ]
     },
     "execution_count": 83,
     "metadata": {},
     "output_type": "execute_result"
    },
    {
     "data": {
      "image/png": "[encoded data removed]",
      "text/plain": [
       "<Figure size 432x288 with 1 Axes>"
      ]
     },
     "metadata": {
      "needs_background": "light"
     },
     "output_type": "display_data"
    }
   ],
   "source": [
    "sns.histplot(all_data,x='users_monthly_messages',hue='plan')"
   ]
  },
  {
   "cell_type": "code",
   "execution_count": 84,
   "metadata": {},
   "outputs": [
    {
     "data": {
      "text/plain": [
       "array([<AxesSubplot:title={'center':'surf'}>,\n",
       "       <AxesSubplot:title={'center':'ultimate'}>], dtype=object)"
      ]
     },
     "execution_count": 84,
     "metadata": {},
     "output_type": "execute_result"
    },
    {
     "data": {
      "image/png": "[encoded data removed]",
      "text/plain": [
       "<Figure size 432x288 with 2 Axes>"
      ]
     },
     "metadata": {
      "needs_background": "light"
     },
     "output_type": "display_data"
    }
   ],
   "source": [
    "all_data.users_monthly_internet.hist(by=all_data['plan'])"
   ]
  },
  {
   "cell_type": "code",
   "execution_count": 85,
   "metadata": {},
   "outputs": [
    {
     "data": {
      "text/html": [
       "<div>\n",
       "<style scoped>\n",
       "    .dataframe tbody tr th:only-of-type {\n",
       "        vertical-align: middle;\n",
       "    }\n",
       "\n",
       "    .dataframe tbody tr th {\n",
       "        vertical-align: top;\n",
       "    }\n",
       "\n",
       "    .dataframe thead th {\n",
       "        text-align: right;\n",
       "    }\n",
       "</style>\n",
       "<table border=\"1\" class=\"dataframe\">\n",
       "  <thead>\n",
       "    <tr style=\"text-align: right;\">\n",
       "      <th></th>\n",
       "      <th>plan</th>\n",
       "      <th>mean</th>\n",
       "      <th>median</th>\n",
       "    </tr>\n",
       "  </thead>\n",
       "  <tbody>\n",
       "    <tr>\n",
       "      <th>0</th>\n",
       "      <td>surf</td>\n",
       "      <td>1.670693</td>\n",
       "      <td>2.0</td>\n",
       "    </tr>\n",
       "    <tr>\n",
       "      <th>1</th>\n",
       "      <td>ultimate</td>\n",
       "      <td>-12.693056</td>\n",
       "      <td>-13.0</td>\n",
       "    </tr>\n",
       "  </tbody>\n",
       "</table>\n",
       "</div>"
      ],
      "text/plain": [
       "       plan       mean  median\n",
       "0      surf   1.670693     2.0\n",
       "1  ultimate -12.693056   -13.0"
      ]
     },
     "execution_count": 85,
     "metadata": {},
     "output_type": "execute_result"
    }
   ],
   "source": [
    "all_data.groupby(['plan'])['users_monthly_internet'].agg(['mean','median']).reset_index()"
   ]
  },
  {
   "cell_type": "code",
   "execution_count": 86,
   "metadata": {},
   "outputs": [
    {
     "data": {
      "text/plain": [
       "<AxesSubplot:xlabel='users_monthly_internet', ylabel='Count'>"
      ]
     },
     "execution_count": 86,
     "metadata": {},
     "output_type": "execute_result"
    },
    {
     "data": {
      "image/png": "[encoded data removed]",
      "text/plain": [
       "<Figure size 432x288 with 1 Axes>"
      ]
     },
     "metadata": {
      "needs_background": "light"
     },
     "output_type": "display_data"
    }
   ],
   "source": [
    "sns.histplot(all_data,x='users_monthly_internet',hue='plan')"
   ]
  },
  {
   "cell_type": "code",
   "execution_count": 87,
   "metadata": {},
   "outputs": [
    {
     "name": "stdout",
     "output_type": "stream",
     "text": [
      "Percentage of Surf plan users who use more call minutes than provided in the plan: 2.41%\n",
      "Percentage of Ultimate plan users who use more call minutes than provided in the plan: 0.00%\n"
     ]
    }
   ],
   "source": [
    "print('Percentage of Surf plan users who use more call minutes than provided in the plan: {:.2%}'.format((all_data.loc[all_data['plan']=='surf', 'users_monthly_calls']>500).mean()))\n",
    "print('Percentage of Ultimate plan users who use more call minutes than provided in the plan: {:.2%}'.format((all_data.loc[all_data['plan']=='ultimate', 'users_monthly_calls']>3000).mean()))"
   ]
  },
  {
   "cell_type": "code",
   "execution_count": 88,
   "metadata": {},
   "outputs": [
    {
     "name": "stdout",
     "output_type": "stream",
     "text": [
      "Percentage of Surf plan users who use more messages than provided in the plan: 4.37%\n",
      "Percentage of Ultimate plan users who use more messages than provided in the plan: 0.00%\n"
     ]
    }
   ],
   "source": [
    "print('Percentage of Surf plan users who use more messages than provided in the plan: {:.2%}'.format((all_data.loc[all_data['plan']=='surf', 'users_monthly_messages']>50).mean()))\n",
    "print('Percentage of Ultimate plan users who use more messages than provided in the plan: {:.2%}'.format((all_data.loc[all_data['plan']=='ultimate', 'users_monthly_messages']>1000).mean()))"
   ]
  },
  {
   "cell_type": "code",
   "execution_count": 89,
   "metadata": {},
   "outputs": [
    {
     "name": "stdout",
     "output_type": "stream",
     "text": [
      "Percentage of Surf plan users who use more GB than provided in the plan: 4.05%\n",
      "Percentage of Ultimate plan users who use more GB than provided in the plan: 0.00%\n"
     ]
    }
   ],
   "source": [
    "print('Percentage of Surf plan users who use more GB than provided in the plan: {:.2%}'.format((all_data.loc[all_data['plan']=='surf', 'users_monthly_internet']>15).mean()))\n",
    "print('Percentage of Ultimate plan users who use more GB than provided in the plan: {:.2%}'.format((all_data.loc[all_data['plan']=='ultimate', 'users_monthly_internet']>30).mean()))"
   ]
  },
  {
   "cell_type": "markdown",
   "metadata": {},
   "source": [
    "The analysis shows that Surf plan users use more minutes than call limit and more messages than provided in the plan. Also they use more internet traffic than provided in the plan."
   ]
  },
  {
   "cell_type": "markdown",
   "metadata": {},
   "source": [
    "### Test the hypotheses"
   ]
  },
  {
   "cell_type": "markdown",
   "metadata": {},
   "source": [
    "We will try to formulate hypotheses if the average revenue from users of Ultimate and Surf calling plans same or differ.\n",
    "How you formulated the null and alternative hypotheses?\n",
    "The null hypothesess is the average revenue from users of Ultimate and Surf calling plans are same.\n",
    "rhe alternative - the average revenue from users of Ultimate and Surf calling plans are different"
   ]
  },
  {
   "cell_type": "code",
   "execution_count": 90,
   "metadata": {},
   "outputs": [
    {
     "name": "stdout",
     "output_type": "stream",
     "text": [
      "p-value: 0.0\n",
      "We reject the null hypothesis\n"
     ]
    }
   ],
   "source": [
    "surf_data = all_data.loc[all_data['plan']=='surf', 'monthly_revenue']\n",
    "ultimate_data = all_data.loc[all_data['plan']=='ultimate', 'monthly_revenue']\n",
    "alpha = 0.05\n",
    "\n",
    "results = st.ttest_ind(surf_data,ultimate_data,equal_var = False)\n",
    "\n",
    "print('p-value:', results.pvalue)\n",
    "\n",
    "if (results.pvalue < alpha):\n",
    "    print('We reject the null hypothesis')\n",
    "else:\n",
    "    print(\"We can't reject the null hypothesis\")"
   ]
  },
  {
   "cell_type": "markdown",
   "metadata": {},
   "source": [
    "The analysis shows that the average revenue from users of Ultimate and Surf plans is different."
   ]
  },
  {
   "cell_type": "markdown",
   "metadata": {},
   "source": [
    "The average revenue from users in NY-NJ area is different from that of the users from other regions.\n",
    "The null hypothesess is the average revenue from users in NY-NJ area is same from that of the users from other regions.\n",
    "Alternative hypothesess - The average revenue from users in NY-NJ area is different from that of the users from other regions."
   ]
  },
  {
   "cell_type": "code",
   "execution_count": 63,
   "metadata": {},
   "outputs": [
    {
     "name": "stdout",
     "output_type": "stream",
     "text": [
      "p-value: 5.772817324055275e-10\n",
      "We reject the null hypothesis\n"
     ]
    }
   ],
   "source": [
    "data1 = all_data.loc[all_data['city'] == 'New York-Newark-Jersey City, NY-NJ-PA MSA', 'monthly_revenue']\n",
    "\n",
    "data2 = all_data.loc[all_data['city'] != 'New York-Newark-Jersey City, NY-NJ-PA MSA', 'monthly_revenue']\n",
    "\n",
    "alpha = 0.05\n",
    "\n",
    "results = st.ttest_ind(data1, data2)\n",
    "\n",
    "print('p-value:', results.pvalue)\n",
    "\n",
    "if (results.pvalue < alpha):\n",
    "    print('We reject the null hypothesis')\n",
    "else:\n",
    "    print(\"We can't reject the null hypothesis\")"
   ]
  },
  {
   "cell_type": "code",
   "execution_count": 64,
   "metadata": {},
   "outputs": [
    {
     "name": "stdout",
     "output_type": "stream",
     "text": [
      "The average revenue from users in NY-NJ area:  94.86523334160051\n",
      "The average revenue from users not from NY_NJ:  120.55944720982141\n"
     ]
    }
   ],
   "source": [
    "# revenue of users in NY-NJ\n",
    "ny_nj = all_data.query('city == \"New York-Newark-Jersey City, NY-NJ-PA MSA\"')['monthly_revenue'] \n",
    "# revenue of users not in NY-NJ\n",
    "other = all_data.query('city != \"New York-Newark-Jersey City, NY-NJ-PA MSA\"')['monthly_revenue']\n",
    "print('The average revenue from users in NY-NJ area: ', ny_nj.mean())\n",
    "print('The average revenue from users not from NY_NJ: ', other.mean())"
   ]
  },
  {
   "cell_type": "markdown",
   "metadata": {},
   "source": [
    "So we can see that the average revenue from users in NY-NJ area is different from that of the users from other regions.\n",
    "\n",
    "The average revenue in NY-NJ area is ≈$95. \n",
    "\n",
    "Average revenue from users not from this region is ≈$121."
   ]
  },
  {
   "cell_type": "markdown",
   "metadata": {},
   "source": [
    "So we can see that the average revenue from users in NY-NJ area is different from that of the users from other regions."
   ]
  },
  {
   "cell_type": "markdown",
   "metadata": {},
   "source": [
    "### Conclusion"
   ]
  },
  {
   "cell_type": "markdown",
   "metadata": {},
   "source": [
    "We opened and cleaned all the data set.\n",
    "We calculated:\n",
    "\n",
    "    1. The number of text messages sent per month\n",
    "    2. The volume of data per month\n",
    "    3. The number of calls made and minutes used per month\n",
    "    4. The monthly revenue\n",
    "    \n",
    "In this analysis we described the customers' behavior. Find the minutes, texts, and volume of data the users of each plan require per month. Calculate the mean, variance, and standard deviation. Plot histograms. Describe the distributions.    \n",
    "    \n",
    "The analysis shows that Surf plan users use more minutes than call limit and more messages than provided in the plan. The Ultimate plan users use more messages than provided in the plan. But percentage betweeen of both plans is different. So percentage of Surf plan users who use more messages than provided in the plan is bigger than percentage of Ultimate plan users. We can see that Ultimate plan users and Surf plan users don't go over the limit of the plan.       \n",
    "    \n",
    "We tested two hypotheses:\n",
    "\n",
    "- The average revenue from users of Ultimate and Surf calling plans differs.\n",
    "- The average revenue from users in NY-NJ area is different from that of the users from other regions.  \n",
    "\n",
    "We can conclude:\n",
    "\n",
    "- Surf users often don't have anough call minuts, messages and internet.\n",
    "- Ultimate plan is more profitable than the Surf plan."
   ]
  }
 ],
 "metadata": {
  "ExecuteTimeLog": [
   {
    "duration": 376,
    "start_time": "2022-08-31T08:26:34.818Z"
   },
   {
    "duration": 2,
    "start_time": "2022-08-31T08:26:47.045Z"
   },
   {
    "duration": 3,
    "start_time": "2022-08-31T08:26:51.456Z"
   },
   {
    "duration": 428,
    "start_time": "2022-08-31T08:28:44.401Z"
   },
   {
    "duration": 2,
    "start_time": "2022-08-31T08:28:47.682Z"
   },
   {
    "duration": 2,
    "start_time": "2022-08-31T08:29:22.822Z"
   },
   {
    "duration": 2,
    "start_time": "2022-08-31T08:29:25.532Z"
   },
   {
    "duration": 2,
    "start_time": "2022-08-31T08:29:42.511Z"
   },
   {
    "duration": 813,
    "start_time": "2022-08-31T08:36:48.465Z"
   },
   {
    "duration": 266,
    "start_time": "2022-08-31T08:36:53.165Z"
   },
   {
    "duration": 348,
    "start_time": "2022-08-31T08:38:00.621Z"
   },
   {
    "duration": 266,
    "start_time": "2022-08-31T08:38:06.363Z"
   },
   {
    "duration": 269,
    "start_time": "2022-08-31T08:40:17.972Z"
   },
   {
    "duration": 117,
    "start_time": "2022-08-31T08:45:53.825Z"
   },
   {
    "duration": 200,
    "start_time": "2022-08-31T08:46:09.709Z"
   },
   {
    "duration": 72,
    "start_time": "2022-08-31T08:46:47.178Z"
   },
   {
    "duration": 53,
    "start_time": "2022-08-31T08:47:00.784Z"
   },
   {
    "duration": 120,
    "start_time": "2022-08-31T08:47:04.233Z"
   },
   {
    "duration": 171,
    "start_time": "2022-08-31T08:47:49.239Z"
   },
   {
    "duration": 3,
    "start_time": "2022-08-31T09:26:01.248Z"
   },
   {
    "duration": 313,
    "start_time": "2022-08-31T09:26:01.253Z"
   },
   {
    "duration": 53,
    "start_time": "2022-08-31T09:26:43.166Z"
   },
   {
    "duration": 2,
    "start_time": "2022-08-31T10:02:07.283Z"
   },
   {
    "duration": 2,
    "start_time": "2022-08-31T10:02:09.274Z"
   },
   {
    "duration": 314,
    "start_time": "2022-08-31T10:02:11.225Z"
   },
   {
    "duration": 51,
    "start_time": "2022-08-31T10:02:13.516Z"
   },
   {
    "duration": 3,
    "start_time": "2022-08-31T10:15:01.345Z"
   },
   {
    "duration": 283,
    "start_time": "2022-08-31T10:15:01.962Z"
   },
   {
    "duration": 51,
    "start_time": "2022-08-31T10:15:03.569Z"
   },
   {
    "duration": 281,
    "start_time": "2022-08-31T10:15:48.882Z"
   },
   {
    "duration": 495,
    "start_time": "2022-08-31T10:16:28.707Z"
   },
   {
    "duration": 2,
    "start_time": "2022-08-31T10:16:31.358Z"
   },
   {
    "duration": 98,
    "start_time": "2022-08-31T10:17:52.835Z"
   },
   {
    "duration": 64,
    "start_time": "2022-08-31T10:18:00.613Z"
   },
   {
    "duration": 65,
    "start_time": "2022-08-31T10:18:43.263Z"
   },
   {
    "duration": 38,
    "start_time": "2022-08-31T10:19:02.447Z"
   },
   {
    "duration": 31,
    "start_time": "2022-08-31T10:19:58.688Z"
   },
   {
    "duration": 20,
    "start_time": "2022-08-31T10:20:13.391Z"
   },
   {
    "duration": 30,
    "start_time": "2022-08-31T10:20:24.987Z"
   },
   {
    "duration": 19,
    "start_time": "2022-08-31T10:20:35.132Z"
   },
   {
    "duration": 2,
    "start_time": "2022-08-31T10:30:43.492Z"
   },
   {
    "duration": 3,
    "start_time": "2022-08-31T10:30:45.630Z"
   },
   {
    "duration": 2,
    "start_time": "2022-08-31T10:30:50.193Z"
   },
   {
    "duration": 2,
    "start_time": "2022-08-31T10:31:15.203Z"
   },
   {
    "duration": 3,
    "start_time": "2022-08-31T10:31:28.047Z"
   },
   {
    "duration": 2,
    "start_time": "2022-08-31T10:31:30.001Z"
   },
   {
    "duration": 2,
    "start_time": "2022-08-31T10:31:36.213Z"
   },
   {
    "duration": 3,
    "start_time": "2022-08-31T10:31:38.040Z"
   },
   {
    "duration": 2,
    "start_time": "2022-08-31T10:31:41.238Z"
   },
   {
    "duration": 3,
    "start_time": "2022-08-31T10:31:58.721Z"
   },
   {
    "duration": 35,
    "start_time": "2022-08-31T10:51:03.534Z"
   },
   {
    "duration": 34,
    "start_time": "2022-08-31T10:53:17.607Z"
   },
   {
    "duration": 33,
    "start_time": "2022-08-31T10:53:21.391Z"
   },
   {
    "duration": 37,
    "start_time": "2022-08-31T11:18:13.135Z"
   },
   {
    "duration": 92,
    "start_time": "2022-08-31T11:19:32.623Z"
   },
   {
    "duration": 13,
    "start_time": "2022-08-31T11:25:58.053Z"
   },
   {
    "duration": 33,
    "start_time": "2022-08-31T11:27:21.447Z"
   },
   {
    "duration": 8,
    "start_time": "2022-08-31T11:46:21.918Z"
   },
   {
    "duration": 9,
    "start_time": "2022-08-31T11:47:25.246Z"
   },
   {
    "duration": 10,
    "start_time": "2022-08-31T11:47:31.223Z"
   },
   {
    "duration": 7,
    "start_time": "2022-08-31T11:52:42.534Z"
   },
   {
    "duration": 10,
    "start_time": "2022-08-31T11:52:43.458Z"
   },
   {
    "duration": 20,
    "start_time": "2022-08-31T12:10:13.108Z"
   },
   {
    "duration": 15,
    "start_time": "2022-08-31T12:10:24.716Z"
   },
   {
    "duration": 3,
    "start_time": "2022-08-31T13:20:08.319Z"
   },
   {
    "duration": 7,
    "start_time": "2022-08-31T13:21:36.183Z"
   },
   {
    "duration": 16,
    "start_time": "2022-08-31T13:24:34.564Z"
   },
   {
    "duration": 19,
    "start_time": "2022-08-31T13:24:45.727Z"
   },
   {
    "duration": 19,
    "start_time": "2022-08-31T13:31:30.961Z"
   },
   {
    "duration": 7,
    "start_time": "2022-08-31T13:33:31.779Z"
   },
   {
    "duration": 8,
    "start_time": "2022-08-31T13:34:01.088Z"
   },
   {
    "duration": 19,
    "start_time": "2022-08-31T13:36:18.408Z"
   },
   {
    "duration": 10,
    "start_time": "2022-08-31T13:37:16.831Z"
   },
   {
    "duration": 9,
    "start_time": "2022-08-31T13:37:20.813Z"
   },
   {
    "duration": 24,
    "start_time": "2022-08-31T13:38:29.031Z"
   },
   {
    "duration": 23,
    "start_time": "2022-08-31T13:38:53.824Z"
   },
   {
    "duration": 3,
    "start_time": "2022-08-31T13:40:50.766Z"
   },
   {
    "duration": 3,
    "start_time": "2022-08-31T13:40:59.361Z"
   },
   {
    "duration": 12,
    "start_time": "2022-08-31T13:41:07.512Z"
   },
   {
    "duration": 6,
    "start_time": "2022-08-31T13:41:20.547Z"
   },
   {
    "duration": 8,
    "start_time": "2022-08-31T13:43:09.628Z"
   },
   {
    "duration": 9,
    "start_time": "2022-08-31T13:43:20.983Z"
   },
   {
    "duration": 3,
    "start_time": "2022-08-31T13:46:53.330Z"
   },
   {
    "duration": 277,
    "start_time": "2022-08-31T13:46:53.828Z"
   },
   {
    "duration": 40,
    "start_time": "2022-08-31T13:46:55.224Z"
   },
   {
    "duration": 31,
    "start_time": "2022-08-31T13:46:55.416Z"
   },
   {
    "duration": 23,
    "start_time": "2022-08-31T13:46:55.635Z"
   },
   {
    "duration": 29,
    "start_time": "2022-08-31T13:46:55.852Z"
   },
   {
    "duration": 22,
    "start_time": "2022-08-31T13:46:56.051Z"
   },
   {
    "duration": 91,
    "start_time": "2022-08-31T13:46:56.453Z"
   },
   {
    "duration": 32,
    "start_time": "2022-08-31T13:46:56.898Z"
   },
   {
    "duration": 8,
    "start_time": "2022-08-31T13:46:57.768Z"
   },
   {
    "duration": 10,
    "start_time": "2022-08-31T13:46:57.988Z"
   },
   {
    "duration": 22,
    "start_time": "2022-08-31T13:46:58.444Z"
   },
   {
    "duration": 6,
    "start_time": "2022-08-31T13:46:58.854Z"
   },
   {
    "duration": 20,
    "start_time": "2022-08-31T13:46:59.222Z"
   },
   {
    "duration": 20,
    "start_time": "2022-08-31T13:46:59.637Z"
   },
   {
    "duration": 7,
    "start_time": "2022-08-31T13:47:00.024Z"
   },
   {
    "duration": 9,
    "start_time": "2022-08-31T13:47:00.227Z"
   },
   {
    "duration": 23,
    "start_time": "2022-08-31T13:47:00.645Z"
   },
   {
    "duration": 11,
    "start_time": "2022-08-31T13:47:00.846Z"
   },
   {
    "duration": 7,
    "start_time": "2022-08-31T13:47:27.242Z"
   },
   {
    "duration": 10,
    "start_time": "2022-08-31T13:47:57.834Z"
   },
   {
    "duration": 29,
    "start_time": "2022-08-31T13:50:18.036Z"
   },
   {
    "duration": 12,
    "start_time": "2022-08-31T13:51:43.533Z"
   },
   {
    "duration": 12,
    "start_time": "2022-08-31T13:53:59.583Z"
   },
   {
    "duration": 18,
    "start_time": "2022-08-31T13:53:59.849Z"
   },
   {
    "duration": 41,
    "start_time": "2022-08-31T13:54:00.035Z"
   },
   {
    "duration": 12,
    "start_time": "2022-08-31T13:54:00.429Z"
   },
   {
    "duration": 3,
    "start_time": "2022-09-02T15:51:48.861Z"
   },
   {
    "duration": 334,
    "start_time": "2022-09-02T15:51:49.428Z"
   },
   {
    "duration": 82,
    "start_time": "2022-09-02T15:51:50.932Z"
   },
   {
    "duration": 31,
    "start_time": "2022-09-02T15:51:51.132Z"
   },
   {
    "duration": 21,
    "start_time": "2022-09-02T15:51:51.322Z"
   },
   {
    "duration": 27,
    "start_time": "2022-09-02T15:51:51.513Z"
   },
   {
    "duration": 19,
    "start_time": "2022-09-02T15:51:51.725Z"
   },
   {
    "duration": 93,
    "start_time": "2022-09-02T15:51:52.113Z"
   },
   {
    "duration": 31,
    "start_time": "2022-09-02T15:51:52.520Z"
   },
   {
    "duration": 8,
    "start_time": "2022-09-02T15:51:53.371Z"
   },
   {
    "duration": 13,
    "start_time": "2022-09-02T15:51:53.572Z"
   },
   {
    "duration": 42,
    "start_time": "2022-09-02T15:51:54.037Z"
   },
   {
    "duration": 8,
    "start_time": "2022-09-02T15:51:54.425Z"
   },
   {
    "duration": 25,
    "start_time": "2022-09-02T15:51:54.857Z"
   },
   {
    "duration": 21,
    "start_time": "2022-09-02T15:51:55.280Z"
   },
   {
    "duration": 6,
    "start_time": "2022-09-02T15:51:55.737Z"
   },
   {
    "duration": 9,
    "start_time": "2022-09-02T15:51:55.975Z"
   },
   {
    "duration": 23,
    "start_time": "2022-09-02T15:51:56.429Z"
   },
   {
    "duration": 10,
    "start_time": "2022-09-02T15:51:56.744Z"
   },
   {
    "duration": 7,
    "start_time": "2022-09-02T15:51:57.524Z"
   },
   {
    "duration": 10,
    "start_time": "2022-09-02T15:51:57.757Z"
   },
   {
    "duration": 36,
    "start_time": "2022-09-02T15:51:57.958Z"
   },
   {
    "duration": 12,
    "start_time": "2022-09-02T15:51:58.195Z"
   },
   {
    "duration": 12,
    "start_time": "2022-09-02T17:38:29.883Z"
   },
   {
    "duration": 7,
    "start_time": "2022-09-02T17:39:05.269Z"
   },
   {
    "duration": 9,
    "start_time": "2022-09-02T17:39:19.742Z"
   },
   {
    "duration": 4,
    "start_time": "2022-09-02T17:40:00.133Z"
   },
   {
    "duration": 9,
    "start_time": "2022-09-02T17:41:55.562Z"
   },
   {
    "duration": 5,
    "start_time": "2022-09-02T17:45:54.910Z"
   },
   {
    "duration": 14,
    "start_time": "2022-09-02T17:46:00.910Z"
   },
   {
    "duration": 92,
    "start_time": "2022-09-02T18:28:03.995Z"
   },
   {
    "duration": 18,
    "start_time": "2022-09-02T18:31:30.888Z"
   },
   {
    "duration": 10,
    "start_time": "2022-09-02T18:32:01.019Z"
   },
   {
    "duration": 9,
    "start_time": "2022-09-02T18:36:35.622Z"
   },
   {
    "duration": 22,
    "start_time": "2022-09-02T18:36:44.234Z"
   },
   {
    "duration": 194,
    "start_time": "2022-09-02T18:39:32.197Z"
   },
   {
    "duration": 184,
    "start_time": "2022-09-02T18:39:45.057Z"
   },
   {
    "duration": 20,
    "start_time": "2022-09-02T18:39:46.876Z"
   },
   {
    "duration": 19,
    "start_time": "2022-09-02T18:40:25.586Z"
   },
   {
    "duration": 9,
    "start_time": "2022-09-02T18:40:38.639Z"
   },
   {
    "duration": 2,
    "start_time": "2022-09-02T18:41:05.906Z"
   },
   {
    "duration": 3,
    "start_time": "2022-09-02T18:41:08.453Z"
   },
   {
    "duration": 19,
    "start_time": "2022-09-02T18:41:09.184Z"
   },
   {
    "duration": 35,
    "start_time": "2022-09-02T18:43:22.158Z"
   },
   {
    "duration": 21,
    "start_time": "2022-09-02T18:43:38.951Z"
   },
   {
    "duration": 3,
    "start_time": "2022-09-02T18:44:25.340Z"
   },
   {
    "duration": 3,
    "start_time": "2022-09-02T18:44:27.445Z"
   },
   {
    "duration": 24,
    "start_time": "2022-09-02T18:44:28.135Z"
   },
   {
    "duration": 25,
    "start_time": "2022-09-02T18:44:46.737Z"
   },
   {
    "duration": 2,
    "start_time": "2022-09-02T18:46:08.697Z"
   },
   {
    "duration": 3,
    "start_time": "2022-09-02T18:46:10.784Z"
   },
   {
    "duration": 26,
    "start_time": "2022-09-02T18:46:28.436Z"
   },
   {
    "duration": 20,
    "start_time": "2022-09-02T18:48:48.251Z"
   },
   {
    "duration": 1292,
    "start_time": "2022-09-03T07:31:46.539Z"
   },
   {
    "duration": 972,
    "start_time": "2022-09-03T07:31:48.113Z"
   },
   {
    "duration": 46,
    "start_time": "2022-09-03T07:31:50.672Z"
   },
   {
    "duration": 38,
    "start_time": "2022-09-03T07:31:51.860Z"
   },
   {
    "duration": 27,
    "start_time": "2022-09-03T07:31:52.356Z"
   },
   {
    "duration": 36,
    "start_time": "2022-09-03T07:31:52.611Z"
   },
   {
    "duration": 24,
    "start_time": "2022-09-03T07:31:52.834Z"
   },
   {
    "duration": 128,
    "start_time": "2022-09-03T07:31:53.244Z"
   },
   {
    "duration": 33,
    "start_time": "2022-09-03T07:31:53.670Z"
   },
   {
    "duration": 10,
    "start_time": "2022-09-03T07:31:55.084Z"
   },
   {
    "duration": 13,
    "start_time": "2022-09-03T07:31:56.092Z"
   },
   {
    "duration": 25,
    "start_time": "2022-09-03T07:31:56.516Z"
   },
   {
    "duration": 8,
    "start_time": "2022-09-03T07:31:56.914Z"
   },
   {
    "duration": 30,
    "start_time": "2022-09-03T07:31:57.403Z"
   },
   {
    "duration": 22,
    "start_time": "2022-09-03T07:31:57.847Z"
   },
   {
    "duration": 8,
    "start_time": "2022-09-03T07:31:58.269Z"
   },
   {
    "duration": 10,
    "start_time": "2022-09-03T07:31:58.457Z"
   },
   {
    "duration": 33,
    "start_time": "2022-09-03T07:31:59.056Z"
   },
   {
    "duration": 13,
    "start_time": "2022-09-03T07:31:59.277Z"
   },
   {
    "duration": 8,
    "start_time": "2022-09-03T07:31:59.941Z"
   },
   {
    "duration": 13,
    "start_time": "2022-09-03T07:32:00.215Z"
   },
   {
    "duration": 38,
    "start_time": "2022-09-03T07:32:00.467Z"
   },
   {
    "duration": 13,
    "start_time": "2022-09-03T07:32:00.896Z"
   },
   {
    "duration": 3,
    "start_time": "2022-09-03T07:32:01.599Z"
   },
   {
    "duration": 22,
    "start_time": "2022-09-03T07:32:01.848Z"
   },
   {
    "duration": 6,
    "start_time": "2022-09-03T07:39:08.015Z"
   },
   {
    "duration": 24,
    "start_time": "2022-09-03T07:40:19.928Z"
   },
   {
    "duration": 28,
    "start_time": "2022-09-03T07:41:18.213Z"
   },
   {
    "duration": 33,
    "start_time": "2022-09-03T07:41:34.680Z"
   },
   {
    "duration": 21,
    "start_time": "2022-09-03T07:42:08.757Z"
   },
   {
    "duration": 4,
    "start_time": "2022-09-03T08:21:37.186Z"
   },
   {
    "duration": 344,
    "start_time": "2022-09-03T08:21:37.587Z"
   },
   {
    "duration": 55,
    "start_time": "2022-09-03T08:21:39.130Z"
   },
   {
    "duration": 39,
    "start_time": "2022-09-03T08:21:39.311Z"
   },
   {
    "duration": 30,
    "start_time": "2022-09-03T08:21:39.505Z"
   },
   {
    "duration": 39,
    "start_time": "2022-09-03T08:21:39.685Z"
   },
   {
    "duration": 24,
    "start_time": "2022-09-03T08:21:39.868Z"
   },
   {
    "duration": 160,
    "start_time": "2022-09-03T08:21:40.357Z"
   },
   {
    "duration": 36,
    "start_time": "2022-09-03T08:21:40.801Z"
   },
   {
    "duration": 12,
    "start_time": "2022-09-03T08:21:41.578Z"
   },
   {
    "duration": 17,
    "start_time": "2022-09-03T08:21:41.768Z"
   },
   {
    "duration": 32,
    "start_time": "2022-09-03T08:21:42.174Z"
   },
   {
    "duration": 8,
    "start_time": "2022-09-03T08:21:42.562Z"
   },
   {
    "duration": 30,
    "start_time": "2022-09-03T08:21:42.956Z"
   },
   {
    "duration": 22,
    "start_time": "2022-09-03T08:21:43.352Z"
   },
   {
    "duration": 8,
    "start_time": "2022-09-03T08:21:43.745Z"
   },
   {
    "duration": 10,
    "start_time": "2022-09-03T08:21:44.077Z"
   },
   {
    "duration": 30,
    "start_time": "2022-09-03T08:21:44.381Z"
   },
   {
    "duration": 13,
    "start_time": "2022-09-03T08:21:44.881Z"
   },
   {
    "duration": 10,
    "start_time": "2022-09-03T08:21:45.278Z"
   },
   {
    "duration": 11,
    "start_time": "2022-09-03T08:21:45.474Z"
   },
   {
    "duration": 39,
    "start_time": "2022-09-03T08:21:45.683Z"
   },
   {
    "duration": 15,
    "start_time": "2022-09-03T08:21:46.007Z"
   },
   {
    "duration": 2,
    "start_time": "2022-09-03T08:21:46.721Z"
   },
   {
    "duration": 23,
    "start_time": "2022-09-03T08:21:47.000Z"
   },
   {
    "duration": 8,
    "start_time": "2022-09-03T08:21:47.194Z"
   },
   {
    "duration": 24,
    "start_time": "2022-09-03T08:21:56.051Z"
   },
   {
    "duration": 116,
    "start_time": "2022-09-03T08:24:09.238Z"
   },
   {
    "duration": 15,
    "start_time": "2022-09-03T08:24:37.434Z"
   },
   {
    "duration": 12,
    "start_time": "2022-09-03T08:24:54.601Z"
   },
   {
    "duration": 12,
    "start_time": "2022-09-03T08:25:01.144Z"
   },
   {
    "duration": 14,
    "start_time": "2022-09-03T08:26:07.899Z"
   },
   {
    "duration": 24,
    "start_time": "2022-09-03T08:26:12.996Z"
   },
   {
    "duration": 3,
    "start_time": "2022-09-03T08:26:18.011Z"
   },
   {
    "duration": 304,
    "start_time": "2022-09-03T08:26:18.412Z"
   },
   {
    "duration": 41,
    "start_time": "2022-09-03T08:26:19.804Z"
   },
   {
    "duration": 35,
    "start_time": "2022-09-03T08:26:20.005Z"
   },
   {
    "duration": 25,
    "start_time": "2022-09-03T08:26:20.195Z"
   },
   {
    "duration": 39,
    "start_time": "2022-09-03T08:26:21.293Z"
   },
   {
    "duration": 22,
    "start_time": "2022-09-03T08:26:22.119Z"
   },
   {
    "duration": 119,
    "start_time": "2022-09-03T08:26:22.583Z"
   },
   {
    "duration": 34,
    "start_time": "2022-09-03T08:26:22.968Z"
   },
   {
    "duration": 8,
    "start_time": "2022-09-03T08:26:23.752Z"
   },
   {
    "duration": 15,
    "start_time": "2022-09-03T08:26:23.952Z"
   },
   {
    "duration": 25,
    "start_time": "2022-09-03T08:26:24.303Z"
   },
   {
    "duration": 8,
    "start_time": "2022-09-03T08:26:24.733Z"
   },
   {
    "duration": 30,
    "start_time": "2022-09-03T08:26:25.543Z"
   },
   {
    "duration": 21,
    "start_time": "2022-09-03T08:26:25.913Z"
   },
   {
    "duration": 8,
    "start_time": "2022-09-03T08:26:26.310Z"
   },
   {
    "duration": 9,
    "start_time": "2022-09-03T08:26:26.505Z"
   },
   {
    "duration": 31,
    "start_time": "2022-09-03T08:26:27.076Z"
   },
   {
    "duration": 11,
    "start_time": "2022-09-03T08:26:27.287Z"
   },
   {
    "duration": 8,
    "start_time": "2022-09-03T08:26:28.045Z"
   },
   {
    "duration": 12,
    "start_time": "2022-09-03T08:26:28.290Z"
   },
   {
    "duration": 38,
    "start_time": "2022-09-03T08:26:28.499Z"
   },
   {
    "duration": 14,
    "start_time": "2022-09-03T08:26:28.706Z"
   },
   {
    "duration": 3,
    "start_time": "2022-09-03T08:26:29.468Z"
   },
   {
    "duration": 23,
    "start_time": "2022-09-03T08:26:29.690Z"
   },
   {
    "duration": 7,
    "start_time": "2022-09-03T08:26:29.906Z"
   },
   {
    "duration": 22,
    "start_time": "2022-09-03T08:26:30.119Z"
   },
   {
    "duration": 13,
    "start_time": "2022-09-03T08:26:30.329Z"
   },
   {
    "duration": 13,
    "start_time": "2022-09-03T08:26:46.133Z"
   },
   {
    "duration": 8,
    "start_time": "2022-09-03T08:27:12.378Z"
   },
   {
    "duration": 4,
    "start_time": "2022-09-03T08:27:26.449Z"
   },
   {
    "duration": 17,
    "start_time": "2022-09-03T08:27:32.086Z"
   },
   {
    "duration": 3,
    "start_time": "2022-09-03T08:27:50.337Z"
   },
   {
    "duration": 12,
    "start_time": "2022-09-03T08:27:53.929Z"
   },
   {
    "duration": 154,
    "start_time": "2022-09-03T08:32:22.039Z"
   },
   {
    "duration": 248,
    "start_time": "2022-09-03T08:33:29.814Z"
   },
   {
    "duration": 15,
    "start_time": "2022-09-03T08:33:46.814Z"
   },
   {
    "duration": 17,
    "start_time": "2022-09-03T08:34:16.636Z"
   },
   {
    "duration": 13,
    "start_time": "2022-09-03T08:34:30.885Z"
   },
   {
    "duration": 4,
    "start_time": "2022-09-03T08:36:01.572Z"
   },
   {
    "duration": 1107,
    "start_time": "2022-09-03T08:36:19.948Z"
   },
   {
    "duration": 934,
    "start_time": "2022-09-03T08:36:21.057Z"
   },
   {
    "duration": 50,
    "start_time": "2022-09-03T08:36:22.487Z"
   },
   {
    "duration": 37,
    "start_time": "2022-09-03T08:36:22.724Z"
   },
   {
    "duration": 25,
    "start_time": "2022-09-03T08:36:24.574Z"
   },
   {
    "duration": 38,
    "start_time": "2022-09-03T08:36:25.020Z"
   },
   {
    "duration": 22,
    "start_time": "2022-09-03T08:36:25.361Z"
   },
   {
    "duration": 123,
    "start_time": "2022-09-03T08:36:25.809Z"
   },
   {
    "duration": 36,
    "start_time": "2022-09-03T08:36:28.369Z"
   },
   {
    "duration": 13,
    "start_time": "2022-09-03T08:36:45.496Z"
   },
   {
    "duration": 13,
    "start_time": "2022-09-03T08:36:45.719Z"
   },
   {
    "duration": 28,
    "start_time": "2022-09-03T08:36:46.318Z"
   },
   {
    "duration": 9,
    "start_time": "2022-09-03T08:36:46.783Z"
   },
   {
    "duration": 36,
    "start_time": "2022-09-03T08:36:47.236Z"
   },
   {
    "duration": 22,
    "start_time": "2022-09-03T08:36:47.701Z"
   },
   {
    "duration": 10,
    "start_time": "2022-09-03T08:36:48.080Z"
   },
   {
    "duration": 10,
    "start_time": "2022-09-03T08:36:48.293Z"
   },
   {
    "duration": 28,
    "start_time": "2022-09-03T08:36:49.251Z"
   },
   {
    "duration": 13,
    "start_time": "2022-09-03T08:36:49.481Z"
   },
   {
    "duration": 10,
    "start_time": "2022-09-03T08:36:50.118Z"
   },
   {
    "duration": 11,
    "start_time": "2022-09-03T08:36:50.314Z"
   },
   {
    "duration": 37,
    "start_time": "2022-09-03T08:36:50.524Z"
   },
   {
    "duration": 15,
    "start_time": "2022-09-03T08:36:50.739Z"
   },
   {
    "duration": 4,
    "start_time": "2022-09-03T08:36:51.454Z"
   },
   {
    "duration": 26,
    "start_time": "2022-09-03T08:36:51.703Z"
   },
   {
    "duration": 8,
    "start_time": "2022-09-03T08:36:51.944Z"
   },
   {
    "duration": 26,
    "start_time": "2022-09-03T08:36:52.160Z"
   },
   {
    "duration": 5,
    "start_time": "2022-09-03T08:36:52.362Z"
   },
   {
    "duration": 151,
    "start_time": "2022-09-03T08:36:52.570Z"
   },
   {
    "duration": 230,
    "start_time": "2022-09-03T08:36:53.968Z"
   },
   {
    "duration": 3,
    "start_time": "2022-09-03T08:38:04.402Z"
   },
   {
    "duration": 298,
    "start_time": "2022-09-03T08:38:04.772Z"
   },
   {
    "duration": 53,
    "start_time": "2022-09-03T08:38:05.896Z"
   },
   {
    "duration": 50,
    "start_time": "2022-09-03T08:38:06.066Z"
   },
   {
    "duration": 34,
    "start_time": "2022-09-03T08:38:06.259Z"
   },
   {
    "duration": 36,
    "start_time": "2022-09-03T08:38:06.444Z"
   },
   {
    "duration": 24,
    "start_time": "2022-09-03T08:38:06.637Z"
   },
   {
    "duration": 130,
    "start_time": "2022-09-03T08:38:06.998Z"
   },
   {
    "duration": 34,
    "start_time": "2022-09-03T08:38:07.394Z"
   },
   {
    "duration": 9,
    "start_time": "2022-09-03T08:38:08.169Z"
   },
   {
    "duration": 12,
    "start_time": "2022-09-03T08:38:08.371Z"
   },
   {
    "duration": 24,
    "start_time": "2022-09-03T08:38:08.769Z"
   },
   {
    "duration": 8,
    "start_time": "2022-09-03T08:38:09.193Z"
   },
   {
    "duration": 29,
    "start_time": "2022-09-03T08:38:09.745Z"
   },
   {
    "duration": 21,
    "start_time": "2022-09-03T08:38:10.131Z"
   },
   {
    "duration": 8,
    "start_time": "2022-09-03T08:38:10.514Z"
   },
   {
    "duration": 11,
    "start_time": "2022-09-03T08:38:10.691Z"
   },
   {
    "duration": 39,
    "start_time": "2022-09-03T08:38:11.080Z"
   },
   {
    "duration": 12,
    "start_time": "2022-09-03T08:38:11.282Z"
   },
   {
    "duration": 8,
    "start_time": "2022-09-03T08:38:11.934Z"
   },
   {
    "duration": 13,
    "start_time": "2022-09-03T08:38:12.117Z"
   },
   {
    "duration": 40,
    "start_time": "2022-09-03T08:38:12.337Z"
   },
   {
    "duration": 14,
    "start_time": "2022-09-03T08:38:12.564Z"
   },
   {
    "duration": 3,
    "start_time": "2022-09-03T08:38:13.311Z"
   },
   {
    "duration": 22,
    "start_time": "2022-09-03T08:38:13.520Z"
   },
   {
    "duration": 7,
    "start_time": "2022-09-03T08:38:13.702Z"
   },
   {
    "duration": 23,
    "start_time": "2022-09-03T08:38:13.914Z"
   },
   {
    "duration": 4,
    "start_time": "2022-09-03T08:38:14.103Z"
   },
   {
    "duration": 4,
    "start_time": "2022-09-03T08:40:22.205Z"
   },
   {
    "duration": 8,
    "start_time": "2022-09-03T08:41:10.401Z"
   },
   {
    "duration": 10,
    "start_time": "2022-09-03T08:41:18.077Z"
   },
   {
    "duration": 9,
    "start_time": "2022-09-03T08:54:14.073Z"
   },
   {
    "duration": 102,
    "start_time": "2022-09-03T08:54:15.525Z"
   },
   {
    "duration": 12,
    "start_time": "2022-09-03T08:54:36.807Z"
   },
   {
    "duration": 18,
    "start_time": "2022-09-03T08:57:42.148Z"
   },
   {
    "duration": 146,
    "start_time": "2022-09-03T08:58:11.152Z"
   },
   {
    "duration": 25,
    "start_time": "2022-09-03T08:59:10.355Z"
   },
   {
    "duration": 14,
    "start_time": "2022-09-03T08:59:45.298Z"
   },
   {
    "duration": 14,
    "start_time": "2022-09-03T09:00:14.901Z"
   },
   {
    "duration": 126,
    "start_time": "2022-09-03T09:01:26.739Z"
   },
   {
    "duration": 11,
    "start_time": "2022-09-03T09:05:27.474Z"
   },
   {
    "duration": 13,
    "start_time": "2022-09-03T09:05:38.495Z"
   },
   {
    "duration": 13,
    "start_time": "2022-09-03T09:05:46.654Z"
   },
   {
    "duration": 28,
    "start_time": "2022-09-03T09:07:08.590Z"
   },
   {
    "duration": 22,
    "start_time": "2022-09-03T09:07:14.729Z"
   },
   {
    "duration": 25,
    "start_time": "2022-09-03T09:07:40.841Z"
   },
   {
    "duration": 131,
    "start_time": "2022-09-03T09:07:56.314Z"
   },
   {
    "duration": 49,
    "start_time": "2022-09-03T09:08:19.622Z"
   },
   {
    "duration": 7,
    "start_time": "2022-09-03T09:08:25.370Z"
   },
   {
    "duration": 1121,
    "start_time": "2022-09-03T09:08:43.044Z"
   },
   {
    "duration": 934,
    "start_time": "2022-09-03T09:08:44.167Z"
   },
   {
    "duration": 47,
    "start_time": "2022-09-03T09:08:45.103Z"
   },
   {
    "duration": 53,
    "start_time": "2022-09-03T09:08:45.151Z"
   },
   {
    "duration": 25,
    "start_time": "2022-09-03T09:08:45.290Z"
   },
   {
    "duration": 35,
    "start_time": "2022-09-03T09:08:45.532Z"
   },
   {
    "duration": 23,
    "start_time": "2022-09-03T09:08:45.751Z"
   },
   {
    "duration": 126,
    "start_time": "2022-09-03T09:08:46.160Z"
   },
   {
    "duration": 33,
    "start_time": "2022-09-03T09:08:46.671Z"
   },
   {
    "duration": 9,
    "start_time": "2022-09-03T09:08:47.674Z"
   },
   {
    "duration": 11,
    "start_time": "2022-09-03T09:08:47.871Z"
   },
   {
    "duration": 27,
    "start_time": "2022-09-03T09:08:48.668Z"
   },
   {
    "duration": 8,
    "start_time": "2022-09-03T09:08:49.085Z"
   },
   {
    "duration": 31,
    "start_time": "2022-09-03T09:08:49.535Z"
   },
   {
    "duration": 23,
    "start_time": "2022-09-03T09:08:50.023Z"
   },
   {
    "duration": 8,
    "start_time": "2022-09-03T09:08:50.814Z"
   },
   {
    "duration": 10,
    "start_time": "2022-09-03T09:08:51.198Z"
   },
   {
    "duration": 27,
    "start_time": "2022-09-03T09:08:51.690Z"
   },
   {
    "duration": 12,
    "start_time": "2022-09-03T09:08:51.892Z"
   },
   {
    "duration": 8,
    "start_time": "2022-09-03T09:08:53.221Z"
   },
   {
    "duration": 13,
    "start_time": "2022-09-03T09:08:53.973Z"
   },
   {
    "duration": 36,
    "start_time": "2022-09-03T09:08:55.078Z"
   },
   {
    "duration": 14,
    "start_time": "2022-09-03T09:08:56.280Z"
   },
   {
    "duration": 3,
    "start_time": "2022-09-03T09:08:57.769Z"
   },
   {
    "duration": 28,
    "start_time": "2022-09-03T09:08:58.842Z"
   },
   {
    "duration": 8,
    "start_time": "2022-09-03T09:09:04.751Z"
   },
   {
    "duration": 23,
    "start_time": "2022-09-03T09:09:06.253Z"
   },
   {
    "duration": 4,
    "start_time": "2022-09-03T09:09:07.002Z"
   },
   {
    "duration": 10,
    "start_time": "2022-09-03T09:09:07.451Z"
   },
   {
    "duration": 152,
    "start_time": "2022-09-03T09:09:08.096Z"
   },
   {
    "duration": 75,
    "start_time": "2022-09-03T09:09:09.600Z"
   },
   {
    "duration": 13,
    "start_time": "2022-09-03T09:09:45.270Z"
   },
   {
    "duration": 201,
    "start_time": "2022-09-03T09:09:51.725Z"
   },
   {
    "duration": 7,
    "start_time": "2022-09-03T09:17:44.096Z"
   },
   {
    "duration": 5,
    "start_time": "2022-09-03T09:17:46.677Z"
   },
   {
    "duration": 7,
    "start_time": "2022-09-03T09:17:59.640Z"
   },
   {
    "duration": 812,
    "start_time": "2022-09-03T12:00:20.034Z"
   },
   {
    "duration": 4,
    "start_time": "2022-09-03T12:00:28.753Z"
   },
   {
    "duration": 600,
    "start_time": "2022-09-03T12:00:29.205Z"
   },
   {
    "duration": 47,
    "start_time": "2022-09-03T12:00:30.412Z"
   },
   {
    "duration": 47,
    "start_time": "2022-09-03T12:00:30.597Z"
   },
   {
    "duration": 35,
    "start_time": "2022-09-03T12:00:30.799Z"
   },
   {
    "duration": 38,
    "start_time": "2022-09-03T12:00:30.996Z"
   },
   {
    "duration": 35,
    "start_time": "2022-09-03T12:00:31.189Z"
   },
   {
    "duration": 109,
    "start_time": "2022-09-03T12:00:31.590Z"
   },
   {
    "duration": 36,
    "start_time": "2022-09-03T12:00:31.990Z"
   },
   {
    "duration": 9,
    "start_time": "2022-09-03T12:00:32.810Z"
   },
   {
    "duration": 14,
    "start_time": "2022-09-03T12:00:33.030Z"
   },
   {
    "duration": 25,
    "start_time": "2022-09-03T12:00:33.425Z"
   },
   {
    "duration": 8,
    "start_time": "2022-09-03T12:00:33.824Z"
   },
   {
    "duration": 27,
    "start_time": "2022-09-03T12:00:34.207Z"
   },
   {
    "duration": 19,
    "start_time": "2022-09-03T12:00:34.625Z"
   },
   {
    "duration": 8,
    "start_time": "2022-09-03T12:00:35.045Z"
   },
   {
    "duration": 10,
    "start_time": "2022-09-03T12:00:35.234Z"
   },
   {
    "duration": 31,
    "start_time": "2022-09-03T12:00:35.644Z"
   },
   {
    "duration": 12,
    "start_time": "2022-09-03T12:00:35.837Z"
   },
   {
    "duration": 10,
    "start_time": "2022-09-03T12:00:36.431Z"
   },
   {
    "duration": 12,
    "start_time": "2022-09-03T12:00:36.632Z"
   },
   {
    "duration": 38,
    "start_time": "2022-09-03T12:00:36.894Z"
   },
   {
    "duration": 15,
    "start_time": "2022-09-03T12:00:37.098Z"
   },
   {
    "duration": 3,
    "start_time": "2022-09-03T12:00:37.745Z"
   },
   {
    "duration": 37,
    "start_time": "2022-09-03T12:00:37.923Z"
   },
   {
    "duration": 10,
    "start_time": "2022-09-03T12:00:38.154Z"
   },
   {
    "duration": 35,
    "start_time": "2022-09-03T12:00:38.337Z"
   },
   {
    "duration": 5,
    "start_time": "2022-09-03T12:00:38.584Z"
   },
   {
    "duration": 11,
    "start_time": "2022-09-03T12:00:38.794Z"
   },
   {
    "duration": 165,
    "start_time": "2022-09-03T12:00:39.001Z"
   },
   {
    "duration": 216,
    "start_time": "2022-09-03T12:00:39.237Z"
   },
   {
    "duration": 9,
    "start_time": "2022-09-03T12:00:39.455Z"
   },
   {
    "duration": 910,
    "start_time": "2022-09-03T12:00:39.651Z"
   },
   {
    "duration": 8,
    "start_time": "2022-09-03T12:01:32.156Z"
   },
   {
    "duration": 13,
    "start_time": "2022-09-03T12:03:07.111Z"
   },
   {
    "duration": 11,
    "start_time": "2022-09-03T12:07:58.021Z"
   },
   {
    "duration": 887,
    "start_time": "2022-09-03T12:10:33.039Z"
   },
   {
    "duration": 1184,
    "start_time": "2022-09-03T12:11:30.362Z"
   },
   {
    "duration": 840,
    "start_time": "2022-09-03T12:11:33.217Z"
   },
   {
    "duration": 272,
    "start_time": "2022-09-03T12:12:55.247Z"
   },
   {
    "duration": 838,
    "start_time": "2022-09-03T12:12:58.201Z"
   },
   {
    "duration": 8,
    "start_time": "2022-09-03T12:13:45.001Z"
   },
   {
    "duration": 317,
    "start_time": "2022-09-03T12:13:45.652Z"
   },
   {
    "duration": 44,
    "start_time": "2022-09-03T12:13:52.363Z"
   },
   {
    "duration": 46,
    "start_time": "2022-09-03T12:13:52.555Z"
   },
   {
    "duration": 35,
    "start_time": "2022-09-03T12:13:52.756Z"
   },
   {
    "duration": 38,
    "start_time": "2022-09-03T12:13:52.945Z"
   },
   {
    "duration": 25,
    "start_time": "2022-09-03T12:13:53.318Z"
   },
   {
    "duration": 119,
    "start_time": "2022-09-03T12:13:53.741Z"
   },
   {
    "duration": 35,
    "start_time": "2022-09-03T12:13:54.134Z"
   },
   {
    "duration": 9,
    "start_time": "2022-09-03T12:13:54.931Z"
   },
   {
    "duration": 12,
    "start_time": "2022-09-03T12:13:55.123Z"
   },
   {
    "duration": 26,
    "start_time": "2022-09-03T12:13:55.520Z"
   },
   {
    "duration": 8,
    "start_time": "2022-09-03T12:13:55.917Z"
   },
   {
    "duration": 27,
    "start_time": "2022-09-03T12:13:56.317Z"
   },
   {
    "duration": 18,
    "start_time": "2022-09-03T12:13:56.722Z"
   },
   {
    "duration": 7,
    "start_time": "2022-09-03T12:13:57.125Z"
   },
   {
    "duration": 10,
    "start_time": "2022-09-03T12:13:57.320Z"
   },
   {
    "duration": 26,
    "start_time": "2022-09-03T12:13:57.754Z"
   },
   {
    "duration": 11,
    "start_time": "2022-09-03T12:13:57.956Z"
   },
   {
    "duration": 15,
    "start_time": "2022-09-03T12:13:58.602Z"
   },
   {
    "duration": 18,
    "start_time": "2022-09-03T12:13:58.804Z"
   },
   {
    "duration": 44,
    "start_time": "2022-09-03T12:13:59.197Z"
   },
   {
    "duration": 19,
    "start_time": "2022-09-03T12:13:59.421Z"
   },
   {
    "duration": 3,
    "start_time": "2022-09-03T12:14:00.057Z"
   },
   {
    "duration": 22,
    "start_time": "2022-09-03T12:14:00.240Z"
   },
   {
    "duration": 8,
    "start_time": "2022-09-03T12:14:00.624Z"
   },
   {
    "duration": 39,
    "start_time": "2022-09-03T12:14:00.845Z"
   },
   {
    "duration": 6,
    "start_time": "2022-09-03T12:14:01.060Z"
   },
   {
    "duration": 14,
    "start_time": "2022-09-03T12:14:01.305Z"
   },
   {
    "duration": 148,
    "start_time": "2022-09-03T12:14:01.493Z"
   },
   {
    "duration": 223,
    "start_time": "2022-09-03T12:14:01.734Z"
   },
   {
    "duration": 995,
    "start_time": "2022-09-03T12:14:01.959Z"
   },
   {
    "duration": 1091,
    "start_time": "2022-09-03T12:15:13.132Z"
   },
   {
    "duration": 25,
    "start_time": "2022-09-03T12:15:21.853Z"
   },
   {
    "duration": 927,
    "start_time": "2022-09-03T12:15:25.137Z"
   },
   {
    "duration": 1090,
    "start_time": "2022-09-03T12:15:41.992Z"
   },
   {
    "duration": 1078,
    "start_time": "2022-09-03T12:15:47.838Z"
   },
   {
    "duration": 15,
    "start_time": "2022-09-03T12:16:05.889Z"
   },
   {
    "duration": 38,
    "start_time": "2022-09-03T12:16:18.290Z"
   },
   {
    "duration": 1034,
    "start_time": "2022-09-03T12:16:27.265Z"
   },
   {
    "duration": 1059,
    "start_time": "2022-09-03T12:18:11.321Z"
   },
   {
    "duration": 856,
    "start_time": "2022-09-03T12:19:07.188Z"
   },
   {
    "duration": 6,
    "start_time": "2022-09-03T12:20:08.425Z"
   },
   {
    "duration": 392,
    "start_time": "2022-09-03T12:20:08.878Z"
   },
   {
    "duration": 41,
    "start_time": "2022-09-03T12:20:11.562Z"
   },
   {
    "duration": 60,
    "start_time": "2022-09-03T12:20:11.752Z"
   },
   {
    "duration": 40,
    "start_time": "2022-09-03T12:20:11.962Z"
   },
   {
    "duration": 36,
    "start_time": "2022-09-03T12:20:12.159Z"
   },
   {
    "duration": 33,
    "start_time": "2022-09-03T12:20:12.384Z"
   },
   {
    "duration": 119,
    "start_time": "2022-09-03T12:20:12.776Z"
   },
   {
    "duration": 44,
    "start_time": "2022-09-03T12:20:13.185Z"
   },
   {
    "duration": 13,
    "start_time": "2022-09-03T12:20:14.026Z"
   },
   {
    "duration": 18,
    "start_time": "2022-09-03T12:20:14.250Z"
   },
   {
    "duration": 27,
    "start_time": "2022-09-03T12:20:14.660Z"
   },
   {
    "duration": 10,
    "start_time": "2022-09-03T12:20:15.084Z"
   },
   {
    "duration": 31,
    "start_time": "2022-09-03T12:20:15.519Z"
   },
   {
    "duration": 21,
    "start_time": "2022-09-03T12:20:15.949Z"
   },
   {
    "duration": 8,
    "start_time": "2022-09-03T12:20:16.376Z"
   },
   {
    "duration": 9,
    "start_time": "2022-09-03T12:20:16.561Z"
   },
   {
    "duration": 41,
    "start_time": "2022-09-03T12:20:17.238Z"
   },
   {
    "duration": 15,
    "start_time": "2022-09-03T12:20:17.432Z"
   },
   {
    "duration": 9,
    "start_time": "2022-09-03T12:20:18.133Z"
   },
   {
    "duration": 13,
    "start_time": "2022-09-03T12:20:18.360Z"
   },
   {
    "duration": 41,
    "start_time": "2022-09-03T12:20:18.583Z"
   },
   {
    "duration": 14,
    "start_time": "2022-09-03T12:20:18.818Z"
   },
   {
    "duration": 3,
    "start_time": "2022-09-03T12:20:19.477Z"
   },
   {
    "duration": 36,
    "start_time": "2022-09-03T12:20:19.680Z"
   },
   {
    "duration": 25,
    "start_time": "2022-09-03T12:20:19.899Z"
   },
   {
    "duration": 28,
    "start_time": "2022-09-03T12:20:20.123Z"
   },
   {
    "duration": 5,
    "start_time": "2022-09-03T12:20:20.385Z"
   },
   {
    "duration": 15,
    "start_time": "2022-09-03T12:20:20.622Z"
   },
   {
    "duration": 154,
    "start_time": "2022-09-03T12:20:20.875Z"
   },
   {
    "duration": 240,
    "start_time": "2022-09-03T12:20:21.122Z"
   },
   {
    "duration": 39,
    "start_time": "2022-09-03T12:20:21.392Z"
   },
   {
    "duration": 1034,
    "start_time": "2022-09-03T12:20:21.607Z"
   },
   {
    "duration": 16,
    "start_time": "2022-09-03T12:23:49.129Z"
   },
   {
    "duration": 9,
    "start_time": "2022-09-03T12:23:54.351Z"
   },
   {
    "duration": 44,
    "start_time": "2022-09-03T12:24:03.081Z"
   },
   {
    "duration": 48,
    "start_time": "2022-09-03T12:26:49.836Z"
   },
   {
    "duration": 30,
    "start_time": "2022-09-03T12:27:57.640Z"
   },
   {
    "duration": 12,
    "start_time": "2022-09-03T12:32:51.433Z"
   },
   {
    "duration": 11,
    "start_time": "2022-09-03T12:33:06.338Z"
   },
   {
    "duration": 14,
    "start_time": "2022-09-03T12:33:20.820Z"
   },
   {
    "duration": 284,
    "start_time": "2022-09-03T14:08:54.076Z"
   },
   {
    "duration": 6,
    "start_time": "2022-09-03T14:17:18.862Z"
   },
   {
    "duration": 22,
    "start_time": "2022-09-03T14:18:15.905Z"
   },
   {
    "duration": 13,
    "start_time": "2022-09-03T14:19:34.113Z"
   },
   {
    "duration": 13,
    "start_time": "2022-09-03T14:19:54.498Z"
   },
   {
    "duration": 15,
    "start_time": "2022-09-03T14:20:04.013Z"
   },
   {
    "duration": 14,
    "start_time": "2022-09-03T14:20:24.813Z"
   },
   {
    "duration": 3197,
    "start_time": "2022-09-03T14:20:40.966Z"
   },
   {
    "duration": 16,
    "start_time": "2022-09-03T14:21:30.502Z"
   },
   {
    "duration": 9,
    "start_time": "2022-09-03T14:32:10.794Z"
   },
   {
    "duration": 10,
    "start_time": "2022-09-03T14:32:17.771Z"
   },
   {
    "duration": 13,
    "start_time": "2022-09-03T14:33:36.457Z"
   },
   {
    "duration": 13,
    "start_time": "2022-09-03T14:33:43.956Z"
   },
   {
    "duration": 10,
    "start_time": "2022-09-03T14:39:17.840Z"
   },
   {
    "duration": 15,
    "start_time": "2022-09-03T14:40:23.059Z"
   },
   {
    "duration": 11,
    "start_time": "2022-09-03T14:45:30.609Z"
   },
   {
    "duration": 3,
    "start_time": "2022-09-03T14:54:14.969Z"
   },
   {
    "duration": 434,
    "start_time": "2022-09-03T14:54:15.443Z"
   },
   {
    "duration": 39,
    "start_time": "2022-09-03T14:54:16.756Z"
   },
   {
    "duration": 36,
    "start_time": "2022-09-03T14:54:17.128Z"
   },
   {
    "duration": 26,
    "start_time": "2022-09-03T14:54:17.337Z"
   },
   {
    "duration": 52,
    "start_time": "2022-09-03T14:54:18.293Z"
   },
   {
    "duration": 26,
    "start_time": "2022-09-03T14:54:18.447Z"
   },
   {
    "duration": 131,
    "start_time": "2022-09-03T14:54:18.766Z"
   },
   {
    "duration": 38,
    "start_time": "2022-09-03T14:54:19.134Z"
   },
   {
    "duration": 13,
    "start_time": "2022-09-03T14:54:19.853Z"
   },
   {
    "duration": 15,
    "start_time": "2022-09-03T14:54:20.048Z"
   },
   {
    "duration": 39,
    "start_time": "2022-09-03T14:54:20.409Z"
   },
   {
    "duration": 8,
    "start_time": "2022-09-03T14:54:20.761Z"
   },
   {
    "duration": 28,
    "start_time": "2022-09-03T14:54:21.110Z"
   },
   {
    "duration": 18,
    "start_time": "2022-09-03T14:54:21.492Z"
   },
   {
    "duration": 12,
    "start_time": "2022-09-03T14:54:21.874Z"
   },
   {
    "duration": 14,
    "start_time": "2022-09-03T14:54:22.033Z"
   },
   {
    "duration": 33,
    "start_time": "2022-09-03T14:54:22.408Z"
   },
   {
    "duration": 13,
    "start_time": "2022-09-03T14:54:22.590Z"
   },
   {
    "duration": 9,
    "start_time": "2022-09-03T14:54:23.142Z"
   },
   {
    "duration": 14,
    "start_time": "2022-09-03T14:54:23.334Z"
   },
   {
    "duration": 43,
    "start_time": "2022-09-03T14:54:23.527Z"
   },
   {
    "duration": 13,
    "start_time": "2022-09-03T14:54:23.733Z"
   },
   {
    "duration": 3,
    "start_time": "2022-09-03T14:54:24.285Z"
   },
   {
    "duration": 24,
    "start_time": "2022-09-03T14:54:24.478Z"
   },
   {
    "duration": 8,
    "start_time": "2022-09-03T14:54:24.674Z"
   },
   {
    "duration": 25,
    "start_time": "2022-09-03T14:54:24.858Z"
   },
   {
    "duration": 5,
    "start_time": "2022-09-03T14:54:25.042Z"
   },
   {
    "duration": 9,
    "start_time": "2022-09-03T14:54:25.231Z"
   },
   {
    "duration": 143,
    "start_time": "2022-09-03T14:54:25.436Z"
   },
   {
    "duration": 239,
    "start_time": "2022-09-03T14:54:25.632Z"
   },
   {
    "duration": 51,
    "start_time": "2022-09-03T14:54:25.873Z"
   },
   {
    "duration": 44,
    "start_time": "2022-09-03T14:54:25.994Z"
   },
   {
    "duration": 271,
    "start_time": "2022-09-03T14:54:26.162Z"
   },
   {
    "duration": 14,
    "start_time": "2022-09-03T14:54:26.435Z"
   },
   {
    "duration": 11,
    "start_time": "2022-09-03T14:54:26.952Z"
   },
   {
    "duration": 16,
    "start_time": "2022-09-03T15:44:58.851Z"
   },
   {
    "duration": 14,
    "start_time": "2022-09-03T15:52:49.437Z"
   },
   {
    "duration": 40,
    "start_time": "2022-09-03T15:53:45.306Z"
   },
   {
    "duration": 17,
    "start_time": "2022-09-03T15:54:12.550Z"
   },
   {
    "duration": 16,
    "start_time": "2022-09-03T15:54:25.508Z"
   },
   {
    "duration": 4,
    "start_time": "2022-09-03T15:54:47.907Z"
   },
   {
    "duration": 328,
    "start_time": "2022-09-03T15:54:48.371Z"
   },
   {
    "duration": 46,
    "start_time": "2022-09-03T15:54:49.818Z"
   },
   {
    "duration": 44,
    "start_time": "2022-09-03T15:54:50.007Z"
   },
   {
    "duration": 37,
    "start_time": "2022-09-03T15:54:50.162Z"
   },
   {
    "duration": 50,
    "start_time": "2022-09-03T15:54:50.536Z"
   },
   {
    "duration": 27,
    "start_time": "2022-09-03T15:54:50.761Z"
   },
   {
    "duration": 121,
    "start_time": "2022-09-03T15:54:51.594Z"
   },
   {
    "duration": 58,
    "start_time": "2022-09-03T15:54:51.914Z"
   },
   {
    "duration": 11,
    "start_time": "2022-09-03T15:54:52.546Z"
   },
   {
    "duration": 13,
    "start_time": "2022-09-03T15:54:52.702Z"
   },
   {
    "duration": 36,
    "start_time": "2022-09-03T15:54:53.031Z"
   },
   {
    "duration": 10,
    "start_time": "2022-09-03T15:54:53.416Z"
   },
   {
    "duration": 39,
    "start_time": "2022-09-03T15:54:53.771Z"
   },
   {
    "duration": 20,
    "start_time": "2022-09-03T15:54:54.093Z"
   },
   {
    "duration": 12,
    "start_time": "2022-09-03T15:54:54.434Z"
   },
   {
    "duration": 11,
    "start_time": "2022-09-03T15:54:54.592Z"
   },
   {
    "duration": 31,
    "start_time": "2022-09-03T15:54:54.900Z"
   },
   {
    "duration": 12,
    "start_time": "2022-09-03T15:54:55.077Z"
   },
   {
    "duration": 9,
    "start_time": "2022-09-03T15:54:55.591Z"
   },
   {
    "duration": 12,
    "start_time": "2022-09-03T15:54:55.768Z"
   },
   {
    "duration": 51,
    "start_time": "2022-09-03T15:54:55.936Z"
   },
   {
    "duration": 15,
    "start_time": "2022-09-03T15:54:56.107Z"
   },
   {
    "duration": 4,
    "start_time": "2022-09-03T15:54:56.623Z"
   },
   {
    "duration": 39,
    "start_time": "2022-09-03T15:54:56.795Z"
   },
   {
    "duration": 8,
    "start_time": "2022-09-03T15:54:56.978Z"
   },
   {
    "duration": 25,
    "start_time": "2022-09-03T15:54:57.147Z"
   },
   {
    "duration": 4,
    "start_time": "2022-09-03T15:54:57.325Z"
   },
   {
    "duration": 13,
    "start_time": "2022-09-03T15:54:57.506Z"
   },
   {
    "duration": 136,
    "start_time": "2022-09-03T15:54:57.669Z"
   },
   {
    "duration": 210,
    "start_time": "2022-09-03T15:54:57.848Z"
   },
   {
    "duration": 61,
    "start_time": "2022-09-03T15:54:58.060Z"
   },
   {
    "duration": 31,
    "start_time": "2022-09-03T15:54:58.215Z"
   },
   {
    "duration": 276,
    "start_time": "2022-09-03T15:54:58.390Z"
   },
   {
    "duration": 14,
    "start_time": "2022-09-03T15:54:58.667Z"
   },
   {
    "duration": 14,
    "start_time": "2022-09-03T15:54:59.116Z"
   },
   {
    "duration": 10,
    "start_time": "2022-09-03T15:58:41.841Z"
   },
   {
    "duration": 12,
    "start_time": "2022-09-03T15:59:14.550Z"
   },
   {
    "duration": 10,
    "start_time": "2022-09-03T15:59:20.356Z"
   },
   {
    "duration": 10,
    "start_time": "2022-09-03T15:59:38.330Z"
   },
   {
    "duration": 11,
    "start_time": "2022-09-03T16:00:06.427Z"
   },
   {
    "duration": 12,
    "start_time": "2022-09-03T16:00:18.945Z"
   },
   {
    "duration": 45,
    "start_time": "2022-09-03T16:00:32.062Z"
   },
   {
    "duration": 12,
    "start_time": "2022-09-03T16:01:27.819Z"
   },
   {
    "duration": 10,
    "start_time": "2022-09-03T16:01:45.757Z"
   },
   {
    "duration": 148,
    "start_time": "2022-09-03T16:02:28.925Z"
   },
   {
    "duration": 11,
    "start_time": "2022-09-03T16:02:49.117Z"
   },
   {
    "duration": 58,
    "start_time": "2022-09-03T16:03:59.930Z"
   },
   {
    "duration": 66,
    "start_time": "2022-09-03T16:04:27.934Z"
   },
   {
    "duration": 107,
    "start_time": "2022-09-03T16:04:53.968Z"
   },
   {
    "duration": 71,
    "start_time": "2022-09-03T16:05:17.330Z"
   },
   {
    "duration": 36,
    "start_time": "2022-09-03T16:12:10.615Z"
   },
   {
    "duration": 30,
    "start_time": "2022-09-03T16:12:48.295Z"
   },
   {
    "duration": 458,
    "start_time": "2022-09-03T16:14:43.469Z"
   },
   {
    "duration": 589,
    "start_time": "2022-09-03T16:15:16.346Z"
   },
   {
    "duration": 411,
    "start_time": "2022-09-03T16:15:22.702Z"
   },
   {
    "duration": 438,
    "start_time": "2022-09-03T16:15:41.045Z"
   },
   {
    "duration": 549,
    "start_time": "2022-09-03T16:15:52.281Z"
   },
   {
    "duration": 409,
    "start_time": "2022-09-03T16:16:16.344Z"
   },
   {
    "duration": 1233,
    "start_time": "2022-09-03T16:19:44.656Z"
   },
   {
    "duration": 87,
    "start_time": "2022-09-03T16:20:00.340Z"
   },
   {
    "duration": 1144,
    "start_time": "2022-09-04T06:58:40.707Z"
   },
   {
    "duration": 937,
    "start_time": "2022-09-04T06:58:41.853Z"
   },
   {
    "duration": 49,
    "start_time": "2022-09-04T06:58:42.802Z"
   },
   {
    "duration": 36,
    "start_time": "2022-09-04T06:58:43.006Z"
   },
   {
    "duration": 30,
    "start_time": "2022-09-04T06:58:43.214Z"
   },
   {
    "duration": 30,
    "start_time": "2022-09-04T06:58:43.969Z"
   },
   {
    "duration": 19,
    "start_time": "2022-09-04T06:58:44.235Z"
   },
   {
    "duration": 112,
    "start_time": "2022-09-04T06:58:44.656Z"
   },
   {
    "duration": 34,
    "start_time": "2022-09-04T06:58:45.070Z"
   },
   {
    "duration": 9,
    "start_time": "2022-09-04T06:58:45.916Z"
   },
   {
    "duration": 11,
    "start_time": "2022-09-04T06:58:46.132Z"
   },
   {
    "duration": 25,
    "start_time": "2022-09-04T06:58:46.537Z"
   },
   {
    "duration": 8,
    "start_time": "2022-09-04T06:58:46.969Z"
   },
   {
    "duration": 29,
    "start_time": "2022-09-04T06:58:47.480Z"
   },
   {
    "duration": 23,
    "start_time": "2022-09-04T06:58:47.938Z"
   },
   {
    "duration": 7,
    "start_time": "2022-09-04T06:58:48.478Z"
   },
   {
    "duration": 8,
    "start_time": "2022-09-04T06:58:48.737Z"
   },
   {
    "duration": 25,
    "start_time": "2022-09-04T06:58:49.157Z"
   },
   {
    "duration": 11,
    "start_time": "2022-09-04T06:58:49.370Z"
   },
   {
    "duration": 8,
    "start_time": "2022-09-04T06:58:50.103Z"
   },
   {
    "duration": 11,
    "start_time": "2022-09-04T06:58:50.210Z"
   },
   {
    "duration": 33,
    "start_time": "2022-09-04T06:58:50.421Z"
   },
   {
    "duration": 12,
    "start_time": "2022-09-04T06:58:50.634Z"
   },
   {
    "duration": 3,
    "start_time": "2022-09-04T06:58:51.251Z"
   },
   {
    "duration": 19,
    "start_time": "2022-09-04T06:58:51.485Z"
   },
   {
    "duration": 7,
    "start_time": "2022-09-04T06:58:51.694Z"
   },
   {
    "duration": 20,
    "start_time": "2022-09-04T06:58:51.920Z"
   },
   {
    "duration": 4,
    "start_time": "2022-09-04T06:58:52.124Z"
   },
   {
    "duration": 9,
    "start_time": "2022-09-04T06:58:52.369Z"
   },
   {
    "duration": 136,
    "start_time": "2022-09-04T06:58:52.625Z"
   },
   {
    "duration": 193,
    "start_time": "2022-09-04T06:58:52.825Z"
   },
   {
    "duration": 35,
    "start_time": "2022-09-04T06:58:53.039Z"
   },
   {
    "duration": 27,
    "start_time": "2022-09-04T06:58:53.271Z"
   },
   {
    "duration": 258,
    "start_time": "2022-09-04T06:58:53.501Z"
   },
   {
    "duration": 103,
    "start_time": "2022-09-04T06:58:53.761Z"
   },
   {
    "duration": 59,
    "start_time": "2022-09-04T06:58:54.395Z"
   },
   {
    "duration": 79,
    "start_time": "2022-09-04T06:58:54.869Z"
   },
   {
    "duration": 68,
    "start_time": "2022-09-04T06:58:55.135Z"
   },
   {
    "duration": 54,
    "start_time": "2022-09-04T07:08:11.394Z"
   },
   {
    "duration": 5,
    "start_time": "2022-09-04T08:26:09.115Z"
   },
   {
    "duration": 3,
    "start_time": "2022-09-04T08:26:33.661Z"
   },
   {
    "duration": 2,
    "start_time": "2022-09-04T08:27:54.146Z"
   },
   {
    "duration": 306,
    "start_time": "2022-09-04T08:27:54.516Z"
   },
   {
    "duration": 35,
    "start_time": "2022-09-04T08:27:55.619Z"
   },
   {
    "duration": 32,
    "start_time": "2022-09-04T08:27:55.811Z"
   },
   {
    "duration": 27,
    "start_time": "2022-09-04T08:27:55.987Z"
   },
   {
    "duration": 35,
    "start_time": "2022-09-04T08:27:56.118Z"
   },
   {
    "duration": 21,
    "start_time": "2022-09-04T08:27:56.279Z"
   },
   {
    "duration": 93,
    "start_time": "2022-09-04T08:27:56.653Z"
   },
   {
    "duration": 34,
    "start_time": "2022-09-04T08:27:57.036Z"
   },
   {
    "duration": 8,
    "start_time": "2022-09-04T08:27:57.963Z"
   },
   {
    "duration": 12,
    "start_time": "2022-09-04T08:27:58.158Z"
   },
   {
    "duration": 22,
    "start_time": "2022-09-04T08:27:58.534Z"
   },
   {
    "duration": 7,
    "start_time": "2022-09-04T08:27:58.919Z"
   },
   {
    "duration": 24,
    "start_time": "2022-09-04T08:27:59.319Z"
   },
   {
    "duration": 17,
    "start_time": "2022-09-04T08:27:59.684Z"
   },
   {
    "duration": 9,
    "start_time": "2022-09-04T08:28:00.033Z"
   },
   {
    "duration": 9,
    "start_time": "2022-09-04T08:28:00.228Z"
   },
   {
    "duration": 25,
    "start_time": "2022-09-04T08:28:00.618Z"
   },
   {
    "duration": 10,
    "start_time": "2022-09-04T08:28:00.814Z"
   },
   {
    "duration": 8,
    "start_time": "2022-09-04T08:28:01.398Z"
   },
   {
    "duration": 11,
    "start_time": "2022-09-04T08:28:01.594Z"
   },
   {
    "duration": 34,
    "start_time": "2022-09-04T08:28:01.828Z"
   },
   {
    "duration": 12,
    "start_time": "2022-09-04T08:28:02.043Z"
   },
   {
    "duration": 3,
    "start_time": "2022-09-04T08:28:02.653Z"
   },
   {
    "duration": 21,
    "start_time": "2022-09-04T08:28:02.852Z"
   },
   {
    "duration": 6,
    "start_time": "2022-09-04T08:28:03.043Z"
   },
   {
    "duration": 23,
    "start_time": "2022-09-04T08:28:03.406Z"
   },
   {
    "duration": 4,
    "start_time": "2022-09-04T08:28:03.623Z"
   },
   {
    "duration": 8,
    "start_time": "2022-09-04T08:28:03.869Z"
   },
   {
    "duration": 135,
    "start_time": "2022-09-04T08:28:04.105Z"
   },
   {
    "duration": 195,
    "start_time": "2022-09-04T08:28:04.294Z"
   },
   {
    "duration": 37,
    "start_time": "2022-09-04T08:28:04.548Z"
   },
   {
    "duration": 28,
    "start_time": "2022-09-04T08:28:04.930Z"
   },
   {
    "duration": 243,
    "start_time": "2022-09-04T08:28:05.147Z"
   },
   {
    "duration": 58,
    "start_time": "2022-09-04T08:28:05.494Z"
   },
   {
    "duration": 4,
    "start_time": "2022-09-04T08:50:30.109Z"
   },
   {
    "duration": 5,
    "start_time": "2022-09-04T08:50:32.833Z"
   },
   {
    "duration": 8,
    "start_time": "2022-09-04T08:51:14.054Z"
   },
   {
    "duration": 2679,
    "start_time": "2022-09-04T08:51:24.378Z"
   },
   {
    "duration": 5,
    "start_time": "2022-09-04T08:52:17.452Z"
   },
   {
    "duration": 2394,
    "start_time": "2022-09-04T08:52:20.078Z"
   },
   {
    "duration": 23,
    "start_time": "2022-09-04T08:55:34.937Z"
   },
   {
    "duration": 3,
    "start_time": "2022-09-04T08:56:05.504Z"
   },
   {
    "duration": 309,
    "start_time": "2022-09-04T08:56:05.885Z"
   },
   {
    "duration": 41,
    "start_time": "2022-09-04T08:56:06.972Z"
   },
   {
    "duration": 44,
    "start_time": "2022-09-04T08:56:07.166Z"
   },
   {
    "duration": 32,
    "start_time": "2022-09-04T08:56:07.326Z"
   },
   {
    "duration": 32,
    "start_time": "2022-09-04T08:56:07.522Z"
   },
   {
    "duration": 20,
    "start_time": "2022-09-04T08:56:07.719Z"
   },
   {
    "duration": 93,
    "start_time": "2022-09-04T08:56:08.097Z"
   },
   {
    "duration": 36,
    "start_time": "2022-09-04T08:56:08.466Z"
   },
   {
    "duration": 8,
    "start_time": "2022-09-04T08:56:09.308Z"
   },
   {
    "duration": 12,
    "start_time": "2022-09-04T08:56:09.513Z"
   },
   {
    "duration": 22,
    "start_time": "2022-09-04T08:56:09.914Z"
   },
   {
    "duration": 7,
    "start_time": "2022-09-04T08:56:10.491Z"
   },
   {
    "duration": 24,
    "start_time": "2022-09-04T08:56:10.896Z"
   },
   {
    "duration": 17,
    "start_time": "2022-09-04T08:56:11.301Z"
   },
   {
    "duration": 8,
    "start_time": "2022-09-04T08:56:11.694Z"
   },
   {
    "duration": 9,
    "start_time": "2022-09-04T08:56:11.874Z"
   },
   {
    "duration": 24,
    "start_time": "2022-09-04T08:56:12.250Z"
   },
   {
    "duration": 11,
    "start_time": "2022-09-04T08:56:12.429Z"
   },
   {
    "duration": 8,
    "start_time": "2022-09-04T08:56:13.201Z"
   },
   {
    "duration": 10,
    "start_time": "2022-09-04T08:56:13.405Z"
   },
   {
    "duration": 31,
    "start_time": "2022-09-04T08:56:13.601Z"
   },
   {
    "duration": 12,
    "start_time": "2022-09-04T08:56:13.792Z"
   },
   {
    "duration": 4,
    "start_time": "2022-09-04T08:56:14.385Z"
   },
   {
    "duration": 21,
    "start_time": "2022-09-04T08:56:14.575Z"
   },
   {
    "duration": 7,
    "start_time": "2022-09-04T08:56:14.773Z"
   },
   {
    "duration": 23,
    "start_time": "2022-09-04T08:56:14.982Z"
   },
   {
    "duration": 4,
    "start_time": "2022-09-04T08:56:15.191Z"
   },
   {
    "duration": 9,
    "start_time": "2022-09-04T08:56:15.386Z"
   },
   {
    "duration": 137,
    "start_time": "2022-09-04T08:56:15.582Z"
   },
   {
    "duration": 202,
    "start_time": "2022-09-04T08:56:15.788Z"
   },
   {
    "duration": 41,
    "start_time": "2022-09-04T08:56:16.006Z"
   },
   {
    "duration": 27,
    "start_time": "2022-09-04T08:56:16.208Z"
   },
   {
    "duration": 24,
    "start_time": "2022-09-04T08:56:16.404Z"
   },
   {
    "duration": 256,
    "start_time": "2022-09-04T08:56:16.589Z"
   },
   {
    "duration": 4,
    "start_time": "2022-09-04T08:56:16.846Z"
   },
   {
    "duration": 2705,
    "start_time": "2022-09-04T08:56:17.012Z"
   },
   {
    "duration": 0,
    "start_time": "2022-09-04T08:56:19.718Z"
   },
   {
    "duration": 0,
    "start_time": "2022-09-04T08:56:19.720Z"
   },
   {
    "duration": 64,
    "start_time": "2022-09-04T08:56:22.135Z"
   },
   {
    "duration": 4,
    "start_time": "2022-09-04T09:22:10.650Z"
   },
   {
    "duration": 2821,
    "start_time": "2022-09-04T09:22:11.622Z"
   },
   {
    "duration": 4,
    "start_time": "2022-09-04T09:22:39.791Z"
   },
   {
    "duration": 2544,
    "start_time": "2022-09-04T09:22:42.532Z"
   },
   {
    "duration": 4,
    "start_time": "2022-09-04T09:23:00.822Z"
   },
   {
    "duration": 4,
    "start_time": "2022-09-04T09:23:04.972Z"
   },
   {
    "duration": 14684,
    "start_time": "2022-09-04T09:23:06.002Z"
   },
   {
    "duration": 14554,
    "start_time": "2022-09-04T09:24:00.296Z"
   },
   {
    "duration": 79,
    "start_time": "2022-09-04T09:24:14.852Z"
   },
   {
    "duration": 99,
    "start_time": "2022-09-04T09:24:14.933Z"
   },
   {
    "duration": 57,
    "start_time": "2022-09-04T09:24:15.033Z"
   },
   {
    "duration": 14706,
    "start_time": "2022-09-04T09:24:30.629Z"
   },
   {
    "duration": 967,
    "start_time": "2022-09-04T10:14:27.028Z"
   },
   {
    "duration": 69,
    "start_time": "2022-09-04T10:14:53.344Z"
   },
   {
    "duration": 77,
    "start_time": "2022-09-04T10:15:10.029Z"
   },
   {
    "duration": 8,
    "start_time": "2022-09-04T10:15:47.549Z"
   },
   {
    "duration": 8,
    "start_time": "2022-09-04T10:15:49.393Z"
   },
   {
    "duration": 4,
    "start_time": "2022-09-04T10:16:08.348Z"
   },
   {
    "duration": 4,
    "start_time": "2022-09-04T10:16:23.130Z"
   },
   {
    "duration": 10,
    "start_time": "2022-09-04T10:17:21.244Z"
   },
   {
    "duration": 67,
    "start_time": "2022-09-04T10:17:31.988Z"
   },
   {
    "duration": 7,
    "start_time": "2022-09-04T10:17:32.225Z"
   },
   {
    "duration": 4,
    "start_time": "2022-09-04T10:17:32.438Z"
   },
   {
    "duration": 9,
    "start_time": "2022-09-04T10:17:32.645Z"
   },
   {
    "duration": 8,
    "start_time": "2022-09-04T10:18:08.259Z"
   },
   {
    "duration": 3,
    "start_time": "2022-09-04T10:18:08.688Z"
   },
   {
    "duration": 10,
    "start_time": "2022-09-04T10:18:09.888Z"
   },
   {
    "duration": 69,
    "start_time": "2022-09-04T10:18:25.227Z"
   },
   {
    "duration": 8,
    "start_time": "2022-09-04T10:18:25.499Z"
   },
   {
    "duration": 3,
    "start_time": "2022-09-04T10:18:25.734Z"
   },
   {
    "duration": 11,
    "start_time": "2022-09-04T10:18:26.130Z"
   },
   {
    "duration": 70,
    "start_time": "2022-09-04T10:21:05.228Z"
   },
   {
    "duration": 8,
    "start_time": "2022-09-04T10:21:07.979Z"
   },
   {
    "duration": 4,
    "start_time": "2022-09-04T10:21:08.457Z"
   },
   {
    "duration": 10,
    "start_time": "2022-09-04T10:21:08.828Z"
   },
   {
    "duration": 44,
    "start_time": "2022-09-04T10:22:08.751Z"
   },
   {
    "duration": 9,
    "start_time": "2022-09-04T10:22:17.416Z"
   },
   {
    "duration": 9,
    "start_time": "2022-09-04T10:22:24.491Z"
   },
   {
    "duration": 70,
    "start_time": "2022-09-04T10:22:51.468Z"
   },
   {
    "duration": 75,
    "start_time": "2022-09-04T10:22:53.945Z"
   },
   {
    "duration": 33,
    "start_time": "2022-09-04T10:22:54.455Z"
   },
   {
    "duration": 6,
    "start_time": "2022-09-04T10:22:54.690Z"
   },
   {
    "duration": 10,
    "start_time": "2022-09-04T10:22:54.979Z"
   },
   {
    "duration": 1011,
    "start_time": "2022-09-04T10:30:41.445Z"
   },
   {
    "duration": 83,
    "start_time": "2022-09-04T10:31:01.967Z"
   },
   {
    "duration": 109,
    "start_time": "2022-09-04T10:31:28.858Z"
   },
   {
    "duration": 113,
    "start_time": "2022-09-04T10:32:27.900Z"
   },
   {
    "duration": 58,
    "start_time": "2022-09-04T10:36:57.701Z"
   },
   {
    "duration": 978,
    "start_time": "2022-09-04T17:11:57.203Z"
   },
   {
    "duration": 697,
    "start_time": "2022-09-04T17:11:58.182Z"
   },
   {
    "duration": 39,
    "start_time": "2022-09-04T17:11:58.881Z"
   },
   {
    "duration": 29,
    "start_time": "2022-09-04T17:11:58.921Z"
   },
   {
    "duration": 19,
    "start_time": "2022-09-04T17:11:58.951Z"
   },
   {
    "duration": 42,
    "start_time": "2022-09-04T17:11:58.971Z"
   },
   {
    "duration": 17,
    "start_time": "2022-09-04T17:11:59.014Z"
   },
   {
    "duration": 114,
    "start_time": "2022-09-04T17:11:59.033Z"
   },
   {
    "duration": 28,
    "start_time": "2022-09-04T17:11:59.148Z"
   },
   {
    "duration": 8,
    "start_time": "2022-09-04T17:11:59.178Z"
   },
   {
    "duration": 27,
    "start_time": "2022-09-04T17:11:59.187Z"
   },
   {
    "duration": 23,
    "start_time": "2022-09-04T17:11:59.216Z"
   },
   {
    "duration": 6,
    "start_time": "2022-09-04T17:11:59.241Z"
   },
   {
    "duration": 34,
    "start_time": "2022-09-04T17:11:59.248Z"
   },
   {
    "duration": 36,
    "start_time": "2022-09-04T17:11:59.283Z"
   },
   {
    "duration": 7,
    "start_time": "2022-09-04T17:11:59.321Z"
   },
   {
    "duration": 10,
    "start_time": "2022-09-04T17:11:59.329Z"
   },
   {
    "duration": 24,
    "start_time": "2022-09-04T17:11:59.341Z"
   },
   {
    "duration": 10,
    "start_time": "2022-09-04T17:11:59.366Z"
   },
   {
    "duration": 30,
    "start_time": "2022-09-04T17:11:59.378Z"
   },
   {
    "duration": 14,
    "start_time": "2022-09-04T17:11:59.409Z"
   },
   {
    "duration": 32,
    "start_time": "2022-09-04T17:11:59.424Z"
   },
   {
    "duration": 10,
    "start_time": "2022-09-04T17:11:59.457Z"
   },
   {
    "duration": 3,
    "start_time": "2022-09-04T17:11:59.468Z"
   },
   {
    "duration": 41,
    "start_time": "2022-09-04T17:11:59.472Z"
   },
   {
    "duration": 5,
    "start_time": "2022-09-04T17:11:59.514Z"
   },
   {
    "duration": 20,
    "start_time": "2022-09-04T17:11:59.520Z"
   },
   {
    "duration": 3,
    "start_time": "2022-09-04T17:11:59.544Z"
   },
   {
    "duration": 10,
    "start_time": "2022-09-04T17:11:59.548Z"
   },
   {
    "duration": 143,
    "start_time": "2022-09-04T17:11:59.560Z"
   },
   {
    "duration": 182,
    "start_time": "2022-09-04T17:11:59.706Z"
   },
   {
    "duration": 39,
    "start_time": "2022-09-04T17:11:59.889Z"
   },
   {
    "duration": 24,
    "start_time": "2022-09-04T17:11:59.929Z"
   },
   {
    "duration": 23,
    "start_time": "2022-09-04T17:11:59.954Z"
   },
   {
    "duration": 246,
    "start_time": "2022-09-04T17:11:59.979Z"
   },
   {
    "duration": 4,
    "start_time": "2022-09-04T17:12:00.226Z"
   },
   {
    "duration": 14604,
    "start_time": "2022-09-04T17:12:00.231Z"
   },
   {
    "duration": 48,
    "start_time": "2022-09-04T17:12:14.837Z"
   },
   {
    "duration": 87,
    "start_time": "2022-09-04T17:12:14.886Z"
   },
   {
    "duration": 65,
    "start_time": "2022-09-04T17:12:14.975Z"
   },
   {
    "duration": 196,
    "start_time": "2022-09-04T17:12:15.041Z"
   },
   {
    "duration": 0,
    "start_time": "2022-09-04T17:12:15.238Z"
   },
   {
    "duration": 360,
    "start_time": "2022-09-04T17:15:44.222Z"
   },
   {
    "duration": 32,
    "start_time": "2022-09-04T17:16:42.804Z"
   },
   {
    "duration": 1294,
    "start_time": "2022-09-05T18:51:43.821Z"
   },
   {
    "duration": 3,
    "start_time": "2022-09-05T18:51:45.701Z"
   },
   {
    "duration": 1046,
    "start_time": "2022-09-05T18:51:47.976Z"
   },
   {
    "duration": 47,
    "start_time": "2022-09-05T18:51:49.488Z"
   },
   {
    "duration": 38,
    "start_time": "2022-09-05T18:51:49.537Z"
   },
   {
    "duration": 38,
    "start_time": "2022-09-05T18:51:49.577Z"
   },
   {
    "duration": 37,
    "start_time": "2022-09-05T18:51:49.749Z"
   },
   {
    "duration": 23,
    "start_time": "2022-09-05T18:51:49.966Z"
   },
   {
    "duration": 134,
    "start_time": "2022-09-05T18:51:50.366Z"
   },
   {
    "duration": 36,
    "start_time": "2022-09-05T18:51:50.751Z"
   },
   {
    "duration": 9,
    "start_time": "2022-09-05T18:51:52.016Z"
   },
   {
    "duration": 13,
    "start_time": "2022-09-05T18:51:52.230Z"
   },
   {
    "duration": 26,
    "start_time": "2022-09-05T18:51:52.813Z"
   },
   {
    "duration": 7,
    "start_time": "2022-09-05T18:51:53.282Z"
   },
   {
    "duration": 7,
    "start_time": "2022-09-05T18:52:01.685Z"
   },
   {
    "duration": 7,
    "start_time": "2022-09-05T18:52:04.783Z"
   },
   {
    "duration": 99,
    "start_time": "2022-09-05T19:09:54.440Z"
   },
   {
    "duration": 9,
    "start_time": "2022-09-05T19:26:49.938Z"
   },
   {
    "duration": 4,
    "start_time": "2022-09-05T19:27:10.043Z"
   },
   {
    "duration": 312,
    "start_time": "2022-09-05T19:27:10.488Z"
   },
   {
    "duration": 39,
    "start_time": "2022-09-05T19:27:12.038Z"
   },
   {
    "duration": 35,
    "start_time": "2022-09-05T19:27:12.268Z"
   },
   {
    "duration": 24,
    "start_time": "2022-09-05T19:27:12.487Z"
   },
   {
    "duration": 35,
    "start_time": "2022-09-05T19:27:12.714Z"
   },
   {
    "duration": 22,
    "start_time": "2022-09-05T19:27:12.965Z"
   },
   {
    "duration": 111,
    "start_time": "2022-09-05T19:27:13.433Z"
   },
   {
    "duration": 32,
    "start_time": "2022-09-05T19:27:13.923Z"
   },
   {
    "duration": 9,
    "start_time": "2022-09-05T19:27:15.272Z"
   },
   {
    "duration": 13,
    "start_time": "2022-09-05T19:27:15.616Z"
   },
   {
    "duration": 28,
    "start_time": "2022-09-05T19:27:16.120Z"
   },
   {
    "duration": 9,
    "start_time": "2022-09-05T19:27:16.733Z"
   },
   {
    "duration": 9,
    "start_time": "2022-09-05T19:27:20.171Z"
   },
   {
    "duration": 1165,
    "start_time": "2022-09-06T04:33:27.351Z"
   },
   {
    "duration": 920,
    "start_time": "2022-09-06T04:33:30.656Z"
   },
   {
    "duration": 43,
    "start_time": "2022-09-06T04:33:31.894Z"
   },
   {
    "duration": 33,
    "start_time": "2022-09-06T04:33:32.200Z"
   },
   {
    "duration": 24,
    "start_time": "2022-09-06T04:33:32.657Z"
   },
   {
    "duration": 32,
    "start_time": "2022-09-06T04:33:32.863Z"
   },
   {
    "duration": 21,
    "start_time": "2022-09-06T04:33:33.260Z"
   },
   {
    "duration": 106,
    "start_time": "2022-09-06T04:33:33.682Z"
   },
   {
    "duration": 30,
    "start_time": "2022-09-06T04:33:34.132Z"
   },
   {
    "duration": 11,
    "start_time": "2022-09-06T04:33:35.610Z"
   },
   {
    "duration": 11,
    "start_time": "2022-09-06T04:33:35.798Z"
   },
   {
    "duration": 23,
    "start_time": "2022-09-06T04:33:38.745Z"
   },
   {
    "duration": 8,
    "start_time": "2022-09-06T04:33:39.921Z"
   },
   {
    "duration": 91,
    "start_time": "2022-09-06T04:33:43.128Z"
   },
   {
    "duration": 27,
    "start_time": "2022-09-06T04:34:10.353Z"
   },
   {
    "duration": 23,
    "start_time": "2022-09-06T04:43:20.433Z"
   },
   {
    "duration": 10,
    "start_time": "2022-09-06T04:43:38.345Z"
   },
   {
    "duration": 19,
    "start_time": "2022-09-06T04:43:56.052Z"
   },
   {
    "duration": 9,
    "start_time": "2022-09-06T04:44:17.694Z"
   },
   {
    "duration": 10,
    "start_time": "2022-09-06T04:44:23.718Z"
   },
   {
    "duration": 21,
    "start_time": "2022-09-06T04:44:47.623Z"
   },
   {
    "duration": 23,
    "start_time": "2022-09-06T04:46:32.520Z"
   },
   {
    "duration": 7,
    "start_time": "2022-09-06T04:46:33.118Z"
   },
   {
    "duration": 9,
    "start_time": "2022-09-06T04:46:33.464Z"
   },
   {
    "duration": 27,
    "start_time": "2022-09-06T04:46:34.156Z"
   },
   {
    "duration": 12,
    "start_time": "2022-09-06T04:46:34.361Z"
   },
   {
    "duration": 9,
    "start_time": "2022-09-06T04:46:35.536Z"
   },
   {
    "duration": 12,
    "start_time": "2022-09-06T04:46:35.799Z"
   },
   {
    "duration": 37,
    "start_time": "2022-09-06T04:46:36.056Z"
   },
   {
    "duration": 12,
    "start_time": "2022-09-06T04:46:36.427Z"
   },
   {
    "duration": 3,
    "start_time": "2022-09-06T04:46:37.694Z"
   },
   {
    "duration": 16,
    "start_time": "2022-09-06T04:46:38.126Z"
   },
   {
    "duration": 8,
    "start_time": "2022-09-06T04:46:38.519Z"
   },
   {
    "duration": 16,
    "start_time": "2022-09-06T04:46:38.834Z"
   },
   {
    "duration": 9,
    "start_time": "2022-09-06T04:51:38.898Z"
   },
   {
    "duration": 13,
    "start_time": "2022-09-06T04:54:49.942Z"
   },
   {
    "duration": 14,
    "start_time": "2022-09-06T04:55:26.446Z"
   },
   {
    "duration": 9,
    "start_time": "2022-09-06T04:55:42.873Z"
   },
   {
    "duration": 16,
    "start_time": "2022-09-06T05:01:03.270Z"
   },
   {
    "duration": 8,
    "start_time": "2022-09-06T05:01:03.982Z"
   },
   {
    "duration": 11,
    "start_time": "2022-09-06T05:01:10.825Z"
   },
   {
    "duration": 13,
    "start_time": "2022-09-06T05:01:11.142Z"
   },
   {
    "duration": 31,
    "start_time": "2022-09-06T05:01:12.321Z"
   },
   {
    "duration": 11,
    "start_time": "2022-09-06T05:01:18.818Z"
   },
   {
    "duration": 13,
    "start_time": "2022-09-06T05:02:10.457Z"
   },
   {
    "duration": 99,
    "start_time": "2022-09-06T05:02:51.698Z"
   },
   {
    "duration": 21,
    "start_time": "2022-09-06T05:03:32.446Z"
   },
   {
    "duration": 5,
    "start_time": "2022-09-06T05:03:33.253Z"
   },
   {
    "duration": 10,
    "start_time": "2022-09-06T05:03:33.828Z"
   },
   {
    "duration": 85,
    "start_time": "2022-09-06T05:03:34.965Z"
   },
   {
    "duration": 218,
    "start_time": "2022-09-06T05:04:25.994Z"
   },
   {
    "duration": 509,
    "start_time": "2022-09-06T05:04:37.620Z"
   },
   {
    "duration": 3,
    "start_time": "2022-09-06T05:05:00.128Z"
   },
   {
    "duration": 266,
    "start_time": "2022-09-06T05:05:00.503Z"
   },
   {
    "duration": 37,
    "start_time": "2022-09-06T05:05:01.816Z"
   },
   {
    "duration": 33,
    "start_time": "2022-09-06T05:05:02.013Z"
   },
   {
    "duration": 30,
    "start_time": "2022-09-06T05:05:02.252Z"
   },
   {
    "duration": 43,
    "start_time": "2022-09-06T05:05:02.439Z"
   },
   {
    "duration": 22,
    "start_time": "2022-09-06T05:05:02.870Z"
   },
   {
    "duration": 93,
    "start_time": "2022-09-06T05:05:03.538Z"
   },
   {
    "duration": 43,
    "start_time": "2022-09-06T05:05:03.980Z"
   },
   {
    "duration": 8,
    "start_time": "2022-09-06T05:05:05.133Z"
   },
   {
    "duration": 16,
    "start_time": "2022-09-06T05:05:05.351Z"
   },
   {
    "duration": 24,
    "start_time": "2022-09-06T05:05:05.778Z"
   },
   {
    "duration": 6,
    "start_time": "2022-09-06T05:05:06.306Z"
   },
   {
    "duration": 19,
    "start_time": "2022-09-06T05:05:07.197Z"
   },
   {
    "duration": 14,
    "start_time": "2022-09-06T05:05:07.417Z"
   },
   {
    "duration": 19,
    "start_time": "2022-09-06T05:05:08.084Z"
   },
   {
    "duration": 7,
    "start_time": "2022-09-06T05:05:08.529Z"
   },
   {
    "duration": 9,
    "start_time": "2022-09-06T05:05:09.156Z"
   },
   {
    "duration": 28,
    "start_time": "2022-09-06T05:05:09.228Z"
   },
   {
    "duration": 11,
    "start_time": "2022-09-06T05:05:09.437Z"
   },
   {
    "duration": 7,
    "start_time": "2022-09-06T05:05:09.651Z"
   },
   {
    "duration": 10,
    "start_time": "2022-09-06T05:05:12.890Z"
   },
   {
    "duration": 13,
    "start_time": "2022-09-06T05:05:13.940Z"
   },
   {
    "duration": 33,
    "start_time": "2022-09-06T05:05:14.167Z"
   },
   {
    "duration": 14,
    "start_time": "2022-09-06T05:05:14.393Z"
   },
   {
    "duration": 3,
    "start_time": "2022-09-06T05:05:15.085Z"
   },
   {
    "duration": 46,
    "start_time": "2022-09-06T05:05:15.363Z"
   },
   {
    "duration": 4,
    "start_time": "2022-09-06T05:05:15.612Z"
   },
   {
    "duration": 14,
    "start_time": "2022-09-06T05:05:15.886Z"
   },
   {
    "duration": 74,
    "start_time": "2022-09-06T05:05:16.126Z"
   },
   {
    "duration": 397,
    "start_time": "2022-09-06T05:05:16.955Z"
   },
   {
    "duration": 283,
    "start_time": "2022-09-06T05:05:18.529Z"
   },
   {
    "duration": 40,
    "start_time": "2022-09-06T05:05:19.727Z"
   },
   {
    "duration": 27,
    "start_time": "2022-09-06T05:05:20.203Z"
   },
   {
    "duration": 36,
    "start_time": "2022-09-06T05:05:20.570Z"
   },
   {
    "duration": 262,
    "start_time": "2022-09-06T05:05:20.985Z"
   },
   {
    "duration": 640,
    "start_time": "2022-09-06T05:10:25.434Z"
   },
   {
    "duration": 260,
    "start_time": "2022-09-06T05:10:44.923Z"
   },
   {
    "duration": 503,
    "start_time": "2022-09-06T05:22:25.115Z"
   },
   {
    "duration": 10,
    "start_time": "2022-09-06T05:24:51.398Z"
   },
   {
    "duration": 10,
    "start_time": "2022-09-06T05:25:08.463Z"
   },
   {
    "duration": 15,
    "start_time": "2022-09-06T05:25:20.419Z"
   },
   {
    "duration": 19,
    "start_time": "2022-09-06T05:25:49.367Z"
   },
   {
    "duration": 23,
    "start_time": "2022-09-06T05:26:04.978Z"
   },
   {
    "duration": 148,
    "start_time": "2022-09-06T05:28:27.770Z"
   },
   {
    "duration": 245,
    "start_time": "2022-09-06T05:29:00.490Z"
   },
   {
    "duration": 3,
    "start_time": "2022-09-06T05:29:34.001Z"
   },
   {
    "duration": 278,
    "start_time": "2022-09-06T05:29:34.374Z"
   },
   {
    "duration": 46,
    "start_time": "2022-09-06T05:29:35.659Z"
   },
   {
    "duration": 43,
    "start_time": "2022-09-06T05:29:35.860Z"
   },
   {
    "duration": 34,
    "start_time": "2022-09-06T05:29:36.067Z"
   },
   {
    "duration": 38,
    "start_time": "2022-09-06T05:29:36.400Z"
   },
   {
    "duration": 30,
    "start_time": "2022-09-06T05:29:36.634Z"
   },
   {
    "duration": 113,
    "start_time": "2022-09-06T05:29:37.098Z"
   },
   {
    "duration": 34,
    "start_time": "2022-09-06T05:29:37.590Z"
   },
   {
    "duration": 9,
    "start_time": "2022-09-06T05:29:38.789Z"
   },
   {
    "duration": 12,
    "start_time": "2022-09-06T05:29:39.012Z"
   },
   {
    "duration": 36,
    "start_time": "2022-09-06T05:29:39.410Z"
   },
   {
    "duration": 8,
    "start_time": "2022-09-06T05:29:39.809Z"
   },
   {
    "duration": 26,
    "start_time": "2022-09-06T05:29:40.632Z"
   },
   {
    "duration": 21,
    "start_time": "2022-09-06T05:29:40.846Z"
   },
   {
    "duration": 25,
    "start_time": "2022-09-06T05:29:41.457Z"
   },
   {
    "duration": 9,
    "start_time": "2022-09-06T05:29:41.894Z"
   },
   {
    "duration": 12,
    "start_time": "2022-09-06T05:29:42.083Z"
   },
   {
    "duration": 37,
    "start_time": "2022-09-06T05:29:42.540Z"
   },
   {
    "duration": 11,
    "start_time": "2022-09-06T05:29:42.730Z"
   },
   {
    "duration": 10,
    "start_time": "2022-09-06T05:29:42.945Z"
   },
   {
    "duration": 10,
    "start_time": "2022-09-06T05:29:43.744Z"
   },
   {
    "duration": 12,
    "start_time": "2022-09-06T05:29:44.003Z"
   },
   {
    "duration": 38,
    "start_time": "2022-09-06T05:29:44.515Z"
   },
   {
    "duration": 13,
    "start_time": "2022-09-06T05:29:44.555Z"
   },
   {
    "duration": 3,
    "start_time": "2022-09-06T05:29:45.207Z"
   },
   {
    "duration": 18,
    "start_time": "2022-09-06T05:29:45.461Z"
   },
   {
    "duration": 5,
    "start_time": "2022-09-06T05:29:45.691Z"
   },
   {
    "duration": 9,
    "start_time": "2022-09-06T05:29:45.944Z"
   },
   {
    "duration": 65,
    "start_time": "2022-09-06T05:29:46.190Z"
   },
   {
    "duration": 381,
    "start_time": "2022-09-06T05:29:47.026Z"
   },
   {
    "duration": 302,
    "start_time": "2022-09-06T05:29:47.472Z"
   },
   {
    "duration": 309,
    "start_time": "2022-09-06T05:29:47.776Z"
   },
   {
    "duration": 184,
    "start_time": "2022-09-06T05:29:48.088Z"
   },
   {
    "duration": 35,
    "start_time": "2022-09-06T05:29:48.274Z"
   },
   {
    "duration": 51,
    "start_time": "2022-09-06T05:52:30.730Z"
   },
   {
    "duration": 13,
    "start_time": "2022-09-06T05:53:58.888Z"
   },
   {
    "duration": 74,
    "start_time": "2022-09-06T05:54:09.795Z"
   },
   {
    "duration": 320,
    "start_time": "2022-09-06T05:54:20.389Z"
   },
   {
    "duration": 286,
    "start_time": "2022-09-06T05:54:25.544Z"
   },
   {
    "duration": 176,
    "start_time": "2022-09-06T05:54:36.050Z"
   },
   {
    "duration": 19,
    "start_time": "2022-09-06T05:54:55.179Z"
   },
   {
    "duration": 4,
    "start_time": "2022-09-06T05:54:55.826Z"
   },
   {
    "duration": 17,
    "start_time": "2022-09-06T05:54:56.052Z"
   },
   {
    "duration": 106,
    "start_time": "2022-09-06T05:54:56.297Z"
   },
   {
    "duration": 406,
    "start_time": "2022-09-06T05:54:57.124Z"
   },
   {
    "duration": 311,
    "start_time": "2022-09-06T05:54:57.987Z"
   },
   {
    "duration": 307,
    "start_time": "2022-09-06T05:55:01.902Z"
   },
   {
    "duration": 222,
    "start_time": "2022-09-06T05:55:03.530Z"
   },
   {
    "duration": 137,
    "start_time": "2022-09-06T06:02:01.296Z"
   },
   {
    "duration": 5,
    "start_time": "2022-09-06T06:02:04.363Z"
   },
   {
    "duration": 17,
    "start_time": "2022-09-06T06:02:15.895Z"
   },
   {
    "duration": 13,
    "start_time": "2022-09-06T06:02:30.626Z"
   },
   {
    "duration": 4,
    "start_time": "2022-09-06T06:02:37.964Z"
   },
   {
    "duration": 320,
    "start_time": "2022-09-06T06:02:38.361Z"
   },
   {
    "duration": 44,
    "start_time": "2022-09-06T06:02:39.533Z"
   },
   {
    "duration": 33,
    "start_time": "2022-09-06T06:02:39.735Z"
   },
   {
    "duration": 25,
    "start_time": "2022-09-06T06:02:39.942Z"
   },
   {
    "duration": 43,
    "start_time": "2022-09-06T06:02:40.660Z"
   },
   {
    "duration": 27,
    "start_time": "2022-09-06T06:02:40.931Z"
   },
   {
    "duration": 110,
    "start_time": "2022-09-06T06:02:41.432Z"
   },
   {
    "duration": 33,
    "start_time": "2022-09-06T06:02:42.830Z"
   },
   {
    "duration": 9,
    "start_time": "2022-09-06T06:02:43.828Z"
   },
   {
    "duration": 13,
    "start_time": "2022-09-06T06:02:44.029Z"
   },
   {
    "duration": 22,
    "start_time": "2022-09-06T06:02:44.374Z"
   },
   {
    "duration": 8,
    "start_time": "2022-09-06T06:02:44.778Z"
   },
   {
    "duration": 28,
    "start_time": "2022-09-06T06:02:45.759Z"
   },
   {
    "duration": 23,
    "start_time": "2022-09-06T06:02:45.999Z"
   },
   {
    "duration": 20,
    "start_time": "2022-09-06T06:02:46.686Z"
   },
   {
    "duration": 8,
    "start_time": "2022-09-06T06:02:47.134Z"
   },
   {
    "duration": 10,
    "start_time": "2022-09-06T06:02:47.386Z"
   },
   {
    "duration": 37,
    "start_time": "2022-09-06T06:02:49.354Z"
   },
   {
    "duration": 14,
    "start_time": "2022-09-06T06:02:49.630Z"
   },
   {
    "duration": 10,
    "start_time": "2022-09-06T06:02:49.980Z"
   },
   {
    "duration": 12,
    "start_time": "2022-09-06T06:02:51.265Z"
   },
   {
    "duration": 12,
    "start_time": "2022-09-06T06:02:52.069Z"
   },
   {
    "duration": 47,
    "start_time": "2022-09-06T06:02:52.296Z"
   },
   {
    "duration": 13,
    "start_time": "2022-09-06T06:02:52.528Z"
   },
   {
    "duration": 3,
    "start_time": "2022-09-06T06:02:53.172Z"
   },
   {
    "duration": 15,
    "start_time": "2022-09-06T06:02:53.427Z"
   },
   {
    "duration": 4,
    "start_time": "2022-09-06T06:02:53.639Z"
   },
   {
    "duration": 9,
    "start_time": "2022-09-06T06:02:53.857Z"
   },
   {
    "duration": 73,
    "start_time": "2022-09-06T06:02:54.054Z"
   },
   {
    "duration": 410,
    "start_time": "2022-09-06T06:02:55.432Z"
   },
   {
    "duration": 314,
    "start_time": "2022-09-06T06:02:55.844Z"
   },
   {
    "duration": 337,
    "start_time": "2022-09-06T06:02:56.935Z"
   },
   {
    "duration": 144,
    "start_time": "2022-09-06T06:02:59.357Z"
   },
   {
    "duration": 16,
    "start_time": "2022-09-06T06:03:03.460Z"
   },
   {
    "duration": 30,
    "start_time": "2022-09-06T06:03:04.566Z"
   },
   {
    "duration": 31,
    "start_time": "2022-09-06T06:03:16.036Z"
   },
   {
    "duration": 27,
    "start_time": "2022-09-06T06:03:19.059Z"
   },
   {
    "duration": 23,
    "start_time": "2022-09-06T06:04:06.931Z"
   },
   {
    "duration": 63,
    "start_time": "2022-09-06T06:05:40.147Z"
   },
   {
    "duration": 10,
    "start_time": "2022-09-06T06:05:51.869Z"
   },
   {
    "duration": 75,
    "start_time": "2022-09-06T06:05:54.433Z"
   },
   {
    "duration": 18,
    "start_time": "2022-09-06T06:06:03.592Z"
   },
   {
    "duration": 11,
    "start_time": "2022-09-06T06:06:08.230Z"
   },
   {
    "duration": 18,
    "start_time": "2022-09-06T06:06:08.641Z"
   },
   {
    "duration": 5,
    "start_time": "2022-09-06T06:06:27.836Z"
   },
   {
    "duration": 280,
    "start_time": "2022-09-06T06:06:28.235Z"
   },
   {
    "duration": 38,
    "start_time": "2022-09-06T06:06:29.276Z"
   },
   {
    "duration": 34,
    "start_time": "2022-09-06T06:06:29.494Z"
   },
   {
    "duration": 24,
    "start_time": "2022-09-06T06:06:29.662Z"
   },
   {
    "duration": 38,
    "start_time": "2022-09-06T06:06:29.852Z"
   },
   {
    "duration": 32,
    "start_time": "2022-09-06T06:06:30.047Z"
   },
   {
    "duration": 104,
    "start_time": "2022-09-06T06:06:30.444Z"
   },
   {
    "duration": 45,
    "start_time": "2022-09-06T06:06:30.839Z"
   },
   {
    "duration": 12,
    "start_time": "2022-09-06T06:06:31.765Z"
   },
   {
    "duration": 11,
    "start_time": "2022-09-06T06:06:31.967Z"
   },
   {
    "duration": 23,
    "start_time": "2022-09-06T06:06:32.350Z"
   },
   {
    "duration": 8,
    "start_time": "2022-09-06T06:06:32.758Z"
   },
   {
    "duration": 25,
    "start_time": "2022-09-06T06:06:33.546Z"
   },
   {
    "duration": 14,
    "start_time": "2022-09-06T06:06:33.729Z"
   },
   {
    "duration": 20,
    "start_time": "2022-09-06T06:06:34.342Z"
   },
   {
    "duration": 9,
    "start_time": "2022-09-06T06:06:34.751Z"
   },
   {
    "duration": 13,
    "start_time": "2022-09-06T06:06:34.933Z"
   },
   {
    "duration": 38,
    "start_time": "2022-09-06T06:06:35.364Z"
   },
   {
    "duration": 13,
    "start_time": "2022-09-06T06:06:35.596Z"
   },
   {
    "duration": 8,
    "start_time": "2022-09-06T06:06:35.835Z"
   },
   {
    "duration": 10,
    "start_time": "2022-09-06T06:06:36.427Z"
   },
   {
    "duration": 13,
    "start_time": "2022-09-06T06:06:36.623Z"
   },
   {
    "duration": 37,
    "start_time": "2022-09-06T06:06:36.841Z"
   },
   {
    "duration": 12,
    "start_time": "2022-09-06T06:06:37.042Z"
   },
   {
    "duration": 6,
    "start_time": "2022-09-06T06:06:37.674Z"
   },
   {
    "duration": 22,
    "start_time": "2022-09-06T06:06:37.910Z"
   },
   {
    "duration": 6,
    "start_time": "2022-09-06T06:06:38.134Z"
   },
   {
    "duration": 11,
    "start_time": "2022-09-06T06:06:38.339Z"
   },
   {
    "duration": 137,
    "start_time": "2022-09-06T06:06:38.557Z"
   },
   {
    "duration": 11,
    "start_time": "2022-09-06T06:09:44.530Z"
   },
   {
    "duration": 346,
    "start_time": "2022-09-06T06:10:48.236Z"
   },
   {
    "duration": 47,
    "start_time": "2022-09-06T06:12:59.125Z"
   },
   {
    "duration": 15,
    "start_time": "2022-09-06T06:13:04.240Z"
   },
   {
    "duration": 426,
    "start_time": "2022-09-06T06:13:06.413Z"
   },
   {
    "duration": 407,
    "start_time": "2022-09-06T06:13:24.666Z"
   },
   {
    "duration": 14,
    "start_time": "2022-09-06T06:13:51.397Z"
   },
   {
    "duration": 1047,
    "start_time": "2022-09-06T06:15:11.063Z"
   },
   {
    "duration": 1054,
    "start_time": "2022-09-06T06:15:12.112Z"
   },
   {
    "duration": 56,
    "start_time": "2022-09-06T06:15:13.725Z"
   },
   {
    "duration": 42,
    "start_time": "2022-09-06T06:15:13.929Z"
   },
   {
    "duration": 29,
    "start_time": "2022-09-06T06:15:14.260Z"
   },
   {
    "duration": 50,
    "start_time": "2022-09-06T06:15:14.409Z"
   },
   {
    "duration": 26,
    "start_time": "2022-09-06T06:15:14.625Z"
   },
   {
    "duration": 121,
    "start_time": "2022-09-06T06:15:15.131Z"
   },
   {
    "duration": 44,
    "start_time": "2022-09-06T06:15:15.626Z"
   },
   {
    "duration": 19,
    "start_time": "2022-09-06T06:15:16.721Z"
   },
   {
    "duration": 28,
    "start_time": "2022-09-06T06:15:16.945Z"
   },
   {
    "duration": 38,
    "start_time": "2022-09-06T06:15:17.377Z"
   },
   {
    "duration": 10,
    "start_time": "2022-09-06T06:15:17.800Z"
   },
   {
    "duration": 23,
    "start_time": "2022-09-06T06:15:18.687Z"
   },
   {
    "duration": 28,
    "start_time": "2022-09-06T06:15:18.961Z"
   },
   {
    "duration": 31,
    "start_time": "2022-09-06T06:15:19.647Z"
   },
   {
    "duration": 10,
    "start_time": "2022-09-06T06:15:20.136Z"
   },
   {
    "duration": 22,
    "start_time": "2022-09-06T06:15:20.465Z"
   },
   {
    "duration": 36,
    "start_time": "2022-09-06T06:15:20.899Z"
   },
   {
    "duration": 11,
    "start_time": "2022-09-06T06:15:21.123Z"
   },
   {
    "duration": 8,
    "start_time": "2022-09-06T06:15:21.785Z"
   },
   {
    "duration": 12,
    "start_time": "2022-09-06T06:15:23.115Z"
   },
   {
    "duration": 16,
    "start_time": "2022-09-06T06:15:23.382Z"
   },
   {
    "duration": 36,
    "start_time": "2022-09-06T06:15:24.600Z"
   },
   {
    "duration": 16,
    "start_time": "2022-09-06T06:15:27.219Z"
   },
   {
    "duration": 8,
    "start_time": "2022-09-06T06:15:29.375Z"
   },
   {
    "duration": 18,
    "start_time": "2022-09-06T06:15:29.637Z"
   },
   {
    "duration": 6,
    "start_time": "2022-09-06T06:15:33.453Z"
   },
   {
    "duration": 22,
    "start_time": "2022-09-06T06:15:37.205Z"
   },
   {
    "duration": 143,
    "start_time": "2022-09-06T06:15:38.036Z"
   },
   {
    "duration": 62,
    "start_time": "2022-09-06T06:17:15.927Z"
   },
   {
    "duration": 244,
    "start_time": "2022-09-06T06:42:57.453Z"
   },
   {
    "duration": 182,
    "start_time": "2022-09-06T06:43:01.833Z"
   },
   {
    "duration": 1424,
    "start_time": "2022-09-06T06:43:32.386Z"
   },
   {
    "duration": 848,
    "start_time": "2022-09-06T06:43:42.948Z"
   },
   {
    "duration": 796,
    "start_time": "2022-09-06T06:44:11.601Z"
   },
   {
    "duration": 177,
    "start_time": "2022-09-06T06:44:12.481Z"
   },
   {
    "duration": 102,
    "start_time": "2022-09-06T06:46:46.601Z"
   },
   {
    "duration": 193,
    "start_time": "2022-09-06T06:46:57.701Z"
   },
   {
    "duration": 14,
    "start_time": "2022-09-06T06:47:08.892Z"
   },
   {
    "duration": 3,
    "start_time": "2022-09-06T06:47:22.587Z"
   },
   {
    "duration": 323,
    "start_time": "2022-09-06T06:47:22.975Z"
   },
   {
    "duration": 35,
    "start_time": "2022-09-06T06:47:23.903Z"
   },
   {
    "duration": 43,
    "start_time": "2022-09-06T06:47:24.141Z"
   },
   {
    "duration": 25,
    "start_time": "2022-09-06T06:47:24.366Z"
   },
   {
    "duration": 56,
    "start_time": "2022-09-06T06:47:24.562Z"
   },
   {
    "duration": 27,
    "start_time": "2022-09-06T06:47:24.752Z"
   },
   {
    "duration": 133,
    "start_time": "2022-09-06T06:47:25.137Z"
   },
   {
    "duration": 38,
    "start_time": "2022-09-06T06:47:25.585Z"
   },
   {
    "duration": 9,
    "start_time": "2022-09-06T06:47:26.548Z"
   },
   {
    "duration": 13,
    "start_time": "2022-09-06T06:47:26.732Z"
   },
   {
    "duration": 24,
    "start_time": "2022-09-06T06:47:27.071Z"
   },
   {
    "duration": 12,
    "start_time": "2022-09-06T06:47:27.602Z"
   },
   {
    "duration": 22,
    "start_time": "2022-09-06T06:47:28.347Z"
   },
   {
    "duration": 15,
    "start_time": "2022-09-06T06:47:28.555Z"
   },
   {
    "duration": 26,
    "start_time": "2022-09-06T06:47:29.131Z"
   },
   {
    "duration": 8,
    "start_time": "2022-09-06T06:47:29.503Z"
   },
   {
    "duration": 10,
    "start_time": "2022-09-06T06:47:29.734Z"
   },
   {
    "duration": 34,
    "start_time": "2022-09-06T06:47:30.126Z"
   },
   {
    "duration": 15,
    "start_time": "2022-09-06T06:47:30.376Z"
   },
   {
    "duration": 8,
    "start_time": "2022-09-06T06:47:30.583Z"
   },
   {
    "duration": 12,
    "start_time": "2022-09-06T06:47:31.526Z"
   },
   {
    "duration": 16,
    "start_time": "2022-09-06T06:47:31.758Z"
   },
   {
    "duration": 42,
    "start_time": "2022-09-06T06:47:31.949Z"
   },
   {
    "duration": 18,
    "start_time": "2022-09-06T06:47:32.264Z"
   },
   {
    "duration": 4,
    "start_time": "2022-09-06T06:47:32.873Z"
   },
   {
    "duration": 14,
    "start_time": "2022-09-06T06:47:33.067Z"
   },
   {
    "duration": 6,
    "start_time": "2022-09-06T06:47:33.262Z"
   },
   {
    "duration": 10,
    "start_time": "2022-09-06T06:47:33.457Z"
   },
   {
    "duration": 91,
    "start_time": "2022-09-06T06:47:33.649Z"
   },
   {
    "duration": 58,
    "start_time": "2022-09-06T06:47:33.844Z"
   },
   {
    "duration": 250,
    "start_time": "2022-09-06T06:47:35.303Z"
   },
   {
    "duration": 165,
    "start_time": "2022-09-06T06:47:35.736Z"
   },
   {
    "duration": 182,
    "start_time": "2022-09-06T06:47:36.049Z"
   },
   {
    "duration": 12,
    "start_time": "2022-09-06T06:48:02.502Z"
   },
   {
    "duration": 3,
    "start_time": "2022-09-06T06:48:09.491Z"
   },
   {
    "duration": 310,
    "start_time": "2022-09-06T06:48:09.862Z"
   },
   {
    "duration": 36,
    "start_time": "2022-09-06T06:48:10.800Z"
   },
   {
    "duration": 34,
    "start_time": "2022-09-06T06:48:10.980Z"
   },
   {
    "duration": 30,
    "start_time": "2022-09-06T06:48:11.163Z"
   },
   {
    "duration": 41,
    "start_time": "2022-09-06T06:48:11.344Z"
   },
   {
    "duration": 29,
    "start_time": "2022-09-06T06:48:11.522Z"
   },
   {
    "duration": 118,
    "start_time": "2022-09-06T06:48:11.903Z"
   },
   {
    "duration": 46,
    "start_time": "2022-09-06T06:48:12.241Z"
   },
   {
    "duration": 9,
    "start_time": "2022-09-06T06:48:13.201Z"
   },
   {
    "duration": 12,
    "start_time": "2022-09-06T06:48:13.397Z"
   },
   {
    "duration": 26,
    "start_time": "2022-09-06T06:48:13.801Z"
   },
   {
    "duration": 8,
    "start_time": "2022-09-06T06:48:14.202Z"
   },
   {
    "duration": 23,
    "start_time": "2022-09-06T06:48:14.971Z"
   },
   {
    "duration": 18,
    "start_time": "2022-09-06T06:48:15.179Z"
   },
   {
    "duration": 24,
    "start_time": "2022-09-06T06:48:16.026Z"
   },
   {
    "duration": 9,
    "start_time": "2022-09-06T06:48:16.464Z"
   },
   {
    "duration": 11,
    "start_time": "2022-09-06T06:48:16.701Z"
   },
   {
    "duration": 33,
    "start_time": "2022-09-06T06:48:17.223Z"
   },
   {
    "duration": 10,
    "start_time": "2022-09-06T06:48:17.456Z"
   },
   {
    "duration": 8,
    "start_time": "2022-09-06T06:48:17.684Z"
   },
   {
    "duration": 10,
    "start_time": "2022-09-06T06:48:18.322Z"
   },
   {
    "duration": 11,
    "start_time": "2022-09-06T06:48:18.502Z"
   },
   {
    "duration": 33,
    "start_time": "2022-09-06T06:48:18.691Z"
   },
   {
    "duration": 11,
    "start_time": "2022-09-06T06:48:18.893Z"
   },
   {
    "duration": 3,
    "start_time": "2022-09-06T06:48:19.717Z"
   },
   {
    "duration": 17,
    "start_time": "2022-09-06T06:48:19.922Z"
   },
   {
    "duration": 4,
    "start_time": "2022-09-06T06:48:20.125Z"
   },
   {
    "duration": 13,
    "start_time": "2022-09-06T06:48:20.332Z"
   },
   {
    "duration": 87,
    "start_time": "2022-09-06T06:48:20.532Z"
   },
   {
    "duration": 51,
    "start_time": "2022-09-06T06:48:20.728Z"
   },
   {
    "duration": 200,
    "start_time": "2022-09-06T06:48:21.358Z"
   },
   {
    "duration": 170,
    "start_time": "2022-09-06T06:48:21.561Z"
   },
   {
    "duration": 181,
    "start_time": "2022-09-06T06:48:21.887Z"
   },
   {
    "duration": 46,
    "start_time": "2022-09-06T06:48:22.133Z"
   },
   {
    "duration": 35,
    "start_time": "2022-09-06T06:48:30.360Z"
   },
   {
    "duration": 28,
    "start_time": "2022-09-06T06:48:30.701Z"
   },
   {
    "duration": 274,
    "start_time": "2022-09-06T06:48:30.983Z"
   },
   {
    "duration": 4,
    "start_time": "2022-09-06T06:48:31.302Z"
   },
   {
    "duration": 13516,
    "start_time": "2022-09-06T06:48:32.020Z"
   },
   {
    "duration": 69,
    "start_time": "2022-09-06T06:49:30.727Z"
   },
   {
    "duration": 81,
    "start_time": "2022-09-06T06:49:31.546Z"
   },
   {
    "duration": 58,
    "start_time": "2022-09-06T06:49:31.779Z"
   },
   {
    "duration": 123,
    "start_time": "2022-09-06T06:49:32.723Z"
   },
   {
    "duration": 1198,
    "start_time": "2022-09-06T06:50:04.722Z"
   },
   {
    "duration": 363,
    "start_time": "2022-09-06T06:50:05.922Z"
   },
   {
    "duration": 51,
    "start_time": "2022-09-06T06:50:06.287Z"
   },
   {
    "duration": 36,
    "start_time": "2022-09-06T06:50:06.340Z"
   },
   {
    "duration": 27,
    "start_time": "2022-09-06T06:50:06.379Z"
   },
   {
    "duration": 57,
    "start_time": "2022-09-06T06:50:06.407Z"
   },
   {
    "duration": 25,
    "start_time": "2022-09-06T06:50:06.467Z"
   },
   {
    "duration": 169,
    "start_time": "2022-09-06T06:50:06.495Z"
   },
   {
    "duration": 33,
    "start_time": "2022-09-06T06:50:06.665Z"
   },
   {
    "duration": 8,
    "start_time": "2022-09-06T06:50:06.700Z"
   },
   {
    "duration": 30,
    "start_time": "2022-09-06T06:50:06.710Z"
   },
   {
    "duration": 39,
    "start_time": "2022-09-06T06:50:06.742Z"
   },
   {
    "duration": 8,
    "start_time": "2022-09-06T06:50:06.784Z"
   },
   {
    "duration": 22,
    "start_time": "2022-09-06T06:50:06.797Z"
   },
   {
    "duration": 43,
    "start_time": "2022-09-06T06:50:06.821Z"
   },
   {
    "duration": 24,
    "start_time": "2022-09-06T06:50:06.866Z"
   },
   {
    "duration": 8,
    "start_time": "2022-09-06T06:50:06.892Z"
   },
   {
    "duration": 14,
    "start_time": "2022-09-06T06:50:06.902Z"
   },
   {
    "duration": 59,
    "start_time": "2022-09-06T06:50:06.918Z"
   },
   {
    "duration": 12,
    "start_time": "2022-09-06T06:50:06.979Z"
   },
   {
    "duration": 7,
    "start_time": "2022-09-06T06:50:06.992Z"
   },
   {
    "duration": 12,
    "start_time": "2022-09-06T06:50:07.000Z"
   },
   {
    "duration": 13,
    "start_time": "2022-09-06T06:50:07.014Z"
   },
   {
    "duration": 62,
    "start_time": "2022-09-06T06:50:07.028Z"
   },
   {
    "duration": 11,
    "start_time": "2022-09-06T06:50:07.092Z"
   },
   {
    "duration": 3,
    "start_time": "2022-09-06T06:50:07.104Z"
   },
   {
    "duration": 20,
    "start_time": "2022-09-06T06:50:07.109Z"
   },
   {
    "duration": 28,
    "start_time": "2022-09-06T06:50:07.131Z"
   },
   {
    "duration": 13,
    "start_time": "2022-09-06T06:50:07.161Z"
   },
   {
    "duration": 158,
    "start_time": "2022-09-06T06:50:07.176Z"
   },
   {
    "duration": 75,
    "start_time": "2022-09-06T06:50:07.336Z"
   },
   {
    "duration": 245,
    "start_time": "2022-09-06T06:50:07.413Z"
   },
   {
    "duration": 180,
    "start_time": "2022-09-06T06:50:07.660Z"
   },
   {
    "duration": 208,
    "start_time": "2022-09-06T06:50:07.842Z"
   },
   {
    "duration": 43,
    "start_time": "2022-09-06T06:50:08.052Z"
   },
   {
    "duration": 30,
    "start_time": "2022-09-06T06:50:08.097Z"
   },
   {
    "duration": 53,
    "start_time": "2022-09-06T06:50:08.129Z"
   },
   {
    "duration": 301,
    "start_time": "2022-09-06T06:50:08.184Z"
   },
   {
    "duration": 5,
    "start_time": "2022-09-06T06:50:08.488Z"
   },
   {
    "duration": 14041,
    "start_time": "2022-09-06T06:50:08.496Z"
   },
   {
    "duration": 59,
    "start_time": "2022-09-06T06:50:22.540Z"
   },
   {
    "duration": 97,
    "start_time": "2022-09-06T06:50:22.601Z"
   },
   {
    "duration": 64,
    "start_time": "2022-09-06T06:50:22.700Z"
   },
   {
    "duration": 223,
    "start_time": "2022-09-06T06:50:22.765Z"
   },
   {
    "duration": 0,
    "start_time": "2022-09-06T06:50:22.989Z"
   },
   {
    "duration": 117,
    "start_time": "2022-09-06T06:54:30.226Z"
   },
   {
    "duration": 11,
    "start_time": "2022-09-06T06:54:41.494Z"
   },
   {
    "duration": 348,
    "start_time": "2022-09-06T06:54:54.613Z"
   },
   {
    "duration": 255,
    "start_time": "2022-09-06T06:55:54.277Z"
   },
   {
    "duration": 14,
    "start_time": "2022-09-06T07:17:40.807Z"
   },
   {
    "duration": 10,
    "start_time": "2022-09-06T07:17:53.975Z"
   },
   {
    "duration": 1460,
    "start_time": "2022-09-06T07:18:06.925Z"
   },
   {
    "duration": 79,
    "start_time": "2022-09-06T07:18:36.789Z"
   },
   {
    "duration": 92,
    "start_time": "2022-09-06T07:18:53.397Z"
   },
   {
    "duration": 1042,
    "start_time": "2022-09-06T07:19:40.426Z"
   },
   {
    "duration": 417,
    "start_time": "2022-09-06T07:19:41.474Z"
   },
   {
    "duration": 63,
    "start_time": "2022-09-06T07:19:41.893Z"
   },
   {
    "duration": 53,
    "start_time": "2022-09-06T07:19:41.969Z"
   },
   {
    "duration": 37,
    "start_time": "2022-09-06T07:19:42.025Z"
   },
   {
    "duration": 49,
    "start_time": "2022-09-06T07:19:42.063Z"
   },
   {
    "duration": 27,
    "start_time": "2022-09-06T07:19:42.113Z"
   },
   {
    "duration": 134,
    "start_time": "2022-09-06T07:19:42.158Z"
   },
   {
    "duration": 33,
    "start_time": "2022-09-06T07:19:42.293Z"
   },
   {
    "duration": 31,
    "start_time": "2022-09-06T07:19:42.328Z"
   },
   {
    "duration": 58,
    "start_time": "2022-09-06T07:19:42.365Z"
   },
   {
    "duration": 37,
    "start_time": "2022-09-06T07:19:42.426Z"
   },
   {
    "duration": 29,
    "start_time": "2022-09-06T07:19:42.467Z"
   },
   {
    "duration": 28,
    "start_time": "2022-09-06T07:19:42.500Z"
   },
   {
    "duration": 18,
    "start_time": "2022-09-06T07:19:42.530Z"
   },
   {
    "duration": 51,
    "start_time": "2022-09-06T07:19:42.550Z"
   },
   {
    "duration": 7,
    "start_time": "2022-09-06T07:19:42.603Z"
   },
   {
    "duration": 15,
    "start_time": "2022-09-06T07:19:42.611Z"
   },
   {
    "duration": 26,
    "start_time": "2022-09-06T07:19:42.628Z"
   },
   {
    "duration": 14,
    "start_time": "2022-09-06T07:19:42.656Z"
   },
   {
    "duration": 17,
    "start_time": "2022-09-06T07:19:42.672Z"
   },
   {
    "duration": 13,
    "start_time": "2022-09-06T07:19:42.690Z"
   },
   {
    "duration": 22,
    "start_time": "2022-09-06T07:19:42.704Z"
   },
   {
    "duration": 47,
    "start_time": "2022-09-06T07:19:42.728Z"
   },
   {
    "duration": 17,
    "start_time": "2022-09-06T07:19:42.777Z"
   },
   {
    "duration": 3,
    "start_time": "2022-09-06T07:19:42.797Z"
   },
   {
    "duration": 20,
    "start_time": "2022-09-06T07:19:42.802Z"
   },
   {
    "duration": 5,
    "start_time": "2022-09-06T07:19:42.824Z"
   },
   {
    "duration": 40,
    "start_time": "2022-09-06T07:19:42.831Z"
   },
   {
    "duration": 119,
    "start_time": "2022-09-06T07:19:42.873Z"
   },
   {
    "duration": 75,
    "start_time": "2022-09-06T07:19:42.994Z"
   },
   {
    "duration": 230,
    "start_time": "2022-09-06T07:19:43.070Z"
   },
   {
    "duration": 190,
    "start_time": "2022-09-06T07:19:43.301Z"
   },
   {
    "duration": 241,
    "start_time": "2022-09-06T07:19:43.493Z"
   },
   {
    "duration": 66,
    "start_time": "2022-09-06T07:19:43.736Z"
   },
   {
    "duration": 35,
    "start_time": "2022-09-06T07:19:43.804Z"
   },
   {
    "duration": 54,
    "start_time": "2022-09-06T07:19:43.842Z"
   },
   {
    "duration": 285,
    "start_time": "2022-09-06T07:19:43.899Z"
   },
   {
    "duration": 5,
    "start_time": "2022-09-06T07:19:44.190Z"
   },
   {
    "duration": 15413,
    "start_time": "2022-09-06T07:19:44.197Z"
   },
   {
    "duration": 273,
    "start_time": "2022-09-06T07:19:59.614Z"
   },
   {
    "duration": 99,
    "start_time": "2022-09-06T07:19:59.889Z"
   },
   {
    "duration": 94,
    "start_time": "2022-09-06T07:19:59.989Z"
   },
   {
    "duration": 238,
    "start_time": "2022-09-06T07:22:06.018Z"
   },
   {
    "duration": 138,
    "start_time": "2022-09-06T07:22:19.370Z"
   },
   {
    "duration": 143,
    "start_time": "2022-09-06T07:22:41.184Z"
   },
   {
    "duration": 134,
    "start_time": "2022-09-06T07:22:47.287Z"
   },
   {
    "duration": 134,
    "start_time": "2022-09-06T07:23:51.093Z"
   },
   {
    "duration": 151,
    "start_time": "2022-09-06T07:24:39.279Z"
   },
   {
    "duration": 3,
    "start_time": "2022-09-06T07:41:06.768Z"
   },
   {
    "duration": 8,
    "start_time": "2022-09-06T07:47:41.377Z"
   },
   {
    "duration": 7,
    "start_time": "2022-09-06T07:48:08.366Z"
   },
   {
    "duration": 10,
    "start_time": "2022-09-06T07:48:29.693Z"
   },
   {
    "duration": 58,
    "start_time": "2022-09-06T07:48:52.972Z"
   },
   {
    "duration": 6,
    "start_time": "2022-09-06T07:49:01.031Z"
   },
   {
    "duration": 7,
    "start_time": "2022-09-06T07:49:05.255Z"
   },
   {
    "duration": 63,
    "start_time": "2022-09-06T07:53:27.866Z"
   },
   {
    "duration": 95,
    "start_time": "2022-09-06T08:07:21.297Z"
   },
   {
    "duration": 75,
    "start_time": "2022-09-06T08:07:34.437Z"
   },
   {
    "duration": 109,
    "start_time": "2022-09-06T08:09:13.376Z"
   },
   {
    "duration": 60,
    "start_time": "2022-09-06T08:59:07.060Z"
   },
   {
    "duration": 45,
    "start_time": "2022-09-06T08:59:13.173Z"
   },
   {
    "duration": 173,
    "start_time": "2022-09-06T09:00:38.836Z"
   },
   {
    "duration": 215,
    "start_time": "2022-09-06T09:01:05.401Z"
   },
   {
    "duration": 50,
    "start_time": "2022-09-06T09:01:23.676Z"
   },
   {
    "duration": 200,
    "start_time": "2022-09-06T09:01:30.527Z"
   },
   {
    "duration": 179,
    "start_time": "2022-09-06T09:01:46.827Z"
   },
   {
    "duration": 401,
    "start_time": "2022-09-06T09:02:44.927Z"
   },
   {
    "duration": 362,
    "start_time": "2022-09-06T09:03:44.753Z"
   },
   {
    "duration": 372,
    "start_time": "2022-09-06T09:04:36.453Z"
   },
   {
    "duration": 186,
    "start_time": "2022-09-06T09:05:04.657Z"
   },
   {
    "duration": 199,
    "start_time": "2022-09-06T09:06:29.077Z"
   },
   {
    "duration": 213,
    "start_time": "2022-09-06T09:07:58.249Z"
   },
   {
    "duration": 207,
    "start_time": "2022-09-06T09:07:59.032Z"
   },
   {
    "duration": 269,
    "start_time": "2022-09-06T09:07:59.627Z"
   },
   {
    "duration": 201,
    "start_time": "2022-09-06T09:08:00.053Z"
   },
   {
    "duration": 75,
    "start_time": "2022-09-06T09:12:35.929Z"
   },
   {
    "duration": 54,
    "start_time": "2022-09-06T09:15:22.848Z"
   },
   {
    "duration": 144,
    "start_time": "2022-09-06T09:15:31.839Z"
   },
   {
    "duration": 54,
    "start_time": "2022-09-06T09:17:00.433Z"
   },
   {
    "duration": 76,
    "start_time": "2022-09-06T09:17:00.801Z"
   },
   {
    "duration": 52,
    "start_time": "2022-09-06T09:17:15.647Z"
   },
   {
    "duration": 61,
    "start_time": "2022-09-06T09:17:50.165Z"
   },
   {
    "duration": 133,
    "start_time": "2022-09-06T09:19:16.205Z"
   },
   {
    "duration": 74,
    "start_time": "2022-09-06T09:19:34.699Z"
   },
   {
    "duration": 1042,
    "start_time": "2022-09-06T09:19:58.012Z"
   },
   {
    "duration": 322,
    "start_time": "2022-09-06T09:19:59.056Z"
   },
   {
    "duration": 43,
    "start_time": "2022-09-06T09:19:59.380Z"
   },
   {
    "duration": 33,
    "start_time": "2022-09-06T09:19:59.425Z"
   },
   {
    "duration": 22,
    "start_time": "2022-09-06T09:19:59.460Z"
   },
   {
    "duration": 33,
    "start_time": "2022-09-06T09:19:59.484Z"
   },
   {
    "duration": 46,
    "start_time": "2022-09-06T09:19:59.519Z"
   },
   {
    "duration": 121,
    "start_time": "2022-09-06T09:19:59.566Z"
   },
   {
    "duration": 32,
    "start_time": "2022-09-06T09:19:59.689Z"
   },
   {
    "duration": 9,
    "start_time": "2022-09-06T09:19:59.724Z"
   },
   {
    "duration": 12,
    "start_time": "2022-09-06T09:19:59.759Z"
   },
   {
    "duration": 24,
    "start_time": "2022-09-06T09:19:59.773Z"
   },
   {
    "duration": 7,
    "start_time": "2022-09-06T09:19:59.799Z"
   },
   {
    "duration": 28,
    "start_time": "2022-09-06T09:19:59.808Z"
   },
   {
    "duration": 32,
    "start_time": "2022-09-06T09:19:59.838Z"
   },
   {
    "duration": 22,
    "start_time": "2022-09-06T09:19:59.872Z"
   },
   {
    "duration": 7,
    "start_time": "2022-09-06T09:19:59.895Z"
   },
   {
    "duration": 10,
    "start_time": "2022-09-06T09:19:59.904Z"
   },
   {
    "duration": 55,
    "start_time": "2022-09-06T09:19:59.915Z"
   },
   {
    "duration": 11,
    "start_time": "2022-09-06T09:19:59.971Z"
   },
   {
    "duration": 5,
    "start_time": "2022-09-06T09:19:59.984Z"
   },
   {
    "duration": 14,
    "start_time": "2022-09-06T09:19:59.991Z"
   },
   {
    "duration": 11,
    "start_time": "2022-09-06T09:20:00.006Z"
   },
   {
    "duration": 60,
    "start_time": "2022-09-06T09:20:00.019Z"
   },
   {
    "duration": 11,
    "start_time": "2022-09-06T09:20:00.080Z"
   },
   {
    "duration": 9,
    "start_time": "2022-09-06T09:20:00.093Z"
   },
   {
    "duration": 34,
    "start_time": "2022-09-06T09:20:00.103Z"
   },
   {
    "duration": 13,
    "start_time": "2022-09-06T09:20:00.141Z"
   },
   {
    "duration": 19,
    "start_time": "2022-09-06T09:20:00.155Z"
   },
   {
    "duration": 122,
    "start_time": "2022-09-06T09:20:00.175Z"
   },
   {
    "duration": 60,
    "start_time": "2022-09-06T09:20:00.298Z"
   },
   {
    "duration": 223,
    "start_time": "2022-09-06T09:20:00.360Z"
   },
   {
    "duration": 172,
    "start_time": "2022-09-06T09:20:00.585Z"
   },
   {
    "duration": 186,
    "start_time": "2022-09-06T09:20:00.759Z"
   },
   {
    "duration": 42,
    "start_time": "2022-09-06T09:20:00.947Z"
   },
   {
    "duration": 28,
    "start_time": "2022-09-06T09:20:00.991Z"
   },
   {
    "duration": 41,
    "start_time": "2022-09-06T09:20:01.020Z"
   },
   {
    "duration": 278,
    "start_time": "2022-09-06T09:20:01.063Z"
   },
   {
    "duration": 4,
    "start_time": "2022-09-06T09:20:01.342Z"
   },
   {
    "duration": 13785,
    "start_time": "2022-09-06T09:20:01.356Z"
   },
   {
    "duration": 290,
    "start_time": "2022-09-06T09:20:15.142Z"
   },
   {
    "duration": 256,
    "start_time": "2022-09-06T09:20:15.434Z"
   },
   {
    "duration": 202,
    "start_time": "2022-09-06T09:20:15.692Z"
   },
   {
    "duration": 209,
    "start_time": "2022-09-06T09:20:15.896Z"
   },
   {
    "duration": 0,
    "start_time": "2022-09-06T09:20:16.244Z"
   },
   {
    "duration": 0,
    "start_time": "2022-09-06T09:20:16.246Z"
   },
   {
    "duration": 0,
    "start_time": "2022-09-06T09:20:16.247Z"
   },
   {
    "duration": 0,
    "start_time": "2022-09-06T09:20:16.249Z"
   },
   {
    "duration": 0,
    "start_time": "2022-09-06T09:20:16.250Z"
   },
   {
    "duration": 101,
    "start_time": "2022-09-06T09:21:23.240Z"
   },
   {
    "duration": 46,
    "start_time": "2022-09-06T09:21:37.640Z"
   },
   {
    "duration": 84,
    "start_time": "2022-09-06T09:21:49.243Z"
   },
   {
    "duration": 76,
    "start_time": "2022-09-06T09:22:30.630Z"
   },
   {
    "duration": 75,
    "start_time": "2022-09-06T09:22:46.412Z"
   },
   {
    "duration": 80,
    "start_time": "2022-09-06T09:41:29.953Z"
   },
   {
    "duration": 74,
    "start_time": "2022-09-06T09:41:45.492Z"
   },
   {
    "duration": 74,
    "start_time": "2022-09-06T09:41:46.512Z"
   },
   {
    "duration": 73,
    "start_time": "2022-09-06T09:41:47.591Z"
   },
   {
    "duration": 1052,
    "start_time": "2022-09-06T10:00:01.289Z"
   },
   {
    "duration": 348,
    "start_time": "2022-09-06T10:00:02.343Z"
   },
   {
    "duration": 43,
    "start_time": "2022-09-06T10:00:02.693Z"
   },
   {
    "duration": 31,
    "start_time": "2022-09-06T10:00:02.738Z"
   },
   {
    "duration": 25,
    "start_time": "2022-09-06T10:00:02.771Z"
   },
   {
    "duration": 34,
    "start_time": "2022-09-06T10:00:02.798Z"
   },
   {
    "duration": 21,
    "start_time": "2022-09-06T10:00:02.858Z"
   },
   {
    "duration": 127,
    "start_time": "2022-09-06T10:00:02.880Z"
   },
   {
    "duration": 48,
    "start_time": "2022-09-06T10:00:03.009Z"
   },
   {
    "duration": 9,
    "start_time": "2022-09-06T10:00:03.059Z"
   },
   {
    "duration": 28,
    "start_time": "2022-09-06T10:00:03.069Z"
   },
   {
    "duration": 25,
    "start_time": "2022-09-06T10:00:03.098Z"
   },
   {
    "duration": 6,
    "start_time": "2022-09-06T10:00:03.125Z"
   },
   {
    "duration": 33,
    "start_time": "2022-09-06T10:00:03.132Z"
   },
   {
    "duration": 15,
    "start_time": "2022-09-06T10:00:03.167Z"
   },
   {
    "duration": 21,
    "start_time": "2022-09-06T10:00:03.183Z"
   },
   {
    "duration": 6,
    "start_time": "2022-09-06T10:00:03.206Z"
   },
   {
    "duration": 13,
    "start_time": "2022-09-06T10:00:03.214Z"
   },
   {
    "duration": 38,
    "start_time": "2022-09-06T10:00:03.228Z"
   },
   {
    "duration": 10,
    "start_time": "2022-09-06T10:00:03.268Z"
   },
   {
    "duration": 15,
    "start_time": "2022-09-06T10:00:03.280Z"
   },
   {
    "duration": 11,
    "start_time": "2022-09-06T10:00:03.297Z"
   },
   {
    "duration": 21,
    "start_time": "2022-09-06T10:00:03.309Z"
   },
   {
    "duration": 34,
    "start_time": "2022-09-06T10:00:03.332Z"
   },
   {
    "duration": 10,
    "start_time": "2022-09-06T10:00:03.368Z"
   },
   {
    "duration": 13,
    "start_time": "2022-09-06T10:00:03.380Z"
   },
   {
    "duration": 17,
    "start_time": "2022-09-06T10:00:03.394Z"
   },
   {
    "duration": 3,
    "start_time": "2022-09-06T10:00:03.414Z"
   },
   {
    "duration": 15,
    "start_time": "2022-09-06T10:00:03.419Z"
   },
   {
    "duration": 106,
    "start_time": "2022-09-06T10:00:03.436Z"
   },
   {
    "duration": 59,
    "start_time": "2022-09-06T10:00:03.543Z"
   },
   {
    "duration": 232,
    "start_time": "2022-09-06T10:00:03.604Z"
   },
   {
    "duration": 160,
    "start_time": "2022-09-06T10:00:03.837Z"
   },
   {
    "duration": 294,
    "start_time": "2022-09-06T10:00:03.999Z"
   },
   {
    "duration": 38,
    "start_time": "2022-09-06T10:00:04.295Z"
   },
   {
    "duration": 44,
    "start_time": "2022-09-06T10:00:04.334Z"
   },
   {
    "duration": 26,
    "start_time": "2022-09-06T10:00:04.380Z"
   },
   {
    "duration": 313,
    "start_time": "2022-09-06T10:00:04.407Z"
   },
   {
    "duration": 4,
    "start_time": "2022-09-06T10:00:04.722Z"
   },
   {
    "duration": 1123,
    "start_time": "2022-09-06T21:33:59.470Z"
   },
   {
    "duration": 371,
    "start_time": "2022-09-06T21:34:00.595Z"
   },
   {
    "duration": 46,
    "start_time": "2022-09-06T21:34:00.967Z"
   },
   {
    "duration": 35,
    "start_time": "2022-09-06T21:34:01.016Z"
   },
   {
    "duration": 25,
    "start_time": "2022-09-06T21:34:01.053Z"
   },
   {
    "duration": 36,
    "start_time": "2022-09-06T21:34:01.102Z"
   },
   {
    "duration": 24,
    "start_time": "2022-09-06T21:34:01.140Z"
   },
   {
    "duration": 164,
    "start_time": "2022-09-06T21:34:01.166Z"
   },
   {
    "duration": 44,
    "start_time": "2022-09-06T21:34:01.333Z"
   },
   {
    "duration": 34,
    "start_time": "2022-09-06T21:34:01.379Z"
   },
   {
    "duration": 29,
    "start_time": "2022-09-06T21:34:01.416Z"
   },
   {
    "duration": 36,
    "start_time": "2022-09-06T21:34:01.447Z"
   },
   {
    "duration": 19,
    "start_time": "2022-09-06T21:34:01.485Z"
   },
   {
    "duration": 21,
    "start_time": "2022-09-06T21:34:01.508Z"
   },
   {
    "duration": 17,
    "start_time": "2022-09-06T21:34:01.531Z"
   },
   {
    "duration": 26,
    "start_time": "2022-09-06T21:34:01.550Z"
   },
   {
    "duration": 31,
    "start_time": "2022-09-06T21:34:01.578Z"
   },
   {
    "duration": 14,
    "start_time": "2022-09-06T21:34:01.611Z"
   },
   {
    "duration": 33,
    "start_time": "2022-09-06T21:34:01.626Z"
   },
   {
    "duration": 11,
    "start_time": "2022-09-06T21:34:01.661Z"
   },
   {
    "duration": 31,
    "start_time": "2022-09-06T21:34:01.674Z"
   },
   {
    "duration": 36,
    "start_time": "2022-09-06T21:34:01.707Z"
   },
   {
    "duration": 16,
    "start_time": "2022-09-06T21:34:01.745Z"
   },
   {
    "duration": 45,
    "start_time": "2022-09-06T21:34:01.763Z"
   },
   {
    "duration": 12,
    "start_time": "2022-09-06T21:34:01.809Z"
   },
   {
    "duration": 5,
    "start_time": "2022-09-06T21:34:01.823Z"
   },
   {
    "duration": 29,
    "start_time": "2022-09-06T21:34:01.829Z"
   },
   {
    "duration": 4,
    "start_time": "2022-09-06T21:34:01.860Z"
   },
   {
    "duration": 13,
    "start_time": "2022-09-06T21:34:01.866Z"
   },
   {
    "duration": 126,
    "start_time": "2022-09-06T21:34:01.881Z"
   },
   {
    "duration": 61,
    "start_time": "2022-09-06T21:34:02.009Z"
   },
   {
    "duration": 245,
    "start_time": "2022-09-06T21:34:02.071Z"
   },
   {
    "duration": 178,
    "start_time": "2022-09-06T21:34:02.318Z"
   },
   {
    "duration": 200,
    "start_time": "2022-09-06T21:34:02.498Z"
   },
   {
    "duration": 39,
    "start_time": "2022-09-06T21:34:02.699Z"
   },
   {
    "duration": 30,
    "start_time": "2022-09-06T21:34:02.739Z"
   },
   {
    "duration": 53,
    "start_time": "2022-09-06T21:34:02.770Z"
   },
   {
    "duration": 267,
    "start_time": "2022-09-06T21:34:02.824Z"
   },
   {
    "duration": 5,
    "start_time": "2022-09-06T21:34:03.093Z"
   },
   {
    "duration": 14381,
    "start_time": "2022-09-06T21:34:03.103Z"
   },
   {
    "duration": 271,
    "start_time": "2022-09-06T21:34:17.488Z"
   },
   {
    "duration": 245,
    "start_time": "2022-09-06T21:34:17.761Z"
   },
   {
    "duration": 221,
    "start_time": "2022-09-06T21:34:18.008Z"
   },
   {
    "duration": 247,
    "start_time": "2022-09-06T21:34:18.231Z"
   },
   {
    "duration": 82,
    "start_time": "2022-09-06T21:34:18.479Z"
   },
   {
    "duration": 86,
    "start_time": "2022-09-06T21:34:18.562Z"
   },
   {
    "duration": 90,
    "start_time": "2022-09-06T21:34:18.650Z"
   },
   {
    "duration": 91,
    "start_time": "2022-09-06T21:34:18.741Z"
   },
   {
    "duration": 102,
    "start_time": "2022-09-06T21:34:18.834Z"
   },
   {
    "duration": 187,
    "start_time": "2022-09-06T21:34:18.938Z"
   },
   {
    "duration": 6,
    "start_time": "2022-09-06T21:35:11.100Z"
   },
   {
    "duration": 6,
    "start_time": "2022-09-06T21:35:17.066Z"
   },
   {
    "duration": 6,
    "start_time": "2022-09-06T21:35:43.319Z"
   },
   {
    "duration": 6,
    "start_time": "2022-09-06T21:35:49.668Z"
   },
   {
    "duration": 322,
    "start_time": "2022-09-06T21:36:13.424Z"
   },
   {
    "duration": 47,
    "start_time": "2022-09-07T16:22:22.947Z"
   },
   {
    "duration": 1143,
    "start_time": "2022-09-07T16:22:43.730Z"
   },
   {
    "duration": 976,
    "start_time": "2022-09-07T16:22:44.875Z"
   },
   {
    "duration": 50,
    "start_time": "2022-09-07T16:22:45.852Z"
   },
   {
    "duration": 33,
    "start_time": "2022-09-07T16:22:45.905Z"
   },
   {
    "duration": 82,
    "start_time": "2022-09-07T16:22:45.939Z"
   },
   {
    "duration": 33,
    "start_time": "2022-09-07T16:22:46.023Z"
   },
   {
    "duration": 20,
    "start_time": "2022-09-07T16:22:46.058Z"
   },
   {
    "duration": 148,
    "start_time": "2022-09-07T16:22:46.080Z"
   },
   {
    "duration": 36,
    "start_time": "2022-09-07T16:22:46.230Z"
   },
   {
    "duration": 7,
    "start_time": "2022-09-07T16:22:46.270Z"
   },
   {
    "duration": 38,
    "start_time": "2022-09-07T16:22:46.278Z"
   },
   {
    "duration": 23,
    "start_time": "2022-09-07T16:22:46.318Z"
   },
   {
    "duration": 6,
    "start_time": "2022-09-07T16:22:46.343Z"
   },
   {
    "duration": 25,
    "start_time": "2022-09-07T16:22:46.350Z"
   },
   {
    "duration": 33,
    "start_time": "2022-09-07T16:22:46.376Z"
   },
   {
    "duration": 22,
    "start_time": "2022-09-07T16:22:46.410Z"
   },
   {
    "duration": 6,
    "start_time": "2022-09-07T16:22:46.433Z"
   },
   {
    "duration": 20,
    "start_time": "2022-09-07T16:22:46.441Z"
   },
   {
    "duration": 34,
    "start_time": "2022-09-07T16:22:46.462Z"
   },
   {
    "duration": 17,
    "start_time": "2022-09-07T16:22:46.498Z"
   },
   {
    "duration": 5,
    "start_time": "2022-09-07T16:22:46.517Z"
   },
   {
    "duration": 23,
    "start_time": "2022-09-07T16:22:46.524Z"
   },
   {
    "duration": 26,
    "start_time": "2022-09-07T16:22:46.549Z"
   },
   {
    "duration": 53,
    "start_time": "2022-09-07T16:22:46.577Z"
   },
   {
    "duration": 12,
    "start_time": "2022-09-07T16:22:46.632Z"
   },
   {
    "duration": 3,
    "start_time": "2022-09-07T16:22:46.646Z"
   },
   {
    "duration": 24,
    "start_time": "2022-09-07T16:22:46.651Z"
   },
   {
    "duration": 4,
    "start_time": "2022-09-07T16:22:46.678Z"
   },
   {
    "duration": 27,
    "start_time": "2022-09-07T16:22:46.683Z"
   },
   {
    "duration": 107,
    "start_time": "2022-09-07T16:22:46.711Z"
   },
   {
    "duration": 59,
    "start_time": "2022-09-07T16:22:46.819Z"
   },
   {
    "duration": 98,
    "start_time": "2022-09-07T16:22:46.880Z"
   },
   {
    "duration": 0,
    "start_time": "2022-09-07T16:22:46.979Z"
   },
   {
    "duration": 0,
    "start_time": "2022-09-07T16:22:46.981Z"
   },
   {
    "duration": 0,
    "start_time": "2022-09-07T16:22:46.982Z"
   },
   {
    "duration": 0,
    "start_time": "2022-09-07T16:22:46.983Z"
   },
   {
    "duration": 0,
    "start_time": "2022-09-07T16:22:46.984Z"
   },
   {
    "duration": 0,
    "start_time": "2022-09-07T16:22:46.984Z"
   },
   {
    "duration": 0,
    "start_time": "2022-09-07T16:22:46.986Z"
   },
   {
    "duration": 0,
    "start_time": "2022-09-07T16:22:46.986Z"
   },
   {
    "duration": 0,
    "start_time": "2022-09-07T16:22:46.988Z"
   },
   {
    "duration": 0,
    "start_time": "2022-09-07T16:22:46.988Z"
   },
   {
    "duration": 0,
    "start_time": "2022-09-07T16:22:47.009Z"
   },
   {
    "duration": 0,
    "start_time": "2022-09-07T16:22:47.010Z"
   },
   {
    "duration": 0,
    "start_time": "2022-09-07T16:22:47.011Z"
   },
   {
    "duration": 0,
    "start_time": "2022-09-07T16:22:47.012Z"
   },
   {
    "duration": 0,
    "start_time": "2022-09-07T16:22:47.013Z"
   },
   {
    "duration": 0,
    "start_time": "2022-09-07T16:22:47.014Z"
   },
   {
    "duration": 0,
    "start_time": "2022-09-07T16:22:47.015Z"
   },
   {
    "duration": 0,
    "start_time": "2022-09-07T16:22:47.016Z"
   },
   {
    "duration": 0,
    "start_time": "2022-09-07T16:22:47.017Z"
   },
   {
    "duration": 13,
    "start_time": "2022-09-07T16:24:14.908Z"
   },
   {
    "duration": 15,
    "start_time": "2022-09-07T16:25:19.135Z"
   },
   {
    "duration": 57,
    "start_time": "2022-09-07T16:32:12.788Z"
   },
   {
    "duration": 71,
    "start_time": "2022-09-07T16:32:22.275Z"
   },
   {
    "duration": 219,
    "start_time": "2022-09-07T16:35:44.908Z"
   },
   {
    "duration": 182,
    "start_time": "2022-09-07T16:36:16.410Z"
   },
   {
    "duration": 182,
    "start_time": "2022-09-07T16:36:26.581Z"
   },
   {
    "duration": 38,
    "start_time": "2022-09-07T16:36:40.657Z"
   },
   {
    "duration": 187,
    "start_time": "2022-09-07T16:36:49.951Z"
   },
   {
    "duration": 73108,
    "start_time": "2022-09-07T16:38:20.176Z"
   },
   {
    "duration": 227,
    "start_time": "2022-09-07T16:40:43.915Z"
   },
   {
    "duration": 255,
    "start_time": "2022-09-07T16:40:51.126Z"
   },
   {
    "duration": 240,
    "start_time": "2022-09-07T16:47:22.217Z"
   },
   {
    "duration": 26,
    "start_time": "2022-09-07T16:59:53.202Z"
   },
   {
    "duration": 10,
    "start_time": "2022-09-07T17:00:08.452Z"
   },
   {
    "duration": 1088,
    "start_time": "2022-09-07T17:00:39.674Z"
   },
   {
    "duration": 344,
    "start_time": "2022-09-07T17:00:40.764Z"
   },
   {
    "duration": 42,
    "start_time": "2022-09-07T17:00:41.109Z"
   },
   {
    "duration": 38,
    "start_time": "2022-09-07T17:00:41.153Z"
   },
   {
    "duration": 24,
    "start_time": "2022-09-07T17:00:41.209Z"
   },
   {
    "duration": 33,
    "start_time": "2022-09-07T17:00:41.234Z"
   },
   {
    "duration": 45,
    "start_time": "2022-09-07T17:00:41.269Z"
   },
   {
    "duration": 130,
    "start_time": "2022-09-07T17:00:41.316Z"
   },
   {
    "duration": 35,
    "start_time": "2022-09-07T17:00:41.447Z"
   },
   {
    "duration": 7,
    "start_time": "2022-09-07T17:00:41.484Z"
   },
   {
    "duration": 12,
    "start_time": "2022-09-07T17:00:41.509Z"
   },
   {
    "duration": 32,
    "start_time": "2022-09-07T17:00:41.522Z"
   },
   {
    "duration": 7,
    "start_time": "2022-09-07T17:00:41.556Z"
   },
   {
    "duration": 20,
    "start_time": "2022-09-07T17:00:41.566Z"
   },
   {
    "duration": 18,
    "start_time": "2022-09-07T17:00:41.609Z"
   },
   {
    "duration": 23,
    "start_time": "2022-09-07T17:00:41.628Z"
   },
   {
    "duration": 6,
    "start_time": "2022-09-07T17:00:41.653Z"
   },
   {
    "duration": 16,
    "start_time": "2022-09-07T17:00:41.661Z"
   },
   {
    "duration": 52,
    "start_time": "2022-09-07T17:00:41.679Z"
   },
   {
    "duration": 11,
    "start_time": "2022-09-07T17:00:41.734Z"
   },
   {
    "duration": 7,
    "start_time": "2022-09-07T17:00:41.746Z"
   },
   {
    "duration": 11,
    "start_time": "2022-09-07T17:00:41.754Z"
   },
   {
    "duration": 12,
    "start_time": "2022-09-07T17:00:41.766Z"
   },
   {
    "duration": 57,
    "start_time": "2022-09-07T17:00:41.780Z"
   },
   {
    "duration": 12,
    "start_time": "2022-09-07T17:00:41.839Z"
   },
   {
    "duration": 3,
    "start_time": "2022-09-07T17:00:41.853Z"
   },
   {
    "duration": 14,
    "start_time": "2022-09-07T17:00:41.857Z"
   },
   {
    "duration": 4,
    "start_time": "2022-09-07T17:00:41.873Z"
   },
   {
    "duration": 39,
    "start_time": "2022-09-07T17:00:41.878Z"
   },
   {
    "duration": 108,
    "start_time": "2022-09-07T17:00:41.918Z"
   },
   {
    "duration": 57,
    "start_time": "2022-09-07T17:00:42.028Z"
   },
   {
    "duration": 276,
    "start_time": "2022-09-07T17:00:42.087Z"
   },
   {
    "duration": 88,
    "start_time": "2022-09-07T17:00:42.365Z"
   },
   {
    "duration": 0,
    "start_time": "2022-09-07T17:00:42.455Z"
   },
   {
    "duration": 0,
    "start_time": "2022-09-07T17:00:42.456Z"
   },
   {
    "duration": 0,
    "start_time": "2022-09-07T17:00:42.457Z"
   },
   {
    "duration": 0,
    "start_time": "2022-09-07T17:00:42.459Z"
   },
   {
    "duration": 0,
    "start_time": "2022-09-07T17:00:42.459Z"
   },
   {
    "duration": 0,
    "start_time": "2022-09-07T17:00:42.461Z"
   },
   {
    "duration": 0,
    "start_time": "2022-09-07T17:00:42.462Z"
   },
   {
    "duration": 0,
    "start_time": "2022-09-07T17:00:42.463Z"
   },
   {
    "duration": 0,
    "start_time": "2022-09-07T17:00:42.464Z"
   },
   {
    "duration": 0,
    "start_time": "2022-09-07T17:00:42.465Z"
   },
   {
    "duration": 0,
    "start_time": "2022-09-07T17:00:42.466Z"
   },
   {
    "duration": 0,
    "start_time": "2022-09-07T17:00:42.467Z"
   },
   {
    "duration": 0,
    "start_time": "2022-09-07T17:00:42.468Z"
   },
   {
    "duration": 0,
    "start_time": "2022-09-07T17:00:42.469Z"
   },
   {
    "duration": 0,
    "start_time": "2022-09-07T17:00:42.470Z"
   },
   {
    "duration": 0,
    "start_time": "2022-09-07T17:00:42.471Z"
   },
   {
    "duration": 0,
    "start_time": "2022-09-07T17:00:42.472Z"
   },
   {
    "duration": 0,
    "start_time": "2022-09-07T17:00:42.473Z"
   },
   {
    "duration": 0,
    "start_time": "2022-09-07T17:00:42.509Z"
   },
   {
    "duration": 18,
    "start_time": "2022-09-07T17:01:55.752Z"
   },
   {
    "duration": 18,
    "start_time": "2022-09-07T17:02:22.786Z"
   },
   {
    "duration": 14,
    "start_time": "2022-09-07T17:02:27.937Z"
   },
   {
    "duration": 197,
    "start_time": "2022-09-07T17:03:14.679Z"
   },
   {
    "duration": 236,
    "start_time": "2022-09-07T17:03:37.786Z"
   },
   {
    "duration": 8,
    "start_time": "2022-09-07T17:03:45.293Z"
   },
   {
    "duration": 11,
    "start_time": "2022-09-07T17:04:00.519Z"
   },
   {
    "duration": 29,
    "start_time": "2022-09-07T17:04:25.338Z"
   },
   {
    "duration": 11,
    "start_time": "2022-09-07T17:04:33.283Z"
   },
   {
    "duration": 245,
    "start_time": "2022-09-07T17:04:40.945Z"
   },
   {
    "duration": 3,
    "start_time": "2022-09-07T17:04:56.596Z"
   },
   {
    "duration": 1224,
    "start_time": "2022-09-07T17:05:20.752Z"
   },
   {
    "duration": 358,
    "start_time": "2022-09-07T17:05:21.978Z"
   },
   {
    "duration": 45,
    "start_time": "2022-09-07T17:05:22.337Z"
   },
   {
    "duration": 32,
    "start_time": "2022-09-07T17:05:22.384Z"
   },
   {
    "duration": 22,
    "start_time": "2022-09-07T17:05:22.417Z"
   },
   {
    "duration": 30,
    "start_time": "2022-09-07T17:05:22.441Z"
   },
   {
    "duration": 39,
    "start_time": "2022-09-07T17:05:22.473Z"
   },
   {
    "duration": 123,
    "start_time": "2022-09-07T17:05:22.513Z"
   },
   {
    "duration": 34,
    "start_time": "2022-09-07T17:05:22.637Z"
   },
   {
    "duration": 8,
    "start_time": "2022-09-07T17:05:22.673Z"
   },
   {
    "duration": 36,
    "start_time": "2022-09-07T17:05:22.682Z"
   },
   {
    "duration": 28,
    "start_time": "2022-09-07T17:05:22.720Z"
   },
   {
    "duration": 7,
    "start_time": "2022-09-07T17:05:22.750Z"
   },
   {
    "duration": 18,
    "start_time": "2022-09-07T17:05:22.759Z"
   },
   {
    "duration": 41,
    "start_time": "2022-09-07T17:05:22.779Z"
   },
   {
    "duration": 21,
    "start_time": "2022-09-07T17:05:22.821Z"
   },
   {
    "duration": 7,
    "start_time": "2022-09-07T17:05:22.844Z"
   },
   {
    "duration": 10,
    "start_time": "2022-09-07T17:05:22.852Z"
   },
   {
    "duration": 55,
    "start_time": "2022-09-07T17:05:22.863Z"
   },
   {
    "duration": 184,
    "start_time": "2022-09-07T17:05:22.920Z"
   },
   {
    "duration": 7,
    "start_time": "2022-09-07T17:05:23.108Z"
   },
   {
    "duration": 9,
    "start_time": "2022-09-07T17:05:23.117Z"
   },
   {
    "duration": 11,
    "start_time": "2022-09-07T17:05:23.128Z"
   },
   {
    "duration": 33,
    "start_time": "2022-09-07T17:05:23.141Z"
   },
   {
    "duration": 247,
    "start_time": "2022-09-07T17:05:23.177Z"
   },
   {
    "duration": 3,
    "start_time": "2022-09-07T17:05:23.426Z"
   },
   {
    "duration": 24,
    "start_time": "2022-09-07T17:05:23.430Z"
   },
   {
    "duration": 5,
    "start_time": "2022-09-07T17:05:23.458Z"
   },
   {
    "duration": 22,
    "start_time": "2022-09-07T17:05:23.465Z"
   },
   {
    "duration": 527,
    "start_time": "2022-09-07T17:05:23.489Z"
   },
   {
    "duration": 445,
    "start_time": "2022-09-07T17:05:24.017Z"
   },
   {
    "duration": 2506,
    "start_time": "2022-09-07T17:05:24.463Z"
   },
   {
    "duration": 94,
    "start_time": "2022-09-07T17:05:26.970Z"
   },
   {
    "duration": 0,
    "start_time": "2022-09-07T17:05:27.066Z"
   },
   {
    "duration": 0,
    "start_time": "2022-09-07T17:05:27.067Z"
   },
   {
    "duration": 0,
    "start_time": "2022-09-07T17:05:27.068Z"
   },
   {
    "duration": 0,
    "start_time": "2022-09-07T17:05:27.069Z"
   },
   {
    "duration": 0,
    "start_time": "2022-09-07T17:05:27.070Z"
   },
   {
    "duration": 0,
    "start_time": "2022-09-07T17:05:27.071Z"
   },
   {
    "duration": 0,
    "start_time": "2022-09-07T17:05:27.072Z"
   },
   {
    "duration": 0,
    "start_time": "2022-09-07T17:05:27.073Z"
   },
   {
    "duration": 0,
    "start_time": "2022-09-07T17:05:27.074Z"
   },
   {
    "duration": 0,
    "start_time": "2022-09-07T17:05:27.075Z"
   },
   {
    "duration": 0,
    "start_time": "2022-09-07T17:05:27.076Z"
   },
   {
    "duration": 0,
    "start_time": "2022-09-07T17:05:27.077Z"
   },
   {
    "duration": 0,
    "start_time": "2022-09-07T17:05:27.078Z"
   },
   {
    "duration": 0,
    "start_time": "2022-09-07T17:05:27.081Z"
   },
   {
    "duration": 0,
    "start_time": "2022-09-07T17:05:27.082Z"
   },
   {
    "duration": 0,
    "start_time": "2022-09-07T17:05:27.109Z"
   },
   {
    "duration": 0,
    "start_time": "2022-09-07T17:05:27.110Z"
   },
   {
    "duration": 0,
    "start_time": "2022-09-07T17:05:27.111Z"
   },
   {
    "duration": 0,
    "start_time": "2022-09-07T17:05:27.112Z"
   },
   {
    "duration": 13,
    "start_time": "2022-09-07T17:07:11.635Z"
   },
   {
    "duration": 3,
    "start_time": "2022-09-07T17:07:26.155Z"
   },
   {
    "duration": 298,
    "start_time": "2022-09-07T17:07:26.917Z"
   },
   {
    "duration": 40,
    "start_time": "2022-09-07T17:07:28.326Z"
   },
   {
    "duration": 36,
    "start_time": "2022-09-07T17:07:28.523Z"
   },
   {
    "duration": 29,
    "start_time": "2022-09-07T17:07:28.731Z"
   },
   {
    "duration": 33,
    "start_time": "2022-09-07T17:07:28.904Z"
   },
   {
    "duration": 19,
    "start_time": "2022-09-07T17:07:29.631Z"
   },
   {
    "duration": 98,
    "start_time": "2022-09-07T17:07:30.417Z"
   },
   {
    "duration": 34,
    "start_time": "2022-09-07T17:07:30.806Z"
   },
   {
    "duration": 9,
    "start_time": "2022-09-07T17:07:31.788Z"
   },
   {
    "duration": 12,
    "start_time": "2022-09-07T17:07:31.994Z"
   },
   {
    "duration": 23,
    "start_time": "2022-09-07T17:07:32.731Z"
   },
   {
    "duration": 7,
    "start_time": "2022-09-07T17:07:35.258Z"
   },
   {
    "duration": 18,
    "start_time": "2022-09-07T17:07:37.442Z"
   },
   {
    "duration": 13,
    "start_time": "2022-09-07T17:07:40.130Z"
   },
   {
    "duration": 18,
    "start_time": "2022-09-07T17:07:55.312Z"
   },
   {
    "duration": 7,
    "start_time": "2022-09-07T17:08:05.339Z"
   },
   {
    "duration": 9,
    "start_time": "2022-09-07T17:08:06.791Z"
   },
   {
    "duration": 24,
    "start_time": "2022-09-07T17:08:22.467Z"
   },
   {
    "duration": 190,
    "start_time": "2022-09-07T17:08:24.920Z"
   },
   {
    "duration": 8,
    "start_time": "2022-09-07T17:08:53.818Z"
   },
   {
    "duration": 8,
    "start_time": "2022-09-07T17:13:34.450Z"
   },
   {
    "duration": 10,
    "start_time": "2022-09-07T17:13:36.204Z"
   },
   {
    "duration": 33,
    "start_time": "2022-09-07T17:13:37.901Z"
   },
   {
    "duration": 216,
    "start_time": "2022-09-07T17:13:42.832Z"
   },
   {
    "duration": 3,
    "start_time": "2022-09-07T17:13:51.933Z"
   },
   {
    "duration": 14,
    "start_time": "2022-09-07T17:14:04.638Z"
   },
   {
    "duration": 4,
    "start_time": "2022-09-07T17:14:05.439Z"
   },
   {
    "duration": 12,
    "start_time": "2022-09-07T17:14:06.620Z"
   },
   {
    "duration": 518,
    "start_time": "2022-09-07T17:14:12.629Z"
   },
   {
    "duration": 361,
    "start_time": "2022-09-07T17:14:13.679Z"
   },
   {
    "duration": 15,
    "start_time": "2022-09-07T17:14:44.411Z"
   },
   {
    "duration": 13,
    "start_time": "2022-09-07T17:14:49.368Z"
   },
   {
    "duration": 11,
    "start_time": "2022-09-07T17:15:39.830Z"
   },
   {
    "duration": 2442,
    "start_time": "2022-09-07T17:15:42.340Z"
   },
   {
    "duration": 9,
    "start_time": "2022-09-07T17:15:47.763Z"
   },
   {
    "duration": 1482,
    "start_time": "2022-09-07T17:15:49.193Z"
   },
   {
    "duration": 919,
    "start_time": "2022-09-07T17:15:55.417Z"
   },
   {
    "duration": 11,
    "start_time": "2022-09-07T17:15:56.674Z"
   },
   {
    "duration": 216,
    "start_time": "2022-09-07T17:15:57.909Z"
   },
   {
    "duration": 788,
    "start_time": "2022-09-07T17:15:58.998Z"
   },
   {
    "duration": 68,
    "start_time": "2022-09-07T17:16:00.240Z"
   },
   {
    "duration": 1134,
    "start_time": "2022-09-07T17:28:21.399Z"
   },
   {
    "duration": 935,
    "start_time": "2022-09-07T17:28:22.536Z"
   },
   {
    "duration": 44,
    "start_time": "2022-09-07T17:28:23.472Z"
   },
   {
    "duration": 38,
    "start_time": "2022-09-07T17:28:23.518Z"
   },
   {
    "duration": 23,
    "start_time": "2022-09-07T17:28:23.557Z"
   },
   {
    "duration": 49,
    "start_time": "2022-09-07T17:28:23.581Z"
   },
   {
    "duration": 22,
    "start_time": "2022-09-07T17:28:23.632Z"
   },
   {
    "duration": 138,
    "start_time": "2022-09-07T17:28:23.656Z"
   },
   {
    "duration": 46,
    "start_time": "2022-09-07T17:28:23.796Z"
   },
   {
    "duration": 7,
    "start_time": "2022-09-07T17:28:23.845Z"
   },
   {
    "duration": 31,
    "start_time": "2022-09-07T17:28:23.854Z"
   },
   {
    "duration": 31,
    "start_time": "2022-09-07T17:28:23.886Z"
   },
   {
    "duration": 6,
    "start_time": "2022-09-07T17:28:23.919Z"
   },
   {
    "duration": 36,
    "start_time": "2022-09-07T17:28:23.926Z"
   },
   {
    "duration": 17,
    "start_time": "2022-09-07T17:28:23.963Z"
   },
   {
    "duration": 27,
    "start_time": "2022-09-07T17:28:23.982Z"
   },
   {
    "duration": 7,
    "start_time": "2022-09-07T17:28:24.011Z"
   },
   {
    "duration": 23,
    "start_time": "2022-09-07T17:28:24.019Z"
   },
   {
    "duration": 24,
    "start_time": "2022-09-07T17:28:24.044Z"
   },
   {
    "duration": 181,
    "start_time": "2022-09-07T17:28:24.070Z"
   },
   {
    "duration": 7,
    "start_time": "2022-09-07T17:28:24.253Z"
   },
   {
    "duration": 20,
    "start_time": "2022-09-07T17:28:24.262Z"
   },
   {
    "duration": 19,
    "start_time": "2022-09-07T17:28:24.283Z"
   },
   {
    "duration": 42,
    "start_time": "2022-09-07T17:28:24.304Z"
   },
   {
    "duration": 220,
    "start_time": "2022-09-07T17:28:24.348Z"
   },
   {
    "duration": 3,
    "start_time": "2022-09-07T17:28:24.570Z"
   },
   {
    "duration": 19,
    "start_time": "2022-09-07T17:28:24.575Z"
   },
   {
    "duration": 12,
    "start_time": "2022-09-07T17:28:24.598Z"
   },
   {
    "duration": 13,
    "start_time": "2022-09-07T17:28:24.611Z"
   },
   {
    "duration": 515,
    "start_time": "2022-09-07T17:28:24.625Z"
   },
   {
    "duration": 421,
    "start_time": "2022-09-07T17:28:25.141Z"
   },
   {
    "duration": 2549,
    "start_time": "2022-09-07T17:28:25.564Z"
   },
   {
    "duration": 99,
    "start_time": "2022-09-07T17:28:28.115Z"
   },
   {
    "duration": 0,
    "start_time": "2022-09-07T17:28:28.215Z"
   },
   {
    "duration": 0,
    "start_time": "2022-09-07T17:28:28.217Z"
   },
   {
    "duration": 0,
    "start_time": "2022-09-07T17:28:28.217Z"
   },
   {
    "duration": 0,
    "start_time": "2022-09-07T17:28:28.218Z"
   },
   {
    "duration": 0,
    "start_time": "2022-09-07T17:28:28.219Z"
   },
   {
    "duration": 0,
    "start_time": "2022-09-07T17:28:28.220Z"
   },
   {
    "duration": 0,
    "start_time": "2022-09-07T17:28:28.221Z"
   },
   {
    "duration": 0,
    "start_time": "2022-09-07T17:28:28.222Z"
   },
   {
    "duration": 0,
    "start_time": "2022-09-07T17:28:28.223Z"
   },
   {
    "duration": 0,
    "start_time": "2022-09-07T17:28:28.224Z"
   },
   {
    "duration": 0,
    "start_time": "2022-09-07T17:28:28.225Z"
   },
   {
    "duration": 0,
    "start_time": "2022-09-07T17:28:28.226Z"
   },
   {
    "duration": 0,
    "start_time": "2022-09-07T17:28:28.227Z"
   },
   {
    "duration": 0,
    "start_time": "2022-09-07T17:28:28.228Z"
   },
   {
    "duration": 0,
    "start_time": "2022-09-07T17:28:28.229Z"
   },
   {
    "duration": 0,
    "start_time": "2022-09-07T17:28:28.230Z"
   },
   {
    "duration": 0,
    "start_time": "2022-09-07T17:28:28.231Z"
   },
   {
    "duration": 0,
    "start_time": "2022-09-07T17:28:28.232Z"
   },
   {
    "duration": 0,
    "start_time": "2022-09-07T17:28:28.233Z"
   },
   {
    "duration": 3,
    "start_time": "2022-09-07T17:28:34.255Z"
   },
   {
    "duration": 281,
    "start_time": "2022-09-07T17:28:34.694Z"
   },
   {
    "duration": 37,
    "start_time": "2022-09-07T17:28:35.802Z"
   },
   {
    "duration": 38,
    "start_time": "2022-09-07T17:28:36.008Z"
   },
   {
    "duration": 22,
    "start_time": "2022-09-07T17:28:36.210Z"
   },
   {
    "duration": 31,
    "start_time": "2022-09-07T17:28:36.480Z"
   },
   {
    "duration": 20,
    "start_time": "2022-09-07T17:28:36.725Z"
   },
   {
    "duration": 121,
    "start_time": "2022-09-07T17:28:37.199Z"
   },
   {
    "duration": 32,
    "start_time": "2022-09-07T17:28:37.617Z"
   },
   {
    "duration": 8,
    "start_time": "2022-09-07T17:28:38.607Z"
   },
   {
    "duration": 10,
    "start_time": "2022-09-07T17:28:38.812Z"
   },
   {
    "duration": 22,
    "start_time": "2022-09-07T17:28:39.218Z"
   },
   {
    "duration": 8,
    "start_time": "2022-09-07T17:28:39.657Z"
   },
   {
    "duration": 18,
    "start_time": "2022-09-07T17:28:40.462Z"
   },
   {
    "duration": 14,
    "start_time": "2022-09-07T17:28:40.685Z"
   },
   {
    "duration": 19,
    "start_time": "2022-09-07T17:28:42.813Z"
   },
   {
    "duration": 7,
    "start_time": "2022-09-07T17:28:47.645Z"
   },
   {
    "duration": 9,
    "start_time": "2022-09-07T17:28:47.933Z"
   },
   {
    "duration": 24,
    "start_time": "2022-09-07T17:28:48.914Z"
   },
   {
    "duration": 165,
    "start_time": "2022-09-07T17:28:49.300Z"
   },
   {
    "duration": 9,
    "start_time": "2022-09-07T17:28:50.714Z"
   },
   {
    "duration": 8,
    "start_time": "2022-09-07T17:28:54.973Z"
   },
   {
    "duration": 10,
    "start_time": "2022-09-07T17:28:55.492Z"
   },
   {
    "duration": 32,
    "start_time": "2022-09-07T17:28:55.902Z"
   },
   {
    "duration": 226,
    "start_time": "2022-09-07T17:28:56.961Z"
   },
   {
    "duration": 2,
    "start_time": "2022-09-07T17:28:58.337Z"
   },
   {
    "duration": 13,
    "start_time": "2022-09-07T17:28:58.879Z"
   },
   {
    "duration": 4,
    "start_time": "2022-09-07T17:28:59.426Z"
   },
   {
    "duration": 9,
    "start_time": "2022-09-07T17:29:00.422Z"
   },
   {
    "duration": 507,
    "start_time": "2022-09-07T17:29:01.795Z"
   },
   {
    "duration": 347,
    "start_time": "2022-09-07T17:29:04.115Z"
   },
   {
    "duration": 2642,
    "start_time": "2022-09-07T17:29:08.289Z"
   },
   {
    "duration": 10,
    "start_time": "2022-09-07T17:29:12.125Z"
   },
   {
    "duration": 1461,
    "start_time": "2022-09-07T17:29:17.952Z"
   },
   {
    "duration": 897,
    "start_time": "2022-09-07T17:30:04.661Z"
   },
   {
    "duration": 10,
    "start_time": "2022-09-07T17:30:24.105Z"
   },
   {
    "duration": 211,
    "start_time": "2022-09-07T17:30:25.111Z"
   },
   {
    "duration": 18,
    "start_time": "2022-09-07T17:32:43.288Z"
   },
   {
    "duration": 174,
    "start_time": "2022-09-07T17:33:37.785Z"
   },
   {
    "duration": 19,
    "start_time": "2022-09-07T17:35:17.347Z"
   },
   {
    "duration": 224,
    "start_time": "2022-09-07T17:35:40.525Z"
   },
   {
    "duration": 7,
    "start_time": "2022-09-07T17:35:45.010Z"
   },
   {
    "duration": 37,
    "start_time": "2022-09-07T17:37:45.808Z"
   },
   {
    "duration": 15,
    "start_time": "2022-09-07T17:38:32.341Z"
   },
   {
    "duration": 47,
    "start_time": "2022-09-07T17:39:23.103Z"
   },
   {
    "duration": 44,
    "start_time": "2022-09-07T17:39:29.952Z"
   },
   {
    "duration": 65,
    "start_time": "2022-09-07T17:40:05.634Z"
   },
   {
    "duration": 52,
    "start_time": "2022-09-07T17:40:34.324Z"
   },
   {
    "duration": 10,
    "start_time": "2022-09-07T17:41:10.599Z"
   },
   {
    "duration": 11,
    "start_time": "2022-09-07T17:41:18.349Z"
   },
   {
    "duration": 12,
    "start_time": "2022-09-07T17:41:50.087Z"
   },
   {
    "duration": 3,
    "start_time": "2022-09-07T17:41:51.721Z"
   },
   {
    "duration": 12,
    "start_time": "2022-09-07T17:41:52.769Z"
   },
   {
    "duration": 9,
    "start_time": "2022-09-07T17:42:33.715Z"
   },
   {
    "duration": 10,
    "start_time": "2022-09-07T17:42:49.176Z"
   },
   {
    "duration": 3,
    "start_time": "2022-09-07T17:42:57.085Z"
   },
   {
    "duration": 295,
    "start_time": "2022-09-07T17:42:57.458Z"
   },
   {
    "duration": 36,
    "start_time": "2022-09-07T17:42:58.546Z"
   },
   {
    "duration": 34,
    "start_time": "2022-09-07T17:42:58.766Z"
   },
   {
    "duration": 24,
    "start_time": "2022-09-07T17:42:58.960Z"
   },
   {
    "duration": 33,
    "start_time": "2022-09-07T17:42:59.144Z"
   },
   {
    "duration": 21,
    "start_time": "2022-09-07T17:42:59.317Z"
   },
   {
    "duration": 92,
    "start_time": "2022-09-07T17:42:59.697Z"
   },
   {
    "duration": 35,
    "start_time": "2022-09-07T17:43:00.066Z"
   },
   {
    "duration": 8,
    "start_time": "2022-09-07T17:43:01.029Z"
   },
   {
    "duration": 11,
    "start_time": "2022-09-07T17:43:01.213Z"
   },
   {
    "duration": 24,
    "start_time": "2022-09-07T17:43:01.595Z"
   },
   {
    "duration": 6,
    "start_time": "2022-09-07T17:43:01.993Z"
   },
   {
    "duration": 18,
    "start_time": "2022-09-07T17:43:02.808Z"
   },
   {
    "duration": 13,
    "start_time": "2022-09-07T17:43:03.027Z"
   },
   {
    "duration": 19,
    "start_time": "2022-09-07T17:43:03.968Z"
   },
   {
    "duration": 7,
    "start_time": "2022-09-07T17:43:04.968Z"
   },
   {
    "duration": 9,
    "start_time": "2022-09-07T17:43:05.221Z"
   },
   {
    "duration": 25,
    "start_time": "2022-09-07T17:43:05.636Z"
   },
   {
    "duration": 14,
    "start_time": "2022-09-07T17:43:05.845Z"
   },
   {
    "duration": 8,
    "start_time": "2022-09-07T17:43:06.046Z"
   },
   {
    "duration": 8,
    "start_time": "2022-09-07T17:43:06.638Z"
   },
   {
    "duration": 10,
    "start_time": "2022-09-07T17:43:06.899Z"
   },
   {
    "duration": 31,
    "start_time": "2022-09-07T17:43:07.139Z"
   },
   {
    "duration": 13,
    "start_time": "2022-09-07T17:43:07.344Z"
   },
   {
    "duration": 11,
    "start_time": "2022-09-07T17:43:07.559Z"
   },
   {
    "duration": 3,
    "start_time": "2022-09-07T17:43:09.139Z"
   },
   {
    "duration": 13,
    "start_time": "2022-09-07T17:43:09.943Z"
   },
   {
    "duration": 8,
    "start_time": "2022-09-07T17:43:11.667Z"
   },
   {
    "duration": 10,
    "start_time": "2022-09-07T17:43:16.769Z"
   },
   {
    "duration": 7,
    "start_time": "2022-09-07T17:43:57.534Z"
   },
   {
    "duration": 371,
    "start_time": "2022-09-07T17:43:58.409Z"
   },
   {
    "duration": 2155,
    "start_time": "2022-09-07T17:45:25.416Z"
   },
   {
    "duration": 51,
    "start_time": "2022-09-07T17:48:29.654Z"
   },
   {
    "duration": 8,
    "start_time": "2022-09-07T17:48:30.814Z"
   },
   {
    "duration": 1067,
    "start_time": "2022-09-07T17:48:40.051Z"
   },
   {
    "duration": 942,
    "start_time": "2022-09-07T17:48:41.120Z"
   },
   {
    "duration": 45,
    "start_time": "2022-09-07T17:48:42.064Z"
   },
   {
    "duration": 40,
    "start_time": "2022-09-07T17:48:42.111Z"
   },
   {
    "duration": 21,
    "start_time": "2022-09-07T17:48:42.153Z"
   },
   {
    "duration": 66,
    "start_time": "2022-09-07T17:48:42.176Z"
   },
   {
    "duration": 20,
    "start_time": "2022-09-07T17:48:42.243Z"
   },
   {
    "duration": 146,
    "start_time": "2022-09-07T17:48:42.265Z"
   },
   {
    "duration": 49,
    "start_time": "2022-09-07T17:48:42.413Z"
   },
   {
    "duration": 8,
    "start_time": "2022-09-07T17:48:42.463Z"
   },
   {
    "duration": 36,
    "start_time": "2022-09-07T17:48:42.473Z"
   },
   {
    "duration": 41,
    "start_time": "2022-09-07T17:48:42.511Z"
   },
   {
    "duration": 15,
    "start_time": "2022-09-07T17:48:42.554Z"
   },
   {
    "duration": 18,
    "start_time": "2022-09-07T17:48:42.573Z"
   },
   {
    "duration": 17,
    "start_time": "2022-09-07T17:48:42.609Z"
   },
   {
    "duration": 26,
    "start_time": "2022-09-07T17:48:42.628Z"
   },
   {
    "duration": 7,
    "start_time": "2022-09-07T17:48:42.656Z"
   },
   {
    "duration": 14,
    "start_time": "2022-09-07T17:48:42.664Z"
   },
   {
    "duration": 50,
    "start_time": "2022-09-07T17:48:42.680Z"
   },
   {
    "duration": 20,
    "start_time": "2022-09-07T17:48:42.732Z"
   },
   {
    "duration": 7,
    "start_time": "2022-09-07T17:48:42.753Z"
   },
   {
    "duration": 19,
    "start_time": "2022-09-07T17:48:42.762Z"
   },
   {
    "duration": 30,
    "start_time": "2022-09-07T17:48:42.783Z"
   },
   {
    "duration": 57,
    "start_time": "2022-09-07T17:48:42.816Z"
   },
   {
    "duration": 13,
    "start_time": "2022-09-07T17:48:42.875Z"
   },
   {
    "duration": 37,
    "start_time": "2022-09-07T17:48:42.889Z"
   },
   {
    "duration": 4,
    "start_time": "2022-09-07T17:48:42.928Z"
   },
   {
    "duration": 24,
    "start_time": "2022-09-07T17:48:42.934Z"
   },
   {
    "duration": 14,
    "start_time": "2022-09-07T17:48:42.960Z"
   },
   {
    "duration": 38,
    "start_time": "2022-09-07T17:48:42.975Z"
   },
   {
    "duration": 20,
    "start_time": "2022-09-07T17:48:43.016Z"
   },
   {
    "duration": 119,
    "start_time": "2022-09-07T17:48:43.038Z"
   },
   {
    "duration": 0,
    "start_time": "2022-09-07T17:48:43.159Z"
   },
   {
    "duration": 0,
    "start_time": "2022-09-07T17:48:43.160Z"
   },
   {
    "duration": 0,
    "start_time": "2022-09-07T17:48:43.162Z"
   },
   {
    "duration": 0,
    "start_time": "2022-09-07T17:48:43.163Z"
   },
   {
    "duration": 0,
    "start_time": "2022-09-07T17:48:43.165Z"
   },
   {
    "duration": 0,
    "start_time": "2022-09-07T17:48:43.166Z"
   },
   {
    "duration": 0,
    "start_time": "2022-09-07T17:48:43.167Z"
   },
   {
    "duration": 0,
    "start_time": "2022-09-07T17:48:43.168Z"
   },
   {
    "duration": 0,
    "start_time": "2022-09-07T17:48:43.169Z"
   },
   {
    "duration": 0,
    "start_time": "2022-09-07T17:48:43.171Z"
   },
   {
    "duration": 1,
    "start_time": "2022-09-07T17:48:43.171Z"
   },
   {
    "duration": 0,
    "start_time": "2022-09-07T17:48:43.173Z"
   },
   {
    "duration": 0,
    "start_time": "2022-09-07T17:48:43.174Z"
   },
   {
    "duration": 0,
    "start_time": "2022-09-07T17:48:43.175Z"
   },
   {
    "duration": 0,
    "start_time": "2022-09-07T17:48:43.176Z"
   },
   {
    "duration": 0,
    "start_time": "2022-09-07T17:48:43.210Z"
   },
   {
    "duration": 0,
    "start_time": "2022-09-07T17:48:43.211Z"
   },
   {
    "duration": 0,
    "start_time": "2022-09-07T17:48:43.212Z"
   },
   {
    "duration": 0,
    "start_time": "2022-09-07T17:48:43.214Z"
   },
   {
    "duration": 4,
    "start_time": "2022-09-07T17:48:51.189Z"
   },
   {
    "duration": 307,
    "start_time": "2022-09-07T17:48:51.594Z"
   },
   {
    "duration": 40,
    "start_time": "2022-09-07T17:48:52.576Z"
   },
   {
    "duration": 33,
    "start_time": "2022-09-07T17:48:52.773Z"
   },
   {
    "duration": 22,
    "start_time": "2022-09-07T17:48:52.960Z"
   },
   {
    "duration": 34,
    "start_time": "2022-09-07T17:48:53.159Z"
   },
   {
    "duration": 21,
    "start_time": "2022-09-07T17:48:53.353Z"
   },
   {
    "duration": 99,
    "start_time": "2022-09-07T17:48:53.741Z"
   },
   {
    "duration": 33,
    "start_time": "2022-09-07T17:48:54.175Z"
   },
   {
    "duration": 7,
    "start_time": "2022-09-07T17:48:55.213Z"
   },
   {
    "duration": 11,
    "start_time": "2022-09-07T17:48:55.421Z"
   },
   {
    "duration": 26,
    "start_time": "2022-09-07T17:48:55.800Z"
   },
   {
    "duration": 7,
    "start_time": "2022-09-07T17:48:56.156Z"
   },
   {
    "duration": 18,
    "start_time": "2022-09-07T17:48:56.989Z"
   },
   {
    "duration": 18,
    "start_time": "2022-09-07T17:48:57.226Z"
   },
   {
    "duration": 21,
    "start_time": "2022-09-07T17:48:57.863Z"
   },
   {
    "duration": 7,
    "start_time": "2022-09-07T17:48:58.294Z"
   },
   {
    "duration": 13,
    "start_time": "2022-09-07T17:48:58.513Z"
   },
   {
    "duration": 32,
    "start_time": "2022-09-07T17:48:59.522Z"
   },
   {
    "duration": 25,
    "start_time": "2022-09-07T17:48:59.802Z"
   },
   {
    "duration": 11,
    "start_time": "2022-09-07T17:49:00.058Z"
   },
   {
    "duration": 13,
    "start_time": "2022-09-07T17:49:00.818Z"
   },
   {
    "duration": 11,
    "start_time": "2022-09-07T17:49:01.110Z"
   },
   {
    "duration": 49,
    "start_time": "2022-09-07T17:49:01.334Z"
   },
   {
    "duration": 13,
    "start_time": "2022-09-07T17:49:01.560Z"
   },
   {
    "duration": 16,
    "start_time": "2022-09-07T17:49:01.787Z"
   },
   {
    "duration": 3,
    "start_time": "2022-09-07T17:49:04.954Z"
   },
   {
    "duration": 12,
    "start_time": "2022-09-07T17:49:06.328Z"
   },
   {
    "duration": 9,
    "start_time": "2022-09-07T17:49:07.288Z"
   },
   {
    "duration": 21,
    "start_time": "2022-09-07T17:49:09.179Z"
   },
   {
    "duration": 14,
    "start_time": "2022-09-07T17:49:18.160Z"
   },
   {
    "duration": 9,
    "start_time": "2022-09-07T17:49:23.605Z"
   },
   {
    "duration": 39,
    "start_time": "2022-09-07T17:49:32.443Z"
   },
   {
    "duration": 37,
    "start_time": "2022-09-07T17:49:33.155Z"
   },
   {
    "duration": 33,
    "start_time": "2022-09-07T17:52:59.323Z"
   },
   {
    "duration": 811,
    "start_time": "2022-09-07T17:53:03.891Z"
   },
   {
    "duration": 26,
    "start_time": "2022-09-07T17:53:11.728Z"
   },
   {
    "duration": 24,
    "start_time": "2022-09-07T17:53:29.322Z"
   },
   {
    "duration": 24,
    "start_time": "2022-09-07T17:53:30.569Z"
   },
   {
    "duration": 22,
    "start_time": "2022-09-07T17:53:31.487Z"
   },
   {
    "duration": 44,
    "start_time": "2022-09-07T17:53:32.887Z"
   },
   {
    "duration": 4,
    "start_time": "2022-09-07T17:53:34.345Z"
   },
   {
    "duration": 1648,
    "start_time": "2022-09-07T17:53:35.953Z"
   },
   {
    "duration": 1599,
    "start_time": "2022-09-07T17:53:49.362Z"
   },
   {
    "duration": 1666,
    "start_time": "2022-09-07T17:54:05.292Z"
   },
   {
    "duration": 49,
    "start_time": "2022-09-07T17:54:10.348Z"
   },
   {
    "duration": 161,
    "start_time": "2022-09-07T17:54:22.468Z"
   },
   {
    "duration": 158,
    "start_time": "2022-09-07T17:54:24.793Z"
   },
   {
    "duration": 151,
    "start_time": "2022-09-07T17:54:25.223Z"
   },
   {
    "duration": 16,
    "start_time": "2022-09-07T17:54:26.069Z"
   },
   {
    "duration": 14,
    "start_time": "2022-09-07T17:54:26.897Z"
   },
   {
    "duration": 16,
    "start_time": "2022-09-07T17:54:27.804Z"
   },
   {
    "duration": 15,
    "start_time": "2022-09-07T17:54:40.965Z"
   },
   {
    "duration": 15,
    "start_time": "2022-09-07T17:54:44.849Z"
   },
   {
    "duration": 22,
    "start_time": "2022-09-07T17:54:46.070Z"
   },
   {
    "duration": 1618,
    "start_time": "2022-09-07T17:55:11.225Z"
   },
   {
    "duration": 1605,
    "start_time": "2022-09-07T17:55:20.718Z"
   },
   {
    "duration": 67,
    "start_time": "2022-09-07T17:55:38.240Z"
   },
   {
    "duration": 75,
    "start_time": "2022-09-07T17:55:44.408Z"
   },
   {
    "duration": 11,
    "start_time": "2022-09-07T17:57:04.871Z"
   },
   {
    "duration": 18,
    "start_time": "2022-09-07T17:57:27.337Z"
   },
   {
    "duration": 10,
    "start_time": "2022-09-07T18:32:29.440Z"
   },
   {
    "duration": 26,
    "start_time": "2022-09-07T18:34:15.272Z"
   },
   {
    "duration": 4,
    "start_time": "2022-09-07T18:34:57.636Z"
   },
   {
    "duration": 289,
    "start_time": "2022-09-07T18:34:58.134Z"
   },
   {
    "duration": 37,
    "start_time": "2022-09-07T18:34:59.294Z"
   },
   {
    "duration": 32,
    "start_time": "2022-09-07T18:34:59.509Z"
   },
   {
    "duration": 23,
    "start_time": "2022-09-07T18:34:59.735Z"
   },
   {
    "duration": 31,
    "start_time": "2022-09-07T18:34:59.969Z"
   },
   {
    "duration": 21,
    "start_time": "2022-09-07T18:35:00.239Z"
   },
   {
    "duration": 95,
    "start_time": "2022-09-07T18:35:00.689Z"
   },
   {
    "duration": 37,
    "start_time": "2022-09-07T18:35:01.156Z"
   },
   {
    "duration": 10,
    "start_time": "2022-09-07T18:35:02.341Z"
   },
   {
    "duration": 12,
    "start_time": "2022-09-07T18:35:02.546Z"
   },
   {
    "duration": 24,
    "start_time": "2022-09-07T18:35:03.076Z"
   },
   {
    "duration": 6,
    "start_time": "2022-09-07T18:35:03.853Z"
   },
   {
    "duration": 19,
    "start_time": "2022-09-07T18:35:04.897Z"
   },
   {
    "duration": 21,
    "start_time": "2022-09-07T18:35:05.142Z"
   },
   {
    "duration": 16,
    "start_time": "2022-09-07T18:35:06.340Z"
   },
   {
    "duration": 9,
    "start_time": "2022-09-07T18:35:07.301Z"
   },
   {
    "duration": 9,
    "start_time": "2022-09-07T18:35:07.581Z"
   },
   {
    "duration": 26,
    "start_time": "2022-09-07T18:35:08.363Z"
   },
   {
    "duration": 15,
    "start_time": "2022-09-07T18:35:09.504Z"
   },
   {
    "duration": 8,
    "start_time": "2022-09-07T18:35:09.970Z"
   },
   {
    "duration": 9,
    "start_time": "2022-09-07T18:35:10.812Z"
   },
   {
    "duration": 11,
    "start_time": "2022-09-07T18:35:11.092Z"
   },
   {
    "duration": 31,
    "start_time": "2022-09-07T18:35:11.374Z"
   },
   {
    "duration": 11,
    "start_time": "2022-09-07T18:35:15.517Z"
   },
   {
    "duration": 11,
    "start_time": "2022-09-07T18:35:18.207Z"
   },
   {
    "duration": 3,
    "start_time": "2022-09-07T18:35:21.799Z"
   },
   {
    "duration": 14,
    "start_time": "2022-09-07T18:35:22.335Z"
   },
   {
    "duration": 9,
    "start_time": "2022-09-07T18:35:22.742Z"
   },
   {
    "duration": 18,
    "start_time": "2022-09-07T18:35:23.740Z"
   },
   {
    "duration": 13,
    "start_time": "2022-09-07T18:35:26.565Z"
   },
   {
    "duration": 994,
    "start_time": "2022-09-07T18:36:29.970Z"
   },
   {
    "duration": 387,
    "start_time": "2022-09-07T18:36:30.966Z"
   },
   {
    "duration": 45,
    "start_time": "2022-09-07T18:36:31.354Z"
   },
   {
    "duration": 33,
    "start_time": "2022-09-07T18:36:31.401Z"
   },
   {
    "duration": 24,
    "start_time": "2022-09-07T18:36:31.436Z"
   },
   {
    "duration": 51,
    "start_time": "2022-09-07T18:36:31.461Z"
   },
   {
    "duration": 20,
    "start_time": "2022-09-07T18:36:31.514Z"
   },
   {
    "duration": 135,
    "start_time": "2022-09-07T18:36:31.535Z"
   },
   {
    "duration": 50,
    "start_time": "2022-09-07T18:36:31.672Z"
   },
   {
    "duration": 8,
    "start_time": "2022-09-07T18:36:31.724Z"
   },
   {
    "duration": 17,
    "start_time": "2022-09-07T18:36:31.733Z"
   },
   {
    "duration": 27,
    "start_time": "2022-09-07T18:36:31.752Z"
   },
   {
    "duration": 31,
    "start_time": "2022-09-07T18:36:31.781Z"
   },
   {
    "duration": 19,
    "start_time": "2022-09-07T18:36:31.814Z"
   },
   {
    "duration": 22,
    "start_time": "2022-09-07T18:36:31.835Z"
   },
   {
    "duration": 22,
    "start_time": "2022-09-07T18:36:31.859Z"
   },
   {
    "duration": 7,
    "start_time": "2022-09-07T18:36:31.908Z"
   },
   {
    "duration": 10,
    "start_time": "2022-09-07T18:36:31.917Z"
   },
   {
    "duration": 26,
    "start_time": "2022-09-07T18:36:31.929Z"
   },
   {
    "duration": 16,
    "start_time": "2022-09-07T18:36:31.957Z"
   },
   {
    "duration": 6,
    "start_time": "2022-09-07T18:36:31.974Z"
   },
   {
    "duration": 8,
    "start_time": "2022-09-07T18:36:32.009Z"
   },
   {
    "duration": 13,
    "start_time": "2022-09-07T18:36:32.019Z"
   },
   {
    "duration": 33,
    "start_time": "2022-09-07T18:36:32.033Z"
   },
   {
    "duration": 12,
    "start_time": "2022-09-07T18:36:32.067Z"
   },
   {
    "duration": 42,
    "start_time": "2022-09-07T18:36:32.081Z"
   },
   {
    "duration": 3,
    "start_time": "2022-09-07T18:36:32.125Z"
   },
   {
    "duration": 14,
    "start_time": "2022-09-07T18:36:32.132Z"
   },
   {
    "duration": 7,
    "start_time": "2022-09-07T18:36:32.148Z"
   },
   {
    "duration": 24,
    "start_time": "2022-09-07T18:36:32.156Z"
   },
   {
    "duration": 13,
    "start_time": "2022-09-07T18:36:32.209Z"
   },
   {
    "duration": 22701,
    "start_time": "2022-09-07T18:36:32.224Z"
   },
   {
    "duration": 2858,
    "start_time": "2022-09-07T18:36:54.927Z"
   },
   {
    "duration": 2155,
    "start_time": "2022-09-07T18:36:57.787Z"
   },
   {
    "duration": 10,
    "start_time": "2022-09-07T18:36:59.943Z"
   },
   {
    "duration": 200,
    "start_time": "2022-09-07T18:36:59.954Z"
   },
   {
    "duration": 86,
    "start_time": "2022-09-07T18:37:00.156Z"
   },
   {
    "duration": 84,
    "start_time": "2022-09-07T18:37:00.245Z"
   },
   {
    "duration": 1018,
    "start_time": "2022-09-07T18:37:19.039Z"
   },
   {
    "duration": 1030,
    "start_time": "2022-09-07T18:37:20.059Z"
   },
   {
    "duration": 68,
    "start_time": "2022-09-07T18:37:21.091Z"
   },
   {
    "duration": 67,
    "start_time": "2022-09-07T18:37:21.161Z"
   },
   {
    "duration": 37,
    "start_time": "2022-09-07T18:37:21.231Z"
   },
   {
    "duration": 60,
    "start_time": "2022-09-07T18:37:21.270Z"
   },
   {
    "duration": 22,
    "start_time": "2022-09-07T18:37:21.333Z"
   },
   {
    "duration": 205,
    "start_time": "2022-09-07T18:37:21.357Z"
   },
   {
    "duration": 52,
    "start_time": "2022-09-07T18:37:21.564Z"
   },
   {
    "duration": 12,
    "start_time": "2022-09-07T18:37:21.618Z"
   },
   {
    "duration": 21,
    "start_time": "2022-09-07T18:37:21.632Z"
   },
   {
    "duration": 55,
    "start_time": "2022-09-07T18:37:21.655Z"
   },
   {
    "duration": 9,
    "start_time": "2022-09-07T18:37:21.711Z"
   },
   {
    "duration": 28,
    "start_time": "2022-09-07T18:37:21.724Z"
   },
   {
    "duration": 28,
    "start_time": "2022-09-07T18:37:21.754Z"
   },
   {
    "duration": 45,
    "start_time": "2022-09-07T18:37:21.785Z"
   },
   {
    "duration": 8,
    "start_time": "2022-09-07T18:37:21.832Z"
   },
   {
    "duration": 23,
    "start_time": "2022-09-07T18:37:21.843Z"
   },
   {
    "duration": 66,
    "start_time": "2022-09-07T18:37:21.868Z"
   },
   {
    "duration": 25,
    "start_time": "2022-09-07T18:37:21.936Z"
   },
   {
    "duration": 10,
    "start_time": "2022-09-07T18:37:21.963Z"
   },
   {
    "duration": 18,
    "start_time": "2022-09-07T18:37:21.975Z"
   },
   {
    "duration": 12,
    "start_time": "2022-09-07T18:37:22.010Z"
   },
   {
    "duration": 52,
    "start_time": "2022-09-07T18:37:22.024Z"
   },
   {
    "duration": 35,
    "start_time": "2022-09-07T18:37:22.078Z"
   },
   {
    "duration": 16,
    "start_time": "2022-09-07T18:37:22.116Z"
   },
   {
    "duration": 7,
    "start_time": "2022-09-07T18:37:22.134Z"
   },
   {
    "duration": 24,
    "start_time": "2022-09-07T18:37:22.143Z"
   },
   {
    "duration": 8,
    "start_time": "2022-09-07T18:37:22.169Z"
   },
   {
    "duration": 53,
    "start_time": "2022-09-07T18:37:22.178Z"
   },
   {
    "duration": 18,
    "start_time": "2022-09-07T18:37:22.234Z"
   },
   {
    "duration": 23823,
    "start_time": "2022-09-07T18:37:22.253Z"
   },
   {
    "duration": 2944,
    "start_time": "2022-09-07T18:37:46.078Z"
   },
   {
    "duration": 2175,
    "start_time": "2022-09-07T18:37:49.024Z"
   },
   {
    "duration": 15,
    "start_time": "2022-09-07T18:37:51.201Z"
   },
   {
    "duration": 199,
    "start_time": "2022-09-07T18:37:51.218Z"
   },
   {
    "duration": 94,
    "start_time": "2022-09-07T18:37:51.419Z"
   },
   {
    "duration": 75,
    "start_time": "2022-09-07T18:37:51.515Z"
   },
   {
    "duration": 1007,
    "start_time": "2022-09-07T18:38:04.505Z"
   },
   {
    "duration": 962,
    "start_time": "2022-09-07T18:38:05.514Z"
   },
   {
    "duration": 59,
    "start_time": "2022-09-07T18:38:07.242Z"
   },
   {
    "duration": 36,
    "start_time": "2022-09-07T18:38:11.262Z"
   },
   {
    "duration": 23,
    "start_time": "2022-09-07T18:38:11.488Z"
   },
   {
    "duration": 35,
    "start_time": "2022-09-07T18:38:11.679Z"
   },
   {
    "duration": 20,
    "start_time": "2022-09-07T18:38:11.887Z"
   },
   {
    "duration": 111,
    "start_time": "2022-09-07T18:38:12.542Z"
   },
   {
    "duration": 35,
    "start_time": "2022-09-07T18:38:13.208Z"
   },
   {
    "duration": 11,
    "start_time": "2022-09-07T18:38:15.964Z"
   },
   {
    "duration": 12,
    "start_time": "2022-09-07T18:38:16.149Z"
   },
   {
    "duration": 26,
    "start_time": "2022-09-07T18:38:16.547Z"
   },
   {
    "duration": 9,
    "start_time": "2022-09-07T18:38:17.047Z"
   },
   {
    "duration": 18,
    "start_time": "2022-09-07T18:38:18.075Z"
   },
   {
    "duration": 20,
    "start_time": "2022-09-07T18:38:18.407Z"
   },
   {
    "duration": 22,
    "start_time": "2022-09-07T18:38:19.298Z"
   },
   {
    "duration": 7,
    "start_time": "2022-09-07T18:38:19.763Z"
   },
   {
    "duration": 9,
    "start_time": "2022-09-07T18:38:20.165Z"
   },
   {
    "duration": 27,
    "start_time": "2022-09-07T18:38:20.671Z"
   },
   {
    "duration": 18,
    "start_time": "2022-09-07T18:38:20.884Z"
   },
   {
    "duration": 7,
    "start_time": "2022-09-07T18:38:21.086Z"
   },
   {
    "duration": 8,
    "start_time": "2022-09-07T18:38:21.699Z"
   },
   {
    "duration": 10,
    "start_time": "2022-09-07T18:38:21.938Z"
   },
   {
    "duration": 33,
    "start_time": "2022-09-07T18:38:22.687Z"
   },
   {
    "duration": 13,
    "start_time": "2022-09-07T18:38:22.940Z"
   },
   {
    "duration": 14,
    "start_time": "2022-09-07T18:38:23.181Z"
   },
   {
    "duration": 3,
    "start_time": "2022-09-07T18:38:26.039Z"
   },
   {
    "duration": 15,
    "start_time": "2022-09-07T18:38:27.187Z"
   },
   {
    "duration": 8,
    "start_time": "2022-09-07T18:38:28.562Z"
   },
   {
    "duration": 20,
    "start_time": "2022-09-07T18:38:55.912Z"
   },
   {
    "duration": 14,
    "start_time": "2022-09-07T18:39:01.060Z"
   },
   {
    "duration": 24292,
    "start_time": "2022-09-07T18:39:02.075Z"
   },
   {
    "duration": 2837,
    "start_time": "2022-09-07T18:39:26.369Z"
   },
   {
    "duration": 978,
    "start_time": "2022-09-07T18:41:39.244Z"
   },
   {
    "duration": 950,
    "start_time": "2022-09-07T18:41:40.224Z"
   },
   {
    "duration": 43,
    "start_time": "2022-09-07T18:41:41.176Z"
   },
   {
    "duration": 32,
    "start_time": "2022-09-07T18:41:41.221Z"
   },
   {
    "duration": 22,
    "start_time": "2022-09-07T18:41:41.255Z"
   },
   {
    "duration": 50,
    "start_time": "2022-09-07T18:41:41.279Z"
   },
   {
    "duration": 20,
    "start_time": "2022-09-07T18:41:41.331Z"
   },
   {
    "duration": 139,
    "start_time": "2022-09-07T18:41:41.353Z"
   },
   {
    "duration": 43,
    "start_time": "2022-09-07T18:41:41.494Z"
   },
   {
    "duration": 7,
    "start_time": "2022-09-07T18:41:41.539Z"
   },
   {
    "duration": 16,
    "start_time": "2022-09-07T18:41:41.548Z"
   },
   {
    "duration": 45,
    "start_time": "2022-09-07T18:41:41.565Z"
   },
   {
    "duration": 7,
    "start_time": "2022-09-07T18:41:41.612Z"
   },
   {
    "duration": 20,
    "start_time": "2022-09-07T18:41:41.623Z"
   },
   {
    "duration": 23,
    "start_time": "2022-09-07T18:41:41.644Z"
   },
   {
    "duration": 54,
    "start_time": "2022-09-07T18:41:41.668Z"
   },
   {
    "duration": 7,
    "start_time": "2022-09-07T18:41:41.724Z"
   },
   {
    "duration": 18,
    "start_time": "2022-09-07T18:41:41.733Z"
   },
   {
    "duration": 28,
    "start_time": "2022-09-07T18:41:41.753Z"
   },
   {
    "duration": 34,
    "start_time": "2022-09-07T18:41:41.782Z"
   },
   {
    "duration": 7,
    "start_time": "2022-09-07T18:41:41.817Z"
   },
   {
    "duration": 23,
    "start_time": "2022-09-07T18:41:41.826Z"
   },
   {
    "duration": 11,
    "start_time": "2022-09-07T18:41:41.851Z"
   },
   {
    "duration": 46,
    "start_time": "2022-09-07T18:41:41.863Z"
   },
   {
    "duration": 13,
    "start_time": "2022-09-07T18:41:41.910Z"
   },
   {
    "duration": 13,
    "start_time": "2022-09-07T18:41:41.925Z"
   },
   {
    "duration": 3,
    "start_time": "2022-09-07T18:41:41.940Z"
   },
   {
    "duration": 15,
    "start_time": "2022-09-07T18:41:41.945Z"
   },
   {
    "duration": 7,
    "start_time": "2022-09-07T18:41:41.962Z"
   },
   {
    "duration": 50,
    "start_time": "2022-09-07T18:41:41.970Z"
   },
   {
    "duration": 12,
    "start_time": "2022-09-07T18:41:42.022Z"
   },
   {
    "duration": 36,
    "start_time": "2022-09-07T18:41:42.035Z"
   },
   {
    "duration": 57,
    "start_time": "2022-09-07T18:41:42.073Z"
   },
   {
    "duration": 34,
    "start_time": "2022-09-07T18:41:42.132Z"
   },
   {
    "duration": 27,
    "start_time": "2022-09-07T18:41:42.167Z"
   },
   {
    "duration": 24,
    "start_time": "2022-09-07T18:41:42.209Z"
   },
   {
    "duration": 22,
    "start_time": "2022-09-07T18:41:42.235Z"
   },
   {
    "duration": 60,
    "start_time": "2022-09-07T18:41:42.258Z"
   },
   {
    "duration": 3,
    "start_time": "2022-09-07T18:41:42.320Z"
   },
   {
    "duration": 1561,
    "start_time": "2022-09-07T18:41:42.325Z"
   },
   {
    "duration": 83,
    "start_time": "2022-09-07T18:41:43.890Z"
   },
   {
    "duration": 61,
    "start_time": "2022-09-07T18:41:43.975Z"
   },
   {
    "duration": 174,
    "start_time": "2022-09-07T18:41:44.037Z"
   },
   {
    "duration": 164,
    "start_time": "2022-09-07T18:41:44.213Z"
   },
   {
    "duration": 161,
    "start_time": "2022-09-07T18:41:44.379Z"
   },
   {
    "duration": 14,
    "start_time": "2022-09-07T18:41:44.542Z"
   },
   {
    "duration": 18,
    "start_time": "2022-09-07T18:41:44.557Z"
   },
   {
    "duration": 33,
    "start_time": "2022-09-07T18:41:44.576Z"
   },
   {
    "duration": 16,
    "start_time": "2022-09-07T18:41:44.611Z"
   },
   {
    "duration": 15,
    "start_time": "2022-09-07T18:41:44.629Z"
   },
   {
    "duration": 21,
    "start_time": "2022-09-07T18:41:44.646Z"
   },
   {
    "duration": 3,
    "start_time": "2022-09-07T18:41:50.993Z"
   },
   {
    "duration": 310,
    "start_time": "2022-09-07T18:41:51.690Z"
   },
   {
    "duration": 40,
    "start_time": "2022-09-07T18:41:53.132Z"
   },
   {
    "duration": 33,
    "start_time": "2022-09-07T18:41:54.753Z"
   },
   {
    "duration": 24,
    "start_time": "2022-09-07T18:41:54.972Z"
   },
   {
    "duration": 33,
    "start_time": "2022-09-07T18:41:55.175Z"
   },
   {
    "duration": 21,
    "start_time": "2022-09-07T18:41:55.366Z"
   },
   {
    "duration": 93,
    "start_time": "2022-09-07T18:41:55.797Z"
   },
   {
    "duration": 46,
    "start_time": "2022-09-07T18:41:56.335Z"
   },
   {
    "duration": 8,
    "start_time": "2022-09-07T18:41:57.963Z"
   },
   {
    "duration": 14,
    "start_time": "2022-09-07T18:41:58.275Z"
   },
   {
    "duration": 22,
    "start_time": "2022-09-07T18:41:58.688Z"
   },
   {
    "duration": 6,
    "start_time": "2022-09-07T18:41:59.099Z"
   },
   {
    "duration": 19,
    "start_time": "2022-09-07T18:42:00.079Z"
   },
   {
    "duration": 21,
    "start_time": "2022-09-07T18:42:00.346Z"
   },
   {
    "duration": 18,
    "start_time": "2022-09-07T18:42:00.986Z"
   },
   {
    "duration": 8,
    "start_time": "2022-09-07T18:42:01.413Z"
   },
   {
    "duration": 9,
    "start_time": "2022-09-07T18:42:01.615Z"
   },
   {
    "duration": 25,
    "start_time": "2022-09-07T18:42:02.034Z"
   },
   {
    "duration": 16,
    "start_time": "2022-09-07T18:42:02.250Z"
   },
   {
    "duration": 8,
    "start_time": "2022-09-07T18:42:02.477Z"
   },
   {
    "duration": 9,
    "start_time": "2022-09-07T18:42:04.097Z"
   },
   {
    "duration": 11,
    "start_time": "2022-09-07T18:42:04.506Z"
   },
   {
    "duration": 33,
    "start_time": "2022-09-07T18:42:05.450Z"
   },
   {
    "duration": 11,
    "start_time": "2022-09-07T18:42:05.722Z"
   },
   {
    "duration": 12,
    "start_time": "2022-09-07T18:42:10.033Z"
   },
   {
    "duration": 3,
    "start_time": "2022-09-07T18:42:11.351Z"
   },
   {
    "duration": 13,
    "start_time": "2022-09-07T18:42:11.572Z"
   },
   {
    "duration": 9,
    "start_time": "2022-09-07T18:42:11.776Z"
   },
   {
    "duration": 17,
    "start_time": "2022-09-07T18:42:12.724Z"
   },
   {
    "duration": 11,
    "start_time": "2022-09-07T18:42:14.342Z"
   },
   {
    "duration": 33,
    "start_time": "2022-09-07T18:42:15.381Z"
   },
   {
    "duration": 45,
    "start_time": "2022-09-07T18:42:17.429Z"
   },
   {
    "duration": 34,
    "start_time": "2022-09-07T18:42:26.975Z"
   },
   {
    "duration": 38,
    "start_time": "2022-09-07T18:42:27.355Z"
   },
   {
    "duration": 27,
    "start_time": "2022-09-07T18:42:27.672Z"
   },
   {
    "duration": 24,
    "start_time": "2022-09-07T18:42:27.901Z"
   },
   {
    "duration": 42,
    "start_time": "2022-09-07T18:42:28.097Z"
   },
   {
    "duration": 4,
    "start_time": "2022-09-07T18:42:28.319Z"
   },
   {
    "duration": 1594,
    "start_time": "2022-09-07T18:42:29.334Z"
   },
   {
    "duration": 67,
    "start_time": "2022-09-07T18:42:30.930Z"
   },
   {
    "duration": 52,
    "start_time": "2022-09-07T18:42:33.974Z"
   },
   {
    "duration": 154,
    "start_time": "2022-09-07T18:42:34.175Z"
   },
   {
    "duration": 165,
    "start_time": "2022-09-07T18:42:34.902Z"
   },
   {
    "duration": 164,
    "start_time": "2022-09-07T18:42:35.124Z"
   },
   {
    "duration": 14,
    "start_time": "2022-09-07T18:42:35.433Z"
   },
   {
    "duration": 16,
    "start_time": "2022-09-07T18:42:35.705Z"
   },
   {
    "duration": 16,
    "start_time": "2022-09-07T18:42:36.785Z"
   },
   {
    "duration": 16,
    "start_time": "2022-09-07T18:42:43.801Z"
   },
   {
    "duration": 15,
    "start_time": "2022-09-07T18:42:44.582Z"
   },
   {
    "duration": 22,
    "start_time": "2022-09-07T18:42:44.781Z"
   },
   {
    "duration": 68,
    "start_time": "2022-09-07T18:44:40.402Z"
   },
   {
    "duration": 59,
    "start_time": "2022-09-07T18:44:56.214Z"
   },
   {
    "duration": 3,
    "start_time": "2022-09-07T18:45:03.626Z"
   },
   {
    "duration": 316,
    "start_time": "2022-09-07T18:45:03.978Z"
   },
   {
    "duration": 39,
    "start_time": "2022-09-07T18:45:04.829Z"
   },
   {
    "duration": 35,
    "start_time": "2022-09-07T18:45:04.986Z"
   },
   {
    "duration": 25,
    "start_time": "2022-09-07T18:45:05.144Z"
   },
   {
    "duration": 32,
    "start_time": "2022-09-07T18:45:05.321Z"
   },
   {
    "duration": 21,
    "start_time": "2022-09-07T18:45:05.511Z"
   },
   {
    "duration": 114,
    "start_time": "2022-09-07T18:45:05.804Z"
   },
   {
    "duration": 36,
    "start_time": "2022-09-07T18:45:06.227Z"
   },
   {
    "duration": 9,
    "start_time": "2022-09-07T18:45:07.087Z"
   },
   {
    "duration": 14,
    "start_time": "2022-09-07T18:45:07.247Z"
   },
   {
    "duration": 22,
    "start_time": "2022-09-07T18:45:07.586Z"
   },
   {
    "duration": 7,
    "start_time": "2022-09-07T18:45:07.923Z"
   },
   {
    "duration": 19,
    "start_time": "2022-09-07T18:45:09.329Z"
   },
   {
    "duration": 21,
    "start_time": "2022-09-07T18:45:09.543Z"
   },
   {
    "duration": 18,
    "start_time": "2022-09-07T18:45:10.070Z"
   },
   {
    "duration": 7,
    "start_time": "2022-09-07T18:45:10.463Z"
   },
   {
    "duration": 9,
    "start_time": "2022-09-07T18:45:10.649Z"
   },
   {
    "duration": 26,
    "start_time": "2022-09-07T18:45:11.262Z"
   },
   {
    "duration": 14,
    "start_time": "2022-09-07T18:45:11.449Z"
   },
   {
    "duration": 9,
    "start_time": "2022-09-07T18:45:11.639Z"
   },
   {
    "duration": 8,
    "start_time": "2022-09-07T18:45:12.465Z"
   },
   {
    "duration": 11,
    "start_time": "2022-09-07T18:45:12.703Z"
   },
   {
    "duration": 33,
    "start_time": "2022-09-07T18:45:12.919Z"
   },
   {
    "duration": 11,
    "start_time": "2022-09-07T18:45:13.126Z"
   },
   {
    "duration": 11,
    "start_time": "2022-09-07T18:45:13.321Z"
   },
   {
    "duration": 3,
    "start_time": "2022-09-07T18:45:14.203Z"
   },
   {
    "duration": 12,
    "start_time": "2022-09-07T18:45:14.583Z"
   },
   {
    "duration": 8,
    "start_time": "2022-09-07T18:45:14.928Z"
   },
   {
    "duration": 17,
    "start_time": "2022-09-07T18:45:16.088Z"
   },
   {
    "duration": 12,
    "start_time": "2022-09-07T18:45:18.782Z"
   },
   {
    "duration": 92,
    "start_time": "2022-09-07T18:45:21.409Z"
   },
   {
    "duration": 36,
    "start_time": "2022-09-07T18:50:17.438Z"
   },
   {
    "duration": 42,
    "start_time": "2022-09-07T18:50:19.027Z"
   },
   {
    "duration": 1051,
    "start_time": "2022-09-08T13:03:09.419Z"
   },
   {
    "duration": 296,
    "start_time": "2022-09-08T13:03:10.472Z"
   },
   {
    "duration": 40,
    "start_time": "2022-09-08T13:03:10.769Z"
   },
   {
    "duration": 29,
    "start_time": "2022-09-08T13:03:10.810Z"
   },
   {
    "duration": 20,
    "start_time": "2022-09-08T13:03:10.840Z"
   },
   {
    "duration": 26,
    "start_time": "2022-09-08T13:03:10.861Z"
   },
   {
    "duration": 18,
    "start_time": "2022-09-08T13:03:10.909Z"
   },
   {
    "duration": 111,
    "start_time": "2022-09-08T13:03:10.928Z"
   },
   {
    "duration": 31,
    "start_time": "2022-09-08T13:03:11.040Z"
   },
   {
    "duration": 7,
    "start_time": "2022-09-08T13:03:11.073Z"
   },
   {
    "duration": 35,
    "start_time": "2022-09-08T13:03:11.081Z"
   },
   {
    "duration": 24,
    "start_time": "2022-09-08T13:03:11.117Z"
   },
   {
    "duration": 6,
    "start_time": "2022-09-08T13:03:11.142Z"
   },
   {
    "duration": 18,
    "start_time": "2022-09-08T13:03:11.150Z"
   },
   {
    "duration": 15,
    "start_time": "2022-09-08T13:03:11.169Z"
   },
   {
    "duration": 42,
    "start_time": "2022-09-08T13:03:11.185Z"
   },
   {
    "duration": 5,
    "start_time": "2022-09-08T13:03:11.229Z"
   },
   {
    "duration": 10,
    "start_time": "2022-09-08T13:03:11.236Z"
   },
   {
    "duration": 35,
    "start_time": "2022-09-08T13:03:11.247Z"
   },
   {
    "duration": 33,
    "start_time": "2022-09-08T13:03:11.284Z"
   },
   {
    "duration": 7,
    "start_time": "2022-09-08T13:03:11.318Z"
   },
   {
    "duration": 12,
    "start_time": "2022-09-08T13:03:11.327Z"
   },
   {
    "duration": 17,
    "start_time": "2022-09-08T13:03:11.340Z"
   },
   {
    "duration": 29,
    "start_time": "2022-09-08T13:03:11.359Z"
   },
   {
    "duration": 30,
    "start_time": "2022-09-08T13:03:11.390Z"
   },
   {
    "duration": 12,
    "start_time": "2022-09-08T13:03:11.422Z"
   },
   {
    "duration": 2,
    "start_time": "2022-09-08T13:03:11.436Z"
   },
   {
    "duration": 12,
    "start_time": "2022-09-08T13:03:11.441Z"
   },
   {
    "duration": 6,
    "start_time": "2022-09-08T13:03:11.454Z"
   },
   {
    "duration": 47,
    "start_time": "2022-09-08T13:03:11.462Z"
   },
   {
    "duration": 13,
    "start_time": "2022-09-08T13:03:11.510Z"
   },
   {
    "duration": 39,
    "start_time": "2022-09-08T13:03:11.524Z"
   },
   {
    "duration": 62,
    "start_time": "2022-09-08T13:03:11.565Z"
   },
   {
    "duration": 41,
    "start_time": "2022-09-08T13:03:11.629Z"
   },
   {
    "duration": 39,
    "start_time": "2022-09-08T13:03:11.672Z"
   },
   {
    "duration": 21,
    "start_time": "2022-09-08T13:03:11.713Z"
   },
   {
    "duration": 21,
    "start_time": "2022-09-08T13:03:11.736Z"
   },
   {
    "duration": 57,
    "start_time": "2022-09-08T13:03:11.759Z"
   },
   {
    "duration": 4,
    "start_time": "2022-09-08T13:03:11.817Z"
   },
   {
    "duration": 1762,
    "start_time": "2022-09-08T13:03:11.823Z"
   },
   {
    "duration": 81,
    "start_time": "2022-09-08T13:03:13.587Z"
   },
   {
    "duration": 62,
    "start_time": "2022-09-08T13:03:13.670Z"
   },
   {
    "duration": 172,
    "start_time": "2022-09-08T13:03:13.733Z"
   },
   {
    "duration": 168,
    "start_time": "2022-09-08T13:03:13.906Z"
   },
   {
    "duration": 166,
    "start_time": "2022-09-08T13:03:14.075Z"
   },
   {
    "duration": 14,
    "start_time": "2022-09-08T13:03:14.242Z"
   },
   {
    "duration": 14,
    "start_time": "2022-09-08T13:03:14.258Z"
   },
   {
    "duration": 37,
    "start_time": "2022-09-08T13:03:14.273Z"
   },
   {
    "duration": 15,
    "start_time": "2022-09-08T13:03:14.311Z"
   },
   {
    "duration": 15,
    "start_time": "2022-09-08T13:03:14.328Z"
   },
   {
    "duration": 22,
    "start_time": "2022-09-08T13:03:14.345Z"
   },
   {
    "duration": 60,
    "start_time": "2022-09-08T13:03:59.561Z"
   },
   {
    "duration": 55,
    "start_time": "2022-09-08T13:07:47.998Z"
   },
   {
    "duration": 54,
    "start_time": "2022-09-08T17:18:20.142Z"
   },
   {
    "duration": 1400,
    "start_time": "2022-09-08T17:18:27.483Z"
   },
   {
    "duration": 906,
    "start_time": "2022-09-08T17:18:28.886Z"
   },
   {
    "duration": 45,
    "start_time": "2022-09-08T17:18:29.795Z"
   },
   {
    "duration": 41,
    "start_time": "2022-09-08T17:18:29.842Z"
   },
   {
    "duration": 26,
    "start_time": "2022-09-08T17:18:29.886Z"
   },
   {
    "duration": 34,
    "start_time": "2022-09-08T17:18:30.923Z"
   },
   {
    "duration": 23,
    "start_time": "2022-09-08T17:18:31.142Z"
   },
   {
    "duration": 146,
    "start_time": "2022-09-08T17:18:31.648Z"
   },
   {
    "duration": 37,
    "start_time": "2022-09-08T17:18:32.059Z"
   },
   {
    "duration": 9,
    "start_time": "2022-09-08T17:18:32.985Z"
   },
   {
    "duration": 12,
    "start_time": "2022-09-08T17:18:33.192Z"
   },
   {
    "duration": 26,
    "start_time": "2022-09-08T17:18:33.606Z"
   },
   {
    "duration": 7,
    "start_time": "2022-09-08T17:18:34.011Z"
   },
   {
    "duration": 21,
    "start_time": "2022-09-08T17:18:35.498Z"
   },
   {
    "duration": 21,
    "start_time": "2022-09-08T17:18:35.709Z"
   },
   {
    "duration": 23,
    "start_time": "2022-09-08T17:18:36.306Z"
   },
   {
    "duration": 8,
    "start_time": "2022-09-08T17:18:36.713Z"
   },
   {
    "duration": 10,
    "start_time": "2022-09-08T17:18:36.914Z"
   },
   {
    "duration": 27,
    "start_time": "2022-09-08T17:18:37.331Z"
   },
   {
    "duration": 19,
    "start_time": "2022-09-08T17:18:37.544Z"
   },
   {
    "duration": 9,
    "start_time": "2022-09-08T17:18:37.766Z"
   },
   {
    "duration": 8,
    "start_time": "2022-09-08T17:18:38.520Z"
   },
   {
    "duration": 15,
    "start_time": "2022-09-08T17:18:38.767Z"
   },
   {
    "duration": 40,
    "start_time": "2022-09-08T17:18:38.981Z"
   },
   {
    "duration": 13,
    "start_time": "2022-09-08T17:18:39.250Z"
   },
   {
    "duration": 31,
    "start_time": "2022-09-08T17:18:40.367Z"
   },
   {
    "duration": 3,
    "start_time": "2022-09-08T17:18:40.402Z"
   },
   {
    "duration": 17,
    "start_time": "2022-09-08T17:18:40.407Z"
   },
   {
    "duration": 8,
    "start_time": "2022-09-08T17:18:40.426Z"
   },
   {
    "duration": 22,
    "start_time": "2022-09-08T17:18:40.622Z"
   },
   {
    "duration": 74,
    "start_time": "2022-09-08T17:18:42.358Z"
   },
   {
    "duration": 20,
    "start_time": "2022-09-08T17:19:06.876Z"
   },
   {
    "duration": 22,
    "start_time": "2022-09-08T17:19:15.796Z"
   },
   {
    "duration": 36,
    "start_time": "2022-09-08T17:19:25.686Z"
   },
   {
    "duration": 28,
    "start_time": "2022-09-08T17:22:24.917Z"
   },
   {
    "duration": 44,
    "start_time": "2022-09-08T17:22:31.142Z"
   },
   {
    "duration": 25,
    "start_time": "2022-09-08T17:22:39.398Z"
   },
   {
    "duration": 37,
    "start_time": "2022-09-08T17:22:50.958Z"
   },
   {
    "duration": 42,
    "start_time": "2022-09-08T17:22:57.745Z"
   },
   {
    "duration": 17,
    "start_time": "2022-09-08T17:24:42.282Z"
   },
   {
    "duration": 11,
    "start_time": "2022-09-08T17:26:10.436Z"
   },
   {
    "duration": 17,
    "start_time": "2022-09-08T17:26:26.699Z"
   },
   {
    "duration": 15,
    "start_time": "2022-09-08T17:28:55.004Z"
   },
   {
    "duration": 74,
    "start_time": "2022-09-08T17:29:21.585Z"
   },
   {
    "duration": 19,
    "start_time": "2022-09-08T17:29:48.606Z"
   },
   {
    "duration": 17,
    "start_time": "2022-09-08T17:29:57.096Z"
   },
   {
    "duration": 21,
    "start_time": "2022-09-08T17:30:03.419Z"
   },
   {
    "duration": 24,
    "start_time": "2022-09-08T17:30:12.449Z"
   },
   {
    "duration": 6,
    "start_time": "2022-09-08T17:30:18.120Z"
   },
   {
    "duration": 12,
    "start_time": "2022-09-08T17:34:19.627Z"
   },
   {
    "duration": 30,
    "start_time": "2022-09-08T17:34:38.352Z"
   },
   {
    "duration": 22,
    "start_time": "2022-09-08T17:34:50.236Z"
   },
   {
    "duration": 9,
    "start_time": "2022-09-08T17:35:03.705Z"
   },
   {
    "duration": 30,
    "start_time": "2022-09-08T17:35:15.231Z"
   },
   {
    "duration": 51,
    "start_time": "2022-09-08T17:35:20.130Z"
   },
   {
    "duration": 40,
    "start_time": "2022-09-08T17:39:28.798Z"
   },
   {
    "duration": 15,
    "start_time": "2022-09-08T17:39:30.386Z"
   },
   {
    "duration": 23,
    "start_time": "2022-09-08T17:39:31.857Z"
   },
   {
    "duration": 2164,
    "start_time": "2022-09-08T17:39:37.493Z"
   },
   {
    "duration": 32,
    "start_time": "2022-09-08T17:41:52.888Z"
   },
   {
    "duration": 28,
    "start_time": "2022-09-08T17:41:53.312Z"
   },
   {
    "duration": 13,
    "start_time": "2022-09-08T17:41:56.128Z"
   },
   {
    "duration": 24,
    "start_time": "2022-09-08T17:41:56.621Z"
   },
   {
    "duration": 6,
    "start_time": "2022-09-08T17:41:57.310Z"
   },
   {
    "duration": 20,
    "start_time": "2022-09-08T17:42:03.703Z"
   },
   {
    "duration": 26,
    "start_time": "2022-09-08T17:43:16.508Z"
   },
   {
    "duration": 27,
    "start_time": "2022-09-08T17:43:25.932Z"
   },
   {
    "duration": 10,
    "start_time": "2022-09-08T17:43:28.833Z"
   },
   {
    "duration": 17,
    "start_time": "2022-09-08T17:44:12.896Z"
   },
   {
    "duration": 3172,
    "start_time": "2022-09-08T17:44:28.848Z"
   },
   {
    "duration": 1333,
    "start_time": "2022-09-08T17:44:50.698Z"
   },
   {
    "duration": 424,
    "start_time": "2022-09-08T17:44:52.033Z"
   },
   {
    "duration": 61,
    "start_time": "2022-09-08T17:44:52.458Z"
   },
   {
    "duration": 33,
    "start_time": "2022-09-08T17:44:52.520Z"
   },
   {
    "duration": 51,
    "start_time": "2022-09-08T17:44:52.556Z"
   },
   {
    "duration": 35,
    "start_time": "2022-09-08T17:44:52.610Z"
   },
   {
    "duration": 36,
    "start_time": "2022-09-08T17:44:52.647Z"
   },
   {
    "duration": 144,
    "start_time": "2022-09-08T17:44:52.685Z"
   },
   {
    "duration": 57,
    "start_time": "2022-09-08T17:44:52.830Z"
   },
   {
    "duration": 9,
    "start_time": "2022-09-08T17:44:52.888Z"
   },
   {
    "duration": 20,
    "start_time": "2022-09-08T17:44:52.899Z"
   },
   {
    "duration": 27,
    "start_time": "2022-09-08T17:44:52.921Z"
   },
   {
    "duration": 29,
    "start_time": "2022-09-08T17:44:52.950Z"
   },
   {
    "duration": 52,
    "start_time": "2022-09-08T17:44:52.983Z"
   },
   {
    "duration": 23,
    "start_time": "2022-09-08T17:44:53.036Z"
   },
   {
    "duration": 30,
    "start_time": "2022-09-08T17:44:53.061Z"
   },
   {
    "duration": 23,
    "start_time": "2022-09-08T17:44:53.093Z"
   },
   {
    "duration": 11,
    "start_time": "2022-09-08T17:44:53.118Z"
   },
   {
    "duration": 27,
    "start_time": "2022-09-08T17:44:53.131Z"
   },
   {
    "duration": 43,
    "start_time": "2022-09-08T17:44:53.160Z"
   },
   {
    "duration": 8,
    "start_time": "2022-09-08T17:44:53.205Z"
   },
   {
    "duration": 14,
    "start_time": "2022-09-08T17:44:53.214Z"
   },
   {
    "duration": 12,
    "start_time": "2022-09-08T17:44:53.230Z"
   },
   {
    "duration": 58,
    "start_time": "2022-09-08T17:44:53.244Z"
   },
   {
    "duration": 14,
    "start_time": "2022-09-08T17:44:53.307Z"
   },
   {
    "duration": 14,
    "start_time": "2022-09-08T17:44:53.323Z"
   },
   {
    "duration": 41,
    "start_time": "2022-09-08T17:44:53.339Z"
   },
   {
    "duration": 38,
    "start_time": "2022-09-08T17:44:53.384Z"
   },
   {
    "duration": 13,
    "start_time": "2022-09-08T17:44:53.424Z"
   },
   {
    "duration": 31,
    "start_time": "2022-09-08T17:44:53.439Z"
   },
   {
    "duration": 13,
    "start_time": "2022-09-08T17:44:53.476Z"
   },
   {
    "duration": 63,
    "start_time": "2022-09-08T17:44:53.490Z"
   },
   {
    "duration": 35,
    "start_time": "2022-09-08T17:44:53.555Z"
   },
   {
    "duration": 13,
    "start_time": "2022-09-08T17:44:53.593Z"
   },
   {
    "duration": 19,
    "start_time": "2022-09-08T17:44:53.608Z"
   },
   {
    "duration": 29,
    "start_time": "2022-09-08T17:44:53.629Z"
   },
   {
    "duration": 44,
    "start_time": "2022-09-08T17:44:53.661Z"
   },
   {
    "duration": 32,
    "start_time": "2022-09-08T17:44:53.708Z"
   },
   {
    "duration": 44,
    "start_time": "2022-09-08T17:44:53.742Z"
   },
   {
    "duration": 11,
    "start_time": "2022-09-08T17:44:53.793Z"
   },
   {
    "duration": 87,
    "start_time": "2022-09-08T17:44:53.808Z"
   },
   {
    "duration": 14,
    "start_time": "2022-09-08T17:44:53.896Z"
   },
   {
    "duration": 45,
    "start_time": "2022-09-08T17:44:53.911Z"
   },
   {
    "duration": 213,
    "start_time": "2022-09-08T17:44:53.958Z"
   },
   {
    "duration": 177,
    "start_time": "2022-09-08T17:44:54.176Z"
   },
   {
    "duration": 200,
    "start_time": "2022-09-08T17:44:54.354Z"
   },
   {
    "duration": 17,
    "start_time": "2022-09-08T17:44:54.556Z"
   },
   {
    "duration": 38,
    "start_time": "2022-09-08T17:44:54.575Z"
   },
   {
    "duration": 7,
    "start_time": "2022-09-08T17:44:54.614Z"
   },
   {
    "duration": 12,
    "start_time": "2022-09-08T17:44:54.622Z"
   },
   {
    "duration": 10,
    "start_time": "2022-09-08T17:44:54.635Z"
   },
   {
    "duration": 12,
    "start_time": "2022-09-08T17:44:54.647Z"
   },
   {
    "duration": 3,
    "start_time": "2022-09-08T17:44:59.633Z"
   },
   {
    "duration": 401,
    "start_time": "2022-09-08T17:45:00.030Z"
   },
   {
    "duration": 58,
    "start_time": "2022-09-08T17:45:00.958Z"
   },
   {
    "duration": 49,
    "start_time": "2022-09-08T17:45:01.150Z"
   },
   {
    "duration": 33,
    "start_time": "2022-09-08T17:45:01.344Z"
   },
   {
    "duration": 41,
    "start_time": "2022-09-08T17:45:01.522Z"
   },
   {
    "duration": 28,
    "start_time": "2022-09-08T17:45:01.723Z"
   },
   {
    "duration": 147,
    "start_time": "2022-09-08T17:45:02.099Z"
   },
   {
    "duration": 34,
    "start_time": "2022-09-08T17:45:02.513Z"
   },
   {
    "duration": 12,
    "start_time": "2022-09-08T17:45:03.604Z"
   },
   {
    "duration": 12,
    "start_time": "2022-09-08T17:45:03.806Z"
   },
   {
    "duration": 28,
    "start_time": "2022-09-08T17:45:04.221Z"
   },
   {
    "duration": 8,
    "start_time": "2022-09-08T17:45:04.640Z"
   },
   {
    "duration": 24,
    "start_time": "2022-09-08T17:45:05.500Z"
   },
   {
    "duration": 28,
    "start_time": "2022-09-08T17:45:05.696Z"
   },
   {
    "duration": 48,
    "start_time": "2022-09-08T17:45:06.375Z"
   },
   {
    "duration": 17,
    "start_time": "2022-09-08T17:45:06.907Z"
   },
   {
    "duration": 11,
    "start_time": "2022-09-08T17:45:07.433Z"
   },
   {
    "duration": 29,
    "start_time": "2022-09-08T17:45:07.934Z"
   },
   {
    "duration": 38,
    "start_time": "2022-09-08T17:45:08.564Z"
   },
   {
    "duration": 20,
    "start_time": "2022-09-08T17:45:08.866Z"
   },
   {
    "duration": 24,
    "start_time": "2022-09-08T17:45:09.763Z"
   },
   {
    "duration": 23,
    "start_time": "2022-09-08T17:45:10.364Z"
   },
   {
    "duration": 51,
    "start_time": "2022-09-08T17:45:10.599Z"
   },
   {
    "duration": 15,
    "start_time": "2022-09-08T17:45:10.827Z"
   },
   {
    "duration": 16,
    "start_time": "2022-09-08T17:45:11.050Z"
   },
   {
    "duration": 27,
    "start_time": "2022-09-08T17:45:14.635Z"
   },
   {
    "duration": 52,
    "start_time": "2022-09-08T17:45:15.358Z"
   },
   {
    "duration": 14,
    "start_time": "2022-09-08T17:45:15.826Z"
   },
   {
    "duration": 20,
    "start_time": "2022-09-08T17:45:16.342Z"
   },
   {
    "duration": 7,
    "start_time": "2022-09-08T17:45:17.033Z"
   },
   {
    "duration": 18,
    "start_time": "2022-09-08T17:47:29.893Z"
   },
   {
    "duration": 21,
    "start_time": "2022-09-08T17:47:32.836Z"
   },
   {
    "duration": 10,
    "start_time": "2022-09-08T17:47:35.513Z"
   },
   {
    "duration": 12,
    "start_time": "2022-09-08T17:47:38.512Z"
   },
   {
    "duration": 27,
    "start_time": "2022-09-08T17:47:39.709Z"
   },
   {
    "duration": 25,
    "start_time": "2022-09-08T17:47:48.209Z"
   },
   {
    "duration": 26,
    "start_time": "2022-09-08T17:48:45.927Z"
   },
   {
    "duration": 30,
    "start_time": "2022-09-08T17:48:58.077Z"
   },
   {
    "duration": 5,
    "start_time": "2022-09-08T17:49:10.001Z"
   },
   {
    "duration": 85,
    "start_time": "2022-09-08T17:49:11.869Z"
   },
   {
    "duration": 10,
    "start_time": "2022-09-08T17:49:20.324Z"
   },
   {
    "duration": 29,
    "start_time": "2022-09-08T17:49:25.637Z"
   },
   {
    "duration": 172,
    "start_time": "2022-09-08T17:49:34.549Z"
   },
   {
    "duration": 170,
    "start_time": "2022-09-08T17:49:35.925Z"
   },
   {
    "duration": 164,
    "start_time": "2022-09-08T17:49:36.232Z"
   },
   {
    "duration": 6,
    "start_time": "2022-09-08T17:49:37.004Z"
   },
   {
    "duration": 6,
    "start_time": "2022-09-08T17:49:39.262Z"
   },
   {
    "duration": 7,
    "start_time": "2022-09-08T17:49:40.491Z"
   },
   {
    "duration": 9,
    "start_time": "2022-09-08T17:49:46.850Z"
   },
   {
    "duration": 7,
    "start_time": "2022-09-08T17:49:51.449Z"
   },
   {
    "duration": 12,
    "start_time": "2022-09-08T17:50:02.011Z"
   },
   {
    "duration": 87,
    "start_time": "2022-09-08T18:06:39.121Z"
   },
   {
    "duration": 357,
    "start_time": "2022-09-08T18:06:42.641Z"
   },
   {
    "duration": 40,
    "start_time": "2022-09-08T18:06:43.598Z"
   },
   {
    "duration": 36,
    "start_time": "2022-09-08T18:06:43.810Z"
   },
   {
    "duration": 26,
    "start_time": "2022-09-08T18:06:44.004Z"
   },
   {
    "duration": 44,
    "start_time": "2022-09-08T18:06:44.355Z"
   },
   {
    "duration": 30,
    "start_time": "2022-09-08T18:06:44.563Z"
   },
   {
    "duration": 143,
    "start_time": "2022-09-08T18:06:44.994Z"
   },
   {
    "duration": 47,
    "start_time": "2022-09-08T18:06:45.866Z"
   },
   {
    "duration": 8,
    "start_time": "2022-09-08T18:06:46.925Z"
   },
   {
    "duration": 12,
    "start_time": "2022-09-08T18:06:47.116Z"
   },
   {
    "duration": 31,
    "start_time": "2022-09-08T18:06:47.495Z"
   },
   {
    "duration": 8,
    "start_time": "2022-09-08T18:06:47.859Z"
   },
   {
    "duration": 20,
    "start_time": "2022-09-08T18:06:48.633Z"
   },
   {
    "duration": 23,
    "start_time": "2022-09-08T18:06:48.817Z"
   },
   {
    "duration": 23,
    "start_time": "2022-09-08T18:06:49.393Z"
   },
   {
    "duration": 17,
    "start_time": "2022-09-08T18:06:49.772Z"
   },
   {
    "duration": 18,
    "start_time": "2022-09-08T18:06:49.974Z"
   },
   {
    "duration": 34,
    "start_time": "2022-09-08T18:06:50.359Z"
   },
   {
    "duration": 26,
    "start_time": "2022-09-08T18:06:50.574Z"
   },
   {
    "duration": 14,
    "start_time": "2022-09-08T18:06:50.763Z"
   },
   {
    "duration": 9,
    "start_time": "2022-09-08T18:06:51.414Z"
   },
   {
    "duration": 12,
    "start_time": "2022-09-08T18:06:51.822Z"
   },
   {
    "duration": 35,
    "start_time": "2022-09-08T18:06:52.024Z"
   },
   {
    "duration": 21,
    "start_time": "2022-09-08T18:06:52.260Z"
   },
   {
    "duration": 16,
    "start_time": "2022-09-08T18:06:52.491Z"
   },
   {
    "duration": 27,
    "start_time": "2022-09-08T18:06:54.601Z"
   },
   {
    "duration": 32,
    "start_time": "2022-09-08T18:06:54.812Z"
   },
   {
    "duration": 14,
    "start_time": "2022-09-08T18:06:55.097Z"
   },
   {
    "duration": 21,
    "start_time": "2022-09-08T18:06:55.440Z"
   },
   {
    "duration": 8,
    "start_time": "2022-09-08T18:06:55.707Z"
   },
   {
    "duration": 20,
    "start_time": "2022-09-08T18:06:56.731Z"
   },
   {
    "duration": 21,
    "start_time": "2022-09-08T18:06:57.034Z"
   },
   {
    "duration": 10,
    "start_time": "2022-09-08T18:06:57.243Z"
   },
   {
    "duration": 21,
    "start_time": "2022-09-08T18:06:57.453Z"
   },
   {
    "duration": 38,
    "start_time": "2022-09-08T18:06:57.665Z"
   },
   {
    "duration": 33,
    "start_time": "2022-09-08T18:06:58.365Z"
   },
   {
    "duration": 26,
    "start_time": "2022-09-08T18:06:58.887Z"
   },
   {
    "duration": 25,
    "start_time": "2022-09-08T18:06:59.335Z"
   },
   {
    "duration": 4,
    "start_time": "2022-09-08T18:06:59.693Z"
   },
   {
    "duration": 79,
    "start_time": "2022-09-08T18:07:00.422Z"
   },
   {
    "duration": 10,
    "start_time": "2022-09-08T18:07:01.452Z"
   },
   {
    "duration": 40,
    "start_time": "2022-09-08T18:07:08.438Z"
   },
   {
    "duration": 112,
    "start_time": "2022-09-08T18:08:17.296Z"
   },
   {
    "duration": 13,
    "start_time": "2022-09-08T18:08:58.865Z"
   },
   {
    "duration": 10,
    "start_time": "2022-09-08T18:09:15.524Z"
   },
   {
    "duration": 21,
    "start_time": "2022-09-08T18:09:41.114Z"
   },
   {
    "duration": 14,
    "start_time": "2022-09-08T18:10:01.199Z"
   },
   {
    "duration": 13,
    "start_time": "2022-09-08T18:10:17.330Z"
   },
   {
    "duration": 14,
    "start_time": "2022-09-08T18:10:27.230Z"
   },
   {
    "duration": 11,
    "start_time": "2022-09-08T18:11:50.765Z"
   },
   {
    "duration": 259,
    "start_time": "2022-09-08T18:12:02.127Z"
   },
   {
    "duration": 12,
    "start_time": "2022-09-08T18:12:49.941Z"
   },
   {
    "duration": 355,
    "start_time": "2022-09-08T18:13:38.755Z"
   },
   {
    "duration": 7,
    "start_time": "2022-09-08T18:14:28.051Z"
   },
   {
    "duration": 6,
    "start_time": "2022-09-08T18:14:28.991Z"
   },
   {
    "duration": 13,
    "start_time": "2022-09-08T18:14:29.440Z"
   },
   {
    "duration": 250,
    "start_time": "2022-09-08T18:16:55.754Z"
   },
   {
    "duration": 12,
    "start_time": "2022-09-08T18:17:22.628Z"
   },
   {
    "duration": 234,
    "start_time": "2022-09-08T18:17:45.719Z"
   },
   {
    "duration": 203,
    "start_time": "2022-09-08T18:19:14.606Z"
   },
   {
    "duration": 11,
    "start_time": "2022-09-08T18:19:38.746Z"
   },
   {
    "duration": 295,
    "start_time": "2022-09-08T18:19:59.816Z"
   },
   {
    "duration": 14,
    "start_time": "2022-09-08T18:22:30.146Z"
   },
   {
    "duration": 6,
    "start_time": "2022-09-08T18:23:07.000Z"
   },
   {
    "duration": 14,
    "start_time": "2022-09-08T18:23:16.939Z"
   },
   {
    "duration": 14,
    "start_time": "2022-09-08T18:23:20.749Z"
   },
   {
    "duration": 29,
    "start_time": "2022-09-08T18:23:22.568Z"
   },
   {
    "duration": 23,
    "start_time": "2022-09-08T18:23:22.794Z"
   },
   {
    "duration": 23,
    "start_time": "2022-09-08T18:23:34.905Z"
   },
   {
    "duration": 9,
    "start_time": "2022-09-08T18:23:35.445Z"
   },
   {
    "duration": 12,
    "start_time": "2022-09-08T18:23:35.645Z"
   },
   {
    "duration": 25,
    "start_time": "2022-09-08T18:23:36.012Z"
   },
   {
    "duration": 17,
    "start_time": "2022-09-08T18:23:36.192Z"
   },
   {
    "duration": 7,
    "start_time": "2022-09-08T18:23:36.353Z"
   },
   {
    "duration": 8,
    "start_time": "2022-09-08T18:23:36.912Z"
   },
   {
    "duration": 10,
    "start_time": "2022-09-08T18:23:37.103Z"
   },
   {
    "duration": 1444,
    "start_time": "2022-09-08T18:23:37.295Z"
   },
   {
    "duration": 0,
    "start_time": "2022-09-08T18:23:38.741Z"
   },
   {
    "duration": 0,
    "start_time": "2022-09-08T18:23:38.742Z"
   },
   {
    "duration": 27,
    "start_time": "2022-09-08T18:23:39.188Z"
   },
   {
    "duration": 31,
    "start_time": "2022-09-08T18:23:39.394Z"
   },
   {
    "duration": 15,
    "start_time": "2022-09-08T18:23:39.590Z"
   },
   {
    "duration": 21,
    "start_time": "2022-09-08T18:23:39.793Z"
   },
   {
    "duration": 6,
    "start_time": "2022-09-08T18:23:40.013Z"
   },
   {
    "duration": 19,
    "start_time": "2022-09-08T18:23:40.825Z"
   },
   {
    "duration": 22,
    "start_time": "2022-09-08T18:23:41.029Z"
   },
   {
    "duration": 10,
    "start_time": "2022-09-08T18:23:41.219Z"
   },
   {
    "duration": 12,
    "start_time": "2022-09-08T18:23:41.434Z"
   },
   {
    "duration": 27,
    "start_time": "2022-09-08T18:23:41.630Z"
   },
   {
    "duration": 24,
    "start_time": "2022-09-08T18:23:42.335Z"
   },
   {
    "duration": 25,
    "start_time": "2022-09-08T18:23:42.535Z"
   },
   {
    "duration": 24,
    "start_time": "2022-09-08T18:23:42.743Z"
   },
   {
    "duration": 4,
    "start_time": "2022-09-08T18:23:42.941Z"
   },
   {
    "duration": 78,
    "start_time": "2022-09-08T18:23:43.123Z"
   },
   {
    "duration": 10,
    "start_time": "2022-09-08T18:23:43.394Z"
   },
   {
    "duration": 34,
    "start_time": "2022-09-08T18:23:45.342Z"
   },
   {
    "duration": 261,
    "start_time": "2022-09-08T18:23:50.340Z"
   },
   {
    "duration": 13,
    "start_time": "2022-09-08T18:23:51.328Z"
   },
   {
    "duration": 270,
    "start_time": "2022-09-08T18:23:52.142Z"
   },
   {
    "duration": 227,
    "start_time": "2022-09-08T18:23:54.294Z"
   },
   {
    "duration": 11,
    "start_time": "2022-09-08T18:23:54.633Z"
   },
   {
    "duration": 356,
    "start_time": "2022-09-08T18:23:55.064Z"
   },
   {
    "duration": 202,
    "start_time": "2022-09-08T18:23:55.596Z"
   },
   {
    "duration": 11,
    "start_time": "2022-09-08T18:23:56.409Z"
   },
   {
    "duration": 308,
    "start_time": "2022-09-08T18:23:57.044Z"
   },
   {
    "duration": 6,
    "start_time": "2022-09-08T18:26:19.938Z"
   },
   {
    "duration": 6,
    "start_time": "2022-09-08T18:26:20.149Z"
   },
   {
    "duration": 7,
    "start_time": "2022-09-08T18:26:20.392Z"
   },
   {
    "duration": 15,
    "start_time": "2022-09-08T18:26:21.366Z"
   },
   {
    "duration": 7,
    "start_time": "2022-09-08T18:26:22.313Z"
   },
   {
    "duration": 11,
    "start_time": "2022-09-08T18:26:22.517Z"
   },
   {
    "duration": 1436,
    "start_time": "2022-09-09T15:54:34.429Z"
   },
   {
    "duration": 1004,
    "start_time": "2022-09-09T15:54:35.867Z"
   },
   {
    "duration": 49,
    "start_time": "2022-09-09T15:54:36.872Z"
   },
   {
    "duration": 56,
    "start_time": "2022-09-09T15:54:36.923Z"
   },
   {
    "duration": 34,
    "start_time": "2022-09-09T15:54:36.982Z"
   },
   {
    "duration": 63,
    "start_time": "2022-09-09T15:54:37.017Z"
   },
   {
    "duration": 30,
    "start_time": "2022-09-09T15:54:37.083Z"
   },
   {
    "duration": 156,
    "start_time": "2022-09-09T15:54:37.115Z"
   },
   {
    "duration": 37,
    "start_time": "2022-09-09T15:54:37.276Z"
   },
   {
    "duration": 10,
    "start_time": "2022-09-09T15:54:37.315Z"
   },
   {
    "duration": 14,
    "start_time": "2022-09-09T15:54:37.327Z"
   },
   {
    "duration": 49,
    "start_time": "2022-09-09T15:54:37.343Z"
   },
   {
    "duration": 8,
    "start_time": "2022-09-09T15:54:37.394Z"
   },
   {
    "duration": 15,
    "start_time": "2022-09-09T15:54:37.405Z"
   },
   {
    "duration": 15,
    "start_time": "2022-09-09T15:54:37.421Z"
   },
   {
    "duration": 48,
    "start_time": "2022-09-09T15:54:37.437Z"
   },
   {
    "duration": 23,
    "start_time": "2022-09-09T15:54:37.486Z"
   },
   {
    "duration": 31,
    "start_time": "2022-09-09T15:54:37.510Z"
   },
   {
    "duration": 7,
    "start_time": "2022-09-09T15:54:37.543Z"
   },
   {
    "duration": 36,
    "start_time": "2022-09-09T15:54:37.551Z"
   },
   {
    "duration": 32,
    "start_time": "2022-09-09T15:54:37.588Z"
   },
   {
    "duration": 20,
    "start_time": "2022-09-09T15:54:37.622Z"
   },
   {
    "duration": 7,
    "start_time": "2022-09-09T15:54:37.645Z"
   },
   {
    "duration": 29,
    "start_time": "2022-09-09T15:54:37.653Z"
   },
   {
    "duration": 13,
    "start_time": "2022-09-09T15:54:37.684Z"
   },
   {
    "duration": 37,
    "start_time": "2022-09-09T15:54:37.698Z"
   },
   {
    "duration": 16,
    "start_time": "2022-09-09T15:54:37.736Z"
   },
   {
    "duration": 34,
    "start_time": "2022-09-09T15:54:37.754Z"
   },
   {
    "duration": 25,
    "start_time": "2022-09-09T15:54:37.790Z"
   },
   {
    "duration": 30,
    "start_time": "2022-09-09T15:54:37.816Z"
   },
   {
    "duration": 35,
    "start_time": "2022-09-09T15:54:37.847Z"
   },
   {
    "duration": 21,
    "start_time": "2022-09-09T15:54:37.884Z"
   },
   {
    "duration": 7,
    "start_time": "2022-09-09T15:54:37.906Z"
   },
   {
    "duration": 18,
    "start_time": "2022-09-09T15:54:37.914Z"
   },
   {
    "duration": 45,
    "start_time": "2022-09-09T15:54:37.934Z"
   },
   {
    "duration": 11,
    "start_time": "2022-09-09T15:54:37.981Z"
   },
   {
    "duration": 13,
    "start_time": "2022-09-09T15:54:37.993Z"
   },
   {
    "duration": 27,
    "start_time": "2022-09-09T15:54:38.008Z"
   },
   {
    "duration": 57,
    "start_time": "2022-09-09T15:54:38.037Z"
   },
   {
    "duration": 27,
    "start_time": "2022-09-09T15:54:38.096Z"
   },
   {
    "duration": 26,
    "start_time": "2022-09-09T15:54:38.126Z"
   },
   {
    "duration": 26,
    "start_time": "2022-09-09T15:54:38.153Z"
   },
   {
    "duration": 79,
    "start_time": "2022-09-09T15:54:38.180Z"
   },
   {
    "duration": 23,
    "start_time": "2022-09-09T15:54:38.261Z"
   },
   {
    "duration": 42,
    "start_time": "2022-09-09T15:54:38.286Z"
   },
   {
    "duration": 418,
    "start_time": "2022-09-09T15:54:38.330Z"
   },
   {
    "duration": 13,
    "start_time": "2022-09-09T15:54:38.750Z"
   },
   {
    "duration": 331,
    "start_time": "2022-09-09T15:54:38.776Z"
   },
   {
    "duration": 380,
    "start_time": "2022-09-09T15:54:39.108Z"
   },
   {
    "duration": 12,
    "start_time": "2022-09-09T15:54:39.490Z"
   },
   {
    "duration": 425,
    "start_time": "2022-09-09T15:54:39.504Z"
   },
   {
    "duration": 380,
    "start_time": "2022-09-09T15:54:39.932Z"
   },
   {
    "duration": 13,
    "start_time": "2022-09-09T15:54:40.314Z"
   },
   {
    "duration": 541,
    "start_time": "2022-09-09T15:54:40.328Z"
   },
   {
    "duration": 9,
    "start_time": "2022-09-09T15:54:40.871Z"
   },
   {
    "duration": 10,
    "start_time": "2022-09-09T15:54:40.882Z"
   },
   {
    "duration": 8,
    "start_time": "2022-09-09T15:54:40.893Z"
   },
   {
    "duration": 10,
    "start_time": "2022-09-09T15:54:40.903Z"
   },
   {
    "duration": 10,
    "start_time": "2022-09-09T15:54:40.914Z"
   },
   {
    "duration": 22,
    "start_time": "2022-09-09T15:54:40.926Z"
   },
   {
    "duration": 28,
    "start_time": "2022-09-09T16:05:54.364Z"
   },
   {
    "duration": 32,
    "start_time": "2022-09-09T16:06:54.614Z"
   },
   {
    "duration": 6,
    "start_time": "2022-09-09T16:09:06.583Z"
   },
   {
    "duration": 6,
    "start_time": "2022-09-09T16:09:10.363Z"
   },
   {
    "duration": 26,
    "start_time": "2022-09-09T16:11:39.041Z"
   },
   {
    "duration": 12,
    "start_time": "2022-09-09T16:12:43.679Z"
   },
   {
    "duration": 6,
    "start_time": "2022-09-09T16:17:30.560Z"
   },
   {
    "duration": 30,
    "start_time": "2022-09-09T16:18:12.497Z"
   },
   {
    "duration": 44,
    "start_time": "2022-09-09T18:51:47.669Z"
   },
   {
    "duration": 1200,
    "start_time": "2022-09-09T18:51:58.449Z"
   },
   {
    "duration": 875,
    "start_time": "2022-09-09T18:51:59.651Z"
   },
   {
    "duration": 44,
    "start_time": "2022-09-09T18:52:00.528Z"
   },
   {
    "duration": 31,
    "start_time": "2022-09-09T18:52:00.626Z"
   },
   {
    "duration": 22,
    "start_time": "2022-09-09T18:52:00.857Z"
   },
   {
    "duration": 31,
    "start_time": "2022-09-09T18:52:02.995Z"
   },
   {
    "duration": 19,
    "start_time": "2022-09-09T18:52:03.157Z"
   },
   {
    "duration": 110,
    "start_time": "2022-09-09T18:52:03.472Z"
   },
   {
    "duration": 35,
    "start_time": "2022-09-09T18:52:03.865Z"
   },
   {
    "duration": 8,
    "start_time": "2022-09-09T18:52:06.947Z"
   },
   {
    "duration": 12,
    "start_time": "2022-09-09T18:52:07.032Z"
   },
   {
    "duration": 24,
    "start_time": "2022-09-09T18:52:07.292Z"
   },
   {
    "duration": 8,
    "start_time": "2022-09-09T18:52:07.675Z"
   },
   {
    "duration": 13,
    "start_time": "2022-09-09T18:52:07.900Z"
   },
   {
    "duration": 14,
    "start_time": "2022-09-09T18:52:09.144Z"
   },
   {
    "duration": 18,
    "start_time": "2022-09-09T18:52:09.894Z"
   },
   {
    "duration": 21,
    "start_time": "2022-09-09T18:52:10.134Z"
   },
   {
    "duration": 22,
    "start_time": "2022-09-09T18:52:11.173Z"
   },
   {
    "duration": 8,
    "start_time": "2022-09-09T18:52:11.656Z"
   },
   {
    "duration": 8,
    "start_time": "2022-09-09T18:52:11.797Z"
   },
   {
    "duration": 25,
    "start_time": "2022-09-09T18:52:12.230Z"
   },
   {
    "duration": 16,
    "start_time": "2022-09-09T18:52:12.442Z"
   },
   {
    "duration": 7,
    "start_time": "2022-09-09T18:52:12.659Z"
   },
   {
    "duration": 8,
    "start_time": "2022-09-09T18:52:13.701Z"
   },
   {
    "duration": 11,
    "start_time": "2022-09-09T18:52:13.913Z"
   },
   {
    "duration": 35,
    "start_time": "2022-09-09T18:52:14.144Z"
   },
   {
    "duration": 12,
    "start_time": "2022-09-09T18:52:14.397Z"
   },
   {
    "duration": 14,
    "start_time": "2022-09-09T18:52:14.597Z"
   },
   {
    "duration": 25,
    "start_time": "2022-09-09T18:52:17.537Z"
   },
   {
    "duration": 29,
    "start_time": "2022-09-09T18:52:18.760Z"
   },
   {
    "duration": 13,
    "start_time": "2022-09-09T18:52:18.958Z"
   },
   {
    "duration": 18,
    "start_time": "2022-09-09T18:52:19.172Z"
   },
   {
    "duration": 6,
    "start_time": "2022-09-09T18:52:19.381Z"
   },
   {
    "duration": 17,
    "start_time": "2022-09-09T18:52:20.248Z"
   },
   {
    "duration": 19,
    "start_time": "2022-09-09T18:52:24.303Z"
   },
   {
    "duration": 9,
    "start_time": "2022-09-09T18:52:27.299Z"
   },
   {
    "duration": 12,
    "start_time": "2022-09-09T18:52:29.381Z"
   },
   {
    "duration": 26,
    "start_time": "2022-09-09T18:52:31.750Z"
   },
   {
    "duration": 23,
    "start_time": "2022-09-09T18:52:32.782Z"
   },
   {
    "duration": 25,
    "start_time": "2022-09-09T18:52:34.184Z"
   },
   {
    "duration": 22,
    "start_time": "2022-09-09T18:52:35.432Z"
   },
   {
    "duration": 4,
    "start_time": "2022-09-09T18:52:38.677Z"
   },
   {
    "duration": 68,
    "start_time": "2022-09-09T18:52:41.215Z"
   },
   {
    "duration": 9,
    "start_time": "2022-09-09T18:52:42.411Z"
   },
   {
    "duration": 27,
    "start_time": "2022-09-09T18:52:43.389Z"
   },
   {
    "duration": 28,
    "start_time": "2022-09-09T18:52:49.004Z"
   },
   {
    "duration": 28,
    "start_time": "2022-09-09T18:53:52.723Z"
   },
   {
    "duration": 240,
    "start_time": "2022-09-09T18:54:14.582Z"
   },
   {
    "duration": 218,
    "start_time": "2022-09-09T18:54:18.103Z"
   },
   {
    "duration": 11,
    "start_time": "2022-09-09T18:54:30.171Z"
   },
   {
    "duration": 305,
    "start_time": "2022-09-09T18:54:44.410Z"
   },
   {
    "duration": 264,
    "start_time": "2022-09-09T18:54:57.587Z"
   },
   {
    "duration": 209,
    "start_time": "2022-09-09T18:54:58.141Z"
   },
   {
    "duration": 18,
    "start_time": "2022-09-09T18:55:00.533Z"
   },
   {
    "duration": 211,
    "start_time": "2022-09-09T18:55:01.792Z"
   },
   {
    "duration": 310,
    "start_time": "2022-09-09T18:55:04.964Z"
   },
   {
    "duration": 15,
    "start_time": "2022-09-09T18:55:05.639Z"
   },
   {
    "duration": 322,
    "start_time": "2022-09-09T18:55:10.093Z"
   },
   {
    "duration": 7,
    "start_time": "2022-09-09T18:55:10.418Z"
   },
   {
    "duration": 6,
    "start_time": "2022-09-09T18:55:10.472Z"
   },
   {
    "duration": 7,
    "start_time": "2022-09-09T18:55:10.673Z"
   },
   {
    "duration": 11,
    "start_time": "2022-09-09T18:55:13.885Z"
   },
   {
    "duration": 10,
    "start_time": "2022-09-09T18:55:14.840Z"
   },
   {
    "duration": 15,
    "start_time": "2022-09-09T18:55:15.053Z"
   },
   {
    "duration": 106,
    "start_time": "2022-09-09T19:07:05.084Z"
   },
   {
    "duration": 5,
    "start_time": "2022-09-09T19:09:22.912Z"
   },
   {
    "duration": 4,
    "start_time": "2022-09-09T19:09:31.256Z"
   },
   {
    "duration": 12,
    "start_time": "2022-09-09T19:09:35.657Z"
   },
   {
    "duration": 6,
    "start_time": "2022-09-09T19:11:39.095Z"
   },
   {
    "duration": 4,
    "start_time": "2022-09-09T19:11:51.238Z"
   },
   {
    "duration": 882,
    "start_time": "2022-09-09T19:12:46.989Z"
   },
   {
    "duration": 3,
    "start_time": "2022-09-09T19:13:04.013Z"
   },
   {
    "duration": 323,
    "start_time": "2022-09-09T19:13:04.421Z"
   },
   {
    "duration": 56,
    "start_time": "2022-09-09T19:13:05.399Z"
   },
   {
    "duration": 43,
    "start_time": "2022-09-09T19:13:05.602Z"
   },
   {
    "duration": 31,
    "start_time": "2022-09-09T19:13:05.800Z"
   },
   {
    "duration": 42,
    "start_time": "2022-09-09T19:13:05.964Z"
   },
   {
    "duration": 22,
    "start_time": "2022-09-09T19:13:06.149Z"
   },
   {
    "duration": 125,
    "start_time": "2022-09-09T19:13:06.516Z"
   },
   {
    "duration": 30,
    "start_time": "2022-09-09T19:13:06.937Z"
   },
   {
    "duration": 8,
    "start_time": "2022-09-09T19:13:08.201Z"
   },
   {
    "duration": 11,
    "start_time": "2022-09-09T19:13:08.457Z"
   },
   {
    "duration": 24,
    "start_time": "2022-09-09T19:13:08.895Z"
   },
   {
    "duration": 4,
    "start_time": "2022-09-09T19:13:09.348Z"
   },
   {
    "duration": 12,
    "start_time": "2022-09-09T19:13:09.593Z"
   },
   {
    "duration": 18,
    "start_time": "2022-09-09T19:13:09.777Z"
   },
   {
    "duration": 18,
    "start_time": "2022-09-09T19:13:10.600Z"
   },
   {
    "duration": 21,
    "start_time": "2022-09-09T19:13:10.801Z"
   },
   {
    "duration": 21,
    "start_time": "2022-09-09T19:13:11.450Z"
   },
   {
    "duration": 14,
    "start_time": "2022-09-09T19:13:11.876Z"
   },
   {
    "duration": 9,
    "start_time": "2022-09-09T19:13:12.091Z"
   },
   {
    "duration": 26,
    "start_time": "2022-09-09T19:13:12.518Z"
   },
   {
    "duration": 18,
    "start_time": "2022-09-09T19:13:12.758Z"
   },
   {
    "duration": 8,
    "start_time": "2022-09-09T19:13:12.988Z"
   },
   {
    "duration": 8,
    "start_time": "2022-09-09T19:13:13.602Z"
   },
   {
    "duration": 11,
    "start_time": "2022-09-09T19:13:13.822Z"
   },
   {
    "duration": 34,
    "start_time": "2022-09-09T19:13:14.021Z"
   },
   {
    "duration": 13,
    "start_time": "2022-09-09T19:13:14.301Z"
   },
   {
    "duration": 13,
    "start_time": "2022-09-09T19:13:14.502Z"
   },
   {
    "duration": 24,
    "start_time": "2022-09-09T19:13:16.022Z"
   },
   {
    "duration": 35,
    "start_time": "2022-09-09T19:13:16.455Z"
   },
   {
    "duration": 17,
    "start_time": "2022-09-09T19:13:17.024Z"
   },
   {
    "duration": 17,
    "start_time": "2022-09-09T19:13:17.288Z"
   },
   {
    "duration": 7,
    "start_time": "2022-09-09T19:13:17.792Z"
   },
   {
    "duration": 17,
    "start_time": "2022-09-09T19:13:24.151Z"
   },
   {
    "duration": 25,
    "start_time": "2022-09-09T19:13:25.664Z"
   },
   {
    "duration": 9,
    "start_time": "2022-09-09T19:13:28.027Z"
   },
   {
    "duration": 12,
    "start_time": "2022-09-09T19:13:30.442Z"
   },
   {
    "duration": 28,
    "start_time": "2022-09-09T19:13:31.869Z"
   },
   {
    "duration": 26,
    "start_time": "2022-09-09T19:13:33.023Z"
   },
   {
    "duration": 31,
    "start_time": "2022-09-09T19:13:36.788Z"
   },
   {
    "duration": 24,
    "start_time": "2022-09-09T19:13:37.879Z"
   },
   {
    "duration": 4,
    "start_time": "2022-09-09T19:13:39.336Z"
   },
   {
    "duration": 73,
    "start_time": "2022-09-09T19:13:40.654Z"
   },
   {
    "duration": 18,
    "start_time": "2022-09-09T19:13:42.372Z"
   },
   {
    "duration": 30,
    "start_time": "2022-09-09T19:13:48.474Z"
   },
   {
    "duration": 5,
    "start_time": "2022-09-09T19:13:52.888Z"
   },
   {
    "duration": 762,
    "start_time": "2022-09-09T19:13:54.651Z"
   },
   {
    "duration": 4,
    "start_time": "2022-09-09T19:14:20.923Z"
   },
   {
    "duration": 1002,
    "start_time": "2022-09-09T19:15:20.025Z"
   },
   {
    "duration": 734,
    "start_time": "2022-09-09T19:15:53.244Z"
   },
   {
    "duration": 812,
    "start_time": "2022-09-09T19:16:54.967Z"
   },
   {
    "duration": 30,
    "start_time": "2022-09-09T19:17:28.523Z"
   },
   {
    "duration": 231,
    "start_time": "2022-09-09T19:17:35.288Z"
   },
   {
    "duration": 10,
    "start_time": "2022-09-09T19:17:37.512Z"
   },
   {
    "duration": 228,
    "start_time": "2022-09-09T19:17:39.164Z"
   },
   {
    "duration": 226,
    "start_time": "2022-09-09T19:17:45.604Z"
   },
   {
    "duration": 11,
    "start_time": "2022-09-09T19:17:48.348Z"
   },
   {
    "duration": 209,
    "start_time": "2022-09-09T19:17:49.357Z"
   },
   {
    "duration": 197,
    "start_time": "2022-09-09T19:17:53.089Z"
   },
   {
    "duration": 13,
    "start_time": "2022-09-09T19:17:55.316Z"
   },
   {
    "duration": 4,
    "start_time": "2022-09-09T19:18:55.991Z"
   },
   {
    "duration": 853,
    "start_time": "2022-09-09T19:19:56.242Z"
   },
   {
    "duration": 5,
    "start_time": "2022-09-09T19:20:15.974Z"
   },
   {
    "duration": 302,
    "start_time": "2022-09-09T19:20:16.413Z"
   },
   {
    "duration": 40,
    "start_time": "2022-09-09T19:20:17.756Z"
   },
   {
    "duration": 36,
    "start_time": "2022-09-09T19:20:17.953Z"
   },
   {
    "duration": 25,
    "start_time": "2022-09-09T19:20:18.192Z"
   },
   {
    "duration": 35,
    "start_time": "2022-09-09T19:20:18.420Z"
   },
   {
    "duration": 26,
    "start_time": "2022-09-09T19:20:18.567Z"
   },
   {
    "duration": 112,
    "start_time": "2022-09-09T19:20:18.964Z"
   },
   {
    "duration": 30,
    "start_time": "2022-09-09T19:20:19.390Z"
   },
   {
    "duration": 8,
    "start_time": "2022-09-09T19:20:20.509Z"
   },
   {
    "duration": 13,
    "start_time": "2022-09-09T19:20:20.747Z"
   },
   {
    "duration": 23,
    "start_time": "2022-09-09T19:20:21.089Z"
   },
   {
    "duration": 4,
    "start_time": "2022-09-09T19:20:21.511Z"
   },
   {
    "duration": 13,
    "start_time": "2022-09-09T19:20:21.728Z"
   },
   {
    "duration": 15,
    "start_time": "2022-09-09T19:20:21.989Z"
   },
   {
    "duration": 18,
    "start_time": "2022-09-09T19:20:22.893Z"
   },
   {
    "duration": 21,
    "start_time": "2022-09-09T19:20:23.134Z"
   },
   {
    "duration": 22,
    "start_time": "2022-09-09T19:20:23.789Z"
   },
   {
    "duration": 7,
    "start_time": "2022-09-09T19:20:24.292Z"
   },
   {
    "duration": 9,
    "start_time": "2022-09-09T19:20:24.539Z"
   },
   {
    "duration": 27,
    "start_time": "2022-09-09T19:20:25.042Z"
   },
   {
    "duration": 21,
    "start_time": "2022-09-09T19:20:25.297Z"
   },
   {
    "duration": 6,
    "start_time": "2022-09-09T19:20:25.520Z"
   },
   {
    "duration": 9,
    "start_time": "2022-09-09T19:20:26.229Z"
   },
   {
    "duration": 10,
    "start_time": "2022-09-09T19:20:26.516Z"
   },
   {
    "duration": 34,
    "start_time": "2022-09-09T19:20:26.706Z"
   },
   {
    "duration": 12,
    "start_time": "2022-09-09T19:20:26.958Z"
   },
   {
    "duration": 20,
    "start_time": "2022-09-09T19:20:27.568Z"
   },
   {
    "duration": 23,
    "start_time": "2022-09-09T19:20:32.090Z"
   },
   {
    "duration": 29,
    "start_time": "2022-09-09T19:20:33.489Z"
   },
   {
    "duration": 13,
    "start_time": "2022-09-09T19:20:36.125Z"
   },
   {
    "duration": 19,
    "start_time": "2022-09-09T19:20:37.030Z"
   },
   {
    "duration": 6,
    "start_time": "2022-09-09T19:20:37.212Z"
   },
   {
    "duration": 17,
    "start_time": "2022-09-09T19:20:39.105Z"
   },
   {
    "duration": 19,
    "start_time": "2022-09-09T19:20:40.438Z"
   },
   {
    "duration": 10,
    "start_time": "2022-09-09T19:20:41.893Z"
   },
   {
    "duration": 12,
    "start_time": "2022-09-09T19:20:42.529Z"
   },
   {
    "duration": 25,
    "start_time": "2022-09-09T19:20:43.331Z"
   },
   {
    "duration": 26,
    "start_time": "2022-09-09T19:20:44.940Z"
   },
   {
    "duration": 35,
    "start_time": "2022-09-09T19:20:46.162Z"
   },
   {
    "duration": 25,
    "start_time": "2022-09-09T19:20:47.335Z"
   },
   {
    "duration": 4,
    "start_time": "2022-09-09T19:20:48.857Z"
   },
   {
    "duration": 65,
    "start_time": "2022-09-09T19:20:50.189Z"
   },
   {
    "duration": 10,
    "start_time": "2022-09-09T19:20:51.997Z"
   },
   {
    "duration": 26,
    "start_time": "2022-09-09T19:20:53.443Z"
   },
   {
    "duration": 3,
    "start_time": "2022-09-09T19:20:59.031Z"
   },
   {
    "duration": 950,
    "start_time": "2022-09-09T19:21:00.820Z"
   },
   {
    "duration": 13,
    "start_time": "2022-09-09T19:21:38.432Z"
   },
   {
    "duration": 924,
    "start_time": "2022-09-09T19:22:33.813Z"
   },
   {
    "duration": 3,
    "start_time": "2022-09-09T19:23:00.765Z"
   },
   {
    "duration": 4,
    "start_time": "2022-09-09T19:23:06.466Z"
   },
   {
    "duration": 28,
    "start_time": "2022-09-09T19:23:10.598Z"
   },
   {
    "duration": 190,
    "start_time": "2022-09-09T19:23:20.586Z"
   },
   {
    "duration": 11,
    "start_time": "2022-09-09T19:23:21.424Z"
   },
   {
    "duration": 307,
    "start_time": "2022-09-09T19:23:22.712Z"
   },
   {
    "duration": 213,
    "start_time": "2022-09-09T19:23:24.482Z"
   },
   {
    "duration": 10,
    "start_time": "2022-09-09T19:23:25.590Z"
   },
   {
    "duration": 233,
    "start_time": "2022-09-09T19:23:26.906Z"
   },
   {
    "duration": 192,
    "start_time": "2022-09-09T19:23:29.971Z"
   },
   {
    "duration": 11,
    "start_time": "2022-09-09T19:23:31.105Z"
   },
   {
    "duration": 248,
    "start_time": "2022-09-09T19:23:32.215Z"
   },
   {
    "duration": 1328,
    "start_time": "2022-09-10T17:52:20.853Z"
   },
   {
    "duration": 1380,
    "start_time": "2022-09-10T17:52:22.184Z"
   },
   {
    "duration": 42,
    "start_time": "2022-09-10T17:52:23.566Z"
   },
   {
    "duration": 32,
    "start_time": "2022-09-10T17:52:23.610Z"
   },
   {
    "duration": 42,
    "start_time": "2022-09-10T17:52:23.643Z"
   },
   {
    "duration": 33,
    "start_time": "2022-09-10T17:52:23.687Z"
   },
   {
    "duration": 20,
    "start_time": "2022-09-10T17:52:23.721Z"
   },
   {
    "duration": 146,
    "start_time": "2022-09-10T17:52:23.743Z"
   },
   {
    "duration": 33,
    "start_time": "2022-09-10T17:52:23.891Z"
   },
   {
    "duration": 8,
    "start_time": "2022-09-10T17:52:23.926Z"
   },
   {
    "duration": 20,
    "start_time": "2022-09-10T17:52:23.936Z"
   },
   {
    "duration": 25,
    "start_time": "2022-09-10T17:52:23.976Z"
   },
   {
    "duration": 4,
    "start_time": "2022-09-10T17:52:24.003Z"
   },
   {
    "duration": 15,
    "start_time": "2022-09-10T17:52:24.008Z"
   },
   {
    "duration": 13,
    "start_time": "2022-09-10T17:52:24.024Z"
   },
   {
    "duration": 49,
    "start_time": "2022-09-10T17:52:24.038Z"
   },
   {
    "duration": 24,
    "start_time": "2022-09-10T17:52:24.089Z"
   },
   {
    "duration": 24,
    "start_time": "2022-09-10T17:52:24.115Z"
   },
   {
    "duration": 7,
    "start_time": "2022-09-10T17:52:24.140Z"
   },
   {
    "duration": 34,
    "start_time": "2022-09-10T17:52:24.148Z"
   },
   {
    "duration": 28,
    "start_time": "2022-09-10T17:52:24.184Z"
   },
   {
    "duration": 18,
    "start_time": "2022-09-10T17:52:24.214Z"
   },
   {
    "duration": 7,
    "start_time": "2022-09-10T17:52:24.234Z"
   },
   {
    "duration": 35,
    "start_time": "2022-09-10T17:52:24.243Z"
   },
   {
    "duration": 12,
    "start_time": "2022-09-10T17:52:24.280Z"
   },
   {
    "duration": 34,
    "start_time": "2022-09-10T17:52:24.294Z"
   },
   {
    "duration": 13,
    "start_time": "2022-09-10T17:52:24.330Z"
   },
   {
    "duration": 18,
    "start_time": "2022-09-10T17:52:24.377Z"
   },
   {
    "duration": 31,
    "start_time": "2022-09-10T17:52:24.397Z"
   },
   {
    "duration": 52,
    "start_time": "2022-09-10T17:52:24.430Z"
   },
   {
    "duration": 13,
    "start_time": "2022-09-10T17:52:24.484Z"
   },
   {
    "duration": 18,
    "start_time": "2022-09-10T17:52:24.498Z"
   },
   {
    "duration": 6,
    "start_time": "2022-09-10T17:52:24.518Z"
   },
   {
    "duration": 53,
    "start_time": "2022-09-10T17:52:24.526Z"
   },
   {
    "duration": 21,
    "start_time": "2022-09-10T17:52:24.581Z"
   },
   {
    "duration": 9,
    "start_time": "2022-09-10T17:52:24.604Z"
   },
   {
    "duration": 11,
    "start_time": "2022-09-10T17:52:24.615Z"
   },
   {
    "duration": 55,
    "start_time": "2022-09-10T17:52:24.627Z"
   },
   {
    "duration": 23,
    "start_time": "2022-09-10T17:52:24.684Z"
   },
   {
    "duration": 25,
    "start_time": "2022-09-10T17:52:24.708Z"
   },
   {
    "duration": 46,
    "start_time": "2022-09-10T17:52:24.735Z"
   },
   {
    "duration": 4,
    "start_time": "2022-09-10T17:52:24.783Z"
   },
   {
    "duration": 75,
    "start_time": "2022-09-10T17:52:24.789Z"
   },
   {
    "duration": 11,
    "start_time": "2022-09-10T17:52:24.876Z"
   },
   {
    "duration": 25,
    "start_time": "2022-09-10T17:52:24.889Z"
   },
   {
    "duration": 6,
    "start_time": "2022-09-10T17:52:24.916Z"
   },
   {
    "duration": 11,
    "start_time": "2022-09-10T17:52:24.924Z"
   },
   {
    "duration": 3,
    "start_time": "2022-09-10T17:52:24.936Z"
   },
   {
    "duration": 57,
    "start_time": "2022-09-10T17:52:24.940Z"
   },
   {
    "duration": 247,
    "start_time": "2022-09-10T17:52:24.999Z"
   },
   {
    "duration": 15,
    "start_time": "2022-09-10T17:52:25.249Z"
   },
   {
    "duration": 258,
    "start_time": "2022-09-10T17:52:25.277Z"
   },
   {
    "duration": 218,
    "start_time": "2022-09-10T17:52:25.536Z"
   },
   {
    "duration": 11,
    "start_time": "2022-09-10T17:52:25.755Z"
   },
   {
    "duration": 220,
    "start_time": "2022-09-10T17:52:25.768Z"
   },
   {
    "duration": 199,
    "start_time": "2022-09-10T17:52:25.990Z"
   },
   {
    "duration": 11,
    "start_time": "2022-09-10T17:52:26.191Z"
   },
   {
    "duration": 275,
    "start_time": "2022-09-10T17:52:26.203Z"
   },
   {
    "duration": 6,
    "start_time": "2022-09-10T17:52:26.480Z"
   },
   {
    "duration": 7,
    "start_time": "2022-09-10T17:52:26.487Z"
   },
   {
    "duration": 5,
    "start_time": "2022-09-10T17:52:26.496Z"
   },
   {
    "duration": 6,
    "start_time": "2022-09-10T17:52:26.502Z"
   },
   {
    "duration": 8,
    "start_time": "2022-09-10T17:52:26.510Z"
   },
   {
    "duration": 11,
    "start_time": "2022-09-10T17:52:26.520Z"
   },
   {
    "duration": 1049,
    "start_time": "2022-09-10T18:03:12.630Z"
   },
   {
    "duration": 293,
    "start_time": "2022-09-10T18:03:13.681Z"
   },
   {
    "duration": 43,
    "start_time": "2022-09-10T18:03:13.975Z"
   },
   {
    "duration": 62,
    "start_time": "2022-09-10T18:03:14.021Z"
   },
   {
    "duration": 22,
    "start_time": "2022-09-10T18:03:14.084Z"
   },
   {
    "duration": 40,
    "start_time": "2022-09-10T18:03:14.108Z"
   },
   {
    "duration": 45,
    "start_time": "2022-09-10T18:03:14.149Z"
   },
   {
    "duration": 151,
    "start_time": "2022-09-10T18:03:14.196Z"
   },
   {
    "duration": 39,
    "start_time": "2022-09-10T18:03:14.348Z"
   },
   {
    "duration": 9,
    "start_time": "2022-09-10T18:03:14.391Z"
   },
   {
    "duration": 15,
    "start_time": "2022-09-10T18:03:14.402Z"
   },
   {
    "duration": 68,
    "start_time": "2022-09-10T18:03:14.419Z"
   },
   {
    "duration": 5,
    "start_time": "2022-09-10T18:03:14.489Z"
   },
   {
    "duration": 20,
    "start_time": "2022-09-10T18:03:14.496Z"
   },
   {
    "duration": 17,
    "start_time": "2022-09-10T18:03:14.518Z"
   },
   {
    "duration": 41,
    "start_time": "2022-09-10T18:03:14.537Z"
   },
   {
    "duration": 24,
    "start_time": "2022-09-10T18:03:14.580Z"
   },
   {
    "duration": 34,
    "start_time": "2022-09-10T18:03:14.606Z"
   },
   {
    "duration": 35,
    "start_time": "2022-09-10T18:03:14.642Z"
   },
   {
    "duration": 9,
    "start_time": "2022-09-10T18:03:14.679Z"
   },
   {
    "duration": 45,
    "start_time": "2022-09-10T18:03:14.690Z"
   },
   {
    "duration": 23,
    "start_time": "2022-09-10T18:03:14.737Z"
   },
   {
    "duration": 8,
    "start_time": "2022-09-10T18:03:14.777Z"
   },
   {
    "duration": 13,
    "start_time": "2022-09-10T18:03:14.786Z"
   },
   {
    "duration": 18,
    "start_time": "2022-09-10T18:03:14.801Z"
   },
   {
    "duration": 56,
    "start_time": "2022-09-10T18:03:14.821Z"
   },
   {
    "duration": 15,
    "start_time": "2022-09-10T18:03:14.879Z"
   },
   {
    "duration": 18,
    "start_time": "2022-09-10T18:03:14.899Z"
   },
   {
    "duration": 32,
    "start_time": "2022-09-10T18:03:14.918Z"
   },
   {
    "duration": 52,
    "start_time": "2022-09-10T18:03:14.952Z"
   },
   {
    "duration": 13,
    "start_time": "2022-09-10T18:03:15.006Z"
   },
   {
    "duration": 20,
    "start_time": "2022-09-10T18:03:15.021Z"
   },
   {
    "duration": 35,
    "start_time": "2022-09-10T18:03:15.043Z"
   },
   {
    "duration": 20,
    "start_time": "2022-09-10T18:03:15.079Z"
   },
   {
    "duration": 21,
    "start_time": "2022-09-10T18:03:15.101Z"
   },
   {
    "duration": 13,
    "start_time": "2022-09-10T18:03:15.123Z"
   },
   {
    "duration": 47,
    "start_time": "2022-09-10T18:03:15.138Z"
   },
   {
    "duration": 29,
    "start_time": "2022-09-10T18:03:15.187Z"
   },
   {
    "duration": 25,
    "start_time": "2022-09-10T18:03:15.218Z"
   },
   {
    "duration": 65,
    "start_time": "2022-09-10T18:03:15.245Z"
   },
   {
    "duration": 33,
    "start_time": "2022-09-10T18:03:15.312Z"
   },
   {
    "duration": 7,
    "start_time": "2022-09-10T18:03:15.348Z"
   },
   {
    "duration": 112,
    "start_time": "2022-09-10T18:03:15.377Z"
   },
   {
    "duration": 18,
    "start_time": "2022-09-10T18:03:15.491Z"
   },
   {
    "duration": 37,
    "start_time": "2022-09-10T18:03:15.512Z"
   },
   {
    "duration": 5,
    "start_time": "2022-09-10T18:03:15.551Z"
   },
   {
    "duration": 12,
    "start_time": "2022-09-10T18:03:15.577Z"
   },
   {
    "duration": 3,
    "start_time": "2022-09-10T18:03:15.591Z"
   },
   {
    "duration": 31,
    "start_time": "2022-09-10T18:03:15.596Z"
   },
   {
    "duration": 237,
    "start_time": "2022-09-10T18:03:15.629Z"
   },
   {
    "duration": 21,
    "start_time": "2022-09-10T18:03:15.876Z"
   },
   {
    "duration": 234,
    "start_time": "2022-09-10T18:03:15.898Z"
   },
   {
    "duration": 235,
    "start_time": "2022-09-10T18:03:16.135Z"
   },
   {
    "duration": 14,
    "start_time": "2022-09-10T18:03:16.371Z"
   },
   {
    "duration": 220,
    "start_time": "2022-09-10T18:03:16.386Z"
   },
   {
    "duration": 200,
    "start_time": "2022-09-10T18:03:16.608Z"
   },
   {
    "duration": 12,
    "start_time": "2022-09-10T18:03:16.810Z"
   },
   {
    "duration": 379,
    "start_time": "2022-09-10T18:03:16.824Z"
   },
   {
    "duration": 6,
    "start_time": "2022-09-10T18:03:17.205Z"
   },
   {
    "duration": 10,
    "start_time": "2022-09-10T18:03:17.212Z"
   },
   {
    "duration": 7,
    "start_time": "2022-09-10T18:03:17.223Z"
   },
   {
    "duration": 8,
    "start_time": "2022-09-10T18:03:17.231Z"
   },
   {
    "duration": 37,
    "start_time": "2022-09-10T18:03:17.241Z"
   },
   {
    "duration": 15,
    "start_time": "2022-09-10T18:03:17.280Z"
   },
   {
    "duration": 33,
    "start_time": "2022-09-10T18:04:20.971Z"
   },
   {
    "duration": 122,
    "start_time": "2022-09-10T18:06:20.512Z"
   },
   {
    "duration": 5,
    "start_time": "2022-09-10T18:06:34.585Z"
   },
   {
    "duration": 7,
    "start_time": "2022-09-10T18:06:43.378Z"
   },
   {
    "duration": 114,
    "start_time": "2022-09-10T18:06:44.019Z"
   },
   {
    "duration": 11,
    "start_time": "2022-09-10T18:07:01.526Z"
   },
   {
    "duration": 6,
    "start_time": "2022-09-10T18:07:09.285Z"
   },
   {
    "duration": 4,
    "start_time": "2022-09-10T18:07:37.314Z"
   },
   {
    "duration": 6,
    "start_time": "2022-09-10T18:07:38.048Z"
   },
   {
    "duration": 4,
    "start_time": "2022-09-10T18:07:41.676Z"
   },
   {
    "duration": 80,
    "start_time": "2022-09-10T18:07:42.337Z"
   },
   {
    "duration": 29,
    "start_time": "2022-09-10T18:08:31.809Z"
   },
   {
    "duration": 30,
    "start_time": "2022-09-10T18:09:21.145Z"
   },
   {
    "duration": 185,
    "start_time": "2022-09-10T18:10:53.725Z"
   },
   {
    "duration": 11,
    "start_time": "2022-09-10T18:10:53.912Z"
   },
   {
    "duration": 306,
    "start_time": "2022-09-10T18:10:54.016Z"
   },
   {
    "duration": 218,
    "start_time": "2022-09-10T18:10:54.324Z"
   },
   {
    "duration": 12,
    "start_time": "2022-09-10T18:10:54.544Z"
   },
   {
    "duration": 231,
    "start_time": "2022-09-10T18:10:54.558Z"
   },
   {
    "duration": 202,
    "start_time": "2022-09-10T18:10:54.791Z"
   },
   {
    "duration": 11,
    "start_time": "2022-09-10T18:10:54.995Z"
   },
   {
    "duration": 305,
    "start_time": "2022-09-10T18:10:55.008Z"
   },
   {
    "duration": 7,
    "start_time": "2022-09-10T18:10:55.316Z"
   },
   {
    "duration": 17,
    "start_time": "2022-09-10T18:10:55.325Z"
   },
   {
    "duration": 6,
    "start_time": "2022-09-10T18:10:55.486Z"
   },
   {
    "duration": 8,
    "start_time": "2022-09-10T18:10:56.676Z"
   },
   {
    "duration": 5,
    "start_time": "2022-09-10T18:11:02.233Z"
   },
   {
    "duration": 6,
    "start_time": "2022-09-10T18:11:07.978Z"
   },
   {
    "duration": 4,
    "start_time": "2022-09-10T18:13:05.006Z"
   },
   {
    "duration": 5,
    "start_time": "2022-09-10T18:13:09.249Z"
   }
  ],
  "kernelspec": {
   "display_name": "Python 3 (ipykernel)",
   "language": "python",
   "name": "python3"
  },
  "language_info": {
   "codemirror_mode": {
    "name": "ipython",
    "version": 3
   },
   "file_extension": ".py",
   "mimetype": "text/x-python",
   "name": "python",
   "nbconvert_exporter": "python",
   "pygments_lexer": "ipython3",
   "version": "3.9.12"
  },
  "toc": {
   "base_numbering": 1,
   "nav_menu": {},
   "number_sections": true,
   "sideBar": true,
   "skip_h1_title": true,
   "title_cell": "Table of Contents",
   "title_sidebar": "Contents",
   "toc_cell": false,
   "toc_position": {},
   "toc_section_display": true,
   "toc_window_display": false
  }
 },
 "nbformat": 4,
 "nbformat_minor": 2
}
